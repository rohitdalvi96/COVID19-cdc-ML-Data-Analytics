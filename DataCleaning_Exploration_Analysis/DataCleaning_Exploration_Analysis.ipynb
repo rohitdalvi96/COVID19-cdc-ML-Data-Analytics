{
 "cells": [
  {
   "cell_type": "code",
   "execution_count": 1,
   "id": "finnish-chicken",
   "metadata": {},
   "outputs": [],
   "source": [
    "# Import the required packages\n",
    "# Import package pandas for data analysis\n",
    "import pandas as pd\n",
    "\n",
    "# Import package numpy for numeric computing\n",
    "import numpy as np\n",
    "\n",
    "# Import package seaborn for drawing  statistical graphics\n",
    "import seaborn as sns\n",
    "\n",
    "# Import package matplotlib for visualisation/plotting\n",
    "import matplotlib.pyplot as plt\n",
    "\n",
    "#For showing plots directly in the notebook run the command below\n",
    "%matplotlib inline\n",
    "\n",
    "import matplotlib.patches as mpatches\n",
    "\n",
    "# For saving multiple plots into a single pdf file\n",
    "from matplotlib.backends.backend_pdf import PdfPages\n",
    "\n",
    "# hide ipykernel warnings \n",
    "import warnings\n",
    "warnings.filterwarnings('ignore')\n",
    "\n"
   ]
  },
  {
   "cell_type": "code",
   "execution_count": 2,
   "id": "crazy-correspondence",
   "metadata": {},
   "outputs": [],
   "source": [
    "# Reading from a csv file, into a data frame\n",
    "df = pd.read_csv('covid19-cdc-20201672.csv', keep_default_na=True, sep=',\\s+', delimiter=',', skipinitialspace=True)"
   ]
  },
  {
   "cell_type": "code",
   "execution_count": 3,
   "id": "recovered-secondary",
   "metadata": {},
   "outputs": [
    {
     "data": {
      "text/plain": [
       "(10000, 12)"
      ]
     },
     "execution_count": 3,
     "metadata": {},
     "output_type": "execute_result"
    }
   ],
   "source": [
    "# Check how many rows and columns this dataframe has\n",
    "df.shape"
   ]
  },
  {
   "cell_type": "markdown",
   "id": "integrated-deadline",
   "metadata": {},
   "source": [
    "The dataset has 10000 entries with 12 features per entry"
   ]
  },
  {
   "cell_type": "markdown",
   "id": "speaking-notification",
   "metadata": {},
   "source": [
    "### Print first and last 5 rows of CSV file"
   ]
  },
  {
   "cell_type": "code",
   "execution_count": 4,
   "id": "configured-height",
   "metadata": {},
   "outputs": [
    {
     "data": {
      "text/html": [
       "<div>\n",
       "<style scoped>\n",
       "    .dataframe tbody tr th:only-of-type {\n",
       "        vertical-align: middle;\n",
       "    }\n",
       "\n",
       "    .dataframe tbody tr th {\n",
       "        vertical-align: top;\n",
       "    }\n",
       "\n",
       "    .dataframe thead th {\n",
       "        text-align: right;\n",
       "    }\n",
       "</style>\n",
       "<table border=\"1\" class=\"dataframe\">\n",
       "  <thead>\n",
       "    <tr style=\"text-align: right;\">\n",
       "      <th></th>\n",
       "      <th>cdc_case_earliest_dt</th>\n",
       "      <th>cdc_report_dt</th>\n",
       "      <th>pos_spec_dt</th>\n",
       "      <th>onset_dt</th>\n",
       "      <th>current_status</th>\n",
       "      <th>sex</th>\n",
       "      <th>age_group</th>\n",
       "      <th>race_ethnicity_combined</th>\n",
       "      <th>hosp_yn</th>\n",
       "      <th>icu_yn</th>\n",
       "      <th>death_yn</th>\n",
       "      <th>medcond_yn</th>\n",
       "    </tr>\n",
       "  </thead>\n",
       "  <tbody>\n",
       "    <tr>\n",
       "      <th>0</th>\n",
       "      <td>2020/11/02</td>\n",
       "      <td>2020/11/05</td>\n",
       "      <td>NaN</td>\n",
       "      <td>2020/11/02</td>\n",
       "      <td>Probable Case</td>\n",
       "      <td>Male</td>\n",
       "      <td>Missing</td>\n",
       "      <td>White, Non-Hispanic</td>\n",
       "      <td>No</td>\n",
       "      <td>Missing</td>\n",
       "      <td>No</td>\n",
       "      <td>Missing</td>\n",
       "    </tr>\n",
       "    <tr>\n",
       "      <th>1</th>\n",
       "      <td>2020/12/01</td>\n",
       "      <td>NaN</td>\n",
       "      <td>NaN</td>\n",
       "      <td>NaN</td>\n",
       "      <td>Laboratory-confirmed case</td>\n",
       "      <td>Male</td>\n",
       "      <td>20 - 29 Years</td>\n",
       "      <td>Unknown</td>\n",
       "      <td>No</td>\n",
       "      <td>Missing</td>\n",
       "      <td>No</td>\n",
       "      <td>Missing</td>\n",
       "    </tr>\n",
       "    <tr>\n",
       "      <th>2</th>\n",
       "      <td>2020/10/29</td>\n",
       "      <td>2020/10/29</td>\n",
       "      <td>NaN</td>\n",
       "      <td>2020/10/29</td>\n",
       "      <td>Laboratory-confirmed case</td>\n",
       "      <td>Male</td>\n",
       "      <td>40 - 49 Years</td>\n",
       "      <td>Unknown</td>\n",
       "      <td>No</td>\n",
       "      <td>Missing</td>\n",
       "      <td>No</td>\n",
       "      <td>Missing</td>\n",
       "    </tr>\n",
       "    <tr>\n",
       "      <th>3</th>\n",
       "      <td>2020/04/30</td>\n",
       "      <td>2020/05/13</td>\n",
       "      <td>2020/04/30</td>\n",
       "      <td>2020/04/30</td>\n",
       "      <td>Laboratory-confirmed case</td>\n",
       "      <td>Female</td>\n",
       "      <td>70 - 79 Years</td>\n",
       "      <td>Unknown</td>\n",
       "      <td>No</td>\n",
       "      <td>No</td>\n",
       "      <td>No</td>\n",
       "      <td>Unknown</td>\n",
       "    </tr>\n",
       "    <tr>\n",
       "      <th>4</th>\n",
       "      <td>2020/04/16</td>\n",
       "      <td>2020/04/26</td>\n",
       "      <td>2020/04/17</td>\n",
       "      <td>2020/04/16</td>\n",
       "      <td>Laboratory-confirmed case</td>\n",
       "      <td>Female</td>\n",
       "      <td>80+ Years</td>\n",
       "      <td>White, Non-Hispanic</td>\n",
       "      <td>Yes</td>\n",
       "      <td>Yes</td>\n",
       "      <td>Yes</td>\n",
       "      <td>Yes</td>\n",
       "    </tr>\n",
       "  </tbody>\n",
       "</table>\n",
       "</div>"
      ],
      "text/plain": [
       "  cdc_case_earliest_dt cdc_report_dt pos_spec_dt    onset_dt  \\\n",
       "0           2020/11/02    2020/11/05         NaN  2020/11/02   \n",
       "1           2020/12/01           NaN         NaN         NaN   \n",
       "2           2020/10/29    2020/10/29         NaN  2020/10/29   \n",
       "3           2020/04/30    2020/05/13  2020/04/30  2020/04/30   \n",
       "4           2020/04/16    2020/04/26  2020/04/17  2020/04/16   \n",
       "\n",
       "              current_status     sex      age_group race_ethnicity_combined  \\\n",
       "0              Probable Case    Male        Missing     White, Non-Hispanic   \n",
       "1  Laboratory-confirmed case    Male  20 - 29 Years                 Unknown   \n",
       "2  Laboratory-confirmed case    Male  40 - 49 Years                 Unknown   \n",
       "3  Laboratory-confirmed case  Female  70 - 79 Years                 Unknown   \n",
       "4  Laboratory-confirmed case  Female      80+ Years     White, Non-Hispanic   \n",
       "\n",
       "  hosp_yn   icu_yn death_yn medcond_yn  \n",
       "0      No  Missing       No    Missing  \n",
       "1      No  Missing       No    Missing  \n",
       "2      No  Missing       No    Missing  \n",
       "3      No       No       No    Unknown  \n",
       "4     Yes      Yes      Yes        Yes  "
      ]
     },
     "execution_count": 4,
     "metadata": {},
     "output_type": "execute_result"
    }
   ],
   "source": [
    "# Show first 5 rows of data frame\n",
    "# The rows are indexed starting from 0\n",
    "df.head(5)"
   ]
  },
  {
   "cell_type": "code",
   "execution_count": 5,
   "id": "becoming-superintendent",
   "metadata": {
    "scrolled": true
   },
   "outputs": [
    {
     "data": {
      "text/html": [
       "<div>\n",
       "<style scoped>\n",
       "    .dataframe tbody tr th:only-of-type {\n",
       "        vertical-align: middle;\n",
       "    }\n",
       "\n",
       "    .dataframe tbody tr th {\n",
       "        vertical-align: top;\n",
       "    }\n",
       "\n",
       "    .dataframe thead th {\n",
       "        text-align: right;\n",
       "    }\n",
       "</style>\n",
       "<table border=\"1\" class=\"dataframe\">\n",
       "  <thead>\n",
       "    <tr style=\"text-align: right;\">\n",
       "      <th></th>\n",
       "      <th>cdc_case_earliest_dt</th>\n",
       "      <th>cdc_report_dt</th>\n",
       "      <th>pos_spec_dt</th>\n",
       "      <th>onset_dt</th>\n",
       "      <th>current_status</th>\n",
       "      <th>sex</th>\n",
       "      <th>age_group</th>\n",
       "      <th>race_ethnicity_combined</th>\n",
       "      <th>hosp_yn</th>\n",
       "      <th>icu_yn</th>\n",
       "      <th>death_yn</th>\n",
       "      <th>medcond_yn</th>\n",
       "    </tr>\n",
       "  </thead>\n",
       "  <tbody>\n",
       "    <tr>\n",
       "      <th>9995</th>\n",
       "      <td>2020/12/11</td>\n",
       "      <td>NaN</td>\n",
       "      <td>NaN</td>\n",
       "      <td>NaN</td>\n",
       "      <td>Laboratory-confirmed case</td>\n",
       "      <td>Female</td>\n",
       "      <td>10 - 19 Years</td>\n",
       "      <td>Unknown</td>\n",
       "      <td>Unknown</td>\n",
       "      <td>Missing</td>\n",
       "      <td>No</td>\n",
       "      <td>Missing</td>\n",
       "    </tr>\n",
       "    <tr>\n",
       "      <th>9996</th>\n",
       "      <td>2020/10/26</td>\n",
       "      <td>2020/10/26</td>\n",
       "      <td>NaN</td>\n",
       "      <td>NaN</td>\n",
       "      <td>Laboratory-confirmed case</td>\n",
       "      <td>Male</td>\n",
       "      <td>60 - 69 Years</td>\n",
       "      <td>Hispanic/Latino</td>\n",
       "      <td>Unknown</td>\n",
       "      <td>Unknown</td>\n",
       "      <td>No</td>\n",
       "      <td>Missing</td>\n",
       "    </tr>\n",
       "    <tr>\n",
       "      <th>9997</th>\n",
       "      <td>2020/07/24</td>\n",
       "      <td>2020/08/29</td>\n",
       "      <td>NaN</td>\n",
       "      <td>2020/07/24</td>\n",
       "      <td>Laboratory-confirmed case</td>\n",
       "      <td>Female</td>\n",
       "      <td>50 - 59 Years</td>\n",
       "      <td>Hispanic/Latino</td>\n",
       "      <td>No</td>\n",
       "      <td>Missing</td>\n",
       "      <td>No</td>\n",
       "      <td>Yes</td>\n",
       "    </tr>\n",
       "    <tr>\n",
       "      <th>9998</th>\n",
       "      <td>2020/06/26</td>\n",
       "      <td>2020/06/27</td>\n",
       "      <td>NaN</td>\n",
       "      <td>2020/06/27</td>\n",
       "      <td>Laboratory-confirmed case</td>\n",
       "      <td>Male</td>\n",
       "      <td>10 - 19 Years</td>\n",
       "      <td>Unknown</td>\n",
       "      <td>No</td>\n",
       "      <td>Missing</td>\n",
       "      <td>No</td>\n",
       "      <td>Missing</td>\n",
       "    </tr>\n",
       "    <tr>\n",
       "      <th>9999</th>\n",
       "      <td>2020/07/02</td>\n",
       "      <td>2020/07/22</td>\n",
       "      <td>NaN</td>\n",
       "      <td>2020/07/02</td>\n",
       "      <td>Laboratory-confirmed case</td>\n",
       "      <td>Female</td>\n",
       "      <td>30 - 39 Years</td>\n",
       "      <td>White, Non-Hispanic</td>\n",
       "      <td>No</td>\n",
       "      <td>Missing</td>\n",
       "      <td>No</td>\n",
       "      <td>Missing</td>\n",
       "    </tr>\n",
       "  </tbody>\n",
       "</table>\n",
       "</div>"
      ],
      "text/plain": [
       "     cdc_case_earliest_dt cdc_report_dt pos_spec_dt    onset_dt  \\\n",
       "9995           2020/12/11           NaN         NaN         NaN   \n",
       "9996           2020/10/26    2020/10/26         NaN         NaN   \n",
       "9997           2020/07/24    2020/08/29         NaN  2020/07/24   \n",
       "9998           2020/06/26    2020/06/27         NaN  2020/06/27   \n",
       "9999           2020/07/02    2020/07/22         NaN  2020/07/02   \n",
       "\n",
       "                 current_status     sex      age_group  \\\n",
       "9995  Laboratory-confirmed case  Female  10 - 19 Years   \n",
       "9996  Laboratory-confirmed case    Male  60 - 69 Years   \n",
       "9997  Laboratory-confirmed case  Female  50 - 59 Years   \n",
       "9998  Laboratory-confirmed case    Male  10 - 19 Years   \n",
       "9999  Laboratory-confirmed case  Female  30 - 39 Years   \n",
       "\n",
       "     race_ethnicity_combined  hosp_yn   icu_yn death_yn medcond_yn  \n",
       "9995                 Unknown  Unknown  Missing       No    Missing  \n",
       "9996         Hispanic/Latino  Unknown  Unknown       No    Missing  \n",
       "9997         Hispanic/Latino       No  Missing       No        Yes  \n",
       "9998                 Unknown       No  Missing       No    Missing  \n",
       "9999     White, Non-Hispanic       No  Missing       No    Missing  "
      ]
     },
     "execution_count": 5,
     "metadata": {},
     "output_type": "execute_result"
    }
   ],
   "source": [
    "# Show last 5 rows of data frame\n",
    "# NaN means that the feature value is missing\n",
    "df.tail(5)"
   ]
  },
  {
   "cell_type": "markdown",
   "id": "religious-athens",
   "metadata": {},
   "source": [
    "### Convert features to appropriate datatypes"
   ]
  },
  {
   "cell_type": "code",
   "execution_count": 6,
   "id": "qualified-timeline",
   "metadata": {},
   "outputs": [
    {
     "data": {
      "text/plain": [
       "cdc_case_earliest_dt       object\n",
       "cdc_report_dt              object\n",
       "pos_spec_dt                object\n",
       "onset_dt                   object\n",
       "current_status             object\n",
       "sex                        object\n",
       "age_group                  object\n",
       "race_ethnicity_combined    object\n",
       "hosp_yn                    object\n",
       "icu_yn                     object\n",
       "death_yn                   object\n",
       "medcond_yn                 object\n",
       "dtype: object"
      ]
     },
     "execution_count": 6,
     "metadata": {},
     "output_type": "execute_result"
    }
   ],
   "source": [
    "df.dtypes"
   ]
  },
  {
   "cell_type": "code",
   "execution_count": 7,
   "id": "subtle-summary",
   "metadata": {},
   "outputs": [
    {
     "data": {
      "text/plain": [
       "Index(['cdc_case_earliest_dt', 'cdc_report_dt', 'pos_spec_dt', 'onset_dt',\n",
       "       'current_status', 'sex', 'age_group', 'race_ethnicity_combined',\n",
       "       'hosp_yn', 'icu_yn', 'death_yn', 'medcond_yn'],\n",
       "      dtype='object')"
      ]
     },
     "execution_count": 7,
     "metadata": {},
     "output_type": "execute_result"
    }
   ],
   "source": [
    "# select all the remaining object features to convert them into categorical\n",
    "object_columns = df.select_dtypes(['object']).columns\n",
    "object_columns"
   ]
  },
  {
   "cell_type": "code",
   "execution_count": 8,
   "id": "persistent-angola",
   "metadata": {},
   "outputs": [
    {
     "data": {
      "text/plain": [
       "cdc_case_earliest_dt       datetime64[ns]\n",
       "cdc_report_dt              datetime64[ns]\n",
       "pos_spec_dt                datetime64[ns]\n",
       "onset_dt                   datetime64[ns]\n",
       "current_status                     object\n",
       "sex                                object\n",
       "age_group                          object\n",
       "race_ethnicity_combined            object\n",
       "hosp_yn                            object\n",
       "icu_yn                             object\n",
       "death_yn                           object\n",
       "medcond_yn                         object\n",
       "dtype: object"
      ]
     },
     "execution_count": 8,
     "metadata": {},
     "output_type": "execute_result"
    }
   ],
   "source": [
    "# Convert data type to datetime for these columns\n",
    "# The data is mentioned in dates hence the most appropriate datatype could be datetime \n",
    "# initially set date columns to datetime datatype. \n",
    "df['cdc_case_earliest_dt'] = pd.to_datetime(df['cdc_case_earliest_dt'],errors = 'ignore')\n",
    "df['cdc_report_dt'] = pd.to_datetime(df['cdc_report_dt'],errors = 'ignore')\n",
    "df['pos_spec_dt'] = pd.to_datetime(df['pos_spec_dt'],errors = 'ignore')\n",
    "df['onset_dt'] = pd.to_datetime(df['onset_dt'],errors = 'ignore')\n",
    "\n",
    "    \n",
    "df.dtypes  "
   ]
  },
  {
   "cell_type": "code",
   "execution_count": 9,
   "id": "binding-ground",
   "metadata": {},
   "outputs": [
    {
     "data": {
      "text/plain": [
       "cdc_case_earliest_dt       datetime64[ns]\n",
       "cdc_report_dt              datetime64[ns]\n",
       "pos_spec_dt                datetime64[ns]\n",
       "onset_dt                   datetime64[ns]\n",
       "current_status                   category\n",
       "sex                              category\n",
       "age_group                        category\n",
       "race_ethnicity_combined          category\n",
       "hosp_yn                          category\n",
       "icu_yn                           category\n",
       "death_yn                         category\n",
       "medcond_yn                       category\n",
       "dtype: object"
      ]
     },
     "execution_count": 9,
     "metadata": {},
     "output_type": "execute_result"
    }
   ],
   "source": [
    "# Select columns containing categorical data\n",
    "categorical_columns = df[['current_status','sex','age_group','race_ethnicity_combined','hosp_yn','icu_yn','death_yn','medcond_yn']].columns\n",
    "\n",
    "# Convert data type to category for these columns\n",
    "for column in categorical_columns:\n",
    "    df[column] = df[column].astype('category')  \n",
    "    \n",
    "df.dtypes    "
   ]
  },
  {
   "cell_type": "code",
   "execution_count": 10,
   "id": "realistic-trader",
   "metadata": {},
   "outputs": [],
   "source": [
    "#store all the categorical features into a variable for future use\n",
    "category_columns = df.select_dtypes(['category']).columns"
   ]
  },
  {
   "cell_type": "markdown",
   "id": "inner-tokyo",
   "metadata": {},
   "source": [
    "Based on examining the data in COVID-19 Case Surveillance Public Use Data, 8 of the features are categorical and the rest are datetime.\n",
    "\n",
    "- *current_status* will be converted to **categorical** because it contains only 2 possible values, Laboratory-confirmed case and  Probable Case.\n",
    "- *sex* column will be converted to **categorical** because it contains gender such as Male,Female,other and unknown values.\n",
    "- *age_group* column will be converted to categorical because it contains a finite set of possible values, example: 20-29, each representing a range of patient's age.\n",
    "- *race_ethnicity_combined* will be converted to **categorical** because it contains type of race patient belongs to such as ethnicity wise discrimination.\n",
    "- *hosp_yn*,*icu_yn*,*death_yn*,*medcond_yn* will be converted to **categorical** because it contains yes/no/unknown and missing type of fields.\n"
   ]
  },
  {
   "cell_type": "code",
   "execution_count": 11,
   "id": "promotional-sally",
   "metadata": {},
   "outputs": [],
   "source": [
    "date_max = {\"cdc_case_earliest_max_date\" : df.cdc_case_earliest_dt.max(), \"cdc_report_max_date\" : df.cdc_report_dt.max(), \"pos_spec_max_date\" : df.pos_spec_dt.max(), \"onset_max_date\" : df.onset_dt.max()}"
   ]
  },
  {
   "cell_type": "code",
   "execution_count": 12,
   "id": "neural-thursday",
   "metadata": {},
   "outputs": [],
   "source": [
    "date_min = {\"cdc_case_earliest_min_date\" : df.cdc_case_earliest_dt.min(), \"cdc_report_min_date\" : df.cdc_report_dt.min(), \"pos_spec_min_date\" : df.pos_spec_dt.min(), \"onset_min_date\" : df.onset_dt.min()}"
   ]
  },
  {
   "cell_type": "code",
   "execution_count": 13,
   "id": "restricted-recording",
   "metadata": {},
   "outputs": [],
   "source": [
    "days_column = []\n",
    "for key,values in date_min.items():\n",
    "    days_column.append(key[:-8]+'days')\n",
    "    temp_variable = df[key[:-8]+'dt'] - values\n",
    "    temp_variable = temp_variable/np.timedelta64(1,'D').astype(int) #to convert the result into integer\n",
    "    temp_variable = temp_variable.dt.days\n",
    "    df[key[:-8]+'days'] = temp_variable\n"
   ]
  },
  {
   "cell_type": "code",
   "execution_count": 14,
   "id": "white-canvas",
   "metadata": {},
   "outputs": [
    {
     "data": {
      "text/html": [
       "<div>\n",
       "<style scoped>\n",
       "    .dataframe tbody tr th:only-of-type {\n",
       "        vertical-align: middle;\n",
       "    }\n",
       "\n",
       "    .dataframe tbody tr th {\n",
       "        vertical-align: top;\n",
       "    }\n",
       "\n",
       "    .dataframe thead th {\n",
       "        text-align: right;\n",
       "    }\n",
       "</style>\n",
       "<table border=\"1\" class=\"dataframe\">\n",
       "  <thead>\n",
       "    <tr style=\"text-align: right;\">\n",
       "      <th></th>\n",
       "      <th>cdc_case_earliest_dt</th>\n",
       "      <th>cdc_report_dt</th>\n",
       "      <th>pos_spec_dt</th>\n",
       "      <th>onset_dt</th>\n",
       "      <th>current_status</th>\n",
       "      <th>sex</th>\n",
       "      <th>age_group</th>\n",
       "      <th>race_ethnicity_combined</th>\n",
       "      <th>hosp_yn</th>\n",
       "      <th>icu_yn</th>\n",
       "      <th>death_yn</th>\n",
       "      <th>medcond_yn</th>\n",
       "      <th>cdc_case_earliest_days</th>\n",
       "      <th>cdc_report_days</th>\n",
       "      <th>pos_spec_days</th>\n",
       "      <th>onset_days</th>\n",
       "    </tr>\n",
       "  </thead>\n",
       "  <tbody>\n",
       "    <tr>\n",
       "      <th>0</th>\n",
       "      <td>2020-11-02</td>\n",
       "      <td>2020-11-05</td>\n",
       "      <td>NaT</td>\n",
       "      <td>2020-11-02</td>\n",
       "      <td>Probable Case</td>\n",
       "      <td>Male</td>\n",
       "      <td>Missing</td>\n",
       "      <td>White, Non-Hispanic</td>\n",
       "      <td>No</td>\n",
       "      <td>Missing</td>\n",
       "      <td>No</td>\n",
       "      <td>Missing</td>\n",
       "      <td>304</td>\n",
       "      <td>292.0</td>\n",
       "      <td>NaN</td>\n",
       "      <td>304.0</td>\n",
       "    </tr>\n",
       "    <tr>\n",
       "      <th>1</th>\n",
       "      <td>2020-12-01</td>\n",
       "      <td>NaT</td>\n",
       "      <td>NaT</td>\n",
       "      <td>NaT</td>\n",
       "      <td>Laboratory-confirmed case</td>\n",
       "      <td>Male</td>\n",
       "      <td>20 - 29 Years</td>\n",
       "      <td>Unknown</td>\n",
       "      <td>No</td>\n",
       "      <td>Missing</td>\n",
       "      <td>No</td>\n",
       "      <td>Missing</td>\n",
       "      <td>333</td>\n",
       "      <td>NaN</td>\n",
       "      <td>NaN</td>\n",
       "      <td>NaN</td>\n",
       "    </tr>\n",
       "    <tr>\n",
       "      <th>2</th>\n",
       "      <td>2020-10-29</td>\n",
       "      <td>2020-10-29</td>\n",
       "      <td>NaT</td>\n",
       "      <td>2020-10-29</td>\n",
       "      <td>Laboratory-confirmed case</td>\n",
       "      <td>Male</td>\n",
       "      <td>40 - 49 Years</td>\n",
       "      <td>Unknown</td>\n",
       "      <td>No</td>\n",
       "      <td>Missing</td>\n",
       "      <td>No</td>\n",
       "      <td>Missing</td>\n",
       "      <td>300</td>\n",
       "      <td>285.0</td>\n",
       "      <td>NaN</td>\n",
       "      <td>300.0</td>\n",
       "    </tr>\n",
       "    <tr>\n",
       "      <th>3</th>\n",
       "      <td>2020-04-30</td>\n",
       "      <td>2020-05-13</td>\n",
       "      <td>2020-04-30</td>\n",
       "      <td>2020-04-30</td>\n",
       "      <td>Laboratory-confirmed case</td>\n",
       "      <td>Female</td>\n",
       "      <td>70 - 79 Years</td>\n",
       "      <td>Unknown</td>\n",
       "      <td>No</td>\n",
       "      <td>No</td>\n",
       "      <td>No</td>\n",
       "      <td>Unknown</td>\n",
       "      <td>118</td>\n",
       "      <td>116.0</td>\n",
       "      <td>47.0</td>\n",
       "      <td>118.0</td>\n",
       "    </tr>\n",
       "    <tr>\n",
       "      <th>4</th>\n",
       "      <td>2020-04-16</td>\n",
       "      <td>2020-04-26</td>\n",
       "      <td>2020-04-17</td>\n",
       "      <td>2020-04-16</td>\n",
       "      <td>Laboratory-confirmed case</td>\n",
       "      <td>Female</td>\n",
       "      <td>80+ Years</td>\n",
       "      <td>White, Non-Hispanic</td>\n",
       "      <td>Yes</td>\n",
       "      <td>Yes</td>\n",
       "      <td>Yes</td>\n",
       "      <td>Yes</td>\n",
       "      <td>104</td>\n",
       "      <td>99.0</td>\n",
       "      <td>34.0</td>\n",
       "      <td>104.0</td>\n",
       "    </tr>\n",
       "    <tr>\n",
       "      <th>5</th>\n",
       "      <td>2020-11-03</td>\n",
       "      <td>2020-11-03</td>\n",
       "      <td>NaT</td>\n",
       "      <td>2020-11-03</td>\n",
       "      <td>Laboratory-confirmed case</td>\n",
       "      <td>Female</td>\n",
       "      <td>20 - 29 Years</td>\n",
       "      <td>Unknown</td>\n",
       "      <td>No</td>\n",
       "      <td>Missing</td>\n",
       "      <td>No</td>\n",
       "      <td>Missing</td>\n",
       "      <td>305</td>\n",
       "      <td>290.0</td>\n",
       "      <td>NaN</td>\n",
       "      <td>305.0</td>\n",
       "    </tr>\n",
       "    <tr>\n",
       "      <th>6</th>\n",
       "      <td>2020-12-22</td>\n",
       "      <td>NaT</td>\n",
       "      <td>NaT</td>\n",
       "      <td>NaT</td>\n",
       "      <td>Laboratory-confirmed case</td>\n",
       "      <td>Male</td>\n",
       "      <td>30 - 39 Years</td>\n",
       "      <td>White, Non-Hispanic</td>\n",
       "      <td>Missing</td>\n",
       "      <td>Missing</td>\n",
       "      <td>No</td>\n",
       "      <td>Missing</td>\n",
       "      <td>354</td>\n",
       "      <td>NaN</td>\n",
       "      <td>NaN</td>\n",
       "      <td>NaN</td>\n",
       "    </tr>\n",
       "    <tr>\n",
       "      <th>7</th>\n",
       "      <td>2020-11-30</td>\n",
       "      <td>2020-11-30</td>\n",
       "      <td>NaT</td>\n",
       "      <td>NaT</td>\n",
       "      <td>Laboratory-confirmed case</td>\n",
       "      <td>Male</td>\n",
       "      <td>30 - 39 Years</td>\n",
       "      <td>American Indian/Alaska Native, Non-Hispanic</td>\n",
       "      <td>Unknown</td>\n",
       "      <td>Missing</td>\n",
       "      <td>No</td>\n",
       "      <td>Missing</td>\n",
       "      <td>332</td>\n",
       "      <td>317.0</td>\n",
       "      <td>NaN</td>\n",
       "      <td>NaN</td>\n",
       "    </tr>\n",
       "    <tr>\n",
       "      <th>8</th>\n",
       "      <td>2020-11-13</td>\n",
       "      <td>2020-11-19</td>\n",
       "      <td>2020-11-13</td>\n",
       "      <td>NaT</td>\n",
       "      <td>Laboratory-confirmed case</td>\n",
       "      <td>Female</td>\n",
       "      <td>20 - 29 Years</td>\n",
       "      <td>White, Non-Hispanic</td>\n",
       "      <td>Missing</td>\n",
       "      <td>Missing</td>\n",
       "      <td>No</td>\n",
       "      <td>Missing</td>\n",
       "      <td>315</td>\n",
       "      <td>306.0</td>\n",
       "      <td>244.0</td>\n",
       "      <td>NaN</td>\n",
       "    </tr>\n",
       "    <tr>\n",
       "      <th>9</th>\n",
       "      <td>2020-11-03</td>\n",
       "      <td>2020-11-12</td>\n",
       "      <td>NaT</td>\n",
       "      <td>2020-11-03</td>\n",
       "      <td>Probable Case</td>\n",
       "      <td>Female</td>\n",
       "      <td>50 - 59 Years</td>\n",
       "      <td>White, Non-Hispanic</td>\n",
       "      <td>No</td>\n",
       "      <td>Missing</td>\n",
       "      <td>No</td>\n",
       "      <td>Missing</td>\n",
       "      <td>305</td>\n",
       "      <td>299.0</td>\n",
       "      <td>NaN</td>\n",
       "      <td>305.0</td>\n",
       "    </tr>\n",
       "  </tbody>\n",
       "</table>\n",
       "</div>"
      ],
      "text/plain": [
       "  cdc_case_earliest_dt cdc_report_dt pos_spec_dt   onset_dt  \\\n",
       "0           2020-11-02    2020-11-05         NaT 2020-11-02   \n",
       "1           2020-12-01           NaT         NaT        NaT   \n",
       "2           2020-10-29    2020-10-29         NaT 2020-10-29   \n",
       "3           2020-04-30    2020-05-13  2020-04-30 2020-04-30   \n",
       "4           2020-04-16    2020-04-26  2020-04-17 2020-04-16   \n",
       "5           2020-11-03    2020-11-03         NaT 2020-11-03   \n",
       "6           2020-12-22           NaT         NaT        NaT   \n",
       "7           2020-11-30    2020-11-30         NaT        NaT   \n",
       "8           2020-11-13    2020-11-19  2020-11-13        NaT   \n",
       "9           2020-11-03    2020-11-12         NaT 2020-11-03   \n",
       "\n",
       "              current_status     sex      age_group  \\\n",
       "0              Probable Case    Male        Missing   \n",
       "1  Laboratory-confirmed case    Male  20 - 29 Years   \n",
       "2  Laboratory-confirmed case    Male  40 - 49 Years   \n",
       "3  Laboratory-confirmed case  Female  70 - 79 Years   \n",
       "4  Laboratory-confirmed case  Female      80+ Years   \n",
       "5  Laboratory-confirmed case  Female  20 - 29 Years   \n",
       "6  Laboratory-confirmed case    Male  30 - 39 Years   \n",
       "7  Laboratory-confirmed case    Male  30 - 39 Years   \n",
       "8  Laboratory-confirmed case  Female  20 - 29 Years   \n",
       "9              Probable Case  Female  50 - 59 Years   \n",
       "\n",
       "                       race_ethnicity_combined  hosp_yn   icu_yn death_yn  \\\n",
       "0                          White, Non-Hispanic       No  Missing       No   \n",
       "1                                      Unknown       No  Missing       No   \n",
       "2                                      Unknown       No  Missing       No   \n",
       "3                                      Unknown       No       No       No   \n",
       "4                          White, Non-Hispanic      Yes      Yes      Yes   \n",
       "5                                      Unknown       No  Missing       No   \n",
       "6                          White, Non-Hispanic  Missing  Missing       No   \n",
       "7  American Indian/Alaska Native, Non-Hispanic  Unknown  Missing       No   \n",
       "8                          White, Non-Hispanic  Missing  Missing       No   \n",
       "9                          White, Non-Hispanic       No  Missing       No   \n",
       "\n",
       "  medcond_yn  cdc_case_earliest_days  cdc_report_days  pos_spec_days  \\\n",
       "0    Missing                     304            292.0            NaN   \n",
       "1    Missing                     333              NaN            NaN   \n",
       "2    Missing                     300            285.0            NaN   \n",
       "3    Unknown                     118            116.0           47.0   \n",
       "4        Yes                     104             99.0           34.0   \n",
       "5    Missing                     305            290.0            NaN   \n",
       "6    Missing                     354              NaN            NaN   \n",
       "7    Missing                     332            317.0            NaN   \n",
       "8    Missing                     315            306.0          244.0   \n",
       "9    Missing                     305            299.0            NaN   \n",
       "\n",
       "   onset_days  \n",
       "0       304.0  \n",
       "1         NaN  \n",
       "2       300.0  \n",
       "3       118.0  \n",
       "4       104.0  \n",
       "5       305.0  \n",
       "6         NaN  \n",
       "7         NaN  \n",
       "8         NaN  \n",
       "9       305.0  "
      ]
     },
     "execution_count": 14,
     "metadata": {},
     "output_type": "execute_result"
    }
   ],
   "source": [
    "df.head(10)"
   ]
  },
  {
   "cell_type": "code",
   "execution_count": 15,
   "id": "political-enhancement",
   "metadata": {},
   "outputs": [],
   "source": [
    "df_test=df"
   ]
  },
  {
   "cell_type": "code",
   "execution_count": 16,
   "id": "crucial-sensitivity",
   "metadata": {},
   "outputs": [
    {
     "data": {
      "text/html": [
       "<div>\n",
       "<style scoped>\n",
       "    .dataframe tbody tr th:only-of-type {\n",
       "        vertical-align: middle;\n",
       "    }\n",
       "\n",
       "    .dataframe tbody tr th {\n",
       "        vertical-align: top;\n",
       "    }\n",
       "\n",
       "    .dataframe thead th {\n",
       "        text-align: right;\n",
       "    }\n",
       "</style>\n",
       "<table border=\"1\" class=\"dataframe\">\n",
       "  <thead>\n",
       "    <tr style=\"text-align: right;\">\n",
       "      <th></th>\n",
       "      <th>cdc_case_earliest_dt</th>\n",
       "      <th>cdc_report_dt</th>\n",
       "      <th>pos_spec_dt</th>\n",
       "      <th>onset_dt</th>\n",
       "      <th>cdc_case_earliest_days</th>\n",
       "      <th>cdc_report_days</th>\n",
       "      <th>pos_spec_days</th>\n",
       "      <th>onset_days</th>\n",
       "    </tr>\n",
       "  </thead>\n",
       "  <tbody>\n",
       "    <tr>\n",
       "      <th>0</th>\n",
       "      <td>2020-11-02</td>\n",
       "      <td>2020-11-05</td>\n",
       "      <td>NaT</td>\n",
       "      <td>2020-11-02</td>\n",
       "      <td>304</td>\n",
       "      <td>292.0</td>\n",
       "      <td>NaN</td>\n",
       "      <td>304.0</td>\n",
       "    </tr>\n",
       "  </tbody>\n",
       "</table>\n",
       "</div>"
      ],
      "text/plain": [
       "  cdc_case_earliest_dt cdc_report_dt pos_spec_dt   onset_dt  \\\n",
       "0           2020-11-02    2020-11-05         NaT 2020-11-02   \n",
       "\n",
       "   cdc_case_earliest_days  cdc_report_days  pos_spec_days  onset_days  \n",
       "0                     304            292.0            NaN       304.0  "
      ]
     },
     "execution_count": 16,
     "metadata": {},
     "output_type": "execute_result"
    }
   ],
   "source": [
    "df[['cdc_case_earliest_dt', 'cdc_report_dt', 'pos_spec_dt', 'onset_dt', 'cdc_case_earliest_days', 'cdc_report_days', 'pos_spec_days', 'onset_days']].head(1)"
   ]
  },
  {
   "cell_type": "code",
   "execution_count": 17,
   "id": "mysterious-gamma",
   "metadata": {},
   "outputs": [
    {
     "name": "stdout",
     "output_type": "stream",
     "text": [
      "\n",
      "The minimum date value of cdc_case_earliest_dt is : 2020-01-03 00:00:00\n",
      "The difference b/w these 2 dates is : \n",
      "  cdc_case_earliest_dt\n",
      "0             304 days\n",
      "\n",
      "The minimum date value of cdc_report_dt is : 2020-01-18 00:00:00\n",
      "The difference b/w these 2 dates is : \n",
      "  cdc_report_dt\n",
      "0      292 days\n",
      "\n",
      "The minimum date value of onset_dt is : 2020-01-03 00:00:00\n",
      "The difference b/w these 2 dates is : \n",
      "  onset_dt\n",
      "0 304 days\n"
     ]
    }
   ],
   "source": [
    "print('\\nThe minimum date value of cdc_case_earliest_dt is :',df.cdc_case_earliest_dt.min())\n",
    "print('The difference b/w these 2 dates is : ')\n",
    "print(df[['cdc_case_earliest_dt']].head(1) - df.cdc_case_earliest_dt.min())\n",
    "\n",
    "print('\\nThe minimum date value of cdc_report_dt is :',df.cdc_report_dt.min())\n",
    "print('The difference b/w these 2 dates is : ')\n",
    "print(df[['cdc_report_dt']].head(1) - df.cdc_report_dt.min())\n",
    "\n",
    "\n",
    "print('\\nThe minimum date value of onset_dt is :',df.onset_dt.min())\n",
    "print('The difference b/w these 2 dates is : ')\n",
    "print(df[['onset_dt']].head(1) - df.onset_dt.min())"
   ]
  },
  {
   "cell_type": "code",
   "execution_count": 18,
   "id": "generic-miller",
   "metadata": {},
   "outputs": [
    {
     "data": {
      "text/plain": [
       "['cdc_case_earliest_dt',\n",
       " 'cdc_report_dt',\n",
       " 'pos_spec_dt',\n",
       " 'onset_dt',\n",
       " 'current_status',\n",
       " 'sex',\n",
       " 'age_group',\n",
       " 'race_ethnicity_combined',\n",
       " 'hosp_yn',\n",
       " 'icu_yn',\n",
       " 'death_yn',\n",
       " 'medcond_yn',\n",
       " 'cdc_case_earliest_days',\n",
       " 'cdc_report_days',\n",
       " 'pos_spec_days',\n",
       " 'onset_days']"
      ]
     },
     "execution_count": 18,
     "metadata": {},
     "output_type": "execute_result"
    }
   ],
   "source": [
    "column_names = list(df.columns)\n",
    "column_names"
   ]
  },
  {
   "cell_type": "code",
   "execution_count": 19,
   "id": "critical-walker",
   "metadata": {},
   "outputs": [],
   "source": [
    "#swap the first 4 features with the newly calculated days features\n",
    "for i in range(0,4):\n",
    "    column_names[i], column_names[i+12] = column_names[i+12], column_names[i]\n",
    "\n",
    "column_names\n",
    "df = df[column_names]"
   ]
  },
  {
   "cell_type": "code",
   "execution_count": 20,
   "id": "alike-system",
   "metadata": {},
   "outputs": [],
   "source": [
    "# #drop the initial date features from the data frame.\n",
    "# try:\n",
    "#     for key, values in date_min.items():\n",
    "#         df = df.drop([key[:-8]+'dt'], axis=1)\n",
    "# except:\n",
    "#     print(\"Column not available in the dataframe\")"
   ]
  },
  {
   "cell_type": "code",
   "execution_count": 21,
   "id": "professional-ratio",
   "metadata": {},
   "outputs": [
    {
     "data": {
      "text/html": [
       "<div>\n",
       "<style scoped>\n",
       "    .dataframe tbody tr th:only-of-type {\n",
       "        vertical-align: middle;\n",
       "    }\n",
       "\n",
       "    .dataframe tbody tr th {\n",
       "        vertical-align: top;\n",
       "    }\n",
       "\n",
       "    .dataframe thead th {\n",
       "        text-align: right;\n",
       "    }\n",
       "</style>\n",
       "<table border=\"1\" class=\"dataframe\">\n",
       "  <thead>\n",
       "    <tr style=\"text-align: right;\">\n",
       "      <th></th>\n",
       "      <th>cdc_case_earliest_days</th>\n",
       "      <th>cdc_report_days</th>\n",
       "      <th>pos_spec_days</th>\n",
       "      <th>onset_days</th>\n",
       "      <th>current_status</th>\n",
       "      <th>sex</th>\n",
       "      <th>age_group</th>\n",
       "      <th>race_ethnicity_combined</th>\n",
       "      <th>hosp_yn</th>\n",
       "      <th>icu_yn</th>\n",
       "      <th>death_yn</th>\n",
       "      <th>medcond_yn</th>\n",
       "      <th>cdc_case_earliest_dt</th>\n",
       "      <th>cdc_report_dt</th>\n",
       "      <th>pos_spec_dt</th>\n",
       "      <th>onset_dt</th>\n",
       "    </tr>\n",
       "  </thead>\n",
       "  <tbody>\n",
       "    <tr>\n",
       "      <th>0</th>\n",
       "      <td>304</td>\n",
       "      <td>292.0</td>\n",
       "      <td>NaN</td>\n",
       "      <td>304.0</td>\n",
       "      <td>Probable Case</td>\n",
       "      <td>Male</td>\n",
       "      <td>Missing</td>\n",
       "      <td>White, Non-Hispanic</td>\n",
       "      <td>No</td>\n",
       "      <td>Missing</td>\n",
       "      <td>No</td>\n",
       "      <td>Missing</td>\n",
       "      <td>2020-11-02</td>\n",
       "      <td>2020-11-05</td>\n",
       "      <td>NaT</td>\n",
       "      <td>2020-11-02</td>\n",
       "    </tr>\n",
       "    <tr>\n",
       "      <th>1</th>\n",
       "      <td>333</td>\n",
       "      <td>NaN</td>\n",
       "      <td>NaN</td>\n",
       "      <td>NaN</td>\n",
       "      <td>Laboratory-confirmed case</td>\n",
       "      <td>Male</td>\n",
       "      <td>20 - 29 Years</td>\n",
       "      <td>Unknown</td>\n",
       "      <td>No</td>\n",
       "      <td>Missing</td>\n",
       "      <td>No</td>\n",
       "      <td>Missing</td>\n",
       "      <td>2020-12-01</td>\n",
       "      <td>NaT</td>\n",
       "      <td>NaT</td>\n",
       "      <td>NaT</td>\n",
       "    </tr>\n",
       "    <tr>\n",
       "      <th>2</th>\n",
       "      <td>300</td>\n",
       "      <td>285.0</td>\n",
       "      <td>NaN</td>\n",
       "      <td>300.0</td>\n",
       "      <td>Laboratory-confirmed case</td>\n",
       "      <td>Male</td>\n",
       "      <td>40 - 49 Years</td>\n",
       "      <td>Unknown</td>\n",
       "      <td>No</td>\n",
       "      <td>Missing</td>\n",
       "      <td>No</td>\n",
       "      <td>Missing</td>\n",
       "      <td>2020-10-29</td>\n",
       "      <td>2020-10-29</td>\n",
       "      <td>NaT</td>\n",
       "      <td>2020-10-29</td>\n",
       "    </tr>\n",
       "    <tr>\n",
       "      <th>3</th>\n",
       "      <td>118</td>\n",
       "      <td>116.0</td>\n",
       "      <td>47.0</td>\n",
       "      <td>118.0</td>\n",
       "      <td>Laboratory-confirmed case</td>\n",
       "      <td>Female</td>\n",
       "      <td>70 - 79 Years</td>\n",
       "      <td>Unknown</td>\n",
       "      <td>No</td>\n",
       "      <td>No</td>\n",
       "      <td>No</td>\n",
       "      <td>Unknown</td>\n",
       "      <td>2020-04-30</td>\n",
       "      <td>2020-05-13</td>\n",
       "      <td>2020-04-30</td>\n",
       "      <td>2020-04-30</td>\n",
       "    </tr>\n",
       "    <tr>\n",
       "      <th>4</th>\n",
       "      <td>104</td>\n",
       "      <td>99.0</td>\n",
       "      <td>34.0</td>\n",
       "      <td>104.0</td>\n",
       "      <td>Laboratory-confirmed case</td>\n",
       "      <td>Female</td>\n",
       "      <td>80+ Years</td>\n",
       "      <td>White, Non-Hispanic</td>\n",
       "      <td>Yes</td>\n",
       "      <td>Yes</td>\n",
       "      <td>Yes</td>\n",
       "      <td>Yes</td>\n",
       "      <td>2020-04-16</td>\n",
       "      <td>2020-04-26</td>\n",
       "      <td>2020-04-17</td>\n",
       "      <td>2020-04-16</td>\n",
       "    </tr>\n",
       "  </tbody>\n",
       "</table>\n",
       "</div>"
      ],
      "text/plain": [
       "   cdc_case_earliest_days  cdc_report_days  pos_spec_days  onset_days  \\\n",
       "0                     304            292.0            NaN       304.0   \n",
       "1                     333              NaN            NaN         NaN   \n",
       "2                     300            285.0            NaN       300.0   \n",
       "3                     118            116.0           47.0       118.0   \n",
       "4                     104             99.0           34.0       104.0   \n",
       "\n",
       "              current_status     sex      age_group race_ethnicity_combined  \\\n",
       "0              Probable Case    Male        Missing     White, Non-Hispanic   \n",
       "1  Laboratory-confirmed case    Male  20 - 29 Years                 Unknown   \n",
       "2  Laboratory-confirmed case    Male  40 - 49 Years                 Unknown   \n",
       "3  Laboratory-confirmed case  Female  70 - 79 Years                 Unknown   \n",
       "4  Laboratory-confirmed case  Female      80+ Years     White, Non-Hispanic   \n",
       "\n",
       "  hosp_yn   icu_yn death_yn medcond_yn cdc_case_earliest_dt cdc_report_dt  \\\n",
       "0      No  Missing       No    Missing           2020-11-02    2020-11-05   \n",
       "1      No  Missing       No    Missing           2020-12-01           NaT   \n",
       "2      No  Missing       No    Missing           2020-10-29    2020-10-29   \n",
       "3      No       No       No    Unknown           2020-04-30    2020-05-13   \n",
       "4     Yes      Yes      Yes        Yes           2020-04-16    2020-04-26   \n",
       "\n",
       "  pos_spec_dt   onset_dt  \n",
       "0         NaT 2020-11-02  \n",
       "1         NaT        NaT  \n",
       "2         NaT 2020-10-29  \n",
       "3  2020-04-30 2020-04-30  \n",
       "4  2020-04-17 2020-04-16  "
      ]
     },
     "execution_count": 21,
     "metadata": {},
     "output_type": "execute_result"
    }
   ],
   "source": [
    "df.head(5)"
   ]
  },
  {
   "cell_type": "markdown",
   "id": "documented-robin",
   "metadata": {},
   "source": [
    "### Check for duplicate row/columns"
   ]
  },
  {
   "cell_type": "code",
   "execution_count": 22,
   "id": "superior-delay",
   "metadata": {},
   "outputs": [
    {
     "name": "stdout",
     "output_type": "stream",
     "text": [
      "Number of duplicate (excluding first) rows in the table is:  455\n",
      "Number of duplicate rows (including first) in the table is: 821\n"
     ]
    }
   ],
   "source": [
    "#Print the number of duplicates, without the original rows that were duplicated\n",
    "print('Number of duplicate (excluding first) rows in the table is: ', df.duplicated().sum())\n",
    "\n",
    "# Check for duplicate rows. \n",
    "# Use \"keep=False\" to mark all duplicates as true, including the original rows that were duplicated.\n",
    "print('Number of duplicate rows (including first) in the table is:', df[df.duplicated(keep=False)].shape[0])"
   ]
  },
  {
   "cell_type": "code",
   "execution_count": 23,
   "id": "chubby-precipitation",
   "metadata": {},
   "outputs": [
    {
     "name": "stdout",
     "output_type": "stream",
     "text": [
      "Number of duplicate (excluding first) columns in the table is:  0\n",
      "Number of duplicate (including first) columns in the table is:  0\n"
     ]
    }
   ],
   "source": [
    "# Check for duplicate columns\n",
    "#First transpose the df so columns become rows, then apply the same check as above\n",
    "dfT = df.T\n",
    "print(\"Number of duplicate (excluding first) columns in the table is: \", dfT.duplicated().sum())\n",
    "print(\"Number of duplicate (including first) columns in the table is: \",  dfT[dfT.duplicated(keep=False)].shape[0])"
   ]
  },
  {
   "cell_type": "markdown",
   "id": "rising-basics",
   "metadata": {},
   "source": [
    "Result - Duplicate rows exist\n",
    "- Rows - As there are four date fields designated for patients covid tracking report and 1 column is derived from 2 adjacent columns the 'cdc_case_earliest_dt' acts like the primary key column in the dataset. There is no primary key in the dataset to check if a user is included twice. Therefore comparison with other column is required. This initially returned 1794 duplicate rows. To also include the rows that were matched I include \"keep=False\" parameter. Displaying these rows in a dataframe I see they include missing as well as unknown values for few attributes.\n",
    "- Columns - There are 3 duplicate columns. We will also check the descriptive stats to make sure we did not miss any duplicated columns."
   ]
  },
  {
   "cell_type": "markdown",
   "id": "final-cement",
   "metadata": {},
   "source": [
    "Duplicate rows can be seen below"
   ]
  },
  {
   "cell_type": "code",
   "execution_count": 24,
   "id": "cheap-eight",
   "metadata": {
    "scrolled": true
   },
   "outputs": [
    {
     "data": {
      "text/html": [
       "<div>\n",
       "<style scoped>\n",
       "    .dataframe tbody tr th:only-of-type {\n",
       "        vertical-align: middle;\n",
       "    }\n",
       "\n",
       "    .dataframe tbody tr th {\n",
       "        vertical-align: top;\n",
       "    }\n",
       "\n",
       "    .dataframe thead th {\n",
       "        text-align: right;\n",
       "    }\n",
       "</style>\n",
       "<table border=\"1\" class=\"dataframe\">\n",
       "  <thead>\n",
       "    <tr style=\"text-align: right;\">\n",
       "      <th></th>\n",
       "      <th>cdc_case_earliest_days</th>\n",
       "      <th>cdc_report_days</th>\n",
       "      <th>pos_spec_days</th>\n",
       "      <th>onset_days</th>\n",
       "      <th>current_status</th>\n",
       "      <th>sex</th>\n",
       "      <th>age_group</th>\n",
       "      <th>race_ethnicity_combined</th>\n",
       "      <th>hosp_yn</th>\n",
       "      <th>icu_yn</th>\n",
       "      <th>death_yn</th>\n",
       "      <th>medcond_yn</th>\n",
       "      <th>cdc_case_earliest_dt</th>\n",
       "      <th>cdc_report_dt</th>\n",
       "      <th>pos_spec_dt</th>\n",
       "      <th>onset_dt</th>\n",
       "    </tr>\n",
       "  </thead>\n",
       "  <tbody>\n",
       "    <tr>\n",
       "      <th>19</th>\n",
       "      <td>346</td>\n",
       "      <td>NaN</td>\n",
       "      <td>NaN</td>\n",
       "      <td>NaN</td>\n",
       "      <td>Laboratory-confirmed case</td>\n",
       "      <td>Female</td>\n",
       "      <td>30 - 39 Years</td>\n",
       "      <td>Unknown</td>\n",
       "      <td>Unknown</td>\n",
       "      <td>Missing</td>\n",
       "      <td>No</td>\n",
       "      <td>Missing</td>\n",
       "      <td>2020-12-14</td>\n",
       "      <td>NaT</td>\n",
       "      <td>NaT</td>\n",
       "      <td>NaT</td>\n",
       "    </tr>\n",
       "    <tr>\n",
       "      <th>27</th>\n",
       "      <td>373</td>\n",
       "      <td>NaN</td>\n",
       "      <td>NaN</td>\n",
       "      <td>NaN</td>\n",
       "      <td>Laboratory-confirmed case</td>\n",
       "      <td>Female</td>\n",
       "      <td>20 - 29 Years</td>\n",
       "      <td>Unknown</td>\n",
       "      <td>Missing</td>\n",
       "      <td>Missing</td>\n",
       "      <td>No</td>\n",
       "      <td>Missing</td>\n",
       "      <td>2021-01-10</td>\n",
       "      <td>NaT</td>\n",
       "      <td>NaT</td>\n",
       "      <td>NaT</td>\n",
       "    </tr>\n",
       "    <tr>\n",
       "      <th>41</th>\n",
       "      <td>343</td>\n",
       "      <td>NaN</td>\n",
       "      <td>NaN</td>\n",
       "      <td>NaN</td>\n",
       "      <td>Laboratory-confirmed case</td>\n",
       "      <td>Male</td>\n",
       "      <td>50 - 59 Years</td>\n",
       "      <td>White, Non-Hispanic</td>\n",
       "      <td>Unknown</td>\n",
       "      <td>Missing</td>\n",
       "      <td>No</td>\n",
       "      <td>Missing</td>\n",
       "      <td>2020-12-11</td>\n",
       "      <td>NaT</td>\n",
       "      <td>NaT</td>\n",
       "      <td>NaT</td>\n",
       "    </tr>\n",
       "    <tr>\n",
       "      <th>82</th>\n",
       "      <td>342</td>\n",
       "      <td>327.0</td>\n",
       "      <td>NaN</td>\n",
       "      <td>NaN</td>\n",
       "      <td>Laboratory-confirmed case</td>\n",
       "      <td>Male</td>\n",
       "      <td>30 - 39 Years</td>\n",
       "      <td>White, Non-Hispanic</td>\n",
       "      <td>Missing</td>\n",
       "      <td>Missing</td>\n",
       "      <td>No</td>\n",
       "      <td>Missing</td>\n",
       "      <td>2020-12-10</td>\n",
       "      <td>2020-12-10</td>\n",
       "      <td>NaT</td>\n",
       "      <td>NaT</td>\n",
       "    </tr>\n",
       "    <tr>\n",
       "      <th>96</th>\n",
       "      <td>348</td>\n",
       "      <td>NaN</td>\n",
       "      <td>NaN</td>\n",
       "      <td>NaN</td>\n",
       "      <td>Laboratory-confirmed case</td>\n",
       "      <td>Female</td>\n",
       "      <td>30 - 39 Years</td>\n",
       "      <td>Unknown</td>\n",
       "      <td>Missing</td>\n",
       "      <td>Missing</td>\n",
       "      <td>No</td>\n",
       "      <td>Missing</td>\n",
       "      <td>2020-12-16</td>\n",
       "      <td>NaT</td>\n",
       "      <td>NaT</td>\n",
       "      <td>NaT</td>\n",
       "    </tr>\n",
       "    <tr>\n",
       "      <th>...</th>\n",
       "      <td>...</td>\n",
       "      <td>...</td>\n",
       "      <td>...</td>\n",
       "      <td>...</td>\n",
       "      <td>...</td>\n",
       "      <td>...</td>\n",
       "      <td>...</td>\n",
       "      <td>...</td>\n",
       "      <td>...</td>\n",
       "      <td>...</td>\n",
       "      <td>...</td>\n",
       "      <td>...</td>\n",
       "      <td>...</td>\n",
       "      <td>...</td>\n",
       "      <td>...</td>\n",
       "      <td>...</td>\n",
       "    </tr>\n",
       "    <tr>\n",
       "      <th>9907</th>\n",
       "      <td>369</td>\n",
       "      <td>NaN</td>\n",
       "      <td>NaN</td>\n",
       "      <td>NaN</td>\n",
       "      <td>Laboratory-confirmed case</td>\n",
       "      <td>Female</td>\n",
       "      <td>10 - 19 Years</td>\n",
       "      <td>Unknown</td>\n",
       "      <td>Unknown</td>\n",
       "      <td>Missing</td>\n",
       "      <td>No</td>\n",
       "      <td>Missing</td>\n",
       "      <td>2021-01-06</td>\n",
       "      <td>NaT</td>\n",
       "      <td>NaT</td>\n",
       "      <td>NaT</td>\n",
       "    </tr>\n",
       "    <tr>\n",
       "      <th>9916</th>\n",
       "      <td>339</td>\n",
       "      <td>NaN</td>\n",
       "      <td>NaN</td>\n",
       "      <td>NaN</td>\n",
       "      <td>Laboratory-confirmed case</td>\n",
       "      <td>Female</td>\n",
       "      <td>30 - 39 Years</td>\n",
       "      <td>Unknown</td>\n",
       "      <td>Missing</td>\n",
       "      <td>Missing</td>\n",
       "      <td>No</td>\n",
       "      <td>Missing</td>\n",
       "      <td>2020-12-07</td>\n",
       "      <td>NaT</td>\n",
       "      <td>NaT</td>\n",
       "      <td>NaT</td>\n",
       "    </tr>\n",
       "    <tr>\n",
       "      <th>9932</th>\n",
       "      <td>362</td>\n",
       "      <td>NaN</td>\n",
       "      <td>NaN</td>\n",
       "      <td>NaN</td>\n",
       "      <td>Laboratory-confirmed case</td>\n",
       "      <td>Female</td>\n",
       "      <td>20 - 29 Years</td>\n",
       "      <td>Unknown</td>\n",
       "      <td>Missing</td>\n",
       "      <td>Missing</td>\n",
       "      <td>No</td>\n",
       "      <td>Missing</td>\n",
       "      <td>2020-12-30</td>\n",
       "      <td>NaT</td>\n",
       "      <td>NaT</td>\n",
       "      <td>NaT</td>\n",
       "    </tr>\n",
       "    <tr>\n",
       "      <th>9978</th>\n",
       "      <td>200</td>\n",
       "      <td>NaN</td>\n",
       "      <td>NaN</td>\n",
       "      <td>NaN</td>\n",
       "      <td>Laboratory-confirmed case</td>\n",
       "      <td>Female</td>\n",
       "      <td>30 - 39 Years</td>\n",
       "      <td>Unknown</td>\n",
       "      <td>Unknown</td>\n",
       "      <td>Missing</td>\n",
       "      <td>No</td>\n",
       "      <td>Missing</td>\n",
       "      <td>2020-07-21</td>\n",
       "      <td>NaT</td>\n",
       "      <td>NaT</td>\n",
       "      <td>NaT</td>\n",
       "    </tr>\n",
       "    <tr>\n",
       "      <th>9979</th>\n",
       "      <td>361</td>\n",
       "      <td>NaN</td>\n",
       "      <td>NaN</td>\n",
       "      <td>NaN</td>\n",
       "      <td>Laboratory-confirmed case</td>\n",
       "      <td>Female</td>\n",
       "      <td>30 - 39 Years</td>\n",
       "      <td>Unknown</td>\n",
       "      <td>Unknown</td>\n",
       "      <td>Missing</td>\n",
       "      <td>No</td>\n",
       "      <td>Missing</td>\n",
       "      <td>2020-12-29</td>\n",
       "      <td>NaT</td>\n",
       "      <td>NaT</td>\n",
       "      <td>NaT</td>\n",
       "    </tr>\n",
       "  </tbody>\n",
       "</table>\n",
       "<p>821 rows × 16 columns</p>\n",
       "</div>"
      ],
      "text/plain": [
       "      cdc_case_earliest_days  cdc_report_days  pos_spec_days  onset_days  \\\n",
       "19                       346              NaN            NaN         NaN   \n",
       "27                       373              NaN            NaN         NaN   \n",
       "41                       343              NaN            NaN         NaN   \n",
       "82                       342            327.0            NaN         NaN   \n",
       "96                       348              NaN            NaN         NaN   \n",
       "...                      ...              ...            ...         ...   \n",
       "9907                     369              NaN            NaN         NaN   \n",
       "9916                     339              NaN            NaN         NaN   \n",
       "9932                     362              NaN            NaN         NaN   \n",
       "9978                     200              NaN            NaN         NaN   \n",
       "9979                     361              NaN            NaN         NaN   \n",
       "\n",
       "                 current_status     sex      age_group  \\\n",
       "19    Laboratory-confirmed case  Female  30 - 39 Years   \n",
       "27    Laboratory-confirmed case  Female  20 - 29 Years   \n",
       "41    Laboratory-confirmed case    Male  50 - 59 Years   \n",
       "82    Laboratory-confirmed case    Male  30 - 39 Years   \n",
       "96    Laboratory-confirmed case  Female  30 - 39 Years   \n",
       "...                         ...     ...            ...   \n",
       "9907  Laboratory-confirmed case  Female  10 - 19 Years   \n",
       "9916  Laboratory-confirmed case  Female  30 - 39 Years   \n",
       "9932  Laboratory-confirmed case  Female  20 - 29 Years   \n",
       "9978  Laboratory-confirmed case  Female  30 - 39 Years   \n",
       "9979  Laboratory-confirmed case  Female  30 - 39 Years   \n",
       "\n",
       "     race_ethnicity_combined  hosp_yn   icu_yn death_yn medcond_yn  \\\n",
       "19                   Unknown  Unknown  Missing       No    Missing   \n",
       "27                   Unknown  Missing  Missing       No    Missing   \n",
       "41       White, Non-Hispanic  Unknown  Missing       No    Missing   \n",
       "82       White, Non-Hispanic  Missing  Missing       No    Missing   \n",
       "96                   Unknown  Missing  Missing       No    Missing   \n",
       "...                      ...      ...      ...      ...        ...   \n",
       "9907                 Unknown  Unknown  Missing       No    Missing   \n",
       "9916                 Unknown  Missing  Missing       No    Missing   \n",
       "9932                 Unknown  Missing  Missing       No    Missing   \n",
       "9978                 Unknown  Unknown  Missing       No    Missing   \n",
       "9979                 Unknown  Unknown  Missing       No    Missing   \n",
       "\n",
       "     cdc_case_earliest_dt cdc_report_dt pos_spec_dt onset_dt  \n",
       "19             2020-12-14           NaT         NaT      NaT  \n",
       "27             2021-01-10           NaT         NaT      NaT  \n",
       "41             2020-12-11           NaT         NaT      NaT  \n",
       "82             2020-12-10    2020-12-10         NaT      NaT  \n",
       "96             2020-12-16           NaT         NaT      NaT  \n",
       "...                   ...           ...         ...      ...  \n",
       "9907           2021-01-06           NaT         NaT      NaT  \n",
       "9916           2020-12-07           NaT         NaT      NaT  \n",
       "9932           2020-12-30           NaT         NaT      NaT  \n",
       "9978           2020-07-21           NaT         NaT      NaT  \n",
       "9979           2020-12-29           NaT         NaT      NaT  \n",
       "\n",
       "[821 rows x 16 columns]"
      ]
     },
     "execution_count": 24,
     "metadata": {},
     "output_type": "execute_result"
    }
   ],
   "source": [
    "# Show duplicate row data that can be dropped\n",
    "df[df.duplicated(keep=False)]"
   ]
  },
  {
   "cell_type": "code",
   "execution_count": 25,
   "id": "joined-organ",
   "metadata": {},
   "outputs": [
    {
     "data": {
      "text/html": [
       "<div>\n",
       "<style scoped>\n",
       "    .dataframe tbody tr th:only-of-type {\n",
       "        vertical-align: middle;\n",
       "    }\n",
       "\n",
       "    .dataframe tbody tr th {\n",
       "        vertical-align: top;\n",
       "    }\n",
       "\n",
       "    .dataframe thead th {\n",
       "        text-align: right;\n",
       "    }\n",
       "</style>\n",
       "<table border=\"1\" class=\"dataframe\">\n",
       "  <thead>\n",
       "    <tr style=\"text-align: right;\">\n",
       "      <th></th>\n",
       "      <th>cdc_case_earliest_days</th>\n",
       "      <th>cdc_report_days</th>\n",
       "      <th>pos_spec_days</th>\n",
       "      <th>onset_days</th>\n",
       "      <th>current_status</th>\n",
       "      <th>sex</th>\n",
       "      <th>age_group</th>\n",
       "    </tr>\n",
       "  </thead>\n",
       "  <tbody>\n",
       "    <tr>\n",
       "      <th>19</th>\n",
       "      <td>346</td>\n",
       "      <td>NaN</td>\n",
       "      <td>NaN</td>\n",
       "      <td>NaN</td>\n",
       "      <td>Laboratory-confirmed case</td>\n",
       "      <td>Female</td>\n",
       "      <td>30 - 39 Years</td>\n",
       "    </tr>\n",
       "    <tr>\n",
       "      <th>27</th>\n",
       "      <td>373</td>\n",
       "      <td>NaN</td>\n",
       "      <td>NaN</td>\n",
       "      <td>NaN</td>\n",
       "      <td>Laboratory-confirmed case</td>\n",
       "      <td>Female</td>\n",
       "      <td>20 - 29 Years</td>\n",
       "    </tr>\n",
       "    <tr>\n",
       "      <th>41</th>\n",
       "      <td>343</td>\n",
       "      <td>NaN</td>\n",
       "      <td>NaN</td>\n",
       "      <td>NaN</td>\n",
       "      <td>Laboratory-confirmed case</td>\n",
       "      <td>Male</td>\n",
       "      <td>50 - 59 Years</td>\n",
       "    </tr>\n",
       "    <tr>\n",
       "      <th>82</th>\n",
       "      <td>342</td>\n",
       "      <td>327.0</td>\n",
       "      <td>NaN</td>\n",
       "      <td>NaN</td>\n",
       "      <td>Laboratory-confirmed case</td>\n",
       "      <td>Male</td>\n",
       "      <td>30 - 39 Years</td>\n",
       "    </tr>\n",
       "    <tr>\n",
       "      <th>96</th>\n",
       "      <td>348</td>\n",
       "      <td>NaN</td>\n",
       "      <td>NaN</td>\n",
       "      <td>NaN</td>\n",
       "      <td>Laboratory-confirmed case</td>\n",
       "      <td>Female</td>\n",
       "      <td>30 - 39 Years</td>\n",
       "    </tr>\n",
       "  </tbody>\n",
       "</table>\n",
       "</div>"
      ],
      "text/plain": [
       "    cdc_case_earliest_days  cdc_report_days  pos_spec_days  onset_days  \\\n",
       "19                     346              NaN            NaN         NaN   \n",
       "27                     373              NaN            NaN         NaN   \n",
       "41                     343              NaN            NaN         NaN   \n",
       "82                     342            327.0            NaN         NaN   \n",
       "96                     348              NaN            NaN         NaN   \n",
       "\n",
       "               current_status     sex      age_group  \n",
       "19  Laboratory-confirmed case  Female  30 - 39 Years  \n",
       "27  Laboratory-confirmed case  Female  20 - 29 Years  \n",
       "41  Laboratory-confirmed case    Male  50 - 59 Years  \n",
       "82  Laboratory-confirmed case    Male  30 - 39 Years  \n",
       "96  Laboratory-confirmed case  Female  30 - 39 Years  "
      ]
     },
     "execution_count": 25,
     "metadata": {},
     "output_type": "execute_result"
    }
   ],
   "source": [
    "# Check for duplicate rows and columns in this toy df that atually has duplicated rows and columns, \n",
    "#to check the duplicate checks work correctly\n",
    "cdc_duplicates_df = df[df.duplicated(keep=False)].iloc[:,0:7].head()\n",
    "cdc_duplicates_df"
   ]
  },
  {
   "cell_type": "code",
   "execution_count": 26,
   "id": "musical-opening",
   "metadata": {},
   "outputs": [
    {
     "name": "stdout",
     "output_type": "stream",
     "text": [
      "Number of duplicate (excluding first) rows in the cdc table is:  0\n",
      "Number of duplicate rows (including first) in the cdc table is: 0\n",
      "\n",
      "Number of duplicate (excluding first) columns in the cdc table is:  1\n",
      "Number of duplicate (including first) columns in the cdc table is:  2\n"
     ]
    }
   ],
   "source": [
    "print('Number of duplicate (excluding first) rows in the cdc table is: ', cdc_duplicates_df.duplicated().sum())\n",
    "print('Number of duplicate rows (including first) in the cdc table is:', cdc_duplicates_df[cdc_duplicates_df.duplicated(keep=False)].shape[0])\n",
    "\n",
    "#transpose the cdc df\n",
    "cdc_duplicates_dfT = cdc_duplicates_df.T\n",
    "print(\"\\nNumber of duplicate (excluding first) columns in the cdc table is: \", cdc_duplicates_dfT.duplicated().sum())\n",
    "print(\"Number of duplicate (including first) columns in the cdc table is: \",  cdc_duplicates_dfT[cdc_duplicates_dfT.duplicated(keep=False)].shape[0])\n",
    "\n"
   ]
  },
  {
   "cell_type": "markdown",
   "id": "worse-importance",
   "metadata": {},
   "source": [
    "#### The duplicate checks seems to be working as expected."
   ]
  },
  {
   "cell_type": "markdown",
   "id": "front-router",
   "metadata": {},
   "source": [
    "Duplicate columns will be droped from the data frame. None of the rows are dropped from the data set.\n",
    "- The columns below are dropped because the 'cdc_case_earliest_dt' column is a derived column. It is computed by taking the maximum date from 'pos_spec_dt' and 'onset_dt' date column.\n",
    "- 'cdc_report_dt' date column as mentioned in the description of data set is a Depreciated column. Thus not of any use for analysis purpose."
   ]
  },
  {
   "cell_type": "code",
   "execution_count": 27,
   "id": "cleared-collar",
   "metadata": {},
   "outputs": [
    {
     "name": "stdout",
     "output_type": "stream",
     "text": [
      "Duplicate remaining rows: 0\n"
     ]
    }
   ],
   "source": [
    "df = df.drop_duplicates(keep='last')\n",
    "# get duplicated row data. Use \"keep=False\" to mark all duplicates as true\n",
    "print('Duplicate remaining rows:', df[df.duplicated(keep=False)].shape[0])"
   ]
  },
  {
   "cell_type": "code",
   "execution_count": 28,
   "id": "middle-filter",
   "metadata": {},
   "outputs": [],
   "source": [
    "# min date  of cdc_case_earliest_dt is 2020-02-15 and min date of onset_dt is 2020-02-12\n",
    "# As I converted these features into no of days there is diff b/w these values i.e. 3 = 2020-02-15 - 2020-02-12\n",
    "# So to prove that these 2 features are same, for the comparision 3 is added with every cell in cdc_case_earliest_days\n",
    "\n",
    "earliest_days = df[['cdc_case_earliest_days']]+3  #as the difference b/w the min dates of these features is 3 days\n",
    "onset_duplicates = pd.concat([earliest_days, df[['onset_days']]], axis=1)\n",
    "\n",
    "#drop all the missing values in onset_days feature \n",
    "onset_duplicates = onset_duplicates.dropna(subset=['onset_days'])\n"
   ]
  },
  {
   "cell_type": "code",
   "execution_count": 29,
   "id": "formal-finger",
   "metadata": {},
   "outputs": [
    {
     "data": {
      "text/html": [
       "<div>\n",
       "<style scoped>\n",
       "    .dataframe tbody tr th:only-of-type {\n",
       "        vertical-align: middle;\n",
       "    }\n",
       "\n",
       "    .dataframe tbody tr th {\n",
       "        vertical-align: top;\n",
       "    }\n",
       "\n",
       "    .dataframe thead th {\n",
       "        text-align: right;\n",
       "    }\n",
       "</style>\n",
       "<table border=\"1\" class=\"dataframe\">\n",
       "  <thead>\n",
       "    <tr style=\"text-align: right;\">\n",
       "      <th></th>\n",
       "      <th>cdc_case_earliest_days</th>\n",
       "      <th>onset_days</th>\n",
       "    </tr>\n",
       "  </thead>\n",
       "  <tbody>\n",
       "    <tr>\n",
       "      <th>0</th>\n",
       "      <td>307</td>\n",
       "      <td>304.0</td>\n",
       "    </tr>\n",
       "    <tr>\n",
       "      <th>2</th>\n",
       "      <td>303</td>\n",
       "      <td>300.0</td>\n",
       "    </tr>\n",
       "    <tr>\n",
       "      <th>3</th>\n",
       "      <td>121</td>\n",
       "      <td>118.0</td>\n",
       "    </tr>\n",
       "    <tr>\n",
       "      <th>4</th>\n",
       "      <td>107</td>\n",
       "      <td>104.0</td>\n",
       "    </tr>\n",
       "    <tr>\n",
       "      <th>5</th>\n",
       "      <td>308</td>\n",
       "      <td>305.0</td>\n",
       "    </tr>\n",
       "    <tr>\n",
       "      <th>...</th>\n",
       "      <td>...</td>\n",
       "      <td>...</td>\n",
       "    </tr>\n",
       "    <tr>\n",
       "      <th>9990</th>\n",
       "      <td>204</td>\n",
       "      <td>201.0</td>\n",
       "    </tr>\n",
       "    <tr>\n",
       "      <th>9991</th>\n",
       "      <td>339</td>\n",
       "      <td>336.0</td>\n",
       "    </tr>\n",
       "    <tr>\n",
       "      <th>9997</th>\n",
       "      <td>206</td>\n",
       "      <td>203.0</td>\n",
       "    </tr>\n",
       "    <tr>\n",
       "      <th>9998</th>\n",
       "      <td>178</td>\n",
       "      <td>176.0</td>\n",
       "    </tr>\n",
       "    <tr>\n",
       "      <th>9999</th>\n",
       "      <td>184</td>\n",
       "      <td>181.0</td>\n",
       "    </tr>\n",
       "  </tbody>\n",
       "</table>\n",
       "<p>5003 rows × 2 columns</p>\n",
       "</div>"
      ],
      "text/plain": [
       "      cdc_case_earliest_days  onset_days\n",
       "0                        307       304.0\n",
       "2                        303       300.0\n",
       "3                        121       118.0\n",
       "4                        107       104.0\n",
       "5                        308       305.0\n",
       "...                      ...         ...\n",
       "9990                     204       201.0\n",
       "9991                     339       336.0\n",
       "9997                     206       203.0\n",
       "9998                     178       176.0\n",
       "9999                     184       181.0\n",
       "\n",
       "[5003 rows x 2 columns]"
      ]
     },
     "execution_count": 29,
     "metadata": {},
     "output_type": "execute_result"
    }
   ],
   "source": [
    "# get all values which are not equal b/w 2 features\n",
    "onset_duplicates[onset_duplicates['cdc_case_earliest_days'] != onset_duplicates['onset_days']]"
   ]
  },
  {
   "cell_type": "code",
   "execution_count": 30,
   "id": "cosmetic-silver",
   "metadata": {},
   "outputs": [],
   "source": [
    "df = df.drop(['onset_days'], axis=1)"
   ]
  },
  {
   "cell_type": "code",
   "execution_count": 31,
   "id": "damaged-massachusetts",
   "metadata": {},
   "outputs": [
    {
     "data": {
      "text/html": [
       "<div>\n",
       "<style scoped>\n",
       "    .dataframe tbody tr th:only-of-type {\n",
       "        vertical-align: middle;\n",
       "    }\n",
       "\n",
       "    .dataframe tbody tr th {\n",
       "        vertical-align: top;\n",
       "    }\n",
       "\n",
       "    .dataframe thead th {\n",
       "        text-align: right;\n",
       "    }\n",
       "</style>\n",
       "<table border=\"1\" class=\"dataframe\">\n",
       "  <thead>\n",
       "    <tr style=\"text-align: right;\">\n",
       "      <th></th>\n",
       "      <th>cdc_case_earliest_days</th>\n",
       "      <th>cdc_report_days</th>\n",
       "      <th>pos_spec_days</th>\n",
       "      <th>current_status</th>\n",
       "      <th>sex</th>\n",
       "      <th>age_group</th>\n",
       "      <th>race_ethnicity_combined</th>\n",
       "      <th>hosp_yn</th>\n",
       "      <th>icu_yn</th>\n",
       "      <th>death_yn</th>\n",
       "      <th>medcond_yn</th>\n",
       "      <th>cdc_case_earliest_dt</th>\n",
       "      <th>cdc_report_dt</th>\n",
       "      <th>pos_spec_dt</th>\n",
       "      <th>onset_dt</th>\n",
       "    </tr>\n",
       "  </thead>\n",
       "  <tbody>\n",
       "    <tr>\n",
       "      <th>0</th>\n",
       "      <td>304</td>\n",
       "      <td>292.0</td>\n",
       "      <td>NaN</td>\n",
       "      <td>Probable Case</td>\n",
       "      <td>Male</td>\n",
       "      <td>Missing</td>\n",
       "      <td>White, Non-Hispanic</td>\n",
       "      <td>No</td>\n",
       "      <td>Missing</td>\n",
       "      <td>No</td>\n",
       "      <td>Missing</td>\n",
       "      <td>2020-11-02</td>\n",
       "      <td>2020-11-05</td>\n",
       "      <td>NaT</td>\n",
       "      <td>2020-11-02</td>\n",
       "    </tr>\n",
       "    <tr>\n",
       "      <th>1</th>\n",
       "      <td>333</td>\n",
       "      <td>NaN</td>\n",
       "      <td>NaN</td>\n",
       "      <td>Laboratory-confirmed case</td>\n",
       "      <td>Male</td>\n",
       "      <td>20 - 29 Years</td>\n",
       "      <td>Unknown</td>\n",
       "      <td>No</td>\n",
       "      <td>Missing</td>\n",
       "      <td>No</td>\n",
       "      <td>Missing</td>\n",
       "      <td>2020-12-01</td>\n",
       "      <td>NaT</td>\n",
       "      <td>NaT</td>\n",
       "      <td>NaT</td>\n",
       "    </tr>\n",
       "    <tr>\n",
       "      <th>2</th>\n",
       "      <td>300</td>\n",
       "      <td>285.0</td>\n",
       "      <td>NaN</td>\n",
       "      <td>Laboratory-confirmed case</td>\n",
       "      <td>Male</td>\n",
       "      <td>40 - 49 Years</td>\n",
       "      <td>Unknown</td>\n",
       "      <td>No</td>\n",
       "      <td>Missing</td>\n",
       "      <td>No</td>\n",
       "      <td>Missing</td>\n",
       "      <td>2020-10-29</td>\n",
       "      <td>2020-10-29</td>\n",
       "      <td>NaT</td>\n",
       "      <td>2020-10-29</td>\n",
       "    </tr>\n",
       "    <tr>\n",
       "      <th>3</th>\n",
       "      <td>118</td>\n",
       "      <td>116.0</td>\n",
       "      <td>47.0</td>\n",
       "      <td>Laboratory-confirmed case</td>\n",
       "      <td>Female</td>\n",
       "      <td>70 - 79 Years</td>\n",
       "      <td>Unknown</td>\n",
       "      <td>No</td>\n",
       "      <td>No</td>\n",
       "      <td>No</td>\n",
       "      <td>Unknown</td>\n",
       "      <td>2020-04-30</td>\n",
       "      <td>2020-05-13</td>\n",
       "      <td>2020-04-30</td>\n",
       "      <td>2020-04-30</td>\n",
       "    </tr>\n",
       "    <tr>\n",
       "      <th>4</th>\n",
       "      <td>104</td>\n",
       "      <td>99.0</td>\n",
       "      <td>34.0</td>\n",
       "      <td>Laboratory-confirmed case</td>\n",
       "      <td>Female</td>\n",
       "      <td>80+ Years</td>\n",
       "      <td>White, Non-Hispanic</td>\n",
       "      <td>Yes</td>\n",
       "      <td>Yes</td>\n",
       "      <td>Yes</td>\n",
       "      <td>Yes</td>\n",
       "      <td>2020-04-16</td>\n",
       "      <td>2020-04-26</td>\n",
       "      <td>2020-04-17</td>\n",
       "      <td>2020-04-16</td>\n",
       "    </tr>\n",
       "  </tbody>\n",
       "</table>\n",
       "</div>"
      ],
      "text/plain": [
       "   cdc_case_earliest_days  cdc_report_days  pos_spec_days  \\\n",
       "0                     304            292.0            NaN   \n",
       "1                     333              NaN            NaN   \n",
       "2                     300            285.0            NaN   \n",
       "3                     118            116.0           47.0   \n",
       "4                     104             99.0           34.0   \n",
       "\n",
       "              current_status     sex      age_group race_ethnicity_combined  \\\n",
       "0              Probable Case    Male        Missing     White, Non-Hispanic   \n",
       "1  Laboratory-confirmed case    Male  20 - 29 Years                 Unknown   \n",
       "2  Laboratory-confirmed case    Male  40 - 49 Years                 Unknown   \n",
       "3  Laboratory-confirmed case  Female  70 - 79 Years                 Unknown   \n",
       "4  Laboratory-confirmed case  Female      80+ Years     White, Non-Hispanic   \n",
       "\n",
       "  hosp_yn   icu_yn death_yn medcond_yn cdc_case_earliest_dt cdc_report_dt  \\\n",
       "0      No  Missing       No    Missing           2020-11-02    2020-11-05   \n",
       "1      No  Missing       No    Missing           2020-12-01           NaT   \n",
       "2      No  Missing       No    Missing           2020-10-29    2020-10-29   \n",
       "3      No       No       No    Unknown           2020-04-30    2020-05-13   \n",
       "4     Yes      Yes      Yes        Yes           2020-04-16    2020-04-26   \n",
       "\n",
       "  pos_spec_dt   onset_dt  \n",
       "0         NaT 2020-11-02  \n",
       "1         NaT        NaT  \n",
       "2         NaT 2020-10-29  \n",
       "3  2020-04-30 2020-04-30  \n",
       "4  2020-04-17 2020-04-16  "
      ]
     },
     "execution_count": 31,
     "metadata": {},
     "output_type": "execute_result"
    }
   ],
   "source": [
    "df.head(5)"
   ]
  },
  {
   "cell_type": "code",
   "execution_count": 32,
   "id": "negative-explorer",
   "metadata": {},
   "outputs": [],
   "source": [
    "numeric_columns = df.select_dtypes(['int64', 'float64']).columns"
   ]
  },
  {
   "cell_type": "code",
   "execution_count": 33,
   "id": "arctic-argentina",
   "metadata": {},
   "outputs": [],
   "source": [
    "df.to_csv(\"Cleaned_data_report.csv\",index=False)"
   ]
  },
  {
   "cell_type": "markdown",
   "id": "christian-mambo",
   "metadata": {},
   "source": [
    "### Check for constant columns"
   ]
  },
  {
   "cell_type": "markdown",
   "id": "noticed-conference",
   "metadata": {},
   "source": [
    "#### Continous features"
   ]
  },
  {
   "cell_type": "code",
   "execution_count": 34,
   "id": "latest-threshold",
   "metadata": {},
   "outputs": [
    {
     "data": {
      "text/html": [
       "<div>\n",
       "<style scoped>\n",
       "    .dataframe tbody tr th:only-of-type {\n",
       "        vertical-align: middle;\n",
       "    }\n",
       "\n",
       "    .dataframe tbody tr th {\n",
       "        vertical-align: top;\n",
       "    }\n",
       "\n",
       "    .dataframe thead th {\n",
       "        text-align: right;\n",
       "    }\n",
       "</style>\n",
       "<table border=\"1\" class=\"dataframe\">\n",
       "  <thead>\n",
       "    <tr style=\"text-align: right;\">\n",
       "      <th></th>\n",
       "      <th>cdc_case_earliest_days</th>\n",
       "      <th>cdc_report_days</th>\n",
       "      <th>pos_spec_days</th>\n",
       "    </tr>\n",
       "  </thead>\n",
       "  <tbody>\n",
       "    <tr>\n",
       "      <th>0</th>\n",
       "      <td>304</td>\n",
       "      <td>292.0</td>\n",
       "      <td>NaN</td>\n",
       "    </tr>\n",
       "    <tr>\n",
       "      <th>1</th>\n",
       "      <td>333</td>\n",
       "      <td>NaN</td>\n",
       "      <td>NaN</td>\n",
       "    </tr>\n",
       "    <tr>\n",
       "      <th>2</th>\n",
       "      <td>300</td>\n",
       "      <td>285.0</td>\n",
       "      <td>NaN</td>\n",
       "    </tr>\n",
       "    <tr>\n",
       "      <th>3</th>\n",
       "      <td>118</td>\n",
       "      <td>116.0</td>\n",
       "      <td>47.0</td>\n",
       "    </tr>\n",
       "    <tr>\n",
       "      <th>4</th>\n",
       "      <td>104</td>\n",
       "      <td>99.0</td>\n",
       "      <td>34.0</td>\n",
       "    </tr>\n",
       "  </tbody>\n",
       "</table>\n",
       "</div>"
      ],
      "text/plain": [
       "   cdc_case_earliest_days  cdc_report_days  pos_spec_days\n",
       "0                     304            292.0            NaN\n",
       "1                     333              NaN            NaN\n",
       "2                     300            285.0            NaN\n",
       "3                     118            116.0           47.0\n",
       "4                     104             99.0           34.0"
      ]
     },
     "execution_count": 34,
     "metadata": {},
     "output_type": "execute_result"
    }
   ],
   "source": [
    "df[numeric_columns].head()"
   ]
  },
  {
   "cell_type": "code",
   "execution_count": 35,
   "id": "deadly-effect",
   "metadata": {},
   "outputs": [
    {
     "data": {
      "text/html": [
       "<div>\n",
       "<style scoped>\n",
       "    .dataframe tbody tr th:only-of-type {\n",
       "        vertical-align: middle;\n",
       "    }\n",
       "\n",
       "    .dataframe tbody tr th {\n",
       "        vertical-align: top;\n",
       "    }\n",
       "\n",
       "    .dataframe thead th {\n",
       "        text-align: right;\n",
       "    }\n",
       "</style>\n",
       "<table border=\"1\" class=\"dataframe\">\n",
       "  <thead>\n",
       "    <tr style=\"text-align: right;\">\n",
       "      <th></th>\n",
       "      <th>count</th>\n",
       "      <th>mean</th>\n",
       "      <th>std</th>\n",
       "      <th>min</th>\n",
       "      <th>25%</th>\n",
       "      <th>50%</th>\n",
       "      <th>75%</th>\n",
       "      <th>max</th>\n",
       "    </tr>\n",
       "  </thead>\n",
       "  <tbody>\n",
       "    <tr>\n",
       "      <th>cdc_case_earliest_days</th>\n",
       "      <td>9545.0</td>\n",
       "      <td>273.306862</td>\n",
       "      <td>86.215245</td>\n",
       "      <td>0.0</td>\n",
       "      <td>201.00</td>\n",
       "      <td>306.0</td>\n",
       "      <td>344.0</td>\n",
       "      <td>379.0</td>\n",
       "    </tr>\n",
       "    <tr>\n",
       "      <th>cdc_report_days</th>\n",
       "      <td>7591.0</td>\n",
       "      <td>272.670399</td>\n",
       "      <td>81.096151</td>\n",
       "      <td>0.0</td>\n",
       "      <td>210.00</td>\n",
       "      <td>299.0</td>\n",
       "      <td>338.0</td>\n",
       "      <td>377.0</td>\n",
       "    </tr>\n",
       "    <tr>\n",
       "      <th>pos_spec_days</th>\n",
       "      <td>2790.0</td>\n",
       "      <td>186.730466</td>\n",
       "      <td>89.296143</td>\n",
       "      <td>0.0</td>\n",
       "      <td>115.25</td>\n",
       "      <td>213.0</td>\n",
       "      <td>263.0</td>\n",
       "      <td>317.0</td>\n",
       "    </tr>\n",
       "  </tbody>\n",
       "</table>\n",
       "</div>"
      ],
      "text/plain": [
       "                         count        mean        std  min     25%    50%  \\\n",
       "cdc_case_earliest_days  9545.0  273.306862  86.215245  0.0  201.00  306.0   \n",
       "cdc_report_days         7591.0  272.670399  81.096151  0.0  210.00  299.0   \n",
       "pos_spec_days           2790.0  186.730466  89.296143  0.0  115.25  213.0   \n",
       "\n",
       "                          75%    max  \n",
       "cdc_case_earliest_days  344.0  379.0  \n",
       "cdc_report_days         338.0  377.0  \n",
       "pos_spec_days           263.0  317.0  "
      ]
     },
     "execution_count": 35,
     "metadata": {},
     "output_type": "execute_result"
    }
   ],
   "source": [
    "df_table_numeric = df[numeric_columns].describe().T\n",
    "df_table_numeric"
   ]
  },
  {
   "cell_type": "code",
   "execution_count": 36,
   "id": "dangerous-nevada",
   "metadata": {
    "scrolled": true
   },
   "outputs": [
    {
     "data": {
      "text/html": [
       "<div>\n",
       "<style scoped>\n",
       "    .dataframe tbody tr th:only-of-type {\n",
       "        vertical-align: middle;\n",
       "    }\n",
       "\n",
       "    .dataframe tbody tr th {\n",
       "        vertical-align: top;\n",
       "    }\n",
       "\n",
       "    .dataframe thead th {\n",
       "        text-align: right;\n",
       "    }\n",
       "</style>\n",
       "<table border=\"1\" class=\"dataframe\">\n",
       "  <thead>\n",
       "    <tr style=\"text-align: right;\">\n",
       "      <th></th>\n",
       "      <th>count</th>\n",
       "      <th>unique</th>\n",
       "      <th>top</th>\n",
       "      <th>freq</th>\n",
       "    </tr>\n",
       "  </thead>\n",
       "  <tbody>\n",
       "    <tr>\n",
       "      <th>current_status</th>\n",
       "      <td>9545</td>\n",
       "      <td>2</td>\n",
       "      <td>Laboratory-confirmed case</td>\n",
       "      <td>8912</td>\n",
       "    </tr>\n",
       "    <tr>\n",
       "      <th>sex</th>\n",
       "      <td>9545</td>\n",
       "      <td>5</td>\n",
       "      <td>Female</td>\n",
       "      <td>4974</td>\n",
       "    </tr>\n",
       "    <tr>\n",
       "      <th>age_group</th>\n",
       "      <td>9545</td>\n",
       "      <td>10</td>\n",
       "      <td>20 - 29 Years</td>\n",
       "      <td>1762</td>\n",
       "    </tr>\n",
       "    <tr>\n",
       "      <th>race_ethnicity_combined</th>\n",
       "      <td>9545</td>\n",
       "      <td>9</td>\n",
       "      <td>Unknown</td>\n",
       "      <td>3604</td>\n",
       "    </tr>\n",
       "    <tr>\n",
       "      <th>hosp_yn</th>\n",
       "      <td>9545</td>\n",
       "      <td>5</td>\n",
       "      <td>No</td>\n",
       "      <td>5133</td>\n",
       "    </tr>\n",
       "    <tr>\n",
       "      <th>icu_yn</th>\n",
       "      <td>9545</td>\n",
       "      <td>4</td>\n",
       "      <td>Missing</td>\n",
       "      <td>7194</td>\n",
       "    </tr>\n",
       "    <tr>\n",
       "      <th>death_yn</th>\n",
       "      <td>9545</td>\n",
       "      <td>2</td>\n",
       "      <td>No</td>\n",
       "      <td>9211</td>\n",
       "    </tr>\n",
       "    <tr>\n",
       "      <th>medcond_yn</th>\n",
       "      <td>9545</td>\n",
       "      <td>4</td>\n",
       "      <td>Missing</td>\n",
       "      <td>7015</td>\n",
       "    </tr>\n",
       "  </tbody>\n",
       "</table>\n",
       "</div>"
      ],
      "text/plain": [
       "                        count unique                        top  freq\n",
       "current_status           9545      2  Laboratory-confirmed case  8912\n",
       "sex                      9545      5                     Female  4974\n",
       "age_group                9545     10              20 - 29 Years  1762\n",
       "race_ethnicity_combined  9545      9                    Unknown  3604\n",
       "hosp_yn                  9545      5                         No  5133\n",
       "icu_yn                   9545      4                    Missing  7194\n",
       "death_yn                 9545      2                         No  9211\n",
       "medcond_yn               9545      4                    Missing  7015"
      ]
     },
     "execution_count": 36,
     "metadata": {},
     "output_type": "execute_result"
    }
   ],
   "source": [
    "# Print table with categorical statistics\n",
    "df.select_dtypes(['category']).describe().T"
   ]
  },
  {
   "cell_type": "markdown",
   "id": "indonesian-coordinator",
   "metadata": {},
   "source": [
    "**Continuous Data** - Reviewing the continuous data, we can see all 3 features have a non zero standard deviation.  \n",
    "- This implies that a particular feature does not contain a single constant value in all of the rows. Thus in this case, none of the continuous features are constant.\n",
    "- Result - No constant columns"
   ]
  },
  {
   "cell_type": "markdown",
   "id": "leading-national",
   "metadata": {},
   "source": [
    "**Categorical Data** - Reviewing the categorical data below we can see all unique values > 1\n",
    "- *current_status* has 2 unique values\n",
    "- *sex* has 5 unique values\n",
    "- *age_group* has 10 unique values\n",
    "- *race_ethnicity_combined* has 9 unique values\n",
    "- *hosp_yn* has 5 unique values\n",
    "- *icu_yn* has 4 unique values\n",
    "- *death_yn* has 2 unique values\n",
    "- *medcond_yn* has 4 unique values"
   ]
  },
  {
   "cell_type": "code",
   "execution_count": 37,
   "id": "worthy-words",
   "metadata": {},
   "outputs": [
    {
     "data": {
      "text/html": [
       "<div>\n",
       "<style scoped>\n",
       "    .dataframe tbody tr th:only-of-type {\n",
       "        vertical-align: middle;\n",
       "    }\n",
       "\n",
       "    .dataframe tbody tr th {\n",
       "        vertical-align: top;\n",
       "    }\n",
       "\n",
       "    .dataframe thead th {\n",
       "        text-align: right;\n",
       "    }\n",
       "</style>\n",
       "<table border=\"1\" class=\"dataframe\">\n",
       "  <thead>\n",
       "    <tr style=\"text-align: right;\">\n",
       "      <th></th>\n",
       "      <th>count</th>\n",
       "      <th>unique</th>\n",
       "      <th>top</th>\n",
       "      <th>freq</th>\n",
       "    </tr>\n",
       "  </thead>\n",
       "  <tbody>\n",
       "    <tr>\n",
       "      <th>current_status</th>\n",
       "      <td>9545</td>\n",
       "      <td>2</td>\n",
       "      <td>Laboratory-confirmed case</td>\n",
       "      <td>8912</td>\n",
       "    </tr>\n",
       "    <tr>\n",
       "      <th>sex</th>\n",
       "      <td>9545</td>\n",
       "      <td>5</td>\n",
       "      <td>Female</td>\n",
       "      <td>4974</td>\n",
       "    </tr>\n",
       "    <tr>\n",
       "      <th>age_group</th>\n",
       "      <td>9545</td>\n",
       "      <td>10</td>\n",
       "      <td>20 - 29 Years</td>\n",
       "      <td>1762</td>\n",
       "    </tr>\n",
       "    <tr>\n",
       "      <th>race_ethnicity_combined</th>\n",
       "      <td>9545</td>\n",
       "      <td>9</td>\n",
       "      <td>Unknown</td>\n",
       "      <td>3604</td>\n",
       "    </tr>\n",
       "    <tr>\n",
       "      <th>hosp_yn</th>\n",
       "      <td>9545</td>\n",
       "      <td>5</td>\n",
       "      <td>No</td>\n",
       "      <td>5133</td>\n",
       "    </tr>\n",
       "    <tr>\n",
       "      <th>icu_yn</th>\n",
       "      <td>9545</td>\n",
       "      <td>4</td>\n",
       "      <td>Missing</td>\n",
       "      <td>7194</td>\n",
       "    </tr>\n",
       "    <tr>\n",
       "      <th>death_yn</th>\n",
       "      <td>9545</td>\n",
       "      <td>2</td>\n",
       "      <td>No</td>\n",
       "      <td>9211</td>\n",
       "    </tr>\n",
       "    <tr>\n",
       "      <th>medcond_yn</th>\n",
       "      <td>9545</td>\n",
       "      <td>4</td>\n",
       "      <td>Missing</td>\n",
       "      <td>7015</td>\n",
       "    </tr>\n",
       "  </tbody>\n",
       "</table>\n",
       "</div>"
      ],
      "text/plain": [
       "                        count unique                        top  freq\n",
       "current_status           9545      2  Laboratory-confirmed case  8912\n",
       "sex                      9545      5                     Female  4974\n",
       "age_group                9545     10              20 - 29 Years  1762\n",
       "race_ethnicity_combined  9545      9                    Unknown  3604\n",
       "hosp_yn                  9545      5                         No  5133\n",
       "icu_yn                   9545      4                    Missing  7194\n",
       "death_yn                 9545      2                         No  9211\n",
       "medcond_yn               9545      4                    Missing  7015"
      ]
     },
     "execution_count": 37,
     "metadata": {},
     "output_type": "execute_result"
    }
   ],
   "source": [
    "df_catg = df[category_columns].describe().T\n",
    "df_catg"
   ]
  },
  {
   "cell_type": "markdown",
   "id": "nonprofit-variety",
   "metadata": {},
   "source": [
    "### Check for Null Values"
   ]
  },
  {
   "cell_type": "code",
   "execution_count": 38,
   "id": "electoral-statistics",
   "metadata": {},
   "outputs": [
    {
     "data": {
      "text/plain": [
       "cdc_case_earliest_days        0\n",
       "cdc_report_days            1954\n",
       "pos_spec_days              6755\n",
       "current_status                0\n",
       "sex                           0\n",
       "age_group                     0\n",
       "race_ethnicity_combined       0\n",
       "hosp_yn                       0\n",
       "icu_yn                        0\n",
       "death_yn                      0\n",
       "medcond_yn                    0\n",
       "cdc_case_earliest_dt          0\n",
       "cdc_report_dt              1954\n",
       "pos_spec_dt                6755\n",
       "onset_dt                   4532\n",
       "dtype: int64"
      ]
     },
     "execution_count": 38,
     "metadata": {},
     "output_type": "execute_result"
    }
   ],
   "source": [
    "df.isnull().sum()"
   ]
  },
  {
   "cell_type": "markdown",
   "id": "liable-migration",
   "metadata": {},
   "source": [
    "Result - No null values directly in the spreadsheet, but we will check carefully if Null values are not coded differently in this dataset. It could be that data is missing but it was not coded as Null in the original dataset."
   ]
  },
  {
   "cell_type": "markdown",
   "id": "present-criticism",
   "metadata": {},
   "source": [
    "### Check for Irregular cardinalities & permitted values"
   ]
  },
  {
   "cell_type": "code",
   "execution_count": 39,
   "id": "controlled-flash",
   "metadata": {},
   "outputs": [
    {
     "name": "stdout",
     "output_type": "stream",
     "text": [
      "Unique values for:\n",
      "current_status: [Probable Case, Laboratory-confirmed case]\n",
      "Categories (2, object): [Probable Case, Laboratory-confirmed case]\n",
      "sex: [Male, Female, Unknown, Missing, Other]\n",
      "Categories (5, object): [Male, Female, Unknown, Missing, Other]\n",
      "age_group: [Missing, 20 - 29 Years, 40 - 49 Years, 70 - 79 Years, 80+ Years, 30 - 39 Years, 50 - 59 Years, 10 - 19 Years, 60 - 69 Years, 0 - 9 Years]\n",
      "Categories (10, object): [Missing, 20 - 29 Years, 40 - 49 Years, 70 - 79 Years, ..., 50 - 59 Years, 10 - 19 Years, 60 - 69 Years, 0 - 9 Years]\n",
      "race_ethnicity_combined: [White, Non-Hispanic, Unknown, American Indian/Alaska Native, Non-Hispanic, Hispanic/Latino, Black, Non-Hispanic, Multiple/Other, Non-Hispanic, Asian, Non-Hispanic, Missing, Native Hawaiian/Other Pacific Islander, Non-Hi...]\n",
      "Categories (9, object): [White, Non-Hispanic, Unknown, American Indian/Alaska Native, Non-Hispanic, Hispanic/Latino, ..., Multiple/Other, Non-Hispanic, Asian, Non-Hispanic, Missing, Native Hawaiian/Other Pacific Islander, Non-Hi...]\n",
      "hosp_yn: [No, Yes, Missing, Unknown, OTH]\n",
      "Categories (5, object): [No, Yes, Missing, Unknown, OTH]\n",
      "icu_yn: [Missing, No, Yes, Unknown]\n",
      "Categories (4, object): [Missing, No, Yes, Unknown]\n",
      "death_yn: [No, Yes]\n",
      "Categories (2, object): [No, Yes]\n",
      "medcond_yn: [Missing, Unknown, Yes, No]\n",
      "Categories (4, object): [Missing, Unknown, Yes, No]\n"
     ]
    }
   ],
   "source": [
    "# Check for irregular cardinality & permitted values in categorical features. \n",
    "print(\"Unique values for:\\ncurrent_status:\", pd.unique(df[\"current_status\"].ravel()))\n",
    "print(\"sex:\", pd.unique(df[\"sex\"].ravel()))\n",
    "print(\"age_group:\", pd.unique(df[\"age_group\"].ravel()))\n",
    "print(\"race_ethnicity_combined:\", pd.unique(df[\"race_ethnicity_combined\"].ravel()))\n",
    "print(\"hosp_yn:\", pd.unique(df[\"hosp_yn\"].ravel()))\n",
    "print(\"icu_yn:\", pd.unique(df[\"icu_yn\"].ravel()))\n",
    "print(\"death_yn:\", pd.unique(df[\"death_yn\"].ravel()))\n",
    "print(\"medcond_yn:\", pd.unique(df[\"medcond_yn\"].ravel()))"
   ]
  },
  {
   "cell_type": "markdown",
   "id": "formal-diving",
   "metadata": {},
   "source": [
    "- There are no irregular cardinalities. The values that appear seem to be in the permitted range. Here Unknown is a value which falls under acceptable condition as in the cdc form \"Unknown\" was an option provided for the patient. Along with this \"Missing\" entries are to be considered as part of this data set and because they cover most of the data in two columns they are kept untouched. "
   ]
  },
  {
   "cell_type": "markdown",
   "id": "included-playlist",
   "metadata": {},
   "source": [
    "## Descriptive Statistics: \n",
    "Continuous Features"
   ]
  },
  {
   "cell_type": "code",
   "execution_count": 40,
   "id": "secondary-carter",
   "metadata": {},
   "outputs": [
    {
     "name": "stdout",
     "output_type": "stream",
     "text": [
      "cdc_case_earliest_days\n",
      "----------\n",
      "\n",
      "Range cdc_case_earliest_days is:  379\n",
      "----------\n",
      "Value  Number of Instances\n",
      "333    94\n",
      "369    93\n",
      "339    93\n",
      "341    93\n",
      "367    93\n",
      "360    91\n",
      "368    90\n",
      "334    89\n",
      "332    87\n",
      "343    85\n",
      "362    85\n",
      "347    85\n",
      "346    84\n",
      "353    82\n",
      "361    82\n",
      "Name: cdc_case_earliest_days, dtype: int64 \n",
      "\n",
      "\n",
      "\n",
      "cdc_report_days\n",
      "----------\n",
      "\n",
      "Range cdc_report_days is:  377.0\n",
      "----------\n",
      "Value  Number of Instances\n",
      "144.0    128\n",
      "331.0    105\n",
      "312.0     87\n",
      "375.0     85\n",
      "360.0     76\n",
      "346.0     76\n",
      "369.0     75\n",
      "326.0     69\n",
      "311.0     69\n",
      "347.0     68\n",
      "374.0     67\n",
      "355.0     64\n",
      "359.0     63\n",
      "325.0     62\n",
      "129.0     61\n",
      "Name: cdc_report_days, dtype: int64 \n",
      "\n",
      "\n",
      "\n",
      "pos_spec_days\n",
      "----------\n",
      "\n",
      "Range pos_spec_days is:  317.0\n",
      "----------\n",
      "Value  Number of Instances\n",
      "247.0    30\n",
      "268.0    30\n",
      "289.0    30\n",
      "261.0    27\n",
      "303.0    26\n",
      "277.0    25\n",
      "235.0    24\n",
      "296.0    24\n",
      "251.0    23\n",
      "255.0    22\n",
      "240.0    22\n",
      "290.0    22\n",
      "298.0    22\n",
      "269.0    21\n",
      "250.0    21\n",
      "Name: pos_spec_days, dtype: int64 \n",
      "\n",
      "\n",
      "\n"
     ]
    }
   ],
   "source": [
    "# For each continuous feature, we display the range of values it takes.\n",
    "# Also display the number of instances each of its values has.\n",
    "\n",
    "for feature in numeric_columns:\n",
    "    print(feature)\n",
    "    print(\"----------\\n\")\n",
    "    print(\"Range {} is: \".format(feature), (df[feature].max() - df[feature].min()))\n",
    "    print(\"----------\")\n",
    "    print('{0:.5}  {1}'.format(\"Value\", \"Number of Instances\"))\n",
    "    print(df[feature].value_counts().nlargest(15), \"\\n\\n\\n\")\n"
   ]
  },
  {
   "cell_type": "code",
   "execution_count": 41,
   "id": "sixth-america",
   "metadata": {},
   "outputs": [
    {
     "name": "stdout",
     "output_type": "stream",
     "text": [
      "\n",
      "\u001b[1mcurrent_status\u001b[0m\n",
      "Laboratory-confirmed case    8912\n",
      "Probable Case                 633\n",
      "Name: current_status, dtype: int64\n",
      "\n",
      "\u001b[1msex\u001b[0m\n",
      "Female     4974\n",
      "Male       4477\n",
      "Unknown      74\n",
      "Missing      19\n",
      "Other         1\n",
      "Name: sex, dtype: int64\n",
      "\n",
      "\u001b[1mage_group\u001b[0m\n",
      "20 - 29 Years    1762\n",
      "30 - 39 Years    1564\n",
      "40 - 49 Years    1404\n",
      "50 - 59 Years    1336\n",
      "60 - 69 Years    1036\n",
      "10 - 19 Years     994\n",
      "70 - 79 Years     549\n",
      "80+ Years         448\n",
      "0 - 9 Years       440\n",
      "Missing            12\n",
      "Name: age_group, dtype: int64\n",
      "\n",
      "\u001b[1mrace_ethnicity_combined\u001b[0m\n",
      "Unknown                                                 3604\n",
      "White, Non-Hispanic                                     3296\n",
      "Hispanic/Latino                                          964\n",
      "Black, Non-Hispanic                                      707\n",
      "Multiple/Other, Non-Hispanic                             532\n",
      "Asian, Non-Hispanic                                      255\n",
      "Missing                                                   94\n",
      "American Indian/Alaska Native, Non-Hispanic               66\n",
      "Native Hawaiian/Other Pacific Islander, Non-Hispanic      27\n",
      "Name: race_ethnicity_combined, dtype: int64\n",
      "\n",
      "\u001b[1mhosp_yn\u001b[0m\n",
      "No         5133\n",
      "Missing    2099\n",
      "Unknown    1651\n",
      "Yes         661\n",
      "OTH           1\n",
      "Name: hosp_yn, dtype: int64\n",
      "\n",
      "\u001b[1micu_yn\u001b[0m\n",
      "Missing    7194\n",
      "Unknown    1303\n",
      "No          965\n",
      "Yes          83\n",
      "Name: icu_yn, dtype: int64\n",
      "\n",
      "\u001b[1mdeath_yn\u001b[0m\n",
      "No     9211\n",
      "Yes     334\n",
      "Name: death_yn, dtype: int64\n",
      "\n",
      "\u001b[1mmedcond_yn\u001b[0m\n",
      "Missing    7015\n",
      "No          876\n",
      "Yes         853\n",
      "Unknown     801\n",
      "Name: medcond_yn, dtype: int64\n"
     ]
    }
   ],
   "source": [
    "# For each category column print all the categories with nan values\n",
    "for column in category_columns:\n",
    "    print(\"\\n\" + '\\033[1m' + column + '\\033[0m')\n",
    "    print(df[column].value_counts(dropna=False))"
   ]
  },
  {
   "cell_type": "code",
   "execution_count": 42,
   "id": "casual-banner",
   "metadata": {},
   "outputs": [
    {
     "name": "stdout",
     "output_type": "stream",
     "text": [
      "\n",
      "\u001b[1mcurrent_status\u001b[0m\n",
      "Laboratory-confirmed case    8912\n",
      "Probable Case                 633\n",
      "Name: current_status, dtype: int64\n",
      "\n",
      "\u001b[1msex\u001b[0m\n",
      "Female     4974\n",
      "Male       4477\n",
      "Unknown      74\n",
      "Missing      19\n",
      "Other         1\n",
      "Name: sex, dtype: int64\n",
      "\n",
      "\u001b[1mage_group\u001b[0m\n",
      "20 - 29 Years    1762\n",
      "30 - 39 Years    1564\n",
      "40 - 49 Years    1404\n",
      "50 - 59 Years    1336\n",
      "60 - 69 Years    1036\n",
      "10 - 19 Years     994\n",
      "70 - 79 Years     549\n",
      "80+ Years         448\n",
      "0 - 9 Years       440\n",
      "Missing            12\n",
      "Name: age_group, dtype: int64\n",
      "\n",
      "\u001b[1mrace_ethnicity_combined\u001b[0m\n",
      "Unknown                                                 3604\n",
      "White, Non-Hispanic                                     3296\n",
      "Hispanic/Latino                                          964\n",
      "Black, Non-Hispanic                                      707\n",
      "Multiple/Other, Non-Hispanic                             532\n",
      "Asian, Non-Hispanic                                      255\n",
      "Missing                                                   94\n",
      "American Indian/Alaska Native, Non-Hispanic               66\n",
      "Native Hawaiian/Other Pacific Islander, Non-Hispanic      27\n",
      "Name: race_ethnicity_combined, dtype: int64\n",
      "\n",
      "\u001b[1mhosp_yn\u001b[0m\n",
      "No         5133\n",
      "Missing    2099\n",
      "Unknown    1651\n",
      "Yes         661\n",
      "OTH           1\n",
      "Name: hosp_yn, dtype: int64\n",
      "\n",
      "\u001b[1micu_yn\u001b[0m\n",
      "Missing    7194\n",
      "Unknown    1303\n",
      "No          965\n",
      "Yes          83\n",
      "Name: icu_yn, dtype: int64\n",
      "\n",
      "\u001b[1mdeath_yn\u001b[0m\n",
      "No     9211\n",
      "Yes     334\n",
      "Name: death_yn, dtype: int64\n",
      "\n",
      "\u001b[1mmedcond_yn\u001b[0m\n",
      "Missing    7015\n",
      "No          876\n",
      "Yes         853\n",
      "Unknown     801\n",
      "Name: medcond_yn, dtype: int64\n"
     ]
    }
   ],
   "source": [
    "# For each category column print all the values excluding nan values\n",
    "for column in category_columns:\n",
    "    print(\"\\n\" + '\\033[1m' + column + '\\033[0m')\n",
    "    print(df[column].value_counts())"
   ]
  },
  {
   "cell_type": "code",
   "execution_count": 43,
   "id": "limiting-savage",
   "metadata": {},
   "outputs": [
    {
     "name": "stdout",
     "output_type": "stream",
     "text": [
      "\n",
      "\u001b[1mcurrent_status\u001b[0m\n",
      "Laboratory-confirmed case    0.933683\n",
      "Probable Case                0.066317\n",
      "Name: current_status, dtype: float64\n",
      "\n",
      "\u001b[1msex\u001b[0m\n",
      "Female     0.521111\n",
      "Male       0.469041\n",
      "Unknown    0.007753\n",
      "Missing    0.001991\n",
      "Other      0.000105\n",
      "Name: sex, dtype: float64\n",
      "\n",
      "\u001b[1mage_group\u001b[0m\n",
      "20 - 29 Years    0.184599\n",
      "30 - 39 Years    0.163855\n",
      "40 - 49 Years    0.147093\n",
      "50 - 59 Years    0.139969\n",
      "60 - 69 Years    0.108539\n",
      "10 - 19 Years    0.104138\n",
      "70 - 79 Years    0.057517\n",
      "80+ Years        0.046936\n",
      "0 - 9 Years      0.046097\n",
      "Missing          0.001257\n",
      "Name: age_group, dtype: float64\n",
      "\n",
      "\u001b[1mrace_ethnicity_combined\u001b[0m\n",
      "Unknown                                                 0.377580\n",
      "White, Non-Hispanic                                     0.345312\n",
      "Hispanic/Latino                                         0.100995\n",
      "Black, Non-Hispanic                                     0.074070\n",
      "Multiple/Other, Non-Hispanic                            0.055736\n",
      "Asian, Non-Hispanic                                     0.026716\n",
      "Missing                                                 0.009848\n",
      "American Indian/Alaska Native, Non-Hispanic             0.006915\n",
      "Native Hawaiian/Other Pacific Islander, Non-Hispanic    0.002829\n",
      "Name: race_ethnicity_combined, dtype: float64\n",
      "\n",
      "\u001b[1mhosp_yn\u001b[0m\n",
      "No         0.537768\n",
      "Missing    0.219906\n",
      "Unknown    0.172970\n",
      "Yes        0.069251\n",
      "OTH        0.000105\n",
      "Name: hosp_yn, dtype: float64\n",
      "\n",
      "\u001b[1micu_yn\u001b[0m\n",
      "Missing    0.753693\n",
      "Unknown    0.136511\n",
      "No         0.101100\n",
      "Yes        0.008696\n",
      "Name: icu_yn, dtype: float64\n",
      "\n",
      "\u001b[1mdeath_yn\u001b[0m\n",
      "No     0.965008\n",
      "Yes    0.034992\n",
      "Name: death_yn, dtype: float64\n",
      "\n",
      "\u001b[1mmedcond_yn\u001b[0m\n",
      "Missing    0.734940\n",
      "No         0.091776\n",
      "Yes        0.089366\n",
      "Unknown    0.083918\n",
      "Name: medcond_yn, dtype: float64\n"
     ]
    }
   ],
   "source": [
    "for column in category_columns:\n",
    "    print(\"\\n\" + '\\033[1m' + column + '\\033[0m')\n",
    "    print(df[column].value_counts(normalize=True))"
   ]
  },
  {
   "cell_type": "code",
   "execution_count": 44,
   "id": "hired-steam",
   "metadata": {},
   "outputs": [
    {
     "data": {
      "text/html": [
       "<div>\n",
       "<style scoped>\n",
       "    .dataframe tbody tr th:only-of-type {\n",
       "        vertical-align: middle;\n",
       "    }\n",
       "\n",
       "    .dataframe tbody tr th {\n",
       "        vertical-align: top;\n",
       "    }\n",
       "\n",
       "    .dataframe thead th {\n",
       "        text-align: right;\n",
       "    }\n",
       "</style>\n",
       "<table border=\"1\" class=\"dataframe\">\n",
       "  <thead>\n",
       "    <tr style=\"text-align: right;\">\n",
       "      <th></th>\n",
       "      <th>mode</th>\n",
       "      <th>freq_mode</th>\n",
       "      <th>%mode</th>\n",
       "      <th>2ndmode</th>\n",
       "      <th>freq_2ndmode</th>\n",
       "      <th>%2ndmode</th>\n",
       "    </tr>\n",
       "  </thead>\n",
       "  <tbody>\n",
       "    <tr>\n",
       "      <th>current_status</th>\n",
       "      <td>NaN</td>\n",
       "      <td>NaN</td>\n",
       "      <td>NaN</td>\n",
       "      <td>NaN</td>\n",
       "      <td>NaN</td>\n",
       "      <td>NaN</td>\n",
       "    </tr>\n",
       "    <tr>\n",
       "      <th>sex</th>\n",
       "      <td>NaN</td>\n",
       "      <td>NaN</td>\n",
       "      <td>NaN</td>\n",
       "      <td>NaN</td>\n",
       "      <td>NaN</td>\n",
       "      <td>NaN</td>\n",
       "    </tr>\n",
       "    <tr>\n",
       "      <th>age_group</th>\n",
       "      <td>NaN</td>\n",
       "      <td>NaN</td>\n",
       "      <td>NaN</td>\n",
       "      <td>NaN</td>\n",
       "      <td>NaN</td>\n",
       "      <td>NaN</td>\n",
       "    </tr>\n",
       "    <tr>\n",
       "      <th>race_ethnicity_combined</th>\n",
       "      <td>NaN</td>\n",
       "      <td>NaN</td>\n",
       "      <td>NaN</td>\n",
       "      <td>NaN</td>\n",
       "      <td>NaN</td>\n",
       "      <td>NaN</td>\n",
       "    </tr>\n",
       "    <tr>\n",
       "      <th>hosp_yn</th>\n",
       "      <td>NaN</td>\n",
       "      <td>NaN</td>\n",
       "      <td>NaN</td>\n",
       "      <td>NaN</td>\n",
       "      <td>NaN</td>\n",
       "      <td>NaN</td>\n",
       "    </tr>\n",
       "    <tr>\n",
       "      <th>icu_yn</th>\n",
       "      <td>NaN</td>\n",
       "      <td>NaN</td>\n",
       "      <td>NaN</td>\n",
       "      <td>NaN</td>\n",
       "      <td>NaN</td>\n",
       "      <td>NaN</td>\n",
       "    </tr>\n",
       "    <tr>\n",
       "      <th>death_yn</th>\n",
       "      <td>NaN</td>\n",
       "      <td>NaN</td>\n",
       "      <td>NaN</td>\n",
       "      <td>NaN</td>\n",
       "      <td>NaN</td>\n",
       "      <td>NaN</td>\n",
       "    </tr>\n",
       "    <tr>\n",
       "      <th>medcond_yn</th>\n",
       "      <td>NaN</td>\n",
       "      <td>NaN</td>\n",
       "      <td>NaN</td>\n",
       "      <td>NaN</td>\n",
       "      <td>NaN</td>\n",
       "      <td>NaN</td>\n",
       "    </tr>\n",
       "  </tbody>\n",
       "</table>\n",
       "</div>"
      ],
      "text/plain": [
       "                        mode freq_mode %mode 2ndmode freq_2ndmode %2ndmode\n",
       "current_status           NaN       NaN   NaN     NaN          NaN      NaN\n",
       "sex                      NaN       NaN   NaN     NaN          NaN      NaN\n",
       "age_group                NaN       NaN   NaN     NaN          NaN      NaN\n",
       "race_ethnicity_combined  NaN       NaN   NaN     NaN          NaN      NaN\n",
       "hosp_yn                  NaN       NaN   NaN     NaN          NaN      NaN\n",
       "icu_yn                   NaN       NaN   NaN     NaN          NaN      NaN\n",
       "death_yn                 NaN       NaN   NaN     NaN          NaN      NaN\n",
       "medcond_yn               NaN       NaN   NaN     NaN          NaN      NaN"
      ]
     },
     "execution_count": 44,
     "metadata": {},
     "output_type": "execute_result"
    }
   ],
   "source": [
    "df_catg_mode = pd.DataFrame(index = df_catg.index, columns=['mode', 'freq_mode','%mode', '2ndmode', 'freq_2ndmode','%2ndmode'])\n",
    "df_catg_mode"
   ]
  },
  {
   "cell_type": "code",
   "execution_count": 45,
   "id": "beginning-belize",
   "metadata": {},
   "outputs": [
    {
     "name": "stdout",
     "output_type": "stream",
     "text": [
      "\n",
      "\u001b[1mcurrent_status\u001b[0m\n",
      "Laboratory-confirmed case    8912\n",
      "Probable Case                 633\n",
      "Name: current_status, dtype: int64\n",
      "CategoricalIndex(['Laboratory-confirmed case', 'Probable Case'], categories=['Laboratory-confirmed case', 'Probable Case'], ordered=False, dtype='category')\n",
      "\n",
      "\u001b[1msex\u001b[0m\n",
      "Female     4974\n",
      "Male       4477\n",
      "Unknown      74\n",
      "Missing      19\n",
      "Other         1\n",
      "Name: sex, dtype: int64\n",
      "CategoricalIndex(['Female', 'Male', 'Unknown', 'Missing', 'Other'], categories=['Female', 'Male', 'Missing', 'Other', 'Unknown'], ordered=False, dtype='category')\n",
      "\n",
      "\u001b[1mage_group\u001b[0m\n",
      "20 - 29 Years    1762\n",
      "30 - 39 Years    1564\n",
      "40 - 49 Years    1404\n",
      "50 - 59 Years    1336\n",
      "60 - 69 Years    1036\n",
      "10 - 19 Years     994\n",
      "70 - 79 Years     549\n",
      "80+ Years         448\n",
      "0 - 9 Years       440\n",
      "Missing            12\n",
      "Name: age_group, dtype: int64\n",
      "CategoricalIndex(['20 - 29 Years', '30 - 39 Years', '40 - 49 Years',\n",
      "                  '50 - 59 Years', '60 - 69 Years', '10 - 19 Years',\n",
      "                  '70 - 79 Years', '80+ Years', '0 - 9 Years', 'Missing'],\n",
      "                 categories=['0 - 9 Years', '10 - 19 Years', '20 - 29 Years', '30 - 39 Years', '40 - 49 Years', '50 - 59 Years', '60 - 69 Years', '70 - 79 Years', ...], ordered=False, dtype='category')\n",
      "\n",
      "\u001b[1mrace_ethnicity_combined\u001b[0m\n",
      "Unknown                                                 3604\n",
      "White, Non-Hispanic                                     3296\n",
      "Hispanic/Latino                                          964\n",
      "Black, Non-Hispanic                                      707\n",
      "Multiple/Other, Non-Hispanic                             532\n",
      "Asian, Non-Hispanic                                      255\n",
      "Missing                                                   94\n",
      "American Indian/Alaska Native, Non-Hispanic               66\n",
      "Native Hawaiian/Other Pacific Islander, Non-Hispanic      27\n",
      "Name: race_ethnicity_combined, dtype: int64\n",
      "CategoricalIndex(['Unknown', 'White, Non-Hispanic', 'Hispanic/Latino',\n",
      "                  'Black, Non-Hispanic', 'Multiple/Other, Non-Hispanic',\n",
      "                  'Asian, Non-Hispanic', 'Missing',\n",
      "                  'American Indian/Alaska Native, Non-Hispanic',\n",
      "                  'Native Hawaiian/Other Pacific Islander, Non-Hispanic'],\n",
      "                 categories=['American Indian/Alaska Native, Non-Hispanic', 'Asian, Non-Hispanic', 'Black, Non-Hispanic', 'Hispanic/Latino', 'Missing', 'Multiple/Other, Non-Hispanic', 'Native Hawaiian/Other Pacific Islander, Non-Hispanic', 'Unknown', ...], ordered=False, dtype='category')\n",
      "\n",
      "\u001b[1mhosp_yn\u001b[0m\n",
      "No         5133\n",
      "Missing    2099\n",
      "Unknown    1651\n",
      "Yes         661\n",
      "OTH           1\n",
      "Name: hosp_yn, dtype: int64\n",
      "CategoricalIndex(['No', 'Missing', 'Unknown', 'Yes', 'OTH'], categories=['Missing', 'No', 'OTH', 'Unknown', 'Yes'], ordered=False, dtype='category')\n",
      "\n",
      "\u001b[1micu_yn\u001b[0m\n",
      "Missing    7194\n",
      "Unknown    1303\n",
      "No          965\n",
      "Yes          83\n",
      "Name: icu_yn, dtype: int64\n",
      "CategoricalIndex(['Missing', 'Unknown', 'No', 'Yes'], categories=['Missing', 'No', 'Unknown', 'Yes'], ordered=False, dtype='category')\n",
      "\n",
      "\u001b[1mdeath_yn\u001b[0m\n",
      "No     9211\n",
      "Yes     334\n",
      "Name: death_yn, dtype: int64\n",
      "CategoricalIndex(['No', 'Yes'], categories=['No', 'Yes'], ordered=False, dtype='category')\n",
      "\n",
      "\u001b[1mmedcond_yn\u001b[0m\n",
      "Missing    7015\n",
      "No          876\n",
      "Yes         853\n",
      "Unknown     801\n",
      "Name: medcond_yn, dtype: int64\n",
      "CategoricalIndex(['Missing', 'No', 'Yes', 'Unknown'], categories=['Missing', 'No', 'Unknown', 'Yes'], ordered=False, dtype='category')\n"
     ]
    }
   ],
   "source": [
    "# calculate the mode, freq of mode, %mode, 2nd mode, freq of 2nd mode, % of 2nd mode for all category data\n",
    "\n",
    "for column in category_columns:\n",
    "    print(\"\\n\" + '\\033[1m' + column + '\\033[0m')\n",
    "    print(df[column].value_counts())\n",
    "    print(df[column].value_counts().keys())\n",
    "    \n",
    "    df_catg_mode.loc[column]['mode'] = df[column].value_counts().keys()[0]\n",
    "    df_catg_mode.loc[column]['freq_mode'] = df[column].value_counts()[df_catg_mode.loc[column]['mode']]\n",
    "    df_catg_mode.loc[column]['%mode'] = df[column].value_counts(normalize=True)[df_catg_mode.loc[column]['mode']]\n",
    " \n",
    "\n",
    "    if df[column].value_counts().size > 1:\n",
    "        df_catg_mode.loc[column]['2ndmode'] = df[column].value_counts().keys()[1]\n",
    "        df_catg_mode.loc[column]['freq_2ndmode'] = df[column].value_counts()[df_catg_mode.loc[column]['2ndmode']]\n",
    "        df_catg_mode.loc[column]['%2ndmode'] = df[column].value_counts(normalize=True)[df_catg_mode.loc[column]['2ndmode']]\n",
    "    else: df_catg_mode.loc[column] = '-'"
   ]
  },
  {
   "cell_type": "code",
   "execution_count": 46,
   "id": "published-conference",
   "metadata": {},
   "outputs": [
    {
     "data": {
      "text/html": [
       "<div>\n",
       "<style scoped>\n",
       "    .dataframe tbody tr th:only-of-type {\n",
       "        vertical-align: middle;\n",
       "    }\n",
       "\n",
       "    .dataframe tbody tr th {\n",
       "        vertical-align: top;\n",
       "    }\n",
       "\n",
       "    .dataframe thead th {\n",
       "        text-align: right;\n",
       "    }\n",
       "</style>\n",
       "<table border=\"1\" class=\"dataframe\">\n",
       "  <thead>\n",
       "    <tr style=\"text-align: right;\">\n",
       "      <th></th>\n",
       "      <th>mode</th>\n",
       "      <th>freq_mode</th>\n",
       "      <th>%mode</th>\n",
       "      <th>2ndmode</th>\n",
       "      <th>freq_2ndmode</th>\n",
       "      <th>%2ndmode</th>\n",
       "    </tr>\n",
       "  </thead>\n",
       "  <tbody>\n",
       "    <tr>\n",
       "      <th>current_status</th>\n",
       "      <td>Laboratory-confirmed case</td>\n",
       "      <td>8912</td>\n",
       "      <td>0.933683</td>\n",
       "      <td>Probable Case</td>\n",
       "      <td>633</td>\n",
       "      <td>0.0663174</td>\n",
       "    </tr>\n",
       "    <tr>\n",
       "      <th>sex</th>\n",
       "      <td>Female</td>\n",
       "      <td>4974</td>\n",
       "      <td>0.521111</td>\n",
       "      <td>Male</td>\n",
       "      <td>4477</td>\n",
       "      <td>0.469041</td>\n",
       "    </tr>\n",
       "    <tr>\n",
       "      <th>age_group</th>\n",
       "      <td>20 - 29 Years</td>\n",
       "      <td>1762</td>\n",
       "      <td>0.184599</td>\n",
       "      <td>30 - 39 Years</td>\n",
       "      <td>1564</td>\n",
       "      <td>0.163855</td>\n",
       "    </tr>\n",
       "    <tr>\n",
       "      <th>race_ethnicity_combined</th>\n",
       "      <td>Unknown</td>\n",
       "      <td>3604</td>\n",
       "      <td>0.37758</td>\n",
       "      <td>White, Non-Hispanic</td>\n",
       "      <td>3296</td>\n",
       "      <td>0.345312</td>\n",
       "    </tr>\n",
       "    <tr>\n",
       "      <th>hosp_yn</th>\n",
       "      <td>No</td>\n",
       "      <td>5133</td>\n",
       "      <td>0.537768</td>\n",
       "      <td>Missing</td>\n",
       "      <td>2099</td>\n",
       "      <td>0.219906</td>\n",
       "    </tr>\n",
       "    <tr>\n",
       "      <th>icu_yn</th>\n",
       "      <td>Missing</td>\n",
       "      <td>7194</td>\n",
       "      <td>0.753693</td>\n",
       "      <td>Unknown</td>\n",
       "      <td>1303</td>\n",
       "      <td>0.136511</td>\n",
       "    </tr>\n",
       "    <tr>\n",
       "      <th>death_yn</th>\n",
       "      <td>No</td>\n",
       "      <td>9211</td>\n",
       "      <td>0.965008</td>\n",
       "      <td>Yes</td>\n",
       "      <td>334</td>\n",
       "      <td>0.0349921</td>\n",
       "    </tr>\n",
       "    <tr>\n",
       "      <th>medcond_yn</th>\n",
       "      <td>Missing</td>\n",
       "      <td>7015</td>\n",
       "      <td>0.73494</td>\n",
       "      <td>No</td>\n",
       "      <td>876</td>\n",
       "      <td>0.0917758</td>\n",
       "    </tr>\n",
       "  </tbody>\n",
       "</table>\n",
       "</div>"
      ],
      "text/plain": [
       "                                              mode freq_mode     %mode  \\\n",
       "current_status           Laboratory-confirmed case      8912  0.933683   \n",
       "sex                                         Female      4974  0.521111   \n",
       "age_group                            20 - 29 Years      1762  0.184599   \n",
       "race_ethnicity_combined                    Unknown      3604   0.37758   \n",
       "hosp_yn                                         No      5133  0.537768   \n",
       "icu_yn                                     Missing      7194  0.753693   \n",
       "death_yn                                        No      9211  0.965008   \n",
       "medcond_yn                                 Missing      7015   0.73494   \n",
       "\n",
       "                                     2ndmode freq_2ndmode   %2ndmode  \n",
       "current_status                 Probable Case          633  0.0663174  \n",
       "sex                                     Male         4477   0.469041  \n",
       "age_group                      30 - 39 Years         1564   0.163855  \n",
       "race_ethnicity_combined  White, Non-Hispanic         3296   0.345312  \n",
       "hosp_yn                              Missing         2099   0.219906  \n",
       "icu_yn                               Unknown         1303   0.136511  \n",
       "death_yn                                 Yes          334  0.0349921  \n",
       "medcond_yn                                No          876  0.0917758  "
      ]
     },
     "execution_count": 46,
     "metadata": {},
     "output_type": "execute_result"
    }
   ],
   "source": [
    "# print the final dataframe of categorical data\n",
    "df_catg_mode"
   ]
  },
  {
   "cell_type": "code",
   "execution_count": 47,
   "id": "north-excitement",
   "metadata": {},
   "outputs": [
    {
     "data": {
      "text/html": [
       "<div>\n",
       "<style scoped>\n",
       "    .dataframe tbody tr th:only-of-type {\n",
       "        vertical-align: middle;\n",
       "    }\n",
       "\n",
       "    .dataframe tbody tr th {\n",
       "        vertical-align: top;\n",
       "    }\n",
       "\n",
       "    .dataframe thead th {\n",
       "        text-align: right;\n",
       "    }\n",
       "</style>\n",
       "<table border=\"1\" class=\"dataframe\">\n",
       "  <thead>\n",
       "    <tr style=\"text-align: right;\">\n",
       "      <th></th>\n",
       "      <th>%missing</th>\n",
       "    </tr>\n",
       "  </thead>\n",
       "  <tbody>\n",
       "    <tr>\n",
       "      <th>current_status</th>\n",
       "      <td>0.0</td>\n",
       "    </tr>\n",
       "    <tr>\n",
       "      <th>sex</th>\n",
       "      <td>0.0</td>\n",
       "    </tr>\n",
       "    <tr>\n",
       "      <th>age_group</th>\n",
       "      <td>0.0</td>\n",
       "    </tr>\n",
       "    <tr>\n",
       "      <th>race_ethnicity_combined</th>\n",
       "      <td>0.0</td>\n",
       "    </tr>\n",
       "    <tr>\n",
       "      <th>hosp_yn</th>\n",
       "      <td>0.0</td>\n",
       "    </tr>\n",
       "    <tr>\n",
       "      <th>icu_yn</th>\n",
       "      <td>0.0</td>\n",
       "    </tr>\n",
       "    <tr>\n",
       "      <th>death_yn</th>\n",
       "      <td>0.0</td>\n",
       "    </tr>\n",
       "    <tr>\n",
       "      <th>medcond_yn</th>\n",
       "      <td>0.0</td>\n",
       "    </tr>\n",
       "  </tbody>\n",
       "</table>\n",
       "</div>"
      ],
      "text/plain": [
       "                         %missing\n",
       "current_status                0.0\n",
       "sex                           0.0\n",
       "age_group                     0.0\n",
       "race_ethnicity_combined       0.0\n",
       "hosp_yn                       0.0\n",
       "icu_yn                        0.0\n",
       "death_yn                      0.0\n",
       "medcond_yn                    0.0"
      ]
     },
     "execution_count": 47,
     "metadata": {},
     "output_type": "execute_result"
    }
   ],
   "source": [
    "#calculate the percentage of missing values in the categorical data and store it a dataframe\n",
    "catg_perc_missing  = 100 * (df[category_columns].isnull().sum()/df.shape[0])\n",
    "\n",
    "catg_perc_missing = pd.DataFrame(catg_perc_missing, columns=['%missing'])\n",
    "catg_perc_missing"
   ]
  },
  {
   "cell_type": "code",
   "execution_count": 48,
   "id": "fatty-virginia",
   "metadata": {},
   "outputs": [
    {
     "data": {
      "text/html": [
       "<div>\n",
       "<style scoped>\n",
       "    .dataframe tbody tr th:only-of-type {\n",
       "        vertical-align: middle;\n",
       "    }\n",
       "\n",
       "    .dataframe tbody tr th {\n",
       "        vertical-align: top;\n",
       "    }\n",
       "\n",
       "    .dataframe thead th {\n",
       "        text-align: right;\n",
       "    }\n",
       "</style>\n",
       "<table border=\"1\" class=\"dataframe\">\n",
       "  <thead>\n",
       "    <tr style=\"text-align: right;\">\n",
       "      <th></th>\n",
       "      <th>card</th>\n",
       "    </tr>\n",
       "  </thead>\n",
       "  <tbody>\n",
       "    <tr>\n",
       "      <th>current_status</th>\n",
       "      <td>2</td>\n",
       "    </tr>\n",
       "    <tr>\n",
       "      <th>sex</th>\n",
       "      <td>5</td>\n",
       "    </tr>\n",
       "    <tr>\n",
       "      <th>age_group</th>\n",
       "      <td>10</td>\n",
       "    </tr>\n",
       "    <tr>\n",
       "      <th>race_ethnicity_combined</th>\n",
       "      <td>9</td>\n",
       "    </tr>\n",
       "    <tr>\n",
       "      <th>hosp_yn</th>\n",
       "      <td>5</td>\n",
       "    </tr>\n",
       "    <tr>\n",
       "      <th>icu_yn</th>\n",
       "      <td>4</td>\n",
       "    </tr>\n",
       "    <tr>\n",
       "      <th>death_yn</th>\n",
       "      <td>2</td>\n",
       "    </tr>\n",
       "    <tr>\n",
       "      <th>medcond_yn</th>\n",
       "      <td>4</td>\n",
       "    </tr>\n",
       "  </tbody>\n",
       "</table>\n",
       "</div>"
      ],
      "text/plain": [
       "                         card\n",
       "current_status              2\n",
       "sex                         5\n",
       "age_group                  10\n",
       "race_ethnicity_combined     9\n",
       "hosp_yn                     5\n",
       "icu_yn                      4\n",
       "death_yn                    2\n",
       "medcond_yn                  4"
      ]
     },
     "execution_count": 48,
     "metadata": {},
     "output_type": "execute_result"
    }
   ],
   "source": [
    "# check the cardinality and store it in a dataframe for all categorical data\n",
    "category_columns_card = df[category_columns].nunique()\n",
    "# store the values in a dataframe\n",
    "df_category_card = pd.DataFrame(category_columns_card, columns=['card'])\n",
    "df_category_card"
   ]
  },
  {
   "cell_type": "markdown",
   "id": "saving-potato",
   "metadata": {},
   "source": [
    "### - Prepare a table with descriptive statistics for all the categorical features.\n"
   ]
  },
  {
   "cell_type": "code",
   "execution_count": 49,
   "id": "bound-longitude",
   "metadata": {},
   "outputs": [
    {
     "data": {
      "text/html": [
       "<div>\n",
       "<style scoped>\n",
       "    .dataframe tbody tr th:only-of-type {\n",
       "        vertical-align: middle;\n",
       "    }\n",
       "\n",
       "    .dataframe tbody tr th {\n",
       "        vertical-align: top;\n",
       "    }\n",
       "\n",
       "    .dataframe thead th {\n",
       "        text-align: right;\n",
       "    }\n",
       "</style>\n",
       "<table border=\"1\" class=\"dataframe\">\n",
       "  <thead>\n",
       "    <tr style=\"text-align: right;\">\n",
       "      <th></th>\n",
       "      <th>count</th>\n",
       "      <th>unique</th>\n",
       "      <th>top</th>\n",
       "      <th>freq</th>\n",
       "      <th>mode</th>\n",
       "      <th>freq_mode</th>\n",
       "      <th>%mode</th>\n",
       "      <th>2ndmode</th>\n",
       "      <th>freq_2ndmode</th>\n",
       "      <th>%2ndmode</th>\n",
       "      <th>%missing</th>\n",
       "    </tr>\n",
       "  </thead>\n",
       "  <tbody>\n",
       "    <tr>\n",
       "      <th>current_status</th>\n",
       "      <td>9545</td>\n",
       "      <td>2</td>\n",
       "      <td>Laboratory-confirmed case</td>\n",
       "      <td>8912</td>\n",
       "      <td>Laboratory-confirmed case</td>\n",
       "      <td>8912</td>\n",
       "      <td>0.933683</td>\n",
       "      <td>Probable Case</td>\n",
       "      <td>633</td>\n",
       "      <td>0.0663174</td>\n",
       "      <td>0.0</td>\n",
       "    </tr>\n",
       "    <tr>\n",
       "      <th>sex</th>\n",
       "      <td>9545</td>\n",
       "      <td>5</td>\n",
       "      <td>Female</td>\n",
       "      <td>4974</td>\n",
       "      <td>Female</td>\n",
       "      <td>4974</td>\n",
       "      <td>0.521111</td>\n",
       "      <td>Male</td>\n",
       "      <td>4477</td>\n",
       "      <td>0.469041</td>\n",
       "      <td>0.0</td>\n",
       "    </tr>\n",
       "    <tr>\n",
       "      <th>age_group</th>\n",
       "      <td>9545</td>\n",
       "      <td>10</td>\n",
       "      <td>20 - 29 Years</td>\n",
       "      <td>1762</td>\n",
       "      <td>20 - 29 Years</td>\n",
       "      <td>1762</td>\n",
       "      <td>0.184599</td>\n",
       "      <td>30 - 39 Years</td>\n",
       "      <td>1564</td>\n",
       "      <td>0.163855</td>\n",
       "      <td>0.0</td>\n",
       "    </tr>\n",
       "    <tr>\n",
       "      <th>race_ethnicity_combined</th>\n",
       "      <td>9545</td>\n",
       "      <td>9</td>\n",
       "      <td>Unknown</td>\n",
       "      <td>3604</td>\n",
       "      <td>Unknown</td>\n",
       "      <td>3604</td>\n",
       "      <td>0.37758</td>\n",
       "      <td>White, Non-Hispanic</td>\n",
       "      <td>3296</td>\n",
       "      <td>0.345312</td>\n",
       "      <td>0.0</td>\n",
       "    </tr>\n",
       "    <tr>\n",
       "      <th>hosp_yn</th>\n",
       "      <td>9545</td>\n",
       "      <td>5</td>\n",
       "      <td>No</td>\n",
       "      <td>5133</td>\n",
       "      <td>No</td>\n",
       "      <td>5133</td>\n",
       "      <td>0.537768</td>\n",
       "      <td>Missing</td>\n",
       "      <td>2099</td>\n",
       "      <td>0.219906</td>\n",
       "      <td>0.0</td>\n",
       "    </tr>\n",
       "    <tr>\n",
       "      <th>icu_yn</th>\n",
       "      <td>9545</td>\n",
       "      <td>4</td>\n",
       "      <td>Missing</td>\n",
       "      <td>7194</td>\n",
       "      <td>Missing</td>\n",
       "      <td>7194</td>\n",
       "      <td>0.753693</td>\n",
       "      <td>Unknown</td>\n",
       "      <td>1303</td>\n",
       "      <td>0.136511</td>\n",
       "      <td>0.0</td>\n",
       "    </tr>\n",
       "    <tr>\n",
       "      <th>death_yn</th>\n",
       "      <td>9545</td>\n",
       "      <td>2</td>\n",
       "      <td>No</td>\n",
       "      <td>9211</td>\n",
       "      <td>No</td>\n",
       "      <td>9211</td>\n",
       "      <td>0.965008</td>\n",
       "      <td>Yes</td>\n",
       "      <td>334</td>\n",
       "      <td>0.0349921</td>\n",
       "      <td>0.0</td>\n",
       "    </tr>\n",
       "    <tr>\n",
       "      <th>medcond_yn</th>\n",
       "      <td>9545</td>\n",
       "      <td>4</td>\n",
       "      <td>Missing</td>\n",
       "      <td>7015</td>\n",
       "      <td>Missing</td>\n",
       "      <td>7015</td>\n",
       "      <td>0.73494</td>\n",
       "      <td>No</td>\n",
       "      <td>876</td>\n",
       "      <td>0.0917758</td>\n",
       "      <td>0.0</td>\n",
       "    </tr>\n",
       "  </tbody>\n",
       "</table>\n",
       "</div>"
      ],
      "text/plain": [
       "                        count unique                        top  freq  \\\n",
       "current_status           9545      2  Laboratory-confirmed case  8912   \n",
       "sex                      9545      5                     Female  4974   \n",
       "age_group                9545     10              20 - 29 Years  1762   \n",
       "race_ethnicity_combined  9545      9                    Unknown  3604   \n",
       "hosp_yn                  9545      5                         No  5133   \n",
       "icu_yn                   9545      4                    Missing  7194   \n",
       "death_yn                 9545      2                         No  9211   \n",
       "medcond_yn               9545      4                    Missing  7015   \n",
       "\n",
       "                                              mode freq_mode     %mode  \\\n",
       "current_status           Laboratory-confirmed case      8912  0.933683   \n",
       "sex                                         Female      4974  0.521111   \n",
       "age_group                            20 - 29 Years      1762  0.184599   \n",
       "race_ethnicity_combined                    Unknown      3604   0.37758   \n",
       "hosp_yn                                         No      5133  0.537768   \n",
       "icu_yn                                     Missing      7194  0.753693   \n",
       "death_yn                                        No      9211  0.965008   \n",
       "medcond_yn                                 Missing      7015   0.73494   \n",
       "\n",
       "                                     2ndmode freq_2ndmode   %2ndmode  %missing  \n",
       "current_status                 Probable Case          633  0.0663174       0.0  \n",
       "sex                                     Male         4477   0.469041       0.0  \n",
       "age_group                      30 - 39 Years         1564   0.163855       0.0  \n",
       "race_ethnicity_combined  White, Non-Hispanic         3296   0.345312       0.0  \n",
       "hosp_yn                              Missing         2099   0.219906       0.0  \n",
       "icu_yn                               Unknown         1303   0.136511       0.0  \n",
       "death_yn                                 Yes          334  0.0349921       0.0  \n",
       "medcond_yn                                No          876  0.0917758       0.0  "
      ]
     },
     "execution_count": 49,
     "metadata": {},
     "output_type": "execute_result"
    }
   ],
   "source": [
    "# combine all the analysis for the category data and print the descriptive statistics of it\n",
    "df_catg_data_quality_report = pd.concat([df_catg, df_catg_mode, catg_perc_missing], axis=1)\n",
    "\n",
    "df_catg_data_quality_report"
   ]
  },
  {
   "cell_type": "markdown",
   "id": "regular-blade",
   "metadata": {},
   "source": [
    "### - Save descriptive statistics for all the categorical features to csv for data quality report"
   ]
  },
  {
   "cell_type": "code",
   "execution_count": 50,
   "id": "therapeutic-calibration",
   "metadata": {},
   "outputs": [],
   "source": [
    "df_catg_data_quality_report.to_csv(\"CDC-Descriptive_statistics-Categorical-Table.csv\", index_label='Feature')"
   ]
  },
  {
   "cell_type": "markdown",
   "id": "alpine-tongue",
   "metadata": {},
   "source": [
    "#### Continous features"
   ]
  },
  {
   "cell_type": "code",
   "execution_count": 51,
   "id": "recent-transportation",
   "metadata": {},
   "outputs": [
    {
     "data": {
      "text/html": [
       "<div>\n",
       "<style scoped>\n",
       "    .dataframe tbody tr th:only-of-type {\n",
       "        vertical-align: middle;\n",
       "    }\n",
       "\n",
       "    .dataframe tbody tr th {\n",
       "        vertical-align: top;\n",
       "    }\n",
       "\n",
       "    .dataframe thead th {\n",
       "        text-align: right;\n",
       "    }\n",
       "</style>\n",
       "<table border=\"1\" class=\"dataframe\">\n",
       "  <thead>\n",
       "    <tr style=\"text-align: right;\">\n",
       "      <th></th>\n",
       "      <th>card</th>\n",
       "    </tr>\n",
       "  </thead>\n",
       "  <tbody>\n",
       "    <tr>\n",
       "      <th>cdc_case_earliest_days</th>\n",
       "      <td>322</td>\n",
       "    </tr>\n",
       "    <tr>\n",
       "      <th>cdc_report_days</th>\n",
       "      <td>323</td>\n",
       "    </tr>\n",
       "    <tr>\n",
       "      <th>pos_spec_days</th>\n",
       "      <td>313</td>\n",
       "    </tr>\n",
       "  </tbody>\n",
       "</table>\n",
       "</div>"
      ],
      "text/plain": [
       "                        card\n",
       "cdc_case_earliest_days   322\n",
       "cdc_report_days          323\n",
       "pos_spec_days            313"
      ]
     },
     "execution_count": 51,
     "metadata": {},
     "output_type": "execute_result"
    }
   ],
   "source": [
    "numeric_columns_card = df[numeric_columns].nunique()\n",
    "# store the values in a dataframe\n",
    "df_numeric_card = pd.DataFrame(numeric_columns_card, columns=['card'])\n",
    "df_numeric_card"
   ]
  },
  {
   "cell_type": "markdown",
   "id": "previous-cabin",
   "metadata": {},
   "source": [
    "### - Prepare a table with descriptive statistics for all the continuous features.\n"
   ]
  },
  {
   "cell_type": "code",
   "execution_count": 52,
   "id": "honey-option",
   "metadata": {},
   "outputs": [
    {
     "data": {
      "text/html": [
       "<div>\n",
       "<style scoped>\n",
       "    .dataframe tbody tr th:only-of-type {\n",
       "        vertical-align: middle;\n",
       "    }\n",
       "\n",
       "    .dataframe tbody tr th {\n",
       "        vertical-align: top;\n",
       "    }\n",
       "\n",
       "    .dataframe thead th {\n",
       "        text-align: right;\n",
       "    }\n",
       "</style>\n",
       "<table border=\"1\" class=\"dataframe\">\n",
       "  <thead>\n",
       "    <tr style=\"text-align: right;\">\n",
       "      <th></th>\n",
       "      <th>count</th>\n",
       "      <th>mean</th>\n",
       "      <th>std</th>\n",
       "      <th>min</th>\n",
       "      <th>25%</th>\n",
       "      <th>50%</th>\n",
       "      <th>75%</th>\n",
       "      <th>max</th>\n",
       "      <th>card</th>\n",
       "    </tr>\n",
       "  </thead>\n",
       "  <tbody>\n",
       "    <tr>\n",
       "      <th>cdc_case_earliest_days</th>\n",
       "      <td>9545.0</td>\n",
       "      <td>273.306862</td>\n",
       "      <td>86.215245</td>\n",
       "      <td>0.0</td>\n",
       "      <td>201.00</td>\n",
       "      <td>306.0</td>\n",
       "      <td>344.0</td>\n",
       "      <td>379.0</td>\n",
       "      <td>322</td>\n",
       "    </tr>\n",
       "    <tr>\n",
       "      <th>cdc_report_days</th>\n",
       "      <td>7591.0</td>\n",
       "      <td>272.670399</td>\n",
       "      <td>81.096151</td>\n",
       "      <td>0.0</td>\n",
       "      <td>210.00</td>\n",
       "      <td>299.0</td>\n",
       "      <td>338.0</td>\n",
       "      <td>377.0</td>\n",
       "      <td>323</td>\n",
       "    </tr>\n",
       "    <tr>\n",
       "      <th>pos_spec_days</th>\n",
       "      <td>2790.0</td>\n",
       "      <td>186.730466</td>\n",
       "      <td>89.296143</td>\n",
       "      <td>0.0</td>\n",
       "      <td>115.25</td>\n",
       "      <td>213.0</td>\n",
       "      <td>263.0</td>\n",
       "      <td>317.0</td>\n",
       "      <td>313</td>\n",
       "    </tr>\n",
       "  </tbody>\n",
       "</table>\n",
       "</div>"
      ],
      "text/plain": [
       "                         count        mean        std  min     25%    50%  \\\n",
       "cdc_case_earliest_days  9545.0  273.306862  86.215245  0.0  201.00  306.0   \n",
       "cdc_report_days         7591.0  272.670399  81.096151  0.0  210.00  299.0   \n",
       "pos_spec_days           2790.0  186.730466  89.296143  0.0  115.25  213.0   \n",
       "\n",
       "                          75%    max  card  \n",
       "cdc_case_earliest_days  344.0  379.0   322  \n",
       "cdc_report_days         338.0  377.0   323  \n",
       "pos_spec_days           263.0  317.0   313  "
      ]
     },
     "execution_count": 52,
     "metadata": {},
     "output_type": "execute_result"
    }
   ],
   "source": [
    "df_numeric_data_quality_report = pd.concat([df_table_numeric, df_numeric_card], axis=1)\n",
    "\n",
    "df_numeric_data_quality_report"
   ]
  },
  {
   "cell_type": "markdown",
   "id": "unlikely-wisconsin",
   "metadata": {},
   "source": [
    "### - Save descriptive statistics for all the continuous features to csv for data quality report\n"
   ]
  },
  {
   "cell_type": "code",
   "execution_count": 53,
   "id": "russian-plymouth",
   "metadata": {},
   "outputs": [],
   "source": [
    "# Print data quality report table for numeric features to a csv file.\n",
    "df_numeric_data_quality_report.to_csv(\"CDC-Descriptive_statistics-NumericFeatures.csv\",index_label='Feature')\n"
   ]
  },
  {
   "cell_type": "markdown",
   "id": "divided-integration",
   "metadata": {},
   "source": [
    "### - Save updated/cleaned data frame to a new csv file."
   ]
  },
  {
   "cell_type": "code",
   "execution_count": 54,
   "id": "needed-norman",
   "metadata": {},
   "outputs": [],
   "source": [
    "# Write the dataframe to a csv file\n",
    "df.to_csv('CDC_V1_cleaned.csv', index=False)"
   ]
  },
  {
   "cell_type": "markdown",
   "id": "shared-found",
   "metadata": {},
   "source": [
    "## Data Quality report - visualisations"
   ]
  },
  {
   "cell_type": "markdown",
   "id": "smaller-patent",
   "metadata": {},
   "source": [
    "### - Plot histograms summary sheet for all the continuous features."
   ]
  },
  {
   "cell_type": "code",
   "execution_count": 55,
   "id": "impressed-occasions",
   "metadata": {},
   "outputs": [
    {
     "data": {
      "image/png": "[encoded data removed]",
      "text/plain": [
       "<Figure size 360x360 with 1 Axes>"
      ]
     },
     "metadata": {
      "needs_background": "light"
     },
     "output_type": "display_data"
    },
    {
     "data": {
      "image/png": "[encoded data removed]",
      "text/plain": [
       "<Figure size 360x360 with 1 Axes>"
      ]
     },
     "metadata": {
      "needs_background": "light"
     },
     "output_type": "display_data"
    },
    {
     "data": {
      "image/png": "[encoded data removed]",
      "text/plain": [
       "<Figure size 360x360 with 1 Axes>"
      ]
     },
     "metadata": {
      "needs_background": "light"
     },
     "output_type": "display_data"
    }
   ],
   "source": [
    "# plot histogram for all continous features\n",
    "# plt.figure()\n",
    "# df[numeric_columns].hist(figsize=(20, 20), xrot = 45, range=[0, 400])\n",
    "\n",
    "for col in numeric_columns:\n",
    "        f = df[col].plot(kind='hist', figsize=(5,5))\n",
    "        plt.title(col)\n",
    "        plt.ylabel('Frequency')\n",
    "        plt.xlabel('No of days')\n",
    "        plt.grid()\n",
    "        plt.show()"
   ]
  },
  {
   "cell_type": "code",
   "execution_count": 56,
   "id": "serial-cooler",
   "metadata": {},
   "outputs": [
    {
     "data": {
      "image/png": "[encoded data removed]",
      "text/plain": [
       "<Figure size 1440x1440 with 9 Axes>"
      ]
     },
     "metadata": {
      "needs_background": "light"
     },
     "output_type": "display_data"
    }
   ],
   "source": [
    "# Plot a histogram summary sheet of all the continuous features and save in a png file\n",
    "df[numeric_columns].plot(kind='hist', subplots=True, figsize=(20,20), layout=(3,3), sharex=False, sharey=False, grid=True)\n",
    "plt.savefig('Continuous_histograms.pdf')"
   ]
  },
  {
   "cell_type": "markdown",
   "id": "aerial-terrorism",
   "metadata": {},
   "source": [
    "### - Plot box plots summary sheet for all the continuous features."
   ]
  },
  {
   "cell_type": "code",
   "execution_count": 57,
   "id": "reliable-style",
   "metadata": {},
   "outputs": [
    {
     "data": {
      "image/png": "[encoded data removed]",
      "text/plain": [
       "<Figure size 1440x1440 with 9 Axes>"
      ]
     },
     "metadata": {
      "needs_background": "light"
     },
     "output_type": "display_data"
    }
   ],
   "source": [
    "df[numeric_columns].plot(kind='box', subplots=True, figsize=(20,20), layout=(3,3), sharex=False, sharey=False)\n",
    "plt.savefig('Continous_boxplots.pdf')"
   ]
  },
  {
   "cell_type": "code",
   "execution_count": 58,
   "id": "helpful-restriction",
   "metadata": {},
   "outputs": [
    {
     "data": {
      "text/plain": [
       "(array([1, 2, 3]), <a list of 3 Text major ticklabel objects>)"
      ]
     },
     "execution_count": 58,
     "metadata": {},
     "output_type": "execute_result"
    },
    {
     "data": {
      "image/png": "[encoded data removed]",
      "text/plain": [
       "<Figure size 720x720 with 1 Axes>"
      ]
     },
     "metadata": {
      "needs_background": "light"
     },
     "output_type": "display_data"
    }
   ],
   "source": [
    "# the combined barplot for all continous features\n",
    "df[numeric_columns].plot(kind='box',figsize=(10,10))\n",
    "plt.xticks(rotation=45, ha='right')"
   ]
  },
  {
   "cell_type": "markdown",
   "id": "measured-issue",
   "metadata": {},
   "source": [
    "### Check logical integrity of data \n",
    "A number of additional checks will be performed to see if the data makes sense. Depending on the amount of data affected we may decide to drop those rows or replace the values upon consultation with a domain expert."
   ]
  },
  {
   "cell_type": "markdown",
   "id": "important-mistake",
   "metadata": {},
   "source": [
    " - Test 1 Check if any entries have number of cdc_report_dt greater than cdc_case_earliest_dt (impossible)"
   ]
  },
  {
   "cell_type": "code",
   "execution_count": 59,
   "id": "amino-civilian",
   "metadata": {},
   "outputs": [
    {
     "name": "stdout",
     "output_type": "stream",
     "text": [
      "Number of rows failing the test:  4721\n"
     ]
    },
    {
     "data": {
      "text/html": [
       "<div>\n",
       "<style scoped>\n",
       "    .dataframe tbody tr th:only-of-type {\n",
       "        vertical-align: middle;\n",
       "    }\n",
       "\n",
       "    .dataframe tbody tr th {\n",
       "        vertical-align: top;\n",
       "    }\n",
       "\n",
       "    .dataframe thead th {\n",
       "        text-align: right;\n",
       "    }\n",
       "</style>\n",
       "<table border=\"1\" class=\"dataframe\">\n",
       "  <thead>\n",
       "    <tr style=\"text-align: right;\">\n",
       "      <th></th>\n",
       "      <th>cdc_report_dt</th>\n",
       "      <th>cdc_case_earliest_dt</th>\n",
       "    </tr>\n",
       "  </thead>\n",
       "  <tbody>\n",
       "    <tr>\n",
       "      <th>0</th>\n",
       "      <td>2020-11-05</td>\n",
       "      <td>2020-11-02</td>\n",
       "    </tr>\n",
       "    <tr>\n",
       "      <th>3</th>\n",
       "      <td>2020-05-13</td>\n",
       "      <td>2020-04-30</td>\n",
       "    </tr>\n",
       "    <tr>\n",
       "      <th>4</th>\n",
       "      <td>2020-04-26</td>\n",
       "      <td>2020-04-16</td>\n",
       "    </tr>\n",
       "    <tr>\n",
       "      <th>8</th>\n",
       "      <td>2020-11-19</td>\n",
       "      <td>2020-11-13</td>\n",
       "    </tr>\n",
       "    <tr>\n",
       "      <th>9</th>\n",
       "      <td>2020-11-12</td>\n",
       "      <td>2020-11-03</td>\n",
       "    </tr>\n",
       "  </tbody>\n",
       "</table>\n",
       "</div>"
      ],
      "text/plain": [
       "  cdc_report_dt cdc_case_earliest_dt\n",
       "0    2020-11-05           2020-11-02\n",
       "3    2020-05-13           2020-04-30\n",
       "4    2020-04-26           2020-04-16\n",
       "8    2020-11-19           2020-11-13\n",
       "9    2020-11-12           2020-11-03"
      ]
     },
     "execution_count": 59,
     "metadata": {},
     "output_type": "execute_result"
    }
   ],
   "source": [
    "test_1 = df_test[['cdc_report_dt','cdc_case_earliest_dt']][df_test['cdc_report_dt']>df_test['cdc_case_earliest_dt']]\n",
    "print(\"Number of rows failing the test: \", test_1.shape[0])\n",
    "test_1.head(5)"
   ]
  },
  {
   "cell_type": "markdown",
   "id": "prescribed-signature",
   "metadata": {},
   "source": [
    "- Test 2 Check if year other than 2020 and 2021 are present in the column (impossible)"
   ]
  },
  {
   "cell_type": "code",
   "execution_count": 60,
   "id": "lovely-copyright",
   "metadata": {},
   "outputs": [
    {
     "name": "stdout",
     "output_type": "stream",
     "text": [
      "Number of unique year values:  [2020 2021]\n"
     ]
    }
   ],
   "source": [
    "# Should'n be more than two year's values present that is 2020 and 2021.\n",
    "test_2 = print(\"Number of unique year values: \", df_test['cdc_case_earliest_dt'].dt.year.unique())"
   ]
  },
  {
   "cell_type": "markdown",
   "id": "naked-intermediate",
   "metadata": {},
   "source": [
    "- Test 3 Check if Non-Hospitalized person is recorded in ICU ward (impossible)"
   ]
  },
  {
   "cell_type": "code",
   "execution_count": 61,
   "id": "designing-terrain",
   "metadata": {},
   "outputs": [
    {
     "name": "stdout",
     "output_type": "stream",
     "text": [
      "Number of rows failing the test:  2\n"
     ]
    },
    {
     "data": {
      "text/html": [
       "<div>\n",
       "<style scoped>\n",
       "    .dataframe tbody tr th:only-of-type {\n",
       "        vertical-align: middle;\n",
       "    }\n",
       "\n",
       "    .dataframe tbody tr th {\n",
       "        vertical-align: top;\n",
       "    }\n",
       "\n",
       "    .dataframe thead th {\n",
       "        text-align: right;\n",
       "    }\n",
       "</style>\n",
       "<table border=\"1\" class=\"dataframe\">\n",
       "  <thead>\n",
       "    <tr style=\"text-align: right;\">\n",
       "      <th></th>\n",
       "      <th>hosp_yn</th>\n",
       "      <th>icu_yn</th>\n",
       "    </tr>\n",
       "  </thead>\n",
       "  <tbody>\n",
       "    <tr>\n",
       "      <th>866</th>\n",
       "      <td>No</td>\n",
       "      <td>Yes</td>\n",
       "    </tr>\n",
       "    <tr>\n",
       "      <th>7776</th>\n",
       "      <td>No</td>\n",
       "      <td>Yes</td>\n",
       "    </tr>\n",
       "  </tbody>\n",
       "</table>\n",
       "</div>"
      ],
      "text/plain": [
       "     hosp_yn icu_yn\n",
       "866       No    Yes\n",
       "7776      No    Yes"
      ]
     },
     "execution_count": 61,
     "metadata": {},
     "output_type": "execute_result"
    }
   ],
   "source": [
    "test_3 = df_test[['hosp_yn','icu_yn']][df_test['hosp_yn']=='No'][df_test['icu_yn']=='Yes']\n",
    "print(\"Number of rows failing the test: \", test_3.shape[0])\n",
    "test_3.head(5)"
   ]
  },
  {
   "cell_type": "markdown",
   "id": "advance-graduation",
   "metadata": {},
   "source": [
    "- Test 4 Check if person not in ICU has result as death (impossible)"
   ]
  },
  {
   "cell_type": "code",
   "execution_count": 62,
   "id": "relevant-lemon",
   "metadata": {},
   "outputs": [
    {
     "name": "stdout",
     "output_type": "stream",
     "text": [
      "Number of rows failing the test:  24\n"
     ]
    },
    {
     "data": {
      "text/html": [
       "<div>\n",
       "<style scoped>\n",
       "    .dataframe tbody tr th:only-of-type {\n",
       "        vertical-align: middle;\n",
       "    }\n",
       "\n",
       "    .dataframe tbody tr th {\n",
       "        vertical-align: top;\n",
       "    }\n",
       "\n",
       "    .dataframe thead th {\n",
       "        text-align: right;\n",
       "    }\n",
       "</style>\n",
       "<table border=\"1\" class=\"dataframe\">\n",
       "  <thead>\n",
       "    <tr style=\"text-align: right;\">\n",
       "      <th></th>\n",
       "      <th>death_yn</th>\n",
       "      <th>icu_yn</th>\n",
       "    </tr>\n",
       "  </thead>\n",
       "  <tbody>\n",
       "    <tr>\n",
       "      <th>132</th>\n",
       "      <td>Yes</td>\n",
       "      <td>No</td>\n",
       "    </tr>\n",
       "    <tr>\n",
       "      <th>361</th>\n",
       "      <td>Yes</td>\n",
       "      <td>No</td>\n",
       "    </tr>\n",
       "    <tr>\n",
       "      <th>365</th>\n",
       "      <td>Yes</td>\n",
       "      <td>No</td>\n",
       "    </tr>\n",
       "    <tr>\n",
       "      <th>580</th>\n",
       "      <td>Yes</td>\n",
       "      <td>No</td>\n",
       "    </tr>\n",
       "    <tr>\n",
       "      <th>898</th>\n",
       "      <td>Yes</td>\n",
       "      <td>No</td>\n",
       "    </tr>\n",
       "  </tbody>\n",
       "</table>\n",
       "</div>"
      ],
      "text/plain": [
       "    death_yn icu_yn\n",
       "132      Yes     No\n",
       "361      Yes     No\n",
       "365      Yes     No\n",
       "580      Yes     No\n",
       "898      Yes     No"
      ]
     },
     "execution_count": 62,
     "metadata": {},
     "output_type": "execute_result"
    }
   ],
   "source": [
    "test_4 = df_test[['death_yn','icu_yn']][df_test['death_yn']=='Yes'][df_test['icu_yn']=='No']\n",
    "print(\"Number of rows failing the test: \", test_4.shape[0])\n",
    "test_4.head(5)"
   ]
  },
  {
   "cell_type": "markdown",
   "id": "rocky-birmingham",
   "metadata": {},
   "source": [
    "### - Prepare a table with descriptive statistics for all the categorical features."
   ]
  },
  {
   "cell_type": "code",
   "execution_count": 63,
   "id": "common-toronto",
   "metadata": {},
   "outputs": [
    {
     "data": {
      "text/html": [
       "<div>\n",
       "<style scoped>\n",
       "    .dataframe tbody tr th:only-of-type {\n",
       "        vertical-align: middle;\n",
       "    }\n",
       "\n",
       "    .dataframe tbody tr th {\n",
       "        vertical-align: top;\n",
       "    }\n",
       "\n",
       "    .dataframe thead th {\n",
       "        text-align: right;\n",
       "    }\n",
       "</style>\n",
       "<table border=\"1\" class=\"dataframe\">\n",
       "  <thead>\n",
       "    <tr style=\"text-align: right;\">\n",
       "      <th></th>\n",
       "      <th>count</th>\n",
       "      <th>unique</th>\n",
       "      <th>top</th>\n",
       "      <th>freq</th>\n",
       "    </tr>\n",
       "  </thead>\n",
       "  <tbody>\n",
       "    <tr>\n",
       "      <th>current_status</th>\n",
       "      <td>9545</td>\n",
       "      <td>2</td>\n",
       "      <td>Laboratory-confirmed case</td>\n",
       "      <td>8912</td>\n",
       "    </tr>\n",
       "    <tr>\n",
       "      <th>sex</th>\n",
       "      <td>9545</td>\n",
       "      <td>5</td>\n",
       "      <td>Female</td>\n",
       "      <td>4974</td>\n",
       "    </tr>\n",
       "    <tr>\n",
       "      <th>age_group</th>\n",
       "      <td>9545</td>\n",
       "      <td>10</td>\n",
       "      <td>20 - 29 Years</td>\n",
       "      <td>1762</td>\n",
       "    </tr>\n",
       "    <tr>\n",
       "      <th>race_ethnicity_combined</th>\n",
       "      <td>9545</td>\n",
       "      <td>9</td>\n",
       "      <td>Unknown</td>\n",
       "      <td>3604</td>\n",
       "    </tr>\n",
       "    <tr>\n",
       "      <th>hosp_yn</th>\n",
       "      <td>9545</td>\n",
       "      <td>5</td>\n",
       "      <td>No</td>\n",
       "      <td>5133</td>\n",
       "    </tr>\n",
       "    <tr>\n",
       "      <th>icu_yn</th>\n",
       "      <td>9545</td>\n",
       "      <td>4</td>\n",
       "      <td>Missing</td>\n",
       "      <td>7194</td>\n",
       "    </tr>\n",
       "    <tr>\n",
       "      <th>death_yn</th>\n",
       "      <td>9545</td>\n",
       "      <td>2</td>\n",
       "      <td>No</td>\n",
       "      <td>9211</td>\n",
       "    </tr>\n",
       "    <tr>\n",
       "      <th>medcond_yn</th>\n",
       "      <td>9545</td>\n",
       "      <td>4</td>\n",
       "      <td>Missing</td>\n",
       "      <td>7015</td>\n",
       "    </tr>\n",
       "  </tbody>\n",
       "</table>\n",
       "</div>"
      ],
      "text/plain": [
       "                        count unique                        top  freq\n",
       "current_status           9545      2  Laboratory-confirmed case  8912\n",
       "sex                      9545      5                     Female  4974\n",
       "age_group                9545     10              20 - 29 Years  1762\n",
       "race_ethnicity_combined  9545      9                    Unknown  3604\n",
       "hosp_yn                  9545      5                         No  5133\n",
       "icu_yn                   9545      4                    Missing  7194\n",
       "death_yn                 9545      2                         No  9211\n",
       "medcond_yn               9545      4                    Missing  7015"
      ]
     },
     "execution_count": 63,
     "metadata": {},
     "output_type": "execute_result"
    }
   ],
   "source": [
    "# Print table with descriptive statistics for all the categorical features\n",
    "\n",
    "categorical_columns = df.select_dtypes(['category']).columns\n",
    "df[categorical_columns].describe().T"
   ]
  },
  {
   "cell_type": "markdown",
   "id": "derived-queensland",
   "metadata": {},
   "source": [
    "### - Save descriptive statistics for all the categorical features to csv for data quality report"
   ]
  },
  {
   "cell_type": "code",
   "execution_count": 64,
   "id": "changed-failing",
   "metadata": {},
   "outputs": [],
   "source": [
    "categoricalFeatueDesc = df[categorical_columns].describe().T\n",
    "categoricalFeatueDesc.to_csv(\"categoricalFeatureDescription.csv\")"
   ]
  },
  {
   "cell_type": "markdown",
   "id": "affected-anime",
   "metadata": {},
   "source": [
    "### - Plot bar plots individual sheet for all the categorical features.\n",
    "\n"
   ]
  },
  {
   "cell_type": "code",
   "execution_count": 65,
   "id": "trying-mattress",
   "metadata": {},
   "outputs": [
    {
     "data": {
      "image/png": "[encoded data removed]",
      "text/plain": [
       "<Figure size 864x720 with 1 Axes>"
      ]
     },
     "metadata": {
      "needs_background": "light"
     },
     "output_type": "display_data"
    },
    {
     "data": {
      "image/png": "[encoded data removed]",
      "text/plain": [
       "<Figure size 864x720 with 1 Axes>"
      ]
     },
     "metadata": {
      "needs_background": "light"
     },
     "output_type": "display_data"
    },
    {
     "data": {
      "image/png": "[encoded data removed]",
      "text/plain": [
       "<Figure size 864x720 with 1 Axes>"
      ]
     },
     "metadata": {
      "needs_background": "light"
     },
     "output_type": "display_data"
    },
    {
     "data": {
      "image/png": "[encoded data removed]",
      "text/plain": [
       "<Figure size 864x720 with 1 Axes>"
      ]
     },
     "metadata": {
      "needs_background": "light"
     },
     "output_type": "display_data"
    },
    {
     "data": {
      "image/png": "[encoded data removed]",
      "text/plain": [
       "<Figure size 864x720 with 1 Axes>"
      ]
     },
     "metadata": {
      "needs_background": "light"
     },
     "output_type": "display_data"
    },
    {
     "data": {
      "image/png": "[encoded data removed]",
      "text/plain": [
       "<Figure size 864x720 with 1 Axes>"
      ]
     },
     "metadata": {
      "needs_background": "light"
     },
     "output_type": "display_data"
    },
    {
     "data": {
      "image/png": "[encoded data removed]",
      "text/plain": [
       "<Figure size 864x720 with 1 Axes>"
      ]
     },
     "metadata": {
      "needs_background": "light"
     },
     "output_type": "display_data"
    },
    {
     "data": {
      "image/png": "[encoded data removed]",
      "text/plain": [
       "<Figure size 864x720 with 1 Axes>"
      ]
     },
     "metadata": {
      "needs_background": "light"
     },
     "output_type": "display_data"
    }
   ],
   "source": [
    "# Plot bar plots for all the catagorical features and saved in a PDF file\n",
    "with PdfPages('categorical_barplots_1-1.pdf') as pp:\n",
    "    for col in categorical_columns:\n",
    "        img = df[col].value_counts().plot(kind='bar', figsize=(12,10))\n",
    "        plt.title(col)\n",
    "        plt.xticks(rotation=30, ha='right')\n",
    "        plt.ylabel('number of people')\n",
    "        pp.savefig(img.get_figure())\n",
    "        plt.show()"
   ]
  },
  {
   "cell_type": "markdown",
   "id": "sustained-edwards",
   "metadata": {},
   "source": [
    "# Initial Findings\n",
    "\n",
    "### Initial findings and detailed discussion for each feature can be found in the accompanying *Data_Quality_Report_Initial_Findings.pdf* file"
   ]
  },
  {
   "cell_type": "markdown",
   "id": "hundred-stereo",
   "metadata": {},
   "source": [
    "# (2). Data Understanding: Data Quality Plan for the cleaned CSV file.\n",
    "\n",
    "### The initial list of issues as identified in the **Data_Quality_Report.pdf**:\n",
    "\n",
    "- For condition where patient is isn't in ICU but reported dead is an issue identified in the data set. Total 24 such entries are found. \n",
    "- Few records were fouond where patients status is not hospitalized but they are reported as member in ICU. There are 2 such findings.\n",
    "- datetime columns such as cdc_report_dt,pos_spec_dt,onset_dt had redundant information which was no use for calculation purpose.Hence dropped  "
   ]
  },
  {
   "cell_type": "markdown",
   "id": "foster-creator",
   "metadata": {},
   "source": [
    "### - Propose solutions to deal with the problems identified. "
   ]
  },
  {
   "cell_type": "markdown",
   "id": "spoken-vacuum",
   "metadata": {},
   "source": [
    "**Depreciated Column** \n",
    "- According to the description provided in the data publishing site cdc_report_dt is a depreciated column hence data might be inconsistent for report analysis. Hence dropping the column is possible.\n",
    "\n",
    "**Missing Values**\n",
    "- There are large amount (approx 75%) of missing values present in multiple columns which do not help in providing much insights towards data analysis. Hence, those missing values are considered as features instead of dropping them.\n",
    "\n",
    "**Hospital status**\n",
    "- Improper mapping of hospitalization is identified against ICU admission status.Imputation will be performed where possible. Otherwise values will be changed to \"null\"."
   ]
  },
  {
   "cell_type": "markdown",
   "id": "characteristic-links",
   "metadata": {},
   "source": [
    "### - Solutions where the identified data quality issues were addressed. "
   ]
  },
  {
   "cell_type": "markdown",
   "id": "common-profile",
   "metadata": {},
   "source": [
    "**Missing Values**\n",
    "- There are total 10,000 entries in this data set where columns such as medical condition and ICU has majority (approx 75%) hardcoded missing values. Thus keeping these entries as features for calculation as we dont have much data available for analysis."
   ]
  },
  {
   "cell_type": "code",
   "execution_count": 66,
   "id": "uniform-zambia",
   "metadata": {},
   "outputs": [
    {
     "name": "stdout",
     "output_type": "stream",
     "text": [
      "Missing values \t\t count\n",
      "medcond_yn \t\t 7015\n",
      "icu_yn \t\t\t 7194\n",
      "\n"
     ]
    }
   ],
   "source": [
    "print(\"Missing values \\t\\t count\")\n",
    "print(\"medcond_yn \\t\\t\", df[df['medcond_yn']== 'Missing'].shape[0])\n",
    "print(\"icu_yn \\t\\t\\t\", df[df['icu_yn']== 'Missing'].shape[0])\n",
    "print()"
   ]
  },
  {
   "cell_type": "markdown",
   "id": "sticky-lingerie",
   "metadata": {},
   "source": [
    "### Summary of data quality plan:\n",
    "\n",
    "| Variable Names                     | Data Quality Issue            | Handling Strategy              |\n",
    "|------------------------------------|-------------------------------|--------------------------------|\n",
    "| cdc_case_earliest_dt               | Calculated Column             | Do Nothing                     |\n",
    "| cdc_report_dt                      | Depriciated dates             | Drop the column                |\n",
    "| pos_spec_dt                        | NULL present (6431) values    | Drop the column                |\n",
    "| onset_dt                           | Redundancy in dates           | Drop the column                |\n",
    "| current_status                     | Appropriate Data              | Do Nothing                     |\n",
    "| sex                                | Missing & Unknown values      | Consider as feature            |\n",
    "| age_group                          | Unknown values                | Do Nothing                     |\n",
    "| race_ethnicity_combined            | Missing & Unknown values      | Do Nothing                     |\n",
    "| hosp_yn                            | Incorrect mapping             | Might impute later             |\n",
    "| icu_yn                             | Missing (7637) values         | Consider as features           |\n",
    "| death_yn                           | Appropriate Data              | Do Nothing                     |\n",
    "| medcond_yn                         | Missing (7549) values         | Consider as features           |\n"
   ]
  },
  {
   "cell_type": "code",
   "execution_count": 67,
   "id": "brutal-coverage",
   "metadata": {},
   "outputs": [
    {
     "data": {
      "text/html": [
       "<div>\n",
       "<style scoped>\n",
       "    .dataframe tbody tr th:only-of-type {\n",
       "        vertical-align: middle;\n",
       "    }\n",
       "\n",
       "    .dataframe tbody tr th {\n",
       "        vertical-align: top;\n",
       "    }\n",
       "\n",
       "    .dataframe thead th {\n",
       "        text-align: right;\n",
       "    }\n",
       "</style>\n",
       "<table border=\"1\" class=\"dataframe\">\n",
       "  <thead>\n",
       "    <tr style=\"text-align: right;\">\n",
       "      <th></th>\n",
       "      <th>count</th>\n",
       "      <th>unique</th>\n",
       "      <th>top</th>\n",
       "      <th>freq</th>\n",
       "    </tr>\n",
       "  </thead>\n",
       "  <tbody>\n",
       "    <tr>\n",
       "      <th>current_status</th>\n",
       "      <td>9545</td>\n",
       "      <td>2</td>\n",
       "      <td>Laboratory-confirmed case</td>\n",
       "      <td>8912</td>\n",
       "    </tr>\n",
       "    <tr>\n",
       "      <th>sex</th>\n",
       "      <td>9545</td>\n",
       "      <td>5</td>\n",
       "      <td>Female</td>\n",
       "      <td>4974</td>\n",
       "    </tr>\n",
       "    <tr>\n",
       "      <th>age_group</th>\n",
       "      <td>9545</td>\n",
       "      <td>10</td>\n",
       "      <td>20 - 29 Years</td>\n",
       "      <td>1762</td>\n",
       "    </tr>\n",
       "    <tr>\n",
       "      <th>race_ethnicity_combined</th>\n",
       "      <td>9545</td>\n",
       "      <td>9</td>\n",
       "      <td>Unknown</td>\n",
       "      <td>3604</td>\n",
       "    </tr>\n",
       "    <tr>\n",
       "      <th>hosp_yn</th>\n",
       "      <td>9545</td>\n",
       "      <td>5</td>\n",
       "      <td>No</td>\n",
       "      <td>5133</td>\n",
       "    </tr>\n",
       "    <tr>\n",
       "      <th>icu_yn</th>\n",
       "      <td>9545</td>\n",
       "      <td>4</td>\n",
       "      <td>Missing</td>\n",
       "      <td>7194</td>\n",
       "    </tr>\n",
       "    <tr>\n",
       "      <th>death_yn</th>\n",
       "      <td>9545</td>\n",
       "      <td>2</td>\n",
       "      <td>No</td>\n",
       "      <td>9211</td>\n",
       "    </tr>\n",
       "    <tr>\n",
       "      <th>medcond_yn</th>\n",
       "      <td>9545</td>\n",
       "      <td>4</td>\n",
       "      <td>Missing</td>\n",
       "      <td>7015</td>\n",
       "    </tr>\n",
       "  </tbody>\n",
       "</table>\n",
       "</div>"
      ],
      "text/plain": [
       "                        count unique                        top  freq\n",
       "current_status           9545      2  Laboratory-confirmed case  8912\n",
       "sex                      9545      5                     Female  4974\n",
       "age_group                9545     10              20 - 29 Years  1762\n",
       "race_ethnicity_combined  9545      9                    Unknown  3604\n",
       "hosp_yn                  9545      5                         No  5133\n",
       "icu_yn                   9545      4                    Missing  7194\n",
       "death_yn                 9545      2                         No  9211\n",
       "medcond_yn               9545      4                    Missing  7015"
      ]
     },
     "execution_count": 67,
     "metadata": {},
     "output_type": "execute_result"
    }
   ],
   "source": [
    "# Print table with categorical statistics after treating the data set as per initial findings.\n",
    "df.select_dtypes(['category']).describe().T"
   ]
  },
  {
   "cell_type": "code",
   "execution_count": 68,
   "id": "clinical-cherry",
   "metadata": {},
   "outputs": [
    {
     "data": {
      "text/html": [
       "<div>\n",
       "<style scoped>\n",
       "    .dataframe tbody tr th:only-of-type {\n",
       "        vertical-align: middle;\n",
       "    }\n",
       "\n",
       "    .dataframe tbody tr th {\n",
       "        vertical-align: top;\n",
       "    }\n",
       "\n",
       "    .dataframe thead th {\n",
       "        text-align: right;\n",
       "    }\n",
       "</style>\n",
       "<table border=\"1\" class=\"dataframe\">\n",
       "  <thead>\n",
       "    <tr style=\"text-align: right;\">\n",
       "      <th></th>\n",
       "      <th>count</th>\n",
       "      <th>mean</th>\n",
       "      <th>std</th>\n",
       "      <th>min</th>\n",
       "      <th>25%</th>\n",
       "      <th>50%</th>\n",
       "      <th>75%</th>\n",
       "      <th>max</th>\n",
       "      <th>card</th>\n",
       "    </tr>\n",
       "  </thead>\n",
       "  <tbody>\n",
       "    <tr>\n",
       "      <th>cdc_case_earliest_days</th>\n",
       "      <td>9545.0</td>\n",
       "      <td>273.306862</td>\n",
       "      <td>86.215245</td>\n",
       "      <td>0.0</td>\n",
       "      <td>201.00</td>\n",
       "      <td>306.0</td>\n",
       "      <td>344.0</td>\n",
       "      <td>379.0</td>\n",
       "      <td>322</td>\n",
       "    </tr>\n",
       "    <tr>\n",
       "      <th>cdc_report_days</th>\n",
       "      <td>7591.0</td>\n",
       "      <td>272.670399</td>\n",
       "      <td>81.096151</td>\n",
       "      <td>0.0</td>\n",
       "      <td>210.00</td>\n",
       "      <td>299.0</td>\n",
       "      <td>338.0</td>\n",
       "      <td>377.0</td>\n",
       "      <td>323</td>\n",
       "    </tr>\n",
       "    <tr>\n",
       "      <th>pos_spec_days</th>\n",
       "      <td>2790.0</td>\n",
       "      <td>186.730466</td>\n",
       "      <td>89.296143</td>\n",
       "      <td>0.0</td>\n",
       "      <td>115.25</td>\n",
       "      <td>213.0</td>\n",
       "      <td>263.0</td>\n",
       "      <td>317.0</td>\n",
       "      <td>313</td>\n",
       "    </tr>\n",
       "  </tbody>\n",
       "</table>\n",
       "</div>"
      ],
      "text/plain": [
       "                         count        mean        std  min     25%    50%  \\\n",
       "cdc_case_earliest_days  9545.0  273.306862  86.215245  0.0  201.00  306.0   \n",
       "cdc_report_days         7591.0  272.670399  81.096151  0.0  210.00  299.0   \n",
       "pos_spec_days           2790.0  186.730466  89.296143  0.0  115.25  213.0   \n",
       "\n",
       "                          75%    max  card  \n",
       "cdc_case_earliest_days  344.0  379.0   322  \n",
       "cdc_report_days         338.0  377.0   323  \n",
       "pos_spec_days           263.0  317.0   313  "
      ]
     },
     "execution_count": 68,
     "metadata": {},
     "output_type": "execute_result"
    }
   ],
   "source": [
    "# check the mean of the continous features to replace the value\n",
    "df_numeric_data_quality_report"
   ]
  },
  {
   "cell_type": "code",
   "execution_count": 69,
   "id": "middle-toddler",
   "metadata": {},
   "outputs": [
    {
     "data": {
      "text/html": [
       "<div>\n",
       "<style scoped>\n",
       "    .dataframe tbody tr th:only-of-type {\n",
       "        vertical-align: middle;\n",
       "    }\n",
       "\n",
       "    .dataframe tbody tr th {\n",
       "        vertical-align: top;\n",
       "    }\n",
       "\n",
       "    .dataframe thead th {\n",
       "        text-align: right;\n",
       "    }\n",
       "</style>\n",
       "<table border=\"1\" class=\"dataframe\">\n",
       "  <thead>\n",
       "    <tr style=\"text-align: right;\">\n",
       "      <th></th>\n",
       "      <th>cdc_case_earliest_days</th>\n",
       "      <th>cdc_report_days</th>\n",
       "      <th>pos_spec_days</th>\n",
       "      <th>current_status</th>\n",
       "      <th>sex</th>\n",
       "      <th>age_group</th>\n",
       "      <th>race_ethnicity_combined</th>\n",
       "      <th>hosp_yn</th>\n",
       "      <th>icu_yn</th>\n",
       "      <th>death_yn</th>\n",
       "      <th>medcond_yn</th>\n",
       "      <th>cdc_case_earliest_dt</th>\n",
       "      <th>cdc_report_dt</th>\n",
       "      <th>pos_spec_dt</th>\n",
       "      <th>onset_dt</th>\n",
       "    </tr>\n",
       "  </thead>\n",
       "  <tbody>\n",
       "    <tr>\n",
       "      <th>9539</th>\n",
       "      <td>15</td>\n",
       "      <td>0.0</td>\n",
       "      <td>59.0</td>\n",
       "      <td>Laboratory-confirmed case</td>\n",
       "      <td>Female</td>\n",
       "      <td>30 - 39 Years</td>\n",
       "      <td>Black, Non-Hispanic</td>\n",
       "      <td>No</td>\n",
       "      <td>Unknown</td>\n",
       "      <td>No</td>\n",
       "      <td>Yes</td>\n",
       "      <td>2020-01-18</td>\n",
       "      <td>2020-01-18</td>\n",
       "      <td>2020-05-12</td>\n",
       "      <td>2020-01-18</td>\n",
       "    </tr>\n",
       "  </tbody>\n",
       "</table>\n",
       "</div>"
      ],
      "text/plain": [
       "      cdc_case_earliest_days  cdc_report_days  pos_spec_days  \\\n",
       "9539                      15              0.0           59.0   \n",
       "\n",
       "                 current_status     sex      age_group  \\\n",
       "9539  Laboratory-confirmed case  Female  30 - 39 Years   \n",
       "\n",
       "     race_ethnicity_combined hosp_yn   icu_yn death_yn medcond_yn  \\\n",
       "9539     Black, Non-Hispanic      No  Unknown       No        Yes   \n",
       "\n",
       "     cdc_case_earliest_dt cdc_report_dt pos_spec_dt   onset_dt  \n",
       "9539           2020-01-18    2020-01-18  2020-05-12 2020-01-18  "
      ]
     },
     "execution_count": 69,
     "metadata": {},
     "output_type": "execute_result"
    }
   ],
   "source": [
    "# check how many rows are there with min days \n",
    "df[df['cdc_report_days'] == 0]"
   ]
  },
  {
   "cell_type": "code",
   "execution_count": 70,
   "id": "pressed-detector",
   "metadata": {},
   "outputs": [],
   "source": [
    "# replace the value with mean as most of the values in the feature are in that range. Hence by replacing this new value does not effect much to the data set\n",
    "df['cdc_report_days'] = df['cdc_report_days'].replace(0,285)"
   ]
  },
  {
   "cell_type": "markdown",
   "id": "durable-telescope",
   "metadata": {},
   "source": [
    "- Check the missing values and fill them with mean value"
   ]
  },
  {
   "cell_type": "code",
   "execution_count": 71,
   "id": "polish-large",
   "metadata": {},
   "outputs": [
    {
     "data": {
      "text/plain": [
       "1954"
      ]
     },
     "execution_count": 71,
     "metadata": {},
     "output_type": "execute_result"
    }
   ],
   "source": [
    "df['cdc_report_days'].isnull().sum()"
   ]
  },
  {
   "cell_type": "code",
   "execution_count": 72,
   "id": "forty-sweet",
   "metadata": {},
   "outputs": [],
   "source": [
    "# fill all the missing values with mean value of that feature\n",
    "df.cdc_report_days = df.cdc_report_days.fillna(int(round(df['cdc_report_days'].mean()))) #round the mean value to nearest int"
   ]
  },
  {
   "cell_type": "code",
   "execution_count": 73,
   "id": "final-coupon",
   "metadata": {},
   "outputs": [
    {
     "data": {
      "text/plain": [
       "cdc_case_earliest_days        0\n",
       "cdc_report_days               0\n",
       "pos_spec_days              6755\n",
       "current_status                0\n",
       "sex                           0\n",
       "age_group                     0\n",
       "race_ethnicity_combined       0\n",
       "hosp_yn                       0\n",
       "icu_yn                        0\n",
       "death_yn                      0\n",
       "medcond_yn                    0\n",
       "cdc_case_earliest_dt          0\n",
       "cdc_report_dt              1954\n",
       "pos_spec_dt                6755\n",
       "onset_dt                   4532\n",
       "dtype: int64"
      ]
     },
     "execution_count": 73,
     "metadata": {},
     "output_type": "execute_result"
    }
   ],
   "source": [
    "# to print the null values after filling the cdc_report_days missing values\n",
    "df.isnull().sum()"
   ]
  },
  {
   "cell_type": "markdown",
   "id": "peripheral-monroe",
   "metadata": {},
   "source": [
    "- drop the pos_spec_days feature as it is having missing values >50%"
   ]
  },
  {
   "cell_type": "code",
   "execution_count": 74,
   "id": "proof-valuation",
   "metadata": {},
   "outputs": [
    {
     "data": {
      "text/plain": [
       "6755"
      ]
     },
     "execution_count": 74,
     "metadata": {},
     "output_type": "execute_result"
    }
   ],
   "source": [
    "# check the no of missing values in pos_spec_days\n",
    "df['pos_spec_days'].isnull().sum()"
   ]
  },
  {
   "cell_type": "code",
   "execution_count": 75,
   "id": "demonstrated-harris",
   "metadata": {},
   "outputs": [],
   "source": [
    "# drop the feature as it consists of more than 50% of missing values\n",
    "df = df.drop(['pos_spec_days'], axis=1)"
   ]
  },
  {
   "cell_type": "code",
   "execution_count": 76,
   "id": "professional-model",
   "metadata": {},
   "outputs": [
    {
     "data": {
      "text/html": [
       "<div>\n",
       "<style scoped>\n",
       "    .dataframe tbody tr th:only-of-type {\n",
       "        vertical-align: middle;\n",
       "    }\n",
       "\n",
       "    .dataframe tbody tr th {\n",
       "        vertical-align: top;\n",
       "    }\n",
       "\n",
       "    .dataframe thead th {\n",
       "        text-align: right;\n",
       "    }\n",
       "</style>\n",
       "<table border=\"1\" class=\"dataframe\">\n",
       "  <thead>\n",
       "    <tr style=\"text-align: right;\">\n",
       "      <th></th>\n",
       "      <th>cdc_case_earliest_days</th>\n",
       "      <th>cdc_report_days</th>\n",
       "      <th>current_status</th>\n",
       "      <th>sex</th>\n",
       "      <th>age_group</th>\n",
       "      <th>race_ethnicity_combined</th>\n",
       "      <th>hosp_yn</th>\n",
       "      <th>icu_yn</th>\n",
       "      <th>death_yn</th>\n",
       "      <th>medcond_yn</th>\n",
       "      <th>cdc_case_earliest_dt</th>\n",
       "      <th>cdc_report_dt</th>\n",
       "      <th>pos_spec_dt</th>\n",
       "      <th>onset_dt</th>\n",
       "    </tr>\n",
       "  </thead>\n",
       "  <tbody>\n",
       "    <tr>\n",
       "      <th>0</th>\n",
       "      <td>304</td>\n",
       "      <td>292.0</td>\n",
       "      <td>Probable Case</td>\n",
       "      <td>Male</td>\n",
       "      <td>Missing</td>\n",
       "      <td>White, Non-Hispanic</td>\n",
       "      <td>No</td>\n",
       "      <td>Missing</td>\n",
       "      <td>No</td>\n",
       "      <td>Missing</td>\n",
       "      <td>2020-11-02</td>\n",
       "      <td>2020-11-05</td>\n",
       "      <td>NaT</td>\n",
       "      <td>2020-11-02</td>\n",
       "    </tr>\n",
       "    <tr>\n",
       "      <th>1</th>\n",
       "      <td>333</td>\n",
       "      <td>273.0</td>\n",
       "      <td>Laboratory-confirmed case</td>\n",
       "      <td>Male</td>\n",
       "      <td>20 - 29 Years</td>\n",
       "      <td>Unknown</td>\n",
       "      <td>No</td>\n",
       "      <td>Missing</td>\n",
       "      <td>No</td>\n",
       "      <td>Missing</td>\n",
       "      <td>2020-12-01</td>\n",
       "      <td>NaT</td>\n",
       "      <td>NaT</td>\n",
       "      <td>NaT</td>\n",
       "    </tr>\n",
       "    <tr>\n",
       "      <th>2</th>\n",
       "      <td>300</td>\n",
       "      <td>285.0</td>\n",
       "      <td>Laboratory-confirmed case</td>\n",
       "      <td>Male</td>\n",
       "      <td>40 - 49 Years</td>\n",
       "      <td>Unknown</td>\n",
       "      <td>No</td>\n",
       "      <td>Missing</td>\n",
       "      <td>No</td>\n",
       "      <td>Missing</td>\n",
       "      <td>2020-10-29</td>\n",
       "      <td>2020-10-29</td>\n",
       "      <td>NaT</td>\n",
       "      <td>2020-10-29</td>\n",
       "    </tr>\n",
       "    <tr>\n",
       "      <th>3</th>\n",
       "      <td>118</td>\n",
       "      <td>116.0</td>\n",
       "      <td>Laboratory-confirmed case</td>\n",
       "      <td>Female</td>\n",
       "      <td>70 - 79 Years</td>\n",
       "      <td>Unknown</td>\n",
       "      <td>No</td>\n",
       "      <td>No</td>\n",
       "      <td>No</td>\n",
       "      <td>Unknown</td>\n",
       "      <td>2020-04-30</td>\n",
       "      <td>2020-05-13</td>\n",
       "      <td>2020-04-30</td>\n",
       "      <td>2020-04-30</td>\n",
       "    </tr>\n",
       "    <tr>\n",
       "      <th>4</th>\n",
       "      <td>104</td>\n",
       "      <td>99.0</td>\n",
       "      <td>Laboratory-confirmed case</td>\n",
       "      <td>Female</td>\n",
       "      <td>80+ Years</td>\n",
       "      <td>White, Non-Hispanic</td>\n",
       "      <td>Yes</td>\n",
       "      <td>Yes</td>\n",
       "      <td>Yes</td>\n",
       "      <td>Yes</td>\n",
       "      <td>2020-04-16</td>\n",
       "      <td>2020-04-26</td>\n",
       "      <td>2020-04-17</td>\n",
       "      <td>2020-04-16</td>\n",
       "    </tr>\n",
       "  </tbody>\n",
       "</table>\n",
       "</div>"
      ],
      "text/plain": [
       "   cdc_case_earliest_days  cdc_report_days             current_status     sex  \\\n",
       "0                     304            292.0              Probable Case    Male   \n",
       "1                     333            273.0  Laboratory-confirmed case    Male   \n",
       "2                     300            285.0  Laboratory-confirmed case    Male   \n",
       "3                     118            116.0  Laboratory-confirmed case  Female   \n",
       "4                     104             99.0  Laboratory-confirmed case  Female   \n",
       "\n",
       "       age_group race_ethnicity_combined hosp_yn   icu_yn death_yn medcond_yn  \\\n",
       "0        Missing     White, Non-Hispanic      No  Missing       No    Missing   \n",
       "1  20 - 29 Years                 Unknown      No  Missing       No    Missing   \n",
       "2  40 - 49 Years                 Unknown      No  Missing       No    Missing   \n",
       "3  70 - 79 Years                 Unknown      No       No       No    Unknown   \n",
       "4      80+ Years     White, Non-Hispanic     Yes      Yes      Yes        Yes   \n",
       "\n",
       "  cdc_case_earliest_dt cdc_report_dt pos_spec_dt   onset_dt  \n",
       "0           2020-11-02    2020-11-05         NaT 2020-11-02  \n",
       "1           2020-12-01           NaT         NaT        NaT  \n",
       "2           2020-10-29    2020-10-29         NaT 2020-10-29  \n",
       "3           2020-04-30    2020-05-13  2020-04-30 2020-04-30  \n",
       "4           2020-04-16    2020-04-26  2020-04-17 2020-04-16  "
      ]
     },
     "execution_count": 76,
     "metadata": {},
     "output_type": "execute_result"
    }
   ],
   "source": [
    "df.head(5)"
   ]
  },
  {
   "cell_type": "markdown",
   "id": "floating-filling",
   "metadata": {},
   "source": [
    "### - Save the new CSV file with a self explanatory name. Save the data quality plan to a single PDF file (as a table or a structured text)."
   ]
  },
  {
   "cell_type": "code",
   "execution_count": 77,
   "id": "extended-conditions",
   "metadata": {},
   "outputs": [
    {
     "data": {
      "text/html": [
       "<div>\n",
       "<style scoped>\n",
       "    .dataframe tbody tr th:only-of-type {\n",
       "        vertical-align: middle;\n",
       "    }\n",
       "\n",
       "    .dataframe tbody tr th {\n",
       "        vertical-align: top;\n",
       "    }\n",
       "\n",
       "    .dataframe thead th {\n",
       "        text-align: right;\n",
       "    }\n",
       "</style>\n",
       "<table border=\"1\" class=\"dataframe\">\n",
       "  <thead>\n",
       "    <tr style=\"text-align: right;\">\n",
       "      <th></th>\n",
       "      <th>count</th>\n",
       "      <th>mean</th>\n",
       "      <th>std</th>\n",
       "      <th>min</th>\n",
       "      <th>25%</th>\n",
       "      <th>50%</th>\n",
       "      <th>75%</th>\n",
       "      <th>max</th>\n",
       "    </tr>\n",
       "  </thead>\n",
       "  <tbody>\n",
       "    <tr>\n",
       "      <th>cdc_case_earliest_days</th>\n",
       "      <td>9545.0</td>\n",
       "      <td>273.306862</td>\n",
       "      <td>86.215245</td>\n",
       "      <td>0.0</td>\n",
       "      <td>201.0</td>\n",
       "      <td>306.0</td>\n",
       "      <td>344.0</td>\n",
       "      <td>379.0</td>\n",
       "    </tr>\n",
       "    <tr>\n",
       "      <th>cdc_report_days</th>\n",
       "      <td>9545.0</td>\n",
       "      <td>272.767732</td>\n",
       "      <td>72.265902</td>\n",
       "      <td>41.0</td>\n",
       "      <td>240.0</td>\n",
       "      <td>273.0</td>\n",
       "      <td>327.0</td>\n",
       "      <td>377.0</td>\n",
       "    </tr>\n",
       "  </tbody>\n",
       "</table>\n",
       "</div>"
      ],
      "text/plain": [
       "                         count        mean        std   min    25%    50%  \\\n",
       "cdc_case_earliest_days  9545.0  273.306862  86.215245   0.0  201.0  306.0   \n",
       "cdc_report_days         9545.0  272.767732  72.265902  41.0  240.0  273.0   \n",
       "\n",
       "                          75%    max  \n",
       "cdc_case_earliest_days  344.0  379.0  \n",
       "cdc_report_days         327.0  377.0  "
      ]
     },
     "execution_count": 77,
     "metadata": {},
     "output_type": "execute_result"
    }
   ],
   "source": [
    "# Print table with continuous statistics\n",
    "numeric_columns = df.select_dtypes(['int64','float64']).columns\n",
    "df[numeric_columns].describe().T"
   ]
  },
  {
   "cell_type": "code",
   "execution_count": 78,
   "id": "pediatric-tiger",
   "metadata": {},
   "outputs": [
    {
     "data": {
      "text/html": [
       "<div>\n",
       "<style scoped>\n",
       "    .dataframe tbody tr th:only-of-type {\n",
       "        vertical-align: middle;\n",
       "    }\n",
       "\n",
       "    .dataframe tbody tr th {\n",
       "        vertical-align: top;\n",
       "    }\n",
       "\n",
       "    .dataframe thead th {\n",
       "        text-align: right;\n",
       "    }\n",
       "</style>\n",
       "<table border=\"1\" class=\"dataframe\">\n",
       "  <thead>\n",
       "    <tr style=\"text-align: right;\">\n",
       "      <th></th>\n",
       "      <th>count</th>\n",
       "      <th>unique</th>\n",
       "      <th>top</th>\n",
       "      <th>freq</th>\n",
       "    </tr>\n",
       "  </thead>\n",
       "  <tbody>\n",
       "    <tr>\n",
       "      <th>current_status</th>\n",
       "      <td>9545</td>\n",
       "      <td>2</td>\n",
       "      <td>Laboratory-confirmed case</td>\n",
       "      <td>8912</td>\n",
       "    </tr>\n",
       "    <tr>\n",
       "      <th>sex</th>\n",
       "      <td>9545</td>\n",
       "      <td>5</td>\n",
       "      <td>Female</td>\n",
       "      <td>4974</td>\n",
       "    </tr>\n",
       "    <tr>\n",
       "      <th>age_group</th>\n",
       "      <td>9545</td>\n",
       "      <td>10</td>\n",
       "      <td>20 - 29 Years</td>\n",
       "      <td>1762</td>\n",
       "    </tr>\n",
       "    <tr>\n",
       "      <th>race_ethnicity_combined</th>\n",
       "      <td>9545</td>\n",
       "      <td>9</td>\n",
       "      <td>Unknown</td>\n",
       "      <td>3604</td>\n",
       "    </tr>\n",
       "    <tr>\n",
       "      <th>hosp_yn</th>\n",
       "      <td>9545</td>\n",
       "      <td>5</td>\n",
       "      <td>No</td>\n",
       "      <td>5133</td>\n",
       "    </tr>\n",
       "    <tr>\n",
       "      <th>icu_yn</th>\n",
       "      <td>9545</td>\n",
       "      <td>4</td>\n",
       "      <td>Missing</td>\n",
       "      <td>7194</td>\n",
       "    </tr>\n",
       "    <tr>\n",
       "      <th>death_yn</th>\n",
       "      <td>9545</td>\n",
       "      <td>2</td>\n",
       "      <td>No</td>\n",
       "      <td>9211</td>\n",
       "    </tr>\n",
       "    <tr>\n",
       "      <th>medcond_yn</th>\n",
       "      <td>9545</td>\n",
       "      <td>4</td>\n",
       "      <td>Missing</td>\n",
       "      <td>7015</td>\n",
       "    </tr>\n",
       "  </tbody>\n",
       "</table>\n",
       "</div>"
      ],
      "text/plain": [
       "                        count unique                        top  freq\n",
       "current_status           9545      2  Laboratory-confirmed case  8912\n",
       "sex                      9545      5                     Female  4974\n",
       "age_group                9545     10              20 - 29 Years  1762\n",
       "race_ethnicity_combined  9545      9                    Unknown  3604\n",
       "hosp_yn                  9545      5                         No  5133\n",
       "icu_yn                   9545      4                    Missing  7194\n",
       "death_yn                 9545      2                         No  9211\n",
       "medcond_yn               9545      4                    Missing  7015"
      ]
     },
     "execution_count": 78,
     "metadata": {},
     "output_type": "execute_result"
    }
   ],
   "source": [
    "# Print table with categorical statistics\n",
    "df.select_dtypes(['category']).describe().T"
   ]
  },
  {
   "cell_type": "code",
   "execution_count": 79,
   "id": "federal-scholar",
   "metadata": {},
   "outputs": [],
   "source": [
    "# Write the cleaned dataframe to a csv file\n",
    "df.to_csv('categoricalFeatureDescription_V2.csv', index=False)"
   ]
  },
  {
   "cell_type": "markdown",
   "id": "manufactured-necessity",
   "metadata": {},
   "source": [
    "# (3). Exploring relationships between feature pairs:\n"
   ]
  },
  {
   "cell_type": "markdown",
   "id": "sized-cowboy",
   "metadata": {},
   "source": [
    "### - Choose a subset of features you find promising and plot pairwise feature interactions (e.g., continuous-continuous feature plot or continuous-categorical plots or correlation plots). Explain your choices."
   ]
  },
  {
   "cell_type": "markdown",
   "id": "requested-cotton",
   "metadata": {},
   "source": [
    "### Continous vs continous features\n",
    "- there are no continous vs continous feature plots because\n",
    " - There are only 2 continous features in the data set which are cdc_case_earliest_days and cdc_report_days\n",
    " - Plotting between 2 features does not provide any information as they belong to the dates which are reported to cdc\n",
    " - Also cdc_report_days is a depriciated value which is not an accurate information."
   ]
  },
  {
   "cell_type": "code",
   "execution_count": 80,
   "id": "saving-dallas",
   "metadata": {},
   "outputs": [
    {
     "data": {
      "text/html": [
       "<div>\n",
       "<style scoped>\n",
       "    .dataframe tbody tr th:only-of-type {\n",
       "        vertical-align: middle;\n",
       "    }\n",
       "\n",
       "    .dataframe tbody tr th {\n",
       "        vertical-align: top;\n",
       "    }\n",
       "\n",
       "    .dataframe thead th {\n",
       "        text-align: right;\n",
       "    }\n",
       "</style>\n",
       "<table border=\"1\" class=\"dataframe\">\n",
       "  <thead>\n",
       "    <tr style=\"text-align: right;\">\n",
       "      <th></th>\n",
       "      <th>cdc_case_earliest_days</th>\n",
       "      <th>cdc_report_days</th>\n",
       "    </tr>\n",
       "  </thead>\n",
       "  <tbody>\n",
       "    <tr>\n",
       "      <th>cdc_case_earliest_days</th>\n",
       "      <td>1.000000</td>\n",
       "      <td>0.248721</td>\n",
       "    </tr>\n",
       "    <tr>\n",
       "      <th>cdc_report_days</th>\n",
       "      <td>0.248721</td>\n",
       "      <td>1.000000</td>\n",
       "    </tr>\n",
       "  </tbody>\n",
       "</table>\n",
       "</div>"
      ],
      "text/plain": [
       "                        cdc_case_earliest_days  cdc_report_days\n",
       "cdc_case_earliest_days                1.000000         0.248721\n",
       "cdc_report_days                       0.248721         1.000000"
      ]
     },
     "execution_count": 80,
     "metadata": {},
     "output_type": "execute_result"
    }
   ],
   "source": [
    "# view the correlation table b/w all the features and decide the features for pairwise plots\n",
    "df[numeric_columns].apply(lambda x : pd.factorize(x)[0]).corr(method='pearson', min_periods=1)"
   ]
  },
  {
   "cell_type": "markdown",
   "id": "unexpected-export",
   "metadata": {},
   "source": [
    "The features that I will look at for pairwise feature interaction are the following categorical features:\n",
    "- current_status\n",
    "- sex\n",
    "- age_group\n",
    "- race_ethnicity_combined\n",
    "- hosp_yn\n",
    "- icu_yn\n",
    "- death_yn\n",
    "- medcond_yn"
   ]
  },
  {
   "cell_type": "code",
   "execution_count": 81,
   "id": "composite-chart",
   "metadata": {},
   "outputs": [
    {
     "data": {
      "text/html": [
       "<div>\n",
       "<style scoped>\n",
       "    .dataframe tbody tr th:only-of-type {\n",
       "        vertical-align: middle;\n",
       "    }\n",
       "\n",
       "    .dataframe tbody tr th {\n",
       "        vertical-align: top;\n",
       "    }\n",
       "\n",
       "    .dataframe thead th {\n",
       "        text-align: right;\n",
       "    }\n",
       "</style>\n",
       "<table border=\"1\" class=\"dataframe\">\n",
       "  <thead>\n",
       "    <tr style=\"text-align: right;\">\n",
       "      <th></th>\n",
       "      <th>current_status</th>\n",
       "      <th>sex</th>\n",
       "      <th>age_group</th>\n",
       "      <th>race_ethnicity_combined</th>\n",
       "      <th>hosp_yn</th>\n",
       "      <th>icu_yn</th>\n",
       "      <th>death_yn</th>\n",
       "      <th>medcond_yn</th>\n",
       "    </tr>\n",
       "  </thead>\n",
       "  <tbody>\n",
       "    <tr>\n",
       "      <th>current_status</th>\n",
       "      <td>1.000000</td>\n",
       "      <td>-0.031428</td>\n",
       "      <td>-0.008833</td>\n",
       "      <td>0.037853</td>\n",
       "      <td>0.039854</td>\n",
       "      <td>-0.047988</td>\n",
       "      <td>0.016382</td>\n",
       "      <td>-0.010840</td>\n",
       "    </tr>\n",
       "    <tr>\n",
       "      <th>sex</th>\n",
       "      <td>-0.031428</td>\n",
       "      <td>1.000000</td>\n",
       "      <td>-0.020202</td>\n",
       "      <td>-0.013400</td>\n",
       "      <td>-0.002341</td>\n",
       "      <td>-0.005495</td>\n",
       "      <td>-0.041569</td>\n",
       "      <td>-0.014767</td>\n",
       "    </tr>\n",
       "    <tr>\n",
       "      <th>age_group</th>\n",
       "      <td>-0.008833</td>\n",
       "      <td>-0.020202</td>\n",
       "      <td>1.000000</td>\n",
       "      <td>-0.020088</td>\n",
       "      <td>-0.022708</td>\n",
       "      <td>0.000781</td>\n",
       "      <td>0.009431</td>\n",
       "      <td>0.007928</td>\n",
       "    </tr>\n",
       "    <tr>\n",
       "      <th>race_ethnicity_combined</th>\n",
       "      <td>0.037853</td>\n",
       "      <td>-0.013400</td>\n",
       "      <td>-0.020088</td>\n",
       "      <td>1.000000</td>\n",
       "      <td>-0.030929</td>\n",
       "      <td>-0.013084</td>\n",
       "      <td>0.011439</td>\n",
       "      <td>-0.030921</td>\n",
       "    </tr>\n",
       "    <tr>\n",
       "      <th>hosp_yn</th>\n",
       "      <td>0.039854</td>\n",
       "      <td>-0.002341</td>\n",
       "      <td>-0.022708</td>\n",
       "      <td>-0.030929</td>\n",
       "      <td>1.000000</td>\n",
       "      <td>0.041580</td>\n",
       "      <td>0.041914</td>\n",
       "      <td>-0.147364</td>\n",
       "    </tr>\n",
       "    <tr>\n",
       "      <th>icu_yn</th>\n",
       "      <td>-0.047988</td>\n",
       "      <td>-0.005495</td>\n",
       "      <td>0.000781</td>\n",
       "      <td>-0.013084</td>\n",
       "      <td>0.041580</td>\n",
       "      <td>1.000000</td>\n",
       "      <td>0.105954</td>\n",
       "      <td>0.439096</td>\n",
       "    </tr>\n",
       "    <tr>\n",
       "      <th>death_yn</th>\n",
       "      <td>0.016382</td>\n",
       "      <td>-0.041569</td>\n",
       "      <td>0.009431</td>\n",
       "      <td>0.011439</td>\n",
       "      <td>0.041914</td>\n",
       "      <td>0.105954</td>\n",
       "      <td>1.000000</td>\n",
       "      <td>0.035350</td>\n",
       "    </tr>\n",
       "    <tr>\n",
       "      <th>medcond_yn</th>\n",
       "      <td>-0.010840</td>\n",
       "      <td>-0.014767</td>\n",
       "      <td>0.007928</td>\n",
       "      <td>-0.030921</td>\n",
       "      <td>-0.147364</td>\n",
       "      <td>0.439096</td>\n",
       "      <td>0.035350</td>\n",
       "      <td>1.000000</td>\n",
       "    </tr>\n",
       "  </tbody>\n",
       "</table>\n",
       "</div>"
      ],
      "text/plain": [
       "                         current_status       sex  age_group  \\\n",
       "current_status                 1.000000 -0.031428  -0.008833   \n",
       "sex                           -0.031428  1.000000  -0.020202   \n",
       "age_group                     -0.008833 -0.020202   1.000000   \n",
       "race_ethnicity_combined        0.037853 -0.013400  -0.020088   \n",
       "hosp_yn                        0.039854 -0.002341  -0.022708   \n",
       "icu_yn                        -0.047988 -0.005495   0.000781   \n",
       "death_yn                       0.016382 -0.041569   0.009431   \n",
       "medcond_yn                    -0.010840 -0.014767   0.007928   \n",
       "\n",
       "                         race_ethnicity_combined   hosp_yn    icu_yn  \\\n",
       "current_status                          0.037853  0.039854 -0.047988   \n",
       "sex                                    -0.013400 -0.002341 -0.005495   \n",
       "age_group                              -0.020088 -0.022708  0.000781   \n",
       "race_ethnicity_combined                 1.000000 -0.030929 -0.013084   \n",
       "hosp_yn                                -0.030929  1.000000  0.041580   \n",
       "icu_yn                                 -0.013084  0.041580  1.000000   \n",
       "death_yn                                0.011439  0.041914  0.105954   \n",
       "medcond_yn                             -0.030921 -0.147364  0.439096   \n",
       "\n",
       "                         death_yn  medcond_yn  \n",
       "current_status           0.016382   -0.010840  \n",
       "sex                     -0.041569   -0.014767  \n",
       "age_group                0.009431    0.007928  \n",
       "race_ethnicity_combined  0.011439   -0.030921  \n",
       "hosp_yn                  0.041914   -0.147364  \n",
       "icu_yn                   0.105954    0.439096  \n",
       "death_yn                 1.000000    0.035350  \n",
       "medcond_yn               0.035350    1.000000  "
      ]
     },
     "execution_count": 81,
     "metadata": {},
     "output_type": "execute_result"
    }
   ],
   "source": [
    "# look for correlation between categorical features\n",
    "df[category_columns].apply(lambda x : pd.factorize(x)[0]).corr(method='pearson', min_periods=1)"
   ]
  },
  {
   "cell_type": "code",
   "execution_count": 82,
   "id": "compatible-submission",
   "metadata": {},
   "outputs": [
    {
     "data": {
      "text/plain": [
       "Index(['cdc_case_earliest_days', 'cdc_report_days'], dtype='object')"
      ]
     },
     "execution_count": 82,
     "metadata": {},
     "output_type": "execute_result"
    }
   ],
   "source": [
    "# df.plot(kind='scatter', x='cdc_case_earliest_days', y='cdc_report_days')\n",
    "df[numeric_columns].columns"
   ]
  },
  {
   "cell_type": "code",
   "execution_count": 83,
   "id": "awful-wound",
   "metadata": {},
   "outputs": [
    {
     "data": {
      "text/html": [
       "<div>\n",
       "<style scoped>\n",
       "    .dataframe tbody tr th:only-of-type {\n",
       "        vertical-align: middle;\n",
       "    }\n",
       "\n",
       "    .dataframe tbody tr th {\n",
       "        vertical-align: top;\n",
       "    }\n",
       "\n",
       "    .dataframe thead th {\n",
       "        text-align: right;\n",
       "    }\n",
       "</style>\n",
       "<table border=\"1\" class=\"dataframe\">\n",
       "  <thead>\n",
       "    <tr style=\"text-align: right;\">\n",
       "      <th></th>\n",
       "      <th>cdc_case_earliest_days</th>\n",
       "      <th>cdc_report_days</th>\n",
       "    </tr>\n",
       "  </thead>\n",
       "  <tbody>\n",
       "    <tr>\n",
       "      <th>0</th>\n",
       "      <td>304</td>\n",
       "      <td>292.0</td>\n",
       "    </tr>\n",
       "  </tbody>\n",
       "</table>\n",
       "</div>"
      ],
      "text/plain": [
       "   cdc_case_earliest_days  cdc_report_days\n",
       "0                     304            292.0"
      ]
     },
     "execution_count": 83,
     "metadata": {},
     "output_type": "execute_result"
    }
   ],
   "source": [
    "df[numeric_columns].head(1)"
   ]
  },
  {
   "cell_type": "code",
   "execution_count": 84,
   "id": "foster-karma",
   "metadata": {},
   "outputs": [
    {
     "data": {
      "text/plain": [
       "<seaborn.axisgrid.PairGrid at 0x1c6abe61f70>"
      ]
     },
     "execution_count": 84,
     "metadata": {},
     "output_type": "execute_result"
    },
    {
     "data": {
      "image/png": "[encoded data removed]",
      "text/plain": [
       "<Figure size 360x360 with 6 Axes>"
      ]
     },
     "metadata": {
      "needs_background": "light"
     },
     "output_type": "display_data"
    }
   ],
   "source": [
    "sns.pairplot(df[numeric_columns],\n",
    "    x_vars=[\"cdc_case_earliest_days\", \"cdc_report_days\"],\n",
    "    y_vars=[\"cdc_case_earliest_days\", \"cdc_report_days\"],\n",
    "    plot_kws=dict(marker=\"+\", linewidth=1),\n",
    "    diag_kws=dict(fill=False),\n",
    ")"
   ]
  },
  {
   "cell_type": "markdown",
   "id": "bronze-device",
   "metadata": {},
   "source": [
    "### Categorical vs Categorical feature plots"
   ]
  },
  {
   "cell_type": "code",
   "execution_count": 85,
   "id": "divine-veteran",
   "metadata": {},
   "outputs": [
    {
     "name": "stdout",
     "output_type": "stream",
     "text": [
      "current_status\n",
      "Index \t Count\n",
      "Probable Case \t 633\n",
      "Laboratory-confirmed case \t 8912\n"
     ]
    },
    {
     "data": {
      "text/plain": [
       "(0.0, 100.0)"
      ]
     },
     "execution_count": 85,
     "metadata": {},
     "output_type": "execute_result"
    },
    {
     "data": {
      "image/png": "[encoded data removed]",
      "text/plain": [
       "<Figure size 1080x504 with 1 Axes>"
      ]
     },
     "metadata": {
      "needs_background": "light"
     },
     "output_type": "display_data"
    }
   ],
   "source": [
    "#Finding unique values from the column and arrange in 1D array\n",
    "current_status = pd.unique(df[\"current_status\"].ravel())\n",
    "\n",
    "# add new column and set values to zero\n",
    "df['percent'] = 0\n",
    "\n",
    "#print header\n",
    "print(\"current_status\")\n",
    "print(\"Index \\t Count\")\n",
    "\n",
    "# for each current status category\n",
    "for i in current_status:\n",
    "    \n",
    "    count = df[df[\"current_status\"] == i].count()['death_yn']\n",
    "    count_percentage = (1 / count) * 100\n",
    "        \n",
    "    # print out index vs count\n",
    "    print(i, \"\\t\", count)\n",
    "    \n",
    "    index_list = df[df['current_status'] == i].index.tolist()\n",
    "    for ind in index_list:\n",
    "        df.loc[ind, 'percent'] = count_percentage\n",
    "        \n",
    "group = df[['percent','death_yn','current_status']].groupby(['current_status','death_yn']).sum()\n",
    "\n",
    "my_plot = group.unstack().plot(kind='bar', stacked=True, title=\"current_status vs death_yn\", figsize=(15,7), grid=True)\n",
    "\n",
    "# add legend\n",
    "\n",
    "my_plot.legend([\"Death(N)\", \"Death(Y)\"])\n",
    "    \n",
    "# add gridlines\n",
    "plt.grid(b=True, which='major', color='#666666', linestyle='-')\n",
    "plt.minorticks_on()\n",
    "plt.grid(b=True, which='minor', color='#999999', linestyle='-', alpha=0.2)\n",
    "\n",
    "my_plot.set_xlabel(\"Case Status\")\n",
    "my_plot.set_ylabel(\"% Deaths\")\n",
    "my_plot.set_ylim([0,100])"
   ]
  },
  {
   "cell_type": "code",
   "execution_count": 86,
   "id": "champion-meaning",
   "metadata": {},
   "outputs": [
    {
     "name": "stdout",
     "output_type": "stream",
     "text": [
      "sex\n",
      "Index \t Count\n",
      "Male \t 4477\n",
      "Female \t 4974\n",
      "Unknown \t 74\n",
      "Missing \t 19\n",
      "Other \t 1\n"
     ]
    },
    {
     "data": {
      "text/plain": [
       "(0.0, 100.0)"
      ]
     },
     "execution_count": 86,
     "metadata": {},
     "output_type": "execute_result"
    },
    {
     "data": {
      "image/png": "[encoded data removed]",
      "text/plain": [
       "<Figure size 1080x504 with 1 Axes>"
      ]
     },
     "metadata": {
      "needs_background": "light"
     },
     "output_type": "display_data"
    }
   ],
   "source": [
    "#Finding unique values from the column and arrange in 1D array\n",
    "sex = pd.unique(df[\"sex\"].ravel())\n",
    "\n",
    "# add new column and set values to zero\n",
    "df['percent'] = 0\n",
    "\n",
    "#print header\n",
    "print(\"sex\")\n",
    "print(\"Index \\t Count\")\n",
    "\n",
    "# for each sex category\n",
    "for i in sex:\n",
    "    \n",
    "    count = df[df[\"sex\"] == i].count()['death_yn']\n",
    "    count_percentage = (1 / count) * 100\n",
    "        \n",
    "    # print out index vs count\n",
    "    print(i, \"\\t\", count)\n",
    "    \n",
    "    index_list = df[df['sex'] == i].index.tolist()\n",
    "    for ind in index_list:\n",
    "        df.loc[ind, 'percent'] = count_percentage\n",
    "        \n",
    "group = df[['percent','sex','death_yn']].groupby(['sex','death_yn']).sum()\n",
    "\n",
    "my_plot = group.unstack().plot(kind='bar', stacked=True, title=\"death_yn vs sex\", figsize=(15,7), grid=True)\n",
    "\n",
    "# add legend\n",
    "\n",
    "my_plot.legend([\"Death(N)\", \"Death(Y)\"])\n",
    "    \n",
    "# add gridlines\n",
    "plt.grid(b=True, which='major', color='#666666', linestyle='-')\n",
    "plt.minorticks_on()\n",
    "plt.grid(b=True, which='minor', color='#999999', linestyle='-', alpha=0.2)\n",
    "\n",
    "my_plot.set_xlabel(\"Sex Category\")\n",
    "my_plot.set_ylabel(\"% Death\")\n",
    "my_plot.set_ylim([0,100])"
   ]
  },
  {
   "cell_type": "code",
   "execution_count": 87,
   "id": "unauthorized-beaver",
   "metadata": {},
   "outputs": [
    {
     "name": "stdout",
     "output_type": "stream",
     "text": [
      "age_group\n",
      "Index \t Count\n",
      "Missing \t 12\n",
      "20 - 29 Years \t 1762\n",
      "40 - 49 Years \t 1404\n",
      "70 - 79 Years \t 549\n",
      "80+ Years \t 448\n",
      "30 - 39 Years \t 1564\n",
      "50 - 59 Years \t 1336\n",
      "10 - 19 Years \t 994\n",
      "60 - 69 Years \t 1036\n",
      "0 - 9 Years \t 440\n"
     ]
    },
    {
     "data": {
      "text/plain": [
       "(0.0, 100.0)"
      ]
     },
     "execution_count": 87,
     "metadata": {},
     "output_type": "execute_result"
    },
    {
     "data": {
      "image/png": "[encoded data removed]",
      "text/plain": [
       "<Figure size 1080x504 with 1 Axes>"
      ]
     },
     "metadata": {
      "needs_background": "light"
     },
     "output_type": "display_data"
    }
   ],
   "source": [
    "#Finding unique values from the column and arrange in 1D array\n",
    "age_group = pd.unique(df[\"age_group\"].ravel())\n",
    "\n",
    "# add new column and set values to zero\n",
    "df['percent'] = 0\n",
    "\n",
    "#print header\n",
    "print(\"age_group\")\n",
    "print(\"Index \\t Count\")\n",
    "\n",
    "# for each age group category\n",
    "for i in age_group:\n",
    "    \n",
    "    count = df[df[\"age_group\"] == i].count()['death_yn']\n",
    "    count_percentage = (1 / count) * 100\n",
    "        \n",
    "    # print out index vs count\n",
    "    print(i, \"\\t\", count)\n",
    "    \n",
    "    index_list = df[df['age_group'] == i].index.tolist()\n",
    "    for ind in index_list:\n",
    "        df.loc[ind, 'percent'] = count_percentage\n",
    "        \n",
    "group = df[['percent','age_group','death_yn']].groupby(['age_group','death_yn']).sum()\n",
    "\n",
    "my_plot = group.unstack().plot(kind='bar', stacked=True, title=\"death_yn vs age_group\", figsize=(15,7), grid=True)\n",
    "\n",
    "# add legend\n",
    "\n",
    "my_plot.legend([\"Death(N)\", \"Death(Y)\"])\n",
    "    \n",
    "# add gridlines\n",
    "plt.grid(b=True, which='major', color='#666666', linestyle='-')\n",
    "plt.minorticks_on()\n",
    "plt.grid(b=True, which='minor', color='#999999', linestyle='-', alpha=0.2)\n",
    "\n",
    "my_plot.set_xlabel(\"Age Groups\")\n",
    "my_plot.set_ylabel(\"% Death\")\n",
    "my_plot.set_ylim([0,100])"
   ]
  },
  {
   "cell_type": "code",
   "execution_count": 88,
   "id": "accepting-recording",
   "metadata": {},
   "outputs": [
    {
     "name": "stdout",
     "output_type": "stream",
     "text": [
      "race_ethnicity_combined\n",
      "Index \t Count\n",
      "White, Non-Hispanic \t 3296\n",
      "Unknown \t 3604\n",
      "American Indian/Alaska Native, Non-Hispanic \t 66\n",
      "Hispanic/Latino \t 964\n",
      "Black, Non-Hispanic \t 707\n",
      "Multiple/Other, Non-Hispanic \t 532\n",
      "Asian, Non-Hispanic \t 255\n",
      "Missing \t 94\n",
      "Native Hawaiian/Other Pacific Islander, Non-Hispanic \t 27\n"
     ]
    },
    {
     "data": {
      "text/plain": [
       "(0.0, 100.0)"
      ]
     },
     "execution_count": 88,
     "metadata": {},
     "output_type": "execute_result"
    },
    {
     "data": {
      "image/png": "[encoded data removed]",
      "text/plain": [
       "<Figure size 1080x504 with 1 Axes>"
      ]
     },
     "metadata": {
      "needs_background": "light"
     },
     "output_type": "display_data"
    }
   ],
   "source": [
    "#Finding unique values from the column and arrange in 1D array\n",
    "race_ethnicity_combined = pd.unique(df[\"race_ethnicity_combined\"].ravel())\n",
    "\n",
    "# add new column and set values to zero\n",
    "df['percent'] = 0\n",
    "\n",
    "#print header\n",
    "print(\"race_ethnicity_combined\")\n",
    "print(\"Index \\t Count\")\n",
    "\n",
    "# for each combined race category\n",
    "for i in race_ethnicity_combined:\n",
    "    \n",
    "    count = df[df[\"race_ethnicity_combined\"] == i].count()['death_yn']\n",
    "    count_percentage = (1 / count) * 100\n",
    "        \n",
    "    # print out index vs count\n",
    "    print(i, \"\\t\", count)\n",
    "    \n",
    "    index_list = df[df['race_ethnicity_combined'] == i].index.tolist()\n",
    "    for ind in index_list:\n",
    "        df.loc[ind, 'percent'] = count_percentage\n",
    "        \n",
    "group = df[['percent','race_ethnicity_combined','death_yn']].groupby(['race_ethnicity_combined','death_yn']).sum()\n",
    "\n",
    "my_plot = group.unstack().plot(kind='bar', stacked=True, title=\"death_yn vs race_ethnicity_combined\", figsize=(15,7), grid=True)\n",
    "\n",
    "# add legend\n",
    "\n",
    "my_plot.legend([\"Death(N)\", \"Death(Y)\"])\n",
    "    \n",
    "# add gridlines\n",
    "plt.grid(b=True, which='major', color='#666666', linestyle='-')\n",
    "plt.minorticks_on()\n",
    "plt.grid(b=True, which='minor', color='#999999', linestyle='-', alpha=0.2)\n",
    "\n",
    "my_plot.set_xlabel(\"Race & Ethnicity\")\n",
    "my_plot.set_ylabel(\"% Death\")\n",
    "my_plot.set_ylim([0,100])"
   ]
  },
  {
   "cell_type": "code",
   "execution_count": 89,
   "id": "monthly-hepatitis",
   "metadata": {},
   "outputs": [
    {
     "name": "stdout",
     "output_type": "stream",
     "text": [
      "hosp_yn\n",
      "Index \t Count\n",
      "No \t 5133\n",
      "Yes \t 661\n",
      "Missing \t 2099\n",
      "Unknown \t 1651\n",
      "OTH \t 1\n"
     ]
    },
    {
     "data": {
      "text/plain": [
       "(0.0, 100.0)"
      ]
     },
     "execution_count": 89,
     "metadata": {},
     "output_type": "execute_result"
    },
    {
     "data": {
      "image/png": "[encoded data removed]",
      "text/plain": [
       "<Figure size 1080x504 with 1 Axes>"
      ]
     },
     "metadata": {
      "needs_background": "light"
     },
     "output_type": "display_data"
    }
   ],
   "source": [
    "#Finding unique values from the column and arrange in 1D array\n",
    "hosp_yn = pd.unique(df[\"hosp_yn\"].ravel())\n",
    "\n",
    "# add new column and set values to zero\n",
    "df['percent'] = 0\n",
    "\n",
    "#print header\n",
    "print(\"hosp_yn\")\n",
    "print(\"Index \\t Count\")\n",
    "\n",
    "# for each hospitalized category\n",
    "for i in hosp_yn:\n",
    "    \n",
    "    count = df[df[\"hosp_yn\"] == i].count()['death_yn']\n",
    "    count_percentage = (1 / count) * 100\n",
    "        \n",
    "    # print out index vs count\n",
    "    print(i, \"\\t\", count)\n",
    "    \n",
    "    index_list = df[df['hosp_yn'] == i].index.tolist()\n",
    "    for ind in index_list:\n",
    "        df.loc[ind, 'percent'] = count_percentage\n",
    "        \n",
    "group = df[['percent','hosp_yn','death_yn']].groupby(['hosp_yn','death_yn']).sum()\n",
    "\n",
    "my_plot = group.unstack().plot(kind='bar', stacked=True, title=\"death_yn vs hosp_yn\", figsize=(15,7), grid=True)\n",
    "\n",
    "# add legend\n",
    "\n",
    "my_plot.legend([\"Death(N)\", \"Death(Y)\"])\n",
    "    \n",
    "# add gridlines\n",
    "plt.grid(b=True, which='major', color='#666666', linestyle='-')\n",
    "plt.minorticks_on()\n",
    "plt.grid(b=True, which='minor', color='#999999', linestyle='-', alpha=0.2)\n",
    "\n",
    "my_plot.set_xlabel(\"Hospitalized\")\n",
    "my_plot.set_ylabel(\"% Deaths\")\n",
    "my_plot.set_ylim([0,100])"
   ]
  },
  {
   "cell_type": "code",
   "execution_count": 90,
   "id": "laughing-flood",
   "metadata": {},
   "outputs": [
    {
     "name": "stdout",
     "output_type": "stream",
     "text": [
      "icu_yn\n",
      "Index \t Count\n",
      "Missing \t 7194\n",
      "No \t 965\n",
      "Yes \t 83\n",
      "Unknown \t 1303\n"
     ]
    },
    {
     "data": {
      "text/plain": [
       "(0.0, 100.0)"
      ]
     },
     "execution_count": 90,
     "metadata": {},
     "output_type": "execute_result"
    },
    {
     "data": {
      "image/png": "[encoded data removed]",
      "text/plain": [
       "<Figure size 1080x504 with 1 Axes>"
      ]
     },
     "metadata": {
      "needs_background": "light"
     },
     "output_type": "display_data"
    }
   ],
   "source": [
    "#Finding unique values from the column and arrange in 1D array\n",
    "icu_yn = pd.unique(df[\"icu_yn\"].ravel())\n",
    "\n",
    "# add new column and set values to zero\n",
    "df['percent'] = 0\n",
    "\n",
    "#print header\n",
    "print(\"icu_yn\")\n",
    "print(\"Index \\t Count\")\n",
    "\n",
    "# for each ICU category\n",
    "for i in icu_yn:\n",
    "    \n",
    "    count = df[df[\"icu_yn\"] == i].count()['death_yn']\n",
    "    count_percentage = (1 / count) * 100\n",
    "        \n",
    "    # print out index vs count\n",
    "    print(i, \"\\t\", count)\n",
    "    \n",
    "    index_list = df[df['icu_yn'] == i].index.tolist()\n",
    "    for ind in index_list:\n",
    "        df.loc[ind, 'percent'] = count_percentage\n",
    "        \n",
    "group = df[['percent','icu_yn','death_yn']].groupby(['icu_yn','death_yn']).sum()\n",
    "\n",
    "my_plot = group.unstack().plot(kind='bar', stacked=True, title=\"death_yn vs icu_yn\", figsize=(15,7), grid=True)\n",
    "\n",
    "# add legend\n",
    "\n",
    "my_plot.legend([\"Death(N)\", \"Death(Y)\"])\n",
    "    \n",
    "# add gridlines\n",
    "plt.grid(b=True, which='major', color='#666666', linestyle='-')\n",
    "plt.minorticks_on()\n",
    "plt.grid(b=True, which='minor', color='#999999', linestyle='-', alpha=0.2)\n",
    "\n",
    "my_plot.set_xlabel(\"Admitted in ICU\")\n",
    "my_plot.set_ylabel(\"% Death\")\n",
    "my_plot.set_ylim([0,100])"
   ]
  },
  {
   "cell_type": "code",
   "execution_count": 91,
   "id": "transsexual-yesterday",
   "metadata": {},
   "outputs": [
    {
     "name": "stdout",
     "output_type": "stream",
     "text": [
      "medcond_yn\n",
      "Index \t Count\n",
      "Missing \t 7015\n",
      "Unknown \t 801\n",
      "Yes \t 853\n",
      "No \t 876\n"
     ]
    },
    {
     "data": {
      "text/plain": [
       "(0.0, 100.0)"
      ]
     },
     "execution_count": 91,
     "metadata": {},
     "output_type": "execute_result"
    },
    {
     "data": {
      "image/png": "[encoded data removed]",
      "text/plain": [
       "<Figure size 1080x504 with 1 Axes>"
      ]
     },
     "metadata": {
      "needs_background": "light"
     },
     "output_type": "display_data"
    }
   ],
   "source": [
    "#Finding unique values from the column and arrange in 1D array\n",
    "medcond_yn = pd.unique(df[\"medcond_yn\"].ravel())\n",
    "\n",
    "# add new column and set values to zero\n",
    "df['percent'] = 0\n",
    "\n",
    "#print header\n",
    "print(\"medcond_yn\")\n",
    "print(\"Index \\t Count\")\n",
    "\n",
    "# for each medical condition category\n",
    "for i in medcond_yn:\n",
    "    \n",
    "    count = df[df[\"medcond_yn\"] == i].count()['death_yn']\n",
    "    count_percentage = (1 / count) * 100\n",
    "        \n",
    "    # print out index vs count\n",
    "    print(i, \"\\t\", count)\n",
    "    \n",
    "    index_list = df[df['medcond_yn'] == i].index.tolist()\n",
    "    for ind in index_list:\n",
    "        df.loc[ind, 'percent'] = count_percentage\n",
    "        \n",
    "group = df[['percent','medcond_yn','death_yn']].groupby(['medcond_yn','death_yn']).sum()\n",
    "\n",
    "my_plot = group.unstack().plot(kind='bar', stacked=True, title=\"death_yn vs medcond_yn\", figsize=(15,7), grid=True)\n",
    "\n",
    "# add legend\n",
    "\n",
    "my_plot.legend([\"Death(N)\", \"Death(Y)\"])\n",
    "    \n",
    "# add gridlines\n",
    "plt.grid(b=True, which='major', color='#666666', linestyle='-')\n",
    "plt.minorticks_on()\n",
    "plt.grid(b=True, which='minor', color='#999999', linestyle='-', alpha=0.2)\n",
    "\n",
    "my_plot.set_xlabel(\"Previous Medical History\")\n",
    "my_plot.set_ylabel(\"% Death\")\n",
    "my_plot.set_ylim([0,100])"
   ]
  },
  {
   "cell_type": "code",
   "execution_count": 92,
   "id": "weird-century",
   "metadata": {},
   "outputs": [
    {
     "name": "stdout",
     "output_type": "stream",
     "text": [
      "The number of deaths(Yes) for the age group 80+ years\n",
      "(162, 15)\n",
      "\n",
      "The number of deaths(No) for the age group 80+ years\n",
      "(286, 15)\n",
      "\n",
      "The total number of values in age group '80+ years' with respect to deaths : \n",
      "448\n",
      "\n",
      "% of people not dead :\n",
      "63.839285714285715\n"
     ]
    }
   ],
   "source": [
    "# confirmation of analysis provided in the graph\n",
    "\n",
    "print(\"The number of deaths(Yes) for the age group 80+ years\")\n",
    "print(df[(df[\"age_group\"] == \"80+ Years\") & (df[\"death_yn\"] == \"Yes\")].shape)\n",
    "no_of_yes = df[(df[\"age_group\"] == \"80+ Years\") & (df[\"death_yn\"] == \"Yes\")].shape[0]\n",
    "\n",
    "print(\"\\nThe number of deaths(No) for the age group 80+ years\")\n",
    "print(df[(df[\"age_group\"] == \"80+ Years\") & (df[\"death_yn\"] == \"No\")].shape)\n",
    "no_of_NO = df[(df[\"age_group\"] == \"80+ Years\") & (df[\"death_yn\"] == \"No\")].shape[0]\n",
    "# df[df[\"age_group\"] == \"80+ Years\"].count()['death_yn']\n",
    "\n",
    "print(\"\\nThe total number of values in age group '80+ years' with respect to deaths : \")\n",
    "print(no_of_yes+no_of_NO) #which is expected according to the graph\n",
    "\n",
    "print(\"\\n% of people not dead :\")\n",
    "print((no_of_NO*100)/(no_of_yes+no_of_NO))"
   ]
  },
  {
   "cell_type": "markdown",
   "id": "surprised-flesh",
   "metadata": {},
   "source": [
    "### Continuous-categorical feature plots"
   ]
  },
  {
   "cell_type": "code",
   "execution_count": 93,
   "id": "frequent-black",
   "metadata": {},
   "outputs": [
    {
     "data": {
      "text/plain": [
       "<matplotlib.axes._subplots.AxesSubplot at 0x1c6ad1f2520>"
      ]
     },
     "execution_count": 93,
     "metadata": {},
     "output_type": "execute_result"
    },
    {
     "data": {
      "text/plain": [
       "<Figure size 432x288 with 0 Axes>"
      ]
     },
     "metadata": {},
     "output_type": "display_data"
    },
    {
     "data": {
      "image/png": "[encoded data removed]",
      "text/plain": [
       "<Figure size 720x504 with 1 Axes>"
      ]
     },
     "metadata": {
      "needs_background": "light"
     },
     "output_type": "display_data"
    }
   ],
   "source": [
    "# boxplot b/w cdc_case_earliest_days and death_yn\n",
    "plt.figure()\n",
    "flierprops = dict(marker='o', markerfacecolor='green', markersize=6, linestyle='none')\n",
    "df.boxplot(column=['cdc_case_earliest_days'], by=['death_yn'], flierprops=flierprops, figsize=(10,7))"
   ]
  },
  {
   "cell_type": "code",
   "execution_count": 94,
   "id": "local-thickness",
   "metadata": {},
   "outputs": [
    {
     "name": "stdout",
     "output_type": "stream",
     "text": [
      "\u001b[1mMean\u001b[0m\n",
      "224.37125748502993\n"
     ]
    },
    {
     "data": {
      "image/png": "[encoded data removed]",
      "text/plain": [
       "<Figure size 504x504 with 1 Axes>"
      ]
     },
     "metadata": {
      "needs_background": "light"
     },
     "output_type": "display_data"
    }
   ],
   "source": [
    "df[df['death_yn'] == \"Yes\"][['cdc_case_earliest_days']].plot(kind='hist',figsize=(7,7), bins=10, title=\"death vs cdc days\")\n",
    "plt.grid(b=True, which='major', color='#666666', linestyle='-')\n",
    "plt.minorticks_on()\n",
    "plt.grid(b=True, which='minor', color='#999999', linestyle='-', alpha=0.2)\n",
    "\n",
    "# to compare the mean value with the plotted box-graph above\n",
    "print('\\033[1m' +'Mean'+ '\\033[0m')\n",
    "print(df[df['death_yn'] == \"Yes\"]['cdc_case_earliest_days'].mean())"
   ]
  },
  {
   "cell_type": "code",
   "execution_count": 95,
   "id": "particular-october",
   "metadata": {},
   "outputs": [
    {
     "name": "stdout",
     "output_type": "stream",
     "text": [
      "\u001b[1mMean\u001b[0m\n",
      "275.08131581804366\n"
     ]
    },
    {
     "data": {
      "image/png": "[encoded data removed]",
      "text/plain": [
       "<Figure size 504x504 with 1 Axes>"
      ]
     },
     "metadata": {
      "needs_background": "light"
     },
     "output_type": "display_data"
    }
   ],
   "source": [
    "df[df['death_yn'] == \"No\"][['cdc_case_earliest_days']].plot(kind='hist',figsize=(7,7), bins=10, title=\"death vs cdc days\")\n",
    "plt.grid(b=True, which='major', color='#666666', linestyle='-')\n",
    "plt.minorticks_on()\n",
    "plt.grid(b=True, which='minor', color='#999999', linestyle='-', alpha=0.2)\n",
    "\n",
    "# to compare the mean value with the plotted box-graph above\n",
    "print('\\033[1m'+'Mean'+ '\\033[0m')\n",
    "print(df[df['death_yn'] == \"No\"]['cdc_case_earliest_days'].mean())"
   ]
  },
  {
   "cell_type": "markdown",
   "id": "activated-citizen",
   "metadata": {},
   "source": [
    "2. Plot cdc report days vs deaths"
   ]
  },
  {
   "cell_type": "code",
   "execution_count": 96,
   "id": "bibliographic-peace",
   "metadata": {},
   "outputs": [
    {
     "data": {
      "text/plain": [
       "<matplotlib.axes._subplots.AxesSubplot at 0x1c6abff6e20>"
      ]
     },
     "execution_count": 96,
     "metadata": {},
     "output_type": "execute_result"
    },
    {
     "data": {
      "text/plain": [
       "<Figure size 432x288 with 0 Axes>"
      ]
     },
     "metadata": {},
     "output_type": "display_data"
    },
    {
     "data": {
      "image/png": "[encoded data removed]",
      "text/plain": [
       "<Figure size 720x504 with 1 Axes>"
      ]
     },
     "metadata": {
      "needs_background": "light"
     },
     "output_type": "display_data"
    }
   ],
   "source": [
    "# boxplot b/w cdc_report_days and death_yn\n",
    "plt.figure()\n",
    "flierprops = dict(marker='o', markerfacecolor='green', markersize=6, linestyle='none')\n",
    "df.boxplot(column=['cdc_report_days'], by=['death_yn'], flierprops=flierprops, figsize=(10,7))"
   ]
  },
  {
   "cell_type": "code",
   "execution_count": 97,
   "id": "consolidated-privacy",
   "metadata": {},
   "outputs": [
    {
     "name": "stdout",
     "output_type": "stream",
     "text": [
      "\u001b[1mMean\u001b[0m\n",
      "236.811377245509\n"
     ]
    },
    {
     "data": {
      "image/png": "[encoded data removed]",
      "text/plain": [
       "<Figure size 504x504 with 1 Axes>"
      ]
     },
     "metadata": {
      "needs_background": "light"
     },
     "output_type": "display_data"
    }
   ],
   "source": [
    "df[df['death_yn'] == \"Yes\"][['cdc_report_days']].plot(kind='hist',figsize=(7,7), bins=10, title=\"death vs cdc report days\")\n",
    "plt.grid(b=True, which='major', color='#666666', linestyle='-')\n",
    "plt.minorticks_on()\n",
    "plt.grid(b=True, which='minor', color='#999999', linestyle='-', alpha=0.2)\n",
    "\n",
    "# to compare the mean value with the plotted box-graph above\n",
    "print('\\033[1m'+'Mean'+ '\\033[0m')\n",
    "print(df[df['death_yn'] == \"Yes\"]['cdc_report_days'].mean())"
   ]
  },
  {
   "cell_type": "code",
   "execution_count": 98,
   "id": "signal-leeds",
   "metadata": {},
   "outputs": [
    {
     "name": "stdout",
     "output_type": "stream",
     "text": [
      "\u001b[1mMean\u001b[0m\n",
      "274.071544891977\n"
     ]
    },
    {
     "data": {
      "image/png": "[encoded data removed]",
      "text/plain": [
       "<Figure size 504x504 with 1 Axes>"
      ]
     },
     "metadata": {
      "needs_background": "light"
     },
     "output_type": "display_data"
    }
   ],
   "source": [
    "df[df['death_yn'] == \"Yes\"][['cdc_report_days']].plot(kind='hist',figsize=(7,7), bins=10, title=\"death vs cdc report days\")\n",
    "plt.grid(b=True, which='major', color='#666666', linestyle='-')\n",
    "plt.minorticks_on()\n",
    "plt.grid(b=True, which='minor', color='#999999', linestyle='-', alpha=0.2)\n",
    "\n",
    "# to compare the mean value with the plotted box-graph above\n",
    "print('\\033[1m'+'Mean'+ '\\033[0m')\n",
    "print(df[df['death_yn'] == \"No\"]['cdc_report_days'].mean())"
   ]
  },
  {
   "cell_type": "markdown",
   "id": "reported-philip",
   "metadata": {},
   "source": [
    "From above results, the graphs indicate that the no of deaths(Yes, No) are evenly distributed among all the range of dates in the pandemic period. This trend of ouput which is expected as the cdc_report_days is a depriciated value to the cdc_case_earliest_days. Hence the values are distributed among the whole range.\n",
    "Also, it is the reason that the no of deaths are available in all range of days which is also shown in the boxplot above.\n"
   ]
  },
  {
   "cell_type": "markdown",
   "id": "representative-airplane",
   "metadata": {},
   "source": [
    "# (4). Transform, extend or combine the existing features to create a few new features\n"
   ]
  },
  {
   "cell_type": "code",
   "execution_count": 99,
   "id": "generous-combining",
   "metadata": {},
   "outputs": [
    {
     "data": {
      "text/html": [
       "<div>\n",
       "<style scoped>\n",
       "    .dataframe tbody tr th:only-of-type {\n",
       "        vertical-align: middle;\n",
       "    }\n",
       "\n",
       "    .dataframe tbody tr th {\n",
       "        vertical-align: top;\n",
       "    }\n",
       "\n",
       "    .dataframe thead th {\n",
       "        text-align: right;\n",
       "    }\n",
       "</style>\n",
       "<table border=\"1\" class=\"dataframe\">\n",
       "  <thead>\n",
       "    <tr style=\"text-align: right;\">\n",
       "      <th></th>\n",
       "      <th>cdc_case_earliest_days</th>\n",
       "      <th>cdc_report_days</th>\n",
       "      <th>current_status</th>\n",
       "      <th>sex</th>\n",
       "      <th>age_group</th>\n",
       "      <th>race_ethnicity_combined</th>\n",
       "      <th>hosp_yn</th>\n",
       "      <th>icu_yn</th>\n",
       "      <th>death_yn</th>\n",
       "      <th>medcond_yn</th>\n",
       "      <th>cdc_case_earliest_dt</th>\n",
       "      <th>cdc_report_dt</th>\n",
       "      <th>pos_spec_dt</th>\n",
       "      <th>onset_dt</th>\n",
       "      <th>percent</th>\n",
       "    </tr>\n",
       "  </thead>\n",
       "  <tbody>\n",
       "    <tr>\n",
       "      <th>0</th>\n",
       "      <td>304</td>\n",
       "      <td>292.0</td>\n",
       "      <td>Probable Case</td>\n",
       "      <td>Male</td>\n",
       "      <td>Missing</td>\n",
       "      <td>White, Non-Hispanic</td>\n",
       "      <td>No</td>\n",
       "      <td>Missing</td>\n",
       "      <td>No</td>\n",
       "      <td>Missing</td>\n",
       "      <td>2020-11-02</td>\n",
       "      <td>2020-11-05</td>\n",
       "      <td>NaT</td>\n",
       "      <td>2020-11-02</td>\n",
       "      <td>0.014255</td>\n",
       "    </tr>\n",
       "    <tr>\n",
       "      <th>1</th>\n",
       "      <td>333</td>\n",
       "      <td>273.0</td>\n",
       "      <td>Laboratory-confirmed case</td>\n",
       "      <td>Male</td>\n",
       "      <td>20 - 29 Years</td>\n",
       "      <td>Unknown</td>\n",
       "      <td>No</td>\n",
       "      <td>Missing</td>\n",
       "      <td>No</td>\n",
       "      <td>Missing</td>\n",
       "      <td>2020-12-01</td>\n",
       "      <td>NaT</td>\n",
       "      <td>NaT</td>\n",
       "      <td>NaT</td>\n",
       "      <td>0.014255</td>\n",
       "    </tr>\n",
       "    <tr>\n",
       "      <th>2</th>\n",
       "      <td>300</td>\n",
       "      <td>285.0</td>\n",
       "      <td>Laboratory-confirmed case</td>\n",
       "      <td>Male</td>\n",
       "      <td>40 - 49 Years</td>\n",
       "      <td>Unknown</td>\n",
       "      <td>No</td>\n",
       "      <td>Missing</td>\n",
       "      <td>No</td>\n",
       "      <td>Missing</td>\n",
       "      <td>2020-10-29</td>\n",
       "      <td>2020-10-29</td>\n",
       "      <td>NaT</td>\n",
       "      <td>2020-10-29</td>\n",
       "      <td>0.014255</td>\n",
       "    </tr>\n",
       "    <tr>\n",
       "      <th>3</th>\n",
       "      <td>118</td>\n",
       "      <td>116.0</td>\n",
       "      <td>Laboratory-confirmed case</td>\n",
       "      <td>Female</td>\n",
       "      <td>70 - 79 Years</td>\n",
       "      <td>Unknown</td>\n",
       "      <td>No</td>\n",
       "      <td>No</td>\n",
       "      <td>No</td>\n",
       "      <td>Unknown</td>\n",
       "      <td>2020-04-30</td>\n",
       "      <td>2020-05-13</td>\n",
       "      <td>2020-04-30</td>\n",
       "      <td>2020-04-30</td>\n",
       "      <td>0.124844</td>\n",
       "    </tr>\n",
       "    <tr>\n",
       "      <th>4</th>\n",
       "      <td>104</td>\n",
       "      <td>99.0</td>\n",
       "      <td>Laboratory-confirmed case</td>\n",
       "      <td>Female</td>\n",
       "      <td>80+ Years</td>\n",
       "      <td>White, Non-Hispanic</td>\n",
       "      <td>Yes</td>\n",
       "      <td>Yes</td>\n",
       "      <td>Yes</td>\n",
       "      <td>Yes</td>\n",
       "      <td>2020-04-16</td>\n",
       "      <td>2020-04-26</td>\n",
       "      <td>2020-04-17</td>\n",
       "      <td>2020-04-16</td>\n",
       "      <td>0.117233</td>\n",
       "    </tr>\n",
       "  </tbody>\n",
       "</table>\n",
       "</div>"
      ],
      "text/plain": [
       "   cdc_case_earliest_days  cdc_report_days             current_status     sex  \\\n",
       "0                     304            292.0              Probable Case    Male   \n",
       "1                     333            273.0  Laboratory-confirmed case    Male   \n",
       "2                     300            285.0  Laboratory-confirmed case    Male   \n",
       "3                     118            116.0  Laboratory-confirmed case  Female   \n",
       "4                     104             99.0  Laboratory-confirmed case  Female   \n",
       "\n",
       "       age_group race_ethnicity_combined hosp_yn   icu_yn death_yn medcond_yn  \\\n",
       "0        Missing     White, Non-Hispanic      No  Missing       No    Missing   \n",
       "1  20 - 29 Years                 Unknown      No  Missing       No    Missing   \n",
       "2  40 - 49 Years                 Unknown      No  Missing       No    Missing   \n",
       "3  70 - 79 Years                 Unknown      No       No       No    Unknown   \n",
       "4      80+ Years     White, Non-Hispanic     Yes      Yes      Yes        Yes   \n",
       "\n",
       "  cdc_case_earliest_dt cdc_report_dt pos_spec_dt   onset_dt   percent  \n",
       "0           2020-11-02    2020-11-05         NaT 2020-11-02  0.014255  \n",
       "1           2020-12-01           NaT         NaT        NaT  0.014255  \n",
       "2           2020-10-29    2020-10-29         NaT 2020-10-29  0.014255  \n",
       "3           2020-04-30    2020-05-13  2020-04-30 2020-04-30  0.124844  \n",
       "4           2020-04-16    2020-04-26  2020-04-17 2020-04-16  0.117233  "
      ]
     },
     "execution_count": 99,
     "metadata": {},
     "output_type": "execute_result"
    }
   ],
   "source": [
    "df.head(5)"
   ]
  },
  {
   "cell_type": "markdown",
   "id": "tracked-front",
   "metadata": {},
   "source": [
    "#### **New feature 1** \n",
    "- hosp_miss : quantifies if data is missing or available \n",
    "- From data analysis if an entry has been missing, the type of missing is not so important\n",
    "- Therefore it is makes sense to derive a feature with a binary outcome, Missing or not"
   ]
  },
  {
   "cell_type": "code",
   "execution_count": 100,
   "id": "promotional-constitution",
   "metadata": {},
   "outputs": [
    {
     "data": {
      "text/plain": [
       "<matplotlib.axes._subplots.AxesSubplot at 0x1c6ace6de50>"
      ]
     },
     "execution_count": 100,
     "metadata": {},
     "output_type": "execute_result"
    },
    {
     "data": {
      "image/png": "[encoded data removed]",
      "text/plain": [
       "<Figure size 864x720 with 1 Axes>"
      ]
     },
     "metadata": {
      "needs_background": "light"
     },
     "output_type": "display_data"
    }
   ],
   "source": [
    "df['hosp_miss'] = df['hosp_yn']!= ('Missing')\n",
    "df['hosp_miss'] = df['hosp_miss'].astype('category')\n",
    "df[\"hosp_miss\"].value_counts().plot(kind='bar', figsize=(12,10))"
   ]
  },
  {
   "cell_type": "code",
   "execution_count": 101,
   "id": "surgical-hindu",
   "metadata": {},
   "outputs": [
    {
     "name": "stdout",
     "output_type": "stream",
     "text": [
      "hosp_miss\n",
      "Index \t Count\n",
      "True \t 7446\n",
      "False \t 2099\n"
     ]
    },
    {
     "data": {
      "text/plain": [
       "(0.0, 100.0)"
      ]
     },
     "execution_count": 101,
     "metadata": {},
     "output_type": "execute_result"
    },
    {
     "data": {
      "image/png": "[encoded data removed]",
      "text/plain": [
       "<Figure size 1080x504 with 1 Axes>"
      ]
     },
     "metadata": {
      "needs_background": "light"
     },
     "output_type": "display_data"
    }
   ],
   "source": [
    "#Using code from the module lab\n",
    "hosp_yn = pd.unique(df['hosp_miss'].ravel())\n",
    "\n",
    "# add new column and set values to zero\n",
    "df['percent'] = 0\n",
    "\n",
    "#print header\n",
    "print('hosp_miss')\n",
    "print(\"Index \\t Count\")\n",
    "\n",
    "# for each income level\n",
    "for i in hosp_yn:\n",
    "    \n",
    "    count = df[df['hosp_miss'] == i].count()['death_yn']\n",
    "    count_percentage = (1 / count) * 100\n",
    "    \n",
    "    # print out index vs count\n",
    "    print(i, \"\\t\", count)\n",
    "    \n",
    "    index_list = df[df['hosp_miss'] == i].index.tolist()\n",
    "    for ind in index_list:\n",
    "        df.loc[ind, 'percent'] = count_percentage\n",
    "        \n",
    "group = df[['percent','hosp_miss','death_yn']].groupby(['hosp_miss','death_yn']).sum()\n",
    "\n",
    "my_plot = group.unstack().plot(kind='bar', stacked=True, title=\"Death vs hosp_miss\", figsize=(15,7))\n",
    "\n",
    "# add legend\n",
    "red_patch = mpatches.Patch(color='orange', label='Death(Y)')\n",
    "blue_patch = mpatches.Patch(color='blue', label='Death(N)')\n",
    "my_plot.legend(handles=[red_patch, blue_patch], frameon = True)\n",
    "\n",
    "# add gridlines\n",
    "plt.grid(b=True, which='major', color='#666666', linestyle='-')\n",
    "plt.minorticks_on()\n",
    "plt.grid(b=True, which='minor', color='#999999', linestyle='-', alpha=0.2)\n",
    "\n",
    "# set labels\n",
    "my_plot.set_xlabel(\"Hospital Missing\")\n",
    "my_plot.set_ylabel(\"% Death\")\n",
    "my_plot.set_ylim([0,100])"
   ]
  },
  {
   "cell_type": "markdown",
   "id": "intense-folder",
   "metadata": {},
   "source": [
    "#### **New feature 2** \n",
    "- med_miss : quantifies if data is missing or available \n",
    "- From analysis of the data if an entry has been missing, the type of missing is not so important\n",
    "- Therefore it is makes sense to derive a feature with a binary outcome, Missing or not"
   ]
  },
  {
   "cell_type": "code",
   "execution_count": 102,
   "id": "running-litigation",
   "metadata": {},
   "outputs": [
    {
     "data": {
      "text/plain": [
       "<matplotlib.axes._subplots.AxesSubplot at 0x1c6ac7c7910>"
      ]
     },
     "execution_count": 102,
     "metadata": {},
     "output_type": "execute_result"
    },
    {
     "data": {
      "image/png": "[encoded data removed]",
      "text/plain": [
       "<Figure size 864x720 with 1 Axes>"
      ]
     },
     "metadata": {
      "needs_background": "light"
     },
     "output_type": "display_data"
    }
   ],
   "source": [
    "df['med_miss'] = df['medcond_yn']!= ('Missing')\n",
    "df['med_miss'] = df['med_miss'].astype('category')\n",
    "df[\"med_miss\"].value_counts().plot(kind='bar', figsize=(12,10))"
   ]
  },
  {
   "cell_type": "code",
   "execution_count": 103,
   "id": "fatty-maria",
   "metadata": {},
   "outputs": [
    {
     "name": "stdout",
     "output_type": "stream",
     "text": [
      "med_miss\n",
      "Index \t Count\n",
      "False \t 7015\n",
      "True \t 2530\n"
     ]
    },
    {
     "data": {
      "text/plain": [
       "(0.0, 100.0)"
      ]
     },
     "execution_count": 103,
     "metadata": {},
     "output_type": "execute_result"
    },
    {
     "data": {
      "image/png": "[encoded data removed]",
      "text/plain": [
       "<Figure size 1080x504 with 1 Axes>"
      ]
     },
     "metadata": {
      "needs_background": "light"
     },
     "output_type": "display_data"
    }
   ],
   "source": [
    "#Using code from the module lab\n",
    "hosp_yn = pd.unique(df['med_miss'].ravel())\n",
    "\n",
    "# add new column and set values to zero\n",
    "df['percent'] = 0\n",
    "\n",
    "#print header\n",
    "print('med_miss')\n",
    "print(\"Index \\t Count\")\n",
    "\n",
    "# for each income level\n",
    "for i in hosp_yn:\n",
    "    \n",
    "    count = df[df['med_miss'] == i].count()['death_yn']\n",
    "    count_percentage = (1 / count) * 100\n",
    "    \n",
    "    # print out index vs count\n",
    "    print(i, \"\\t\", count)\n",
    "    \n",
    "    index_list = df[df['med_miss'] == i].index.tolist()\n",
    "    for ind in index_list:\n",
    "        df.loc[ind, 'percent'] = count_percentage\n",
    "        \n",
    "group = df[['percent','med_miss','death_yn']].groupby(['med_miss','death_yn']).sum()\n",
    "\n",
    "my_plot = group.unstack().plot(kind='bar', stacked=True, title=\"Death vs med_miss\", figsize=(15,7))\n",
    "\n",
    "# add legend\n",
    "red_patch = mpatches.Patch(color='orange', label='Death(Y)')\n",
    "blue_patch = mpatches.Patch(color='blue', label='Death(N)')\n",
    "my_plot.legend(handles=[red_patch, blue_patch], frameon = True)\n",
    "\n",
    "# add gridlines\n",
    "plt.grid(b=True, which='major', color='#666666', linestyle='-')\n",
    "plt.minorticks_on()\n",
    "plt.grid(b=True, which='minor', color='#999999', linestyle='-', alpha=0.2)\n",
    "\n",
    "# set labels\n",
    "my_plot.set_xlabel(\"Medical Missing\")\n",
    "my_plot.set_ylabel(\"% Death\")\n",
    "my_plot.set_ylim([0,100])"
   ]
  },
  {
   "cell_type": "markdown",
   "id": "ideal-healthcare",
   "metadata": {},
   "source": [
    "#### **New feature 3** \n",
    "- icu_yn_miss : quantifies if data is missing or available \n",
    "- From analysis of the data if an entry has been missing, the type of missing is not so important\n",
    "- Therefore it is makes sense to derive a feature with a binary outcome, Missing or not"
   ]
  },
  {
   "cell_type": "code",
   "execution_count": 104,
   "id": "exotic-colonial",
   "metadata": {},
   "outputs": [
    {
     "data": {
      "text/plain": [
       "<matplotlib.axes._subplots.AxesSubplot at 0x1c6ad4ec850>"
      ]
     },
     "execution_count": 104,
     "metadata": {},
     "output_type": "execute_result"
    },
    {
     "data": {
      "image/png": "[encoded data removed]",
      "text/plain": [
       "<Figure size 864x720 with 1 Axes>"
      ]
     },
     "metadata": {
      "needs_background": "light"
     },
     "output_type": "display_data"
    }
   ],
   "source": [
    "df['icu_yn_miss'] = df['icu_yn']!= ('Missing')\n",
    "df['icu_yn_miss'] = df['icu_yn_miss'].astype('category')\n",
    "df[\"icu_yn_miss\"].value_counts().plot(kind='bar', figsize=(12,10))"
   ]
  },
  {
   "cell_type": "code",
   "execution_count": 105,
   "id": "integrated-challenge",
   "metadata": {},
   "outputs": [
    {
     "name": "stdout",
     "output_type": "stream",
     "text": [
      "icu_yn_miss\n",
      "Index \t Count\n",
      "False \t 7194\n",
      "True \t 2351\n"
     ]
    },
    {
     "data": {
      "text/plain": [
       "(0.0, 100.0)"
      ]
     },
     "execution_count": 105,
     "metadata": {},
     "output_type": "execute_result"
    },
    {
     "data": {
      "image/png": "[encoded data removed]",
      "text/plain": [
       "<Figure size 1080x504 with 1 Axes>"
      ]
     },
     "metadata": {
      "needs_background": "light"
     },
     "output_type": "display_data"
    }
   ],
   "source": [
    "#Using code from the module lab\n",
    "icu_yn = pd.unique(df['icu_yn_miss'].ravel())\n",
    "\n",
    "# add new column and set values to zero\n",
    "df['percent'] = 0\n",
    "\n",
    "#print header\n",
    "print('icu_yn_miss')\n",
    "print(\"Index \\t Count\")\n",
    "\n",
    "# for each income level\n",
    "for i in icu_yn:\n",
    "    \n",
    "    count = df[df['icu_yn_miss'] == i].count()['death_yn']\n",
    "    count_percentage = (1 / count) * 100\n",
    "    \n",
    "    # print out index vs count\n",
    "    print(i, \"\\t\", count)\n",
    "    \n",
    "    index_list = df[df['icu_yn_miss'] == i].index.tolist()\n",
    "    for ind in index_list:\n",
    "        df.loc[ind, 'percent'] = count_percentage\n",
    "        \n",
    "group = df[['percent','icu_yn_miss','death_yn']].groupby(['icu_yn_miss','death_yn']).sum()\n",
    "\n",
    "my_plot = group.unstack().plot(kind='bar', stacked=True, title=\"Death vs icu_yn_miss\", figsize=(15,7))\n",
    "\n",
    "# add legend\n",
    "red_patch = mpatches.Patch(color='orange', label='Death(Y)')\n",
    "blue_patch = mpatches.Patch(color='blue', label='Death(N)')\n",
    "my_plot.legend(handles=[red_patch, blue_patch], frameon = True)\n",
    "\n",
    "# add gridlines\n",
    "plt.grid(b=True, which='major', color='#666666', linestyle='-')\n",
    "plt.minorticks_on()\n",
    "plt.grid(b=True, which='minor', color='#999999', linestyle='-', alpha=0.2)\n",
    "\n",
    "# set labels\n",
    "my_plot.set_xlabel(\"ICU Missing\")\n",
    "my_plot.set_ylabel(\"% Death\")\n",
    "my_plot.set_ylim([0,100])"
   ]
  },
  {
   "cell_type": "code",
   "execution_count": 106,
   "id": "previous-unknown",
   "metadata": {},
   "outputs": [
    {
     "data": {
      "text/plain": [
       "20 - 29 Years    1762\n",
       "30 - 39 Years    1564\n",
       "40 - 49 Years    1404\n",
       "50 - 59 Years    1336\n",
       "60 - 69 Years    1036\n",
       "10 - 19 Years     994\n",
       "70 - 79 Years     549\n",
       "80+ Years         448\n",
       "0 - 9 Years       440\n",
       "Missing            12\n",
       "Name: age_group, dtype: int64"
      ]
     },
     "execution_count": 106,
     "metadata": {},
     "output_type": "execute_result"
    }
   ],
   "source": [
    "df.age_group.value_counts()"
   ]
  },
  {
   "cell_type": "markdown",
   "id": "informative-sharing",
   "metadata": {},
   "source": [
    "\n",
    "The categories in the age_group feature is combined and created a new feature called life_stages is created.\n",
    "Here different age groups are clubbed as life stage (i.e. 0-9 years is called a child). Simillarly all other age ranges are converted as child, young, adult, old.\n",
    "Hence using this feature we can obtain the no of deaths for a category(eg: young). This helps the model to obtain better results"
   ]
  },
  {
   "cell_type": "code",
   "execution_count": 107,
   "id": "successful-negotiation",
   "metadata": {},
   "outputs": [],
   "source": [
    "# replace the data with the life stages in the age_group feature\n",
    "df['age_category'] = df['age_group'].replace({'0 - 9 Years':'Child', '10 - 19 Years':'Young', '20 - 29 Years':'Young', '30 - 39 Years':'Adult', '40 - 49 Years':'Adult', '50 - 59 Years':'Adult', '60 - 69 Years':'Old', '70 - 79 Years':'Old', '80+ Years':'Old', 'Missing':'Missing'})\n",
    "df['age_category'] = df['age_category'].astype('category')"
   ]
  },
  {
   "cell_type": "code",
   "execution_count": 108,
   "id": "systematic-titanium",
   "metadata": {},
   "outputs": [
    {
     "data": {
      "image/png": "[encoded data removed]",
      "text/plain": [
       "<Figure size 576x360 with 1 Axes>"
      ]
     },
     "metadata": {
      "needs_background": "light"
     },
     "output_type": "display_data"
    }
   ],
   "source": [
    "df['age_category'].value_counts(dropna=False).plot(kind='bar', title='age_category', figsize=(8,5))\n",
    "plt.xticks(rotation=30, ha='right')\n",
    "plt.ylabel('Frequency')\n",
    "plt.show()\n"
   ]
  },
  {
   "cell_type": "code",
   "execution_count": 109,
   "id": "informal-strand",
   "metadata": {},
   "outputs": [],
   "source": [
    "df['death_monthly']=df['cdc_case_earliest_days']\n",
    "for i in range(0, 331, 30):\n",
    "\n",
    "    no_of_value_in_range = df[(df.cdc_case_earliest_days >= i) & (df.cdc_case_earliest_days < i+30)].shape[0]\n",
    "    no_of_deaths_in_range = df[(df.cdc_case_earliest_days >= i) & (df.cdc_case_earliest_days < i+30) & (df.death_yn == 'Yes')].shape[0]\n",
    "    per_deaths = ((100*no_of_deaths_in_range)/no_of_value_in_range)\n",
    "    index_values = df['death_monthly'][(df.cdc_case_earliest_days < i+30) & (df.cdc_case_earliest_days >= i)].index.values\n",
    "\n",
    "    for i in index_values:\n",
    "        df.loc[i,['death_monthly']]=per_deaths"
   ]
  },
  {
   "cell_type": "markdown",
   "id": "sapphire-reporter",
   "metadata": {},
   "source": [
    "###  - Print data types, descriptive tables"
   ]
  },
  {
   "cell_type": "code",
   "execution_count": 110,
   "id": "accepted-particular",
   "metadata": {},
   "outputs": [
    {
     "data": {
      "text/plain": [
       "cdc_case_earliest_days              int64\n",
       "cdc_report_days                   float64\n",
       "current_status                   category\n",
       "sex                              category\n",
       "age_group                        category\n",
       "race_ethnicity_combined          category\n",
       "hosp_yn                          category\n",
       "icu_yn                           category\n",
       "death_yn                         category\n",
       "medcond_yn                       category\n",
       "cdc_case_earliest_dt       datetime64[ns]\n",
       "cdc_report_dt              datetime64[ns]\n",
       "pos_spec_dt                datetime64[ns]\n",
       "onset_dt                   datetime64[ns]\n",
       "percent                           float64\n",
       "hosp_miss                        category\n",
       "med_miss                         category\n",
       "icu_yn_miss                      category\n",
       "age_category                     category\n",
       "death_monthly                     float64\n",
       "dtype: object"
      ]
     },
     "execution_count": 110,
     "metadata": {},
     "output_type": "execute_result"
    }
   ],
   "source": [
    "df.dtypes"
   ]
  },
  {
   "cell_type": "code",
   "execution_count": 111,
   "id": "relative-breath",
   "metadata": {},
   "outputs": [
    {
     "data": {
      "text/html": [
       "<div>\n",
       "<style scoped>\n",
       "    .dataframe tbody tr th:only-of-type {\n",
       "        vertical-align: middle;\n",
       "    }\n",
       "\n",
       "    .dataframe tbody tr th {\n",
       "        vertical-align: top;\n",
       "    }\n",
       "\n",
       "    .dataframe thead th {\n",
       "        text-align: right;\n",
       "    }\n",
       "</style>\n",
       "<table border=\"1\" class=\"dataframe\">\n",
       "  <thead>\n",
       "    <tr style=\"text-align: right;\">\n",
       "      <th></th>\n",
       "      <th>count</th>\n",
       "      <th>unique</th>\n",
       "      <th>top</th>\n",
       "      <th>freq</th>\n",
       "    </tr>\n",
       "  </thead>\n",
       "  <tbody>\n",
       "    <tr>\n",
       "      <th>current_status</th>\n",
       "      <td>9545</td>\n",
       "      <td>2</td>\n",
       "      <td>Laboratory-confirmed case</td>\n",
       "      <td>8912</td>\n",
       "    </tr>\n",
       "    <tr>\n",
       "      <th>sex</th>\n",
       "      <td>9545</td>\n",
       "      <td>5</td>\n",
       "      <td>Female</td>\n",
       "      <td>4974</td>\n",
       "    </tr>\n",
       "    <tr>\n",
       "      <th>age_group</th>\n",
       "      <td>9545</td>\n",
       "      <td>10</td>\n",
       "      <td>20 - 29 Years</td>\n",
       "      <td>1762</td>\n",
       "    </tr>\n",
       "    <tr>\n",
       "      <th>race_ethnicity_combined</th>\n",
       "      <td>9545</td>\n",
       "      <td>9</td>\n",
       "      <td>Unknown</td>\n",
       "      <td>3604</td>\n",
       "    </tr>\n",
       "    <tr>\n",
       "      <th>hosp_yn</th>\n",
       "      <td>9545</td>\n",
       "      <td>5</td>\n",
       "      <td>No</td>\n",
       "      <td>5133</td>\n",
       "    </tr>\n",
       "    <tr>\n",
       "      <th>icu_yn</th>\n",
       "      <td>9545</td>\n",
       "      <td>4</td>\n",
       "      <td>Missing</td>\n",
       "      <td>7194</td>\n",
       "    </tr>\n",
       "    <tr>\n",
       "      <th>death_yn</th>\n",
       "      <td>9545</td>\n",
       "      <td>2</td>\n",
       "      <td>No</td>\n",
       "      <td>9211</td>\n",
       "    </tr>\n",
       "    <tr>\n",
       "      <th>medcond_yn</th>\n",
       "      <td>9545</td>\n",
       "      <td>4</td>\n",
       "      <td>Missing</td>\n",
       "      <td>7015</td>\n",
       "    </tr>\n",
       "    <tr>\n",
       "      <th>hosp_miss</th>\n",
       "      <td>9545</td>\n",
       "      <td>2</td>\n",
       "      <td>True</td>\n",
       "      <td>7446</td>\n",
       "    </tr>\n",
       "    <tr>\n",
       "      <th>med_miss</th>\n",
       "      <td>9545</td>\n",
       "      <td>2</td>\n",
       "      <td>False</td>\n",
       "      <td>7015</td>\n",
       "    </tr>\n",
       "    <tr>\n",
       "      <th>icu_yn_miss</th>\n",
       "      <td>9545</td>\n",
       "      <td>2</td>\n",
       "      <td>False</td>\n",
       "      <td>7194</td>\n",
       "    </tr>\n",
       "    <tr>\n",
       "      <th>age_category</th>\n",
       "      <td>9545</td>\n",
       "      <td>5</td>\n",
       "      <td>Adult</td>\n",
       "      <td>4304</td>\n",
       "    </tr>\n",
       "  </tbody>\n",
       "</table>\n",
       "</div>"
      ],
      "text/plain": [
       "                        count unique                        top  freq\n",
       "current_status           9545      2  Laboratory-confirmed case  8912\n",
       "sex                      9545      5                     Female  4974\n",
       "age_group                9545     10              20 - 29 Years  1762\n",
       "race_ethnicity_combined  9545      9                    Unknown  3604\n",
       "hosp_yn                  9545      5                         No  5133\n",
       "icu_yn                   9545      4                    Missing  7194\n",
       "death_yn                 9545      2                         No  9211\n",
       "medcond_yn               9545      4                    Missing  7015\n",
       "hosp_miss                9545      2                       True  7446\n",
       "med_miss                 9545      2                      False  7015\n",
       "icu_yn_miss              9545      2                      False  7194\n",
       "age_category             9545      5                      Adult  4304"
      ]
     },
     "execution_count": 111,
     "metadata": {},
     "output_type": "execute_result"
    }
   ],
   "source": [
    "# Print table with categorical statistics\n",
    "df_cat = df.select_dtypes(['category']).describe().T\n",
    "df_cat"
   ]
  },
  {
   "cell_type": "code",
   "execution_count": 112,
   "id": "sporting-hardware",
   "metadata": {},
   "outputs": [],
   "source": [
    "# Write the cleaned dataframe to a csv file\n",
    "df_cat.to_csv('categoricalFeatureDescription_3.csv', index=True)"
   ]
  },
  {
   "cell_type": "code",
   "execution_count": 113,
   "id": "constitutional-underwear",
   "metadata": {},
   "outputs": [
    {
     "data": {
      "text/html": [
       "<div>\n",
       "<style scoped>\n",
       "    .dataframe tbody tr th:only-of-type {\n",
       "        vertical-align: middle;\n",
       "    }\n",
       "\n",
       "    .dataframe tbody tr th {\n",
       "        vertical-align: top;\n",
       "    }\n",
       "\n",
       "    .dataframe thead th {\n",
       "        text-align: right;\n",
       "    }\n",
       "</style>\n",
       "<table border=\"1\" class=\"dataframe\">\n",
       "  <thead>\n",
       "    <tr style=\"text-align: right;\">\n",
       "      <th></th>\n",
       "      <th>cdc_case_earliest_days</th>\n",
       "      <th>cdc_report_days</th>\n",
       "      <th>current_status</th>\n",
       "      <th>sex</th>\n",
       "      <th>age_group</th>\n",
       "      <th>race_ethnicity_combined</th>\n",
       "      <th>hosp_yn</th>\n",
       "      <th>icu_yn</th>\n",
       "      <th>death_yn</th>\n",
       "      <th>medcond_yn</th>\n",
       "      <th>cdc_case_earliest_dt</th>\n",
       "      <th>cdc_report_dt</th>\n",
       "      <th>pos_spec_dt</th>\n",
       "      <th>onset_dt</th>\n",
       "      <th>percent</th>\n",
       "      <th>hosp_miss</th>\n",
       "      <th>med_miss</th>\n",
       "      <th>icu_yn_miss</th>\n",
       "      <th>age_category</th>\n",
       "      <th>death_monthly</th>\n",
       "    </tr>\n",
       "  </thead>\n",
       "  <tbody>\n",
       "    <tr>\n",
       "      <th>0</th>\n",
       "      <td>304</td>\n",
       "      <td>292.0</td>\n",
       "      <td>Probable Case</td>\n",
       "      <td>Male</td>\n",
       "      <td>Missing</td>\n",
       "      <td>White, Non-Hispanic</td>\n",
       "      <td>No</td>\n",
       "      <td>Missing</td>\n",
       "      <td>No</td>\n",
       "      <td>Missing</td>\n",
       "      <td>2020-11-02</td>\n",
       "      <td>2020-11-05</td>\n",
       "      <td>NaT</td>\n",
       "      <td>2020-11-02</td>\n",
       "      <td>0.013900</td>\n",
       "      <td>True</td>\n",
       "      <td>False</td>\n",
       "      <td>False</td>\n",
       "      <td>Missing</td>\n",
       "      <td>2.931596</td>\n",
       "    </tr>\n",
       "    <tr>\n",
       "      <th>1</th>\n",
       "      <td>333</td>\n",
       "      <td>273.0</td>\n",
       "      <td>Laboratory-confirmed case</td>\n",
       "      <td>Male</td>\n",
       "      <td>20 - 29 Years</td>\n",
       "      <td>Unknown</td>\n",
       "      <td>No</td>\n",
       "      <td>Missing</td>\n",
       "      <td>No</td>\n",
       "      <td>Missing</td>\n",
       "      <td>2020-12-01</td>\n",
       "      <td>NaT</td>\n",
       "      <td>NaT</td>\n",
       "      <td>NaT</td>\n",
       "      <td>0.013900</td>\n",
       "      <td>True</td>\n",
       "      <td>False</td>\n",
       "      <td>False</td>\n",
       "      <td>Young</td>\n",
       "      <td>2.751423</td>\n",
       "    </tr>\n",
       "    <tr>\n",
       "      <th>2</th>\n",
       "      <td>300</td>\n",
       "      <td>285.0</td>\n",
       "      <td>Laboratory-confirmed case</td>\n",
       "      <td>Male</td>\n",
       "      <td>40 - 49 Years</td>\n",
       "      <td>Unknown</td>\n",
       "      <td>No</td>\n",
       "      <td>Missing</td>\n",
       "      <td>No</td>\n",
       "      <td>Missing</td>\n",
       "      <td>2020-10-29</td>\n",
       "      <td>2020-10-29</td>\n",
       "      <td>NaT</td>\n",
       "      <td>2020-10-29</td>\n",
       "      <td>0.013900</td>\n",
       "      <td>True</td>\n",
       "      <td>False</td>\n",
       "      <td>False</td>\n",
       "      <td>Adult</td>\n",
       "      <td>2.931596</td>\n",
       "    </tr>\n",
       "    <tr>\n",
       "      <th>3</th>\n",
       "      <td>118</td>\n",
       "      <td>116.0</td>\n",
       "      <td>Laboratory-confirmed case</td>\n",
       "      <td>Female</td>\n",
       "      <td>70 - 79 Years</td>\n",
       "      <td>Unknown</td>\n",
       "      <td>No</td>\n",
       "      <td>No</td>\n",
       "      <td>No</td>\n",
       "      <td>Unknown</td>\n",
       "      <td>2020-04-30</td>\n",
       "      <td>2020-05-13</td>\n",
       "      <td>2020-04-30</td>\n",
       "      <td>2020-04-30</td>\n",
       "      <td>0.042535</td>\n",
       "      <td>True</td>\n",
       "      <td>True</td>\n",
       "      <td>True</td>\n",
       "      <td>Old</td>\n",
       "      <td>16.000000</td>\n",
       "    </tr>\n",
       "    <tr>\n",
       "      <th>4</th>\n",
       "      <td>104</td>\n",
       "      <td>99.0</td>\n",
       "      <td>Laboratory-confirmed case</td>\n",
       "      <td>Female</td>\n",
       "      <td>80+ Years</td>\n",
       "      <td>White, Non-Hispanic</td>\n",
       "      <td>Yes</td>\n",
       "      <td>Yes</td>\n",
       "      <td>Yes</td>\n",
       "      <td>Yes</td>\n",
       "      <td>2020-04-16</td>\n",
       "      <td>2020-04-26</td>\n",
       "      <td>2020-04-17</td>\n",
       "      <td>2020-04-16</td>\n",
       "      <td>0.042535</td>\n",
       "      <td>True</td>\n",
       "      <td>True</td>\n",
       "      <td>True</td>\n",
       "      <td>Old</td>\n",
       "      <td>16.000000</td>\n",
       "    </tr>\n",
       "  </tbody>\n",
       "</table>\n",
       "</div>"
      ],
      "text/plain": [
       "   cdc_case_earliest_days  cdc_report_days             current_status     sex  \\\n",
       "0                     304            292.0              Probable Case    Male   \n",
       "1                     333            273.0  Laboratory-confirmed case    Male   \n",
       "2                     300            285.0  Laboratory-confirmed case    Male   \n",
       "3                     118            116.0  Laboratory-confirmed case  Female   \n",
       "4                     104             99.0  Laboratory-confirmed case  Female   \n",
       "\n",
       "       age_group race_ethnicity_combined hosp_yn   icu_yn death_yn medcond_yn  \\\n",
       "0        Missing     White, Non-Hispanic      No  Missing       No    Missing   \n",
       "1  20 - 29 Years                 Unknown      No  Missing       No    Missing   \n",
       "2  40 - 49 Years                 Unknown      No  Missing       No    Missing   \n",
       "3  70 - 79 Years                 Unknown      No       No       No    Unknown   \n",
       "4      80+ Years     White, Non-Hispanic     Yes      Yes      Yes        Yes   \n",
       "\n",
       "  cdc_case_earliest_dt cdc_report_dt pos_spec_dt   onset_dt   percent  \\\n",
       "0           2020-11-02    2020-11-05         NaT 2020-11-02  0.013900   \n",
       "1           2020-12-01           NaT         NaT        NaT  0.013900   \n",
       "2           2020-10-29    2020-10-29         NaT 2020-10-29  0.013900   \n",
       "3           2020-04-30    2020-05-13  2020-04-30 2020-04-30  0.042535   \n",
       "4           2020-04-16    2020-04-26  2020-04-17 2020-04-16  0.042535   \n",
       "\n",
       "  hosp_miss med_miss icu_yn_miss age_category  death_monthly  \n",
       "0      True    False       False      Missing       2.931596  \n",
       "1      True    False       False        Young       2.751423  \n",
       "2      True    False       False        Adult       2.931596  \n",
       "3      True     True        True          Old      16.000000  \n",
       "4      True     True        True          Old      16.000000  "
      ]
     },
     "execution_count": 113,
     "metadata": {},
     "output_type": "execute_result"
    }
   ],
   "source": [
    "df.head(5)"
   ]
  },
  {
   "cell_type": "code",
   "execution_count": 114,
   "id": "generic-flower",
   "metadata": {},
   "outputs": [],
   "source": [
    "df.to_csv('final_covid19_20201672_cdc.csv', index=True)"
   ]
  },
  {
   "cell_type": "code",
   "execution_count": null,
   "id": "peaceful-complexity",
   "metadata": {},
   "outputs": [],
   "source": []
  }
 ],
 "metadata": {
  "kernelspec": {
   "display_name": "Python 3",
   "language": "python",
   "name": "python3"
  },
  "language_info": {
   "codemirror_mode": {
    "name": "ipython",
    "version": 3
   },
   "file_extension": ".py",
   "mimetype": "text/x-python",
   "name": "python",
   "nbconvert_exporter": "python",
   "pygments_lexer": "ipython3",
   "version": "3.8.5"
  }
 },
 "nbformat": 4,
 "nbformat_minor": 5
}
