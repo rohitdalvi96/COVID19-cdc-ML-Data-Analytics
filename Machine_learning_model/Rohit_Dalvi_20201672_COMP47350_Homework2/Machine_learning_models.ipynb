{
 "cells": [
  {
   "cell_type": "markdown",
   "metadata": {},
   "source": [
    "## Introduction\n",
    "- This notebook will apply the cleaned dataset from Homework1 and use it to create 3 different models to predict the number of covid-19 death cases in future years with repect to various parameters.CDC collects and makes public deidentified individual-case data on a daily basis, submitted using standardized case reporting forms. In this analysis, we focus on using the data collected by CDC to build a data analytics solution for death risk prediction.\n",
    "    - The value “Death” = \"Y\" indicates that a person has been declared dead after catching covid virus . \n",
    "    - The value “Death” = \"N\" indicates that a person has been declared recovered after catching covid virus.\n",
    "- Each model will be a supervised learning model and the output will be a binary classification. \n",
    "- For each applicant a number of features will be given and the target, Death yes/no (dependent variable), will be predicted.\n",
    "\n",
    "This homework will be broken down into 4 main parts:\n",
    "1. We will review the dataset from homework one and decide on which features to use to build our model\n",
    "2. Creation of Linear Regression model and analyse\n",
    "3. Creation of a Logistical Regression model and analyse\n",
    "4. Creation of Random Forest model and analyse\n",
    "5. We will then find the best of 3 and retrain that model based on given test data .csv"
   ]
  },
  {
   "cell_type": "code",
   "execution_count": 1,
   "metadata": {},
   "outputs": [],
   "source": [
    "# Library Imports.\n",
    "import pandas as pd\n",
    "import matplotlib.pyplot as plt\n",
    "import numpy as np\n",
    "import seaborn as sns\n",
    "from patsy import dmatrices\n",
    "from sklearn.linear_model import LinearRegression\n",
    "from sklearn.linear_model import LogisticRegression\n",
    "from sklearn.model_selection import train_test_split\n",
    "from sklearn import metrics\n",
    "from sklearn.model_selection import cross_validate\n",
    "from sklearn.model_selection import cross_val_score \n",
    "from sklearn.tree import export_graphviz\n",
    "import graphviz\n",
    "from graphviz import Source\n",
    "from sklearn.ensemble import RandomForestClassifier\n",
    "\n",
    "# Allows plots to appear directly in the notebook.\n",
    "%matplotlib inline\n",
    "\n",
    "import matplotlib.patches as mpatches\n",
    "\n",
    "# For saving multiple plots into a single pdf file\n",
    "from matplotlib.backends.backend_pdf import PdfPages\n",
    "\n",
    "# hide ipykernel warnings \n",
    "import warnings\n",
    "import datetime as dt\n",
    "warnings.filterwarnings('ignore')"
   ]
  },
  {
   "cell_type": "markdown",
   "metadata": {},
   "source": [
    "# (1) Data understanding :\n",
    "\n",
    "The original dataset from CDC has been cleaned and is now imported as a starting point for this work. \n",
    "1. A summary of this plan can be seen in the table below;\n",
    "2. In addition a number of extra features were added that were not in the original dataset.\n",
    "    - cdc_case_earliest_days : Measures days in a year earlier of the date related to the Date Received by CDC.\n",
    "    - cdc_report_days : An equivalent conversion of datefield information measured in days of a year.\n",
    "    - age_category: Provides classification of age group \n",
    "- Here we will import cleaned dataset"
   ]
  },
  {
   "cell_type": "code",
   "execution_count": 2,
   "metadata": {},
   "outputs": [
    {
     "data": {
      "text/html": [
       "<div>\n",
       "<style scoped>\n",
       "    .dataframe tbody tr th:only-of-type {\n",
       "        vertical-align: middle;\n",
       "    }\n",
       "\n",
       "    .dataframe tbody tr th {\n",
       "        vertical-align: top;\n",
       "    }\n",
       "\n",
       "    .dataframe thead th {\n",
       "        text-align: right;\n",
       "    }\n",
       "</style>\n",
       "<table border=\"1\" class=\"dataframe\">\n",
       "  <thead>\n",
       "    <tr style=\"text-align: right;\">\n",
       "      <th></th>\n",
       "      <th>cdc_case_earliest_dt</th>\n",
       "      <th>cdc_report_dt</th>\n",
       "      <th>pos_spec_dt</th>\n",
       "      <th>cdc_case_earliest_days</th>\n",
       "      <th>cdc_report_days</th>\n",
       "      <th>current_status</th>\n",
       "      <th>sex</th>\n",
       "      <th>age_group</th>\n",
       "      <th>race_ethnicity_combined</th>\n",
       "      <th>hosp_yn</th>\n",
       "      <th>icu_yn</th>\n",
       "      <th>death_yn</th>\n",
       "      <th>medcond_yn</th>\n",
       "      <th>age_category</th>\n",
       "    </tr>\n",
       "  </thead>\n",
       "  <tbody>\n",
       "    <tr>\n",
       "      <th>0</th>\n",
       "      <td>11/2/2020</td>\n",
       "      <td>11/5/2020</td>\n",
       "      <td>NaN</td>\n",
       "      <td>304</td>\n",
       "      <td>292</td>\n",
       "      <td>Probable Case</td>\n",
       "      <td>Male</td>\n",
       "      <td>Missing</td>\n",
       "      <td>White, Non-Hispanic</td>\n",
       "      <td>No</td>\n",
       "      <td>Missing</td>\n",
       "      <td>No</td>\n",
       "      <td>Missing</td>\n",
       "      <td>Missing</td>\n",
       "    </tr>\n",
       "    <tr>\n",
       "      <th>1</th>\n",
       "      <td>12/1/2020</td>\n",
       "      <td>NaN</td>\n",
       "      <td>NaN</td>\n",
       "      <td>333</td>\n",
       "      <td>273</td>\n",
       "      <td>Laboratory-confirmed case</td>\n",
       "      <td>Male</td>\n",
       "      <td>20 - 29 Years</td>\n",
       "      <td>Unknown</td>\n",
       "      <td>No</td>\n",
       "      <td>Missing</td>\n",
       "      <td>No</td>\n",
       "      <td>Missing</td>\n",
       "      <td>Young</td>\n",
       "    </tr>\n",
       "    <tr>\n",
       "      <th>2</th>\n",
       "      <td>10/29/2020</td>\n",
       "      <td>10/29/2020</td>\n",
       "      <td>NaN</td>\n",
       "      <td>300</td>\n",
       "      <td>285</td>\n",
       "      <td>Laboratory-confirmed case</td>\n",
       "      <td>Male</td>\n",
       "      <td>40 - 49 Years</td>\n",
       "      <td>Unknown</td>\n",
       "      <td>No</td>\n",
       "      <td>Missing</td>\n",
       "      <td>No</td>\n",
       "      <td>Missing</td>\n",
       "      <td>Adult</td>\n",
       "    </tr>\n",
       "    <tr>\n",
       "      <th>3</th>\n",
       "      <td>4/30/2020</td>\n",
       "      <td>5/13/2020</td>\n",
       "      <td>4/30/2020</td>\n",
       "      <td>118</td>\n",
       "      <td>116</td>\n",
       "      <td>Laboratory-confirmed case</td>\n",
       "      <td>Female</td>\n",
       "      <td>70 - 79 Years</td>\n",
       "      <td>Unknown</td>\n",
       "      <td>No</td>\n",
       "      <td>No</td>\n",
       "      <td>No</td>\n",
       "      <td>Unknown</td>\n",
       "      <td>Old</td>\n",
       "    </tr>\n",
       "    <tr>\n",
       "      <th>4</th>\n",
       "      <td>4/16/2020</td>\n",
       "      <td>4/26/2020</td>\n",
       "      <td>4/17/2020</td>\n",
       "      <td>104</td>\n",
       "      <td>99</td>\n",
       "      <td>Laboratory-confirmed case</td>\n",
       "      <td>Female</td>\n",
       "      <td>80+ Years</td>\n",
       "      <td>White, Non-Hispanic</td>\n",
       "      <td>Yes</td>\n",
       "      <td>Yes</td>\n",
       "      <td>Yes</td>\n",
       "      <td>Yes</td>\n",
       "      <td>Old</td>\n",
       "    </tr>\n",
       "    <tr>\n",
       "      <th>5</th>\n",
       "      <td>11/3/2020</td>\n",
       "      <td>11/3/2020</td>\n",
       "      <td>NaN</td>\n",
       "      <td>305</td>\n",
       "      <td>290</td>\n",
       "      <td>Laboratory-confirmed case</td>\n",
       "      <td>Female</td>\n",
       "      <td>20 - 29 Years</td>\n",
       "      <td>Unknown</td>\n",
       "      <td>No</td>\n",
       "      <td>Missing</td>\n",
       "      <td>No</td>\n",
       "      <td>Missing</td>\n",
       "      <td>Young</td>\n",
       "    </tr>\n",
       "    <tr>\n",
       "      <th>6</th>\n",
       "      <td>12/22/2020</td>\n",
       "      <td>NaN</td>\n",
       "      <td>NaN</td>\n",
       "      <td>354</td>\n",
       "      <td>273</td>\n",
       "      <td>Laboratory-confirmed case</td>\n",
       "      <td>Male</td>\n",
       "      <td>30 - 39 Years</td>\n",
       "      <td>White, Non-Hispanic</td>\n",
       "      <td>Missing</td>\n",
       "      <td>Missing</td>\n",
       "      <td>No</td>\n",
       "      <td>Missing</td>\n",
       "      <td>Adult</td>\n",
       "    </tr>\n",
       "    <tr>\n",
       "      <th>7</th>\n",
       "      <td>11/30/2020</td>\n",
       "      <td>11/30/2020</td>\n",
       "      <td>NaN</td>\n",
       "      <td>332</td>\n",
       "      <td>317</td>\n",
       "      <td>Laboratory-confirmed case</td>\n",
       "      <td>Male</td>\n",
       "      <td>30 - 39 Years</td>\n",
       "      <td>American Indian/Alaska Native, Non-Hispanic</td>\n",
       "      <td>Unknown</td>\n",
       "      <td>Missing</td>\n",
       "      <td>No</td>\n",
       "      <td>Missing</td>\n",
       "      <td>Adult</td>\n",
       "    </tr>\n",
       "    <tr>\n",
       "      <th>8</th>\n",
       "      <td>11/13/2020</td>\n",
       "      <td>11/19/2020</td>\n",
       "      <td>11/13/2020</td>\n",
       "      <td>315</td>\n",
       "      <td>306</td>\n",
       "      <td>Laboratory-confirmed case</td>\n",
       "      <td>Female</td>\n",
       "      <td>20 - 29 Years</td>\n",
       "      <td>White, Non-Hispanic</td>\n",
       "      <td>Missing</td>\n",
       "      <td>Missing</td>\n",
       "      <td>No</td>\n",
       "      <td>Missing</td>\n",
       "      <td>Young</td>\n",
       "    </tr>\n",
       "    <tr>\n",
       "      <th>9</th>\n",
       "      <td>11/3/2020</td>\n",
       "      <td>11/12/2020</td>\n",
       "      <td>NaN</td>\n",
       "      <td>305</td>\n",
       "      <td>299</td>\n",
       "      <td>Probable Case</td>\n",
       "      <td>Female</td>\n",
       "      <td>50 - 59 Years</td>\n",
       "      <td>White, Non-Hispanic</td>\n",
       "      <td>No</td>\n",
       "      <td>Missing</td>\n",
       "      <td>No</td>\n",
       "      <td>Missing</td>\n",
       "      <td>Adult</td>\n",
       "    </tr>\n",
       "  </tbody>\n",
       "</table>\n",
       "</div>"
      ],
      "text/plain": [
       "  cdc_case_earliest_dt cdc_report_dt pos_spec_dt  cdc_case_earliest_days  \\\n",
       "0            11/2/2020     11/5/2020         NaN                     304   \n",
       "1            12/1/2020           NaN         NaN                     333   \n",
       "2           10/29/2020    10/29/2020         NaN                     300   \n",
       "3            4/30/2020     5/13/2020   4/30/2020                     118   \n",
       "4            4/16/2020     4/26/2020   4/17/2020                     104   \n",
       "5            11/3/2020     11/3/2020         NaN                     305   \n",
       "6           12/22/2020           NaN         NaN                     354   \n",
       "7           11/30/2020    11/30/2020         NaN                     332   \n",
       "8           11/13/2020    11/19/2020  11/13/2020                     315   \n",
       "9            11/3/2020    11/12/2020         NaN                     305   \n",
       "\n",
       "   cdc_report_days             current_status     sex      age_group  \\\n",
       "0              292              Probable Case    Male        Missing   \n",
       "1              273  Laboratory-confirmed case    Male  20 - 29 Years   \n",
       "2              285  Laboratory-confirmed case    Male  40 - 49 Years   \n",
       "3              116  Laboratory-confirmed case  Female  70 - 79 Years   \n",
       "4               99  Laboratory-confirmed case  Female      80+ Years   \n",
       "5              290  Laboratory-confirmed case  Female  20 - 29 Years   \n",
       "6              273  Laboratory-confirmed case    Male  30 - 39 Years   \n",
       "7              317  Laboratory-confirmed case    Male  30 - 39 Years   \n",
       "8              306  Laboratory-confirmed case  Female  20 - 29 Years   \n",
       "9              299              Probable Case  Female  50 - 59 Years   \n",
       "\n",
       "                       race_ethnicity_combined  hosp_yn   icu_yn death_yn  \\\n",
       "0                          White, Non-Hispanic       No  Missing       No   \n",
       "1                                      Unknown       No  Missing       No   \n",
       "2                                      Unknown       No  Missing       No   \n",
       "3                                      Unknown       No       No       No   \n",
       "4                          White, Non-Hispanic      Yes      Yes      Yes   \n",
       "5                                      Unknown       No  Missing       No   \n",
       "6                          White, Non-Hispanic  Missing  Missing       No   \n",
       "7  American Indian/Alaska Native, Non-Hispanic  Unknown  Missing       No   \n",
       "8                          White, Non-Hispanic  Missing  Missing       No   \n",
       "9                          White, Non-Hispanic       No  Missing       No   \n",
       "\n",
       "  medcond_yn age_category  \n",
       "0    Missing      Missing  \n",
       "1    Missing        Young  \n",
       "2    Missing        Adult  \n",
       "3    Unknown          Old  \n",
       "4        Yes          Old  \n",
       "5    Missing        Young  \n",
       "6    Missing        Adult  \n",
       "7    Missing        Adult  \n",
       "8    Missing        Young  \n",
       "9    Missing        Adult  "
      ]
     },
     "execution_count": 2,
     "metadata": {},
     "output_type": "execute_result"
    }
   ],
   "source": [
    "# Read a CSV dataset with 10 example into a dataframe.\n",
    "\n",
    "df = pd.read_csv('final_covid19_20201672_cdc.csv')\n",
    "df.head(10)"
   ]
  },
  {
   "cell_type": "code",
   "execution_count": 3,
   "metadata": {},
   "outputs": [
    {
     "data": {
      "text/plain": [
       "(9545, 14)"
      ]
     },
     "execution_count": 3,
     "metadata": {},
     "output_type": "execute_result"
    }
   ],
   "source": [
    "df.shape"
   ]
  },
  {
   "cell_type": "code",
   "execution_count": 4,
   "metadata": {},
   "outputs": [
    {
     "data": {
      "text/plain": [
       "cdc_case_earliest_dt       object\n",
       "cdc_report_dt              object\n",
       "pos_spec_dt                object\n",
       "cdc_case_earliest_days      int64\n",
       "cdc_report_days             int64\n",
       "current_status             object\n",
       "sex                        object\n",
       "age_group                  object\n",
       "race_ethnicity_combined    object\n",
       "hosp_yn                    object\n",
       "icu_yn                     object\n",
       "death_yn                   object\n",
       "medcond_yn                 object\n",
       "age_category               object\n",
       "dtype: object"
      ]
     },
     "execution_count": 4,
     "metadata": {},
     "output_type": "execute_result"
    }
   ],
   "source": [
    "df.dtypes"
   ]
  },
  {
   "cell_type": "code",
   "execution_count": 5,
   "metadata": {},
   "outputs": [
    {
     "data": {
      "text/plain": [
       "cdc_case_earliest_dt          0\n",
       "cdc_report_dt              1954\n",
       "pos_spec_dt                6755\n",
       "cdc_case_earliest_days        0\n",
       "cdc_report_days               0\n",
       "current_status                0\n",
       "sex                           0\n",
       "age_group                     0\n",
       "race_ethnicity_combined       0\n",
       "hosp_yn                       0\n",
       "icu_yn                        0\n",
       "death_yn                      0\n",
       "medcond_yn                    0\n",
       "age_category                  0\n",
       "dtype: int64"
      ]
     },
     "execution_count": 5,
     "metadata": {},
     "output_type": "execute_result"
    }
   ],
   "source": [
    "df.isna().sum()"
   ]
  },
  {
   "cell_type": "markdown",
   "metadata": {},
   "source": [
    "From this we can infere that there are no features having NA values in it except for cdc_report_dt and pos_spec_dt."
   ]
  },
  {
   "cell_type": "markdown",
   "metadata": {},
   "source": [
    "### Data Preparartion and features treatment\n",
    "- The required loaded data set is evaluated and appropriate data types are set accordingly to all the features.\n",
    "- continuos and categorical columns are listed and graphical visualizations are plotted down.\n",
    "- Unwanted columns are dropped and few categories are normalized before training.\n",
    "- convert identified objects as category features and label missing values as unknown."
   ]
  },
  {
   "cell_type": "code",
   "execution_count": 6,
   "metadata": {},
   "outputs": [],
   "source": [
    "# changes data type to category for below mentioned columns\n",
    "for colmn in [e for e in df.columns if e not in ['cdc_case_earliest_dt', 'cdc_report_dt', 'pos_spec_dt']]:\n",
    "    df[colmn] = df[colmn].astype('category')"
   ]
  },
  {
   "cell_type": "code",
   "execution_count": 7,
   "metadata": {},
   "outputs": [],
   "source": [
    "# setting data types for below mentioned columns accordingly\n",
    "for colmn in ['cdc_case_earliest_dt', 'cdc_report_dt', 'pos_spec_dt']:\n",
    "    df[colmn] = df[colmn].astype('datetime64[ns]')\n",
    "for integer in ['cdc_case_earliest_days', 'cdc_report_days']:\n",
    "    df[integer] = df[integer].astype('int64')"
   ]
  },
  {
   "cell_type": "markdown",
   "metadata": {},
   "source": [
    "#### Continuous columns are:"
   ]
  },
  {
   "cell_type": "code",
   "execution_count": 8,
   "metadata": {},
   "outputs": [
    {
     "data": {
      "text/plain": [
       "['cdc_case_earliest_days', 'cdc_report_days']"
      ]
     },
     "execution_count": 8,
     "metadata": {},
     "output_type": "execute_result"
    }
   ],
   "source": [
    "continuous_columns = df.select_dtypes(include=['int64']).columns.tolist()\n",
    "continuous_columns"
   ]
  },
  {
   "cell_type": "code",
   "execution_count": 9,
   "metadata": {},
   "outputs": [
    {
     "data": {
      "image/png": "[encoded data removed]",
      "text/plain": [
       "<Figure size 360x360 with 1 Axes>"
      ]
     },
     "metadata": {
      "needs_background": "light"
     },
     "output_type": "display_data"
    },
    {
     "data": {
      "image/png": "[encoded data removed]",
      "text/plain": [
       "<Figure size 360x360 with 1 Axes>"
      ]
     },
     "metadata": {
      "needs_background": "light"
     },
     "output_type": "display_data"
    }
   ],
   "source": [
    "# plot histogram for all continous features\n",
    "for colmn in continuous_columns:\n",
    "        f = df[colmn].plot(kind='hist', figsize=(5,5))\n",
    "        plt.title(colmn)\n",
    "        plt.ylabel('Frequency')\n",
    "        plt.xlabel('No of days')\n",
    "        plt.grid()\n",
    "        plt.show()"
   ]
  },
  {
   "cell_type": "code",
   "execution_count": 10,
   "metadata": {},
   "outputs": [
    {
     "data": {
      "image/png": "[encoded data removed]",
      "text/plain": [
       "<Figure size 1440x1440 with 9 Axes>"
      ]
     },
     "metadata": {
      "needs_background": "light"
     },
     "output_type": "display_data"
    }
   ],
   "source": [
    "# Plot a histogram summary sheet of all the continuous features and save in a png file\n",
    "df[continuous_columns].plot(kind='hist', subplots=True, figsize=(20,20), layout=(3,3), sharex=False, sharey=False, grid=True)\n",
    "plt.savefig('Continuous_histograms_1-1.pdf')"
   ]
  },
  {
   "cell_type": "code",
   "execution_count": 11,
   "metadata": {},
   "outputs": [],
   "source": [
    "df.loc[df.cdc_case_earliest_dt > df.cdc_report_dt, 'cdc_case_earliest_dt'] = df['cdc_report_dt']\n",
    "df.loc[df.cdc_case_earliest_dt > df.pos_spec_dt, 'cdc_case_earliest_dt'] = df['pos_spec_dt']\n",
    "df.loc[df.cdc_case_earliest_days > df.cdc_report_days, 'cdc_case_earliest_days'] = df['cdc_report_days']"
   ]
  },
  {
   "cell_type": "code",
   "execution_count": 12,
   "metadata": {},
   "outputs": [],
   "source": [
    "# drop these features as they are calculated based on main feature and won't be usefull ahead.\n",
    "del df['cdc_report_dt']\n",
    "del df['pos_spec_dt']\n",
    "del df['cdc_case_earliest_days']\n",
    "del df['cdc_report_days']\n",
    "del df['age_category']"
   ]
  },
  {
   "cell_type": "markdown",
   "metadata": {},
   "source": [
    "##### Treat column \"sex\""
   ]
  },
  {
   "cell_type": "code",
   "execution_count": 13,
   "metadata": {},
   "outputs": [
    {
     "data": {
      "text/plain": [
       "Female     0.521111\n",
       "Male       0.469041\n",
       "Unknown    0.007753\n",
       "Missing    0.001991\n",
       "Other      0.000105\n",
       "Name: sex, dtype: float64"
      ]
     },
     "execution_count": 13,
     "metadata": {},
     "output_type": "execute_result"
    }
   ],
   "source": [
    "df.sex.value_counts(normalize=True)"
   ]
  },
  {
   "cell_type": "code",
   "execution_count": 14,
   "metadata": {},
   "outputs": [],
   "source": [
    "indices = df[(df['sex'] == 'Unknown') | (df['sex'] == 'Missing')].index.tolist()\n",
    "df.drop(indices, inplace=True)\n",
    "df['sex'] = df['sex'].astype(str).astype('category')"
   ]
  },
  {
   "cell_type": "markdown",
   "metadata": {},
   "source": [
    "##### Treat column \"Age group\""
   ]
  },
  {
   "cell_type": "code",
   "execution_count": 15,
   "metadata": {},
   "outputs": [
    {
     "data": {
      "text/plain": [
       "20 - 29 Years    1743\n",
       "30 - 39 Years    1549\n",
       "40 - 49 Years    1391\n",
       "50 - 59 Years    1326\n",
       "60 - 69 Years    1027\n",
       "10 - 19 Years     983\n",
       "70 - 79 Years     543\n",
       "80+ Years         445\n",
       "0 - 9 Years       433\n",
       "Missing            12\n",
       "Name: age_group, dtype: int64"
      ]
     },
     "execution_count": 15,
     "metadata": {},
     "output_type": "execute_result"
    }
   ],
   "source": [
    "df.age_group.value_counts()"
   ]
  },
  {
   "cell_type": "code",
   "execution_count": 16,
   "metadata": {},
   "outputs": [],
   "source": [
    "indices = df[df['age_group'] == 'Missing'].index.tolist()\n",
    "df.drop(indices, inplace=True)\n",
    "\n",
    "df['age_group'] = df['age_group'].astype(str).astype('category')"
   ]
  },
  {
   "cell_type": "markdown",
   "metadata": {},
   "source": [
    "##### Treat column \"race ethnicity\""
   ]
  },
  {
   "cell_type": "code",
   "execution_count": 17,
   "metadata": {},
   "outputs": [
    {
     "data": {
      "text/plain": [
       "Unknown                                                 3541\n",
       "White, Non-Hispanic                                     3272\n",
       "Hispanic/Latino                                          960\n",
       "Black, Non-Hispanic                                      706\n",
       "Multiple/Other, Non-Hispanic                             522\n",
       "Asian, Non-Hispanic                                      254\n",
       "Missing                                                   92\n",
       "American Indian/Alaska Native, Non-Hispanic               66\n",
       "Native Hawaiian/Other Pacific Islander, Non-Hispanic      27\n",
       "Name: race_ethnicity_combined, dtype: int64"
      ]
     },
     "execution_count": 17,
     "metadata": {},
     "output_type": "execute_result"
    }
   ],
   "source": [
    "df.race_ethnicity_combined.value_counts()"
   ]
  },
  {
   "cell_type": "code",
   "execution_count": 18,
   "metadata": {},
   "outputs": [],
   "source": [
    "df.loc[df.race_ethnicity_combined == 'Missing', 'race_ethnicity_combined'] = 'Unknown'\n",
    "df['race_ethnicity_combined'] = df['race_ethnicity_combined'].astype(str).astype('category')"
   ]
  },
  {
   "cell_type": "markdown",
   "metadata": {},
   "source": [
    "##### treat column \"hosp_yn\""
   ]
  },
  {
   "cell_type": "code",
   "execution_count": 19,
   "metadata": {},
   "outputs": [
    {
     "data": {
      "text/plain": [
       "No         0.539407\n",
       "Missing    0.218962\n",
       "Unknown    0.171610\n",
       "Yes        0.069915\n",
       "OTH        0.000106\n",
       "Name: hosp_yn, dtype: float64"
      ]
     },
     "execution_count": 19,
     "metadata": {},
     "output_type": "execute_result"
    }
   ],
   "source": [
    "df.hosp_yn.value_counts(normalize=True)"
   ]
  },
  {
   "cell_type": "code",
   "execution_count": 20,
   "metadata": {},
   "outputs": [],
   "source": [
    "df = df[df.hosp_yn != 'OTH']\n",
    "df.loc[df.hosp_yn == 'Missing', 'hosp_yn'] = 'Unknown'\n",
    "df['hosp_yn'] = df['hosp_yn'].astype(str).astype('category')"
   ]
  },
  {
   "cell_type": "markdown",
   "metadata": {},
   "source": [
    "##### treat column \"icu_yn\""
   ]
  },
  {
   "cell_type": "code",
   "execution_count": 21,
   "metadata": {},
   "outputs": [
    {
     "data": {
      "text/plain": [
       "Missing    0.752622\n",
       "Unknown    0.136879\n",
       "No         0.101706\n",
       "Yes        0.008793\n",
       "Name: icu_yn, dtype: float64"
      ]
     },
     "execution_count": 21,
     "metadata": {},
     "output_type": "execute_result"
    }
   ],
   "source": [
    "df.icu_yn.value_counts(normalize=True)"
   ]
  },
  {
   "cell_type": "code",
   "execution_count": 22,
   "metadata": {},
   "outputs": [],
   "source": [
    "df.loc[df.icu_yn == 'Yes', 'hosp_yn'] = 'Yes'\n",
    "df.loc[df.icu_yn == 'Missing', 'icu_yn'] = 'Unknown'\n",
    "df['icu_yn'] = df['icu_yn'].astype(str).astype('category')"
   ]
  },
  {
   "cell_type": "markdown",
   "metadata": {},
   "source": [
    "##### treat column \"medcond_yn\""
   ]
  },
  {
   "cell_type": "code",
   "execution_count": 23,
   "metadata": {},
   "outputs": [
    {
     "data": {
      "text/plain": [
       "Missing    0.733552\n",
       "No         0.092171\n",
       "Yes        0.090264\n",
       "Unknown    0.084013\n",
       "Name: medcond_yn, dtype: float64"
      ]
     },
     "execution_count": 23,
     "metadata": {},
     "output_type": "execute_result"
    }
   ],
   "source": [
    "df.medcond_yn.value_counts(normalize=True)"
   ]
  },
  {
   "cell_type": "code",
   "execution_count": 24,
   "metadata": {},
   "outputs": [],
   "source": [
    "df.loc[df.medcond_yn == 'Missing', 'medcond_yn'] = 'Unknown'\n",
    "df['medcond_yn'] = df['medcond_yn'].astype(str).astype('category')"
   ]
  },
  {
   "cell_type": "markdown",
   "metadata": {},
   "source": [
    "#### Categorical columns are:"
   ]
  },
  {
   "cell_type": "code",
   "execution_count": 25,
   "metadata": {},
   "outputs": [
    {
     "data": {
      "text/plain": [
       "['current_status',\n",
       " 'sex',\n",
       " 'age_group',\n",
       " 'race_ethnicity_combined',\n",
       " 'hosp_yn',\n",
       " 'icu_yn',\n",
       " 'death_yn',\n",
       " 'medcond_yn']"
      ]
     },
     "execution_count": 25,
     "metadata": {},
     "output_type": "execute_result"
    }
   ],
   "source": [
    "categorical_columns = df.select_dtypes(include=['category']).columns.tolist()\n",
    "categorical_columns"
   ]
  },
  {
   "cell_type": "markdown",
   "metadata": {},
   "source": [
    "#### Total features are:"
   ]
  },
  {
   "cell_type": "code",
   "execution_count": 26,
   "metadata": {},
   "outputs": [
    {
     "data": {
      "text/plain": [
       "['cdc_case_earliest_days',\n",
       " 'cdc_report_days',\n",
       " 'current_status',\n",
       " 'sex',\n",
       " 'age_group',\n",
       " 'race_ethnicity_combined',\n",
       " 'hosp_yn',\n",
       " 'icu_yn',\n",
       " 'death_yn',\n",
       " 'medcond_yn']"
      ]
     },
     "execution_count": 26,
     "metadata": {},
     "output_type": "execute_result"
    }
   ],
   "source": [
    "features = continuous_columns + categorical_columns\n",
    "features"
   ]
  },
  {
   "cell_type": "code",
   "execution_count": 27,
   "metadata": {
    "scrolled": true
   },
   "outputs": [
    {
     "name": "stdout",
     "output_type": "stream",
     "text": [
      "\n",
      "\u001b[1mcurrent_status\u001b[0m\n",
      "Index \t Count\n",
      "Laboratory-confirmed case \t 8828\n",
      "Probable Case \t 611\n",
      "\n",
      "\u001b[1msex\u001b[0m\n",
      "Index \t Count\n",
      "Male \t 4473\n",
      "Female \t 4965\n",
      "Other \t 1\n",
      "\n",
      "\u001b[1mage_group\u001b[0m\n",
      "Index \t Count\n",
      "20 - 29 Years \t 1743\n",
      "40 - 49 Years \t 1391\n",
      "70 - 79 Years \t 543\n",
      "80+ Years \t 444\n",
      "30 - 39 Years \t 1549\n",
      "50 - 59 Years \t 1326\n",
      "10 - 19 Years \t 983\n",
      "60 - 69 Years \t 1027\n",
      "0 - 9 Years \t 433\n",
      "\n",
      "\u001b[1mrace_ethnicity_combined\u001b[0m\n",
      "Index \t Count\n",
      "Unknown \t 3632\n",
      "White, Non-Hispanic \t 3272\n",
      "American Indian/Alaska Native, Non-Hispanic \t 66\n",
      "Hispanic/Latino \t 960\n",
      "Black, Non-Hispanic \t 706\n",
      "Multiple/Other, Non-Hispanic \t 522\n",
      "Asian, Non-Hispanic \t 254\n",
      "Native Hawaiian/Other Pacific Islander, Non-Hispanic \t 27\n",
      "\n",
      "\u001b[1mhosp_yn\u001b[0m\n",
      "Index \t Count\n",
      "No \t 5090\n",
      "Yes \t 662\n",
      "Unknown \t 3687\n",
      "\n",
      "\u001b[1micu_yn\u001b[0m\n",
      "Index \t Count\n",
      "Unknown \t 8396\n",
      "No \t 960\n",
      "Yes \t 83\n",
      "\n",
      "\u001b[1mdeath_yn\u001b[0m\n",
      "Index \t Count\n",
      "\n",
      "\u001b[1mmedcond_yn\u001b[0m\n",
      "Index \t Count\n",
      "Unknown \t 7717\n",
      "Yes \t 852\n",
      "No \t 870\n"
     ]
    },
    {
     "data": {
      "image/png": "[encoded data removed]",
      "text/plain": [
       "<Figure size 1080x504 with 1 Axes>"
      ]
     },
     "metadata": {
      "needs_background": "light"
     },
     "output_type": "display_data"
    },
    {
     "data": {
      "image/png": "[encoded data removed]",
      "text/plain": [
       "<Figure size 1080x504 with 1 Axes>"
      ]
     },
     "metadata": {
      "needs_background": "light"
     },
     "output_type": "display_data"
    },
    {
     "data": {
      "image/png": "[encoded data removed]",
      "text/plain": [
       "<Figure size 1080x504 with 1 Axes>"
      ]
     },
     "metadata": {
      "needs_background": "light"
     },
     "output_type": "display_data"
    },
    {
     "data": {
      "image/png": "[encoded data removed]",
      "text/plain": [
       "<Figure size 1080x504 with 1 Axes>"
      ]
     },
     "metadata": {
      "needs_background": "light"
     },
     "output_type": "display_data"
    },
    {
     "data": {
      "image/png": "[encoded data removed]",
      "text/plain": [
       "<Figure size 1080x504 with 1 Axes>"
      ]
     },
     "metadata": {
      "needs_background": "light"
     },
     "output_type": "display_data"
    },
    {
     "data": {
      "image/png": "[encoded data removed]",
      "text/plain": [
       "<Figure size 1080x504 with 1 Axes>"
      ]
     },
     "metadata": {
      "needs_background": "light"
     },
     "output_type": "display_data"
    },
    {
     "data": {
      "image/png": "[encoded data removed]",
      "text/plain": [
       "<Figure size 1080x504 with 1 Axes>"
      ]
     },
     "metadata": {
      "needs_background": "light"
     },
     "output_type": "display_data"
    }
   ],
   "source": [
    "\n",
    "# to loop through all the features in categorical columns \n",
    "for second_feature in categorical_columns:\n",
    "    details_of_feature = pd.unique(df[second_feature].ravel())\n",
    "\n",
    "    # add new column and set values to zero\n",
    "    df['percent'] = 0\n",
    "\n",
    "    #print header\n",
    "    print(\"\\n\" + '\\033[1m' +second_feature+ '\\033[0m')\n",
    "    print(\"Index \\t Count\")\n",
    "    \n",
    "#  to avoid plotting between death_yn vs death_yn\n",
    "    if('death_yn' != second_feature):\n",
    "            \n",
    "\n",
    "        # for each delinquency category\n",
    "        for i in details_of_feature:\n",
    "\n",
    "            count = df[df[second_feature] == i].count()['death_yn']\n",
    "            count_percentage = (1 / count) * 100\n",
    "\n",
    "            # print out index vs count\n",
    "            print(i, \"\\t\", count)\n",
    "\n",
    "            index_list = df[df[second_feature] == i].index.tolist()\n",
    "            for ind in index_list:\n",
    "                df.loc[ind, 'percent'] = count_percentage\n",
    "\n",
    "        group = df[['percent',second_feature,'death_yn']].groupby([second_feature,'death_yn']).sum()\n",
    "\n",
    "        my_plot = group.unstack().plot(kind='bar', stacked=True, title=\"death_yn vs \"+second_feature, figsize=(15,7), grid=True)\n",
    "\n",
    "        # add legend     \n",
    "        my_plot.legend([\"No\",\"Yes\"])\n",
    "        \n",
    "        # add gridlines\n",
    "        plt.grid(b=True, which='major', color='#666666', linestyle='-')\n",
    "        plt.minorticks_on()\n",
    "        plt.grid(b=True, which='minor', color='#999999', linestyle='-', alpha=0.2)\n",
    "        plt.xticks(rotation=30, ha='right')\n",
    "        \n",
    "        my_plot.set_xlabel(second_feature)\n",
    "        my_plot.set_ylabel(\"% deaths\")\n",
    "        my_plot.set_ylim([0,100])\n",
    "       \n",
    "    else:\n",
    "        continue"
   ]
  },
  {
   "cell_type": "markdown",
   "metadata": {},
   "source": [
    "- in **age_group** feature feature we can observe that the old age people i.e. above 40 years are died due to this COVID-19 in a incresing fashion. This means that 80+ years category people is having more number of deaths and the number of deaths decreasing as age decreases.\n",
    "\n",
    "- in **icu_yn** feature, shows that there are more number of deaths among the people who joined in ICU. While there are people who joined in ICU and able to recover(i.e. Not died) are quite less. \n",
    "\n",
    "- in **medcond_yn** feature, indicates that the people with presence of disease and died are less likely when compared to the people who are having disease(Yes) and not prone to death(death = No).\n",
    "\n",
    "- in **sex** feature, there is almost equal number of people in male, female categories are dead with slight variation. But this feature does not provide indicate any trend to the target feature.\n",
    "\n",
    "- while the **other features** does not indicate any strong trend between the target feature as the number of deaths are available in each sub-category of that feature"
   ]
  },
  {
   "cell_type": "code",
   "execution_count": 28,
   "metadata": {},
   "outputs": [],
   "source": [
    "# Save this dataframe to .csv file\n",
    "df.to_csv('cleaned_dataset.csv')"
   ]
  },
  {
   "cell_type": "code",
   "execution_count": 29,
   "metadata": {
    "scrolled": true
   },
   "outputs": [
    {
     "data": {
      "text/html": [
       "<div>\n",
       "<style scoped>\n",
       "    .dataframe tbody tr th:only-of-type {\n",
       "        vertical-align: middle;\n",
       "    }\n",
       "\n",
       "    .dataframe tbody tr th {\n",
       "        vertical-align: top;\n",
       "    }\n",
       "\n",
       "    .dataframe thead th {\n",
       "        text-align: right;\n",
       "    }\n",
       "</style>\n",
       "<table border=\"1\" class=\"dataframe\">\n",
       "  <thead>\n",
       "    <tr style=\"text-align: right;\">\n",
       "      <th></th>\n",
       "      <th>cdc_case_earliest_dt</th>\n",
       "      <th>current_status</th>\n",
       "      <th>sex</th>\n",
       "      <th>age_group</th>\n",
       "      <th>race_ethnicity_combined</th>\n",
       "      <th>hosp_yn</th>\n",
       "      <th>icu_yn</th>\n",
       "      <th>death_yn</th>\n",
       "      <th>medcond_yn</th>\n",
       "      <th>percent</th>\n",
       "    </tr>\n",
       "  </thead>\n",
       "  <tbody>\n",
       "    <tr>\n",
       "      <th>1</th>\n",
       "      <td>2020-12-01</td>\n",
       "      <td>Laboratory-confirmed case</td>\n",
       "      <td>Male</td>\n",
       "      <td>20 - 29 Years</td>\n",
       "      <td>Unknown</td>\n",
       "      <td>No</td>\n",
       "      <td>Unknown</td>\n",
       "      <td>No</td>\n",
       "      <td>Unknown</td>\n",
       "      <td>0.012958</td>\n",
       "    </tr>\n",
       "    <tr>\n",
       "      <th>2</th>\n",
       "      <td>2020-10-29</td>\n",
       "      <td>Laboratory-confirmed case</td>\n",
       "      <td>Male</td>\n",
       "      <td>40 - 49 Years</td>\n",
       "      <td>Unknown</td>\n",
       "      <td>No</td>\n",
       "      <td>Unknown</td>\n",
       "      <td>No</td>\n",
       "      <td>Unknown</td>\n",
       "      <td>0.012958</td>\n",
       "    </tr>\n",
       "    <tr>\n",
       "      <th>3</th>\n",
       "      <td>2020-04-30</td>\n",
       "      <td>Laboratory-confirmed case</td>\n",
       "      <td>Female</td>\n",
       "      <td>70 - 79 Years</td>\n",
       "      <td>Unknown</td>\n",
       "      <td>No</td>\n",
       "      <td>No</td>\n",
       "      <td>No</td>\n",
       "      <td>Unknown</td>\n",
       "      <td>0.012958</td>\n",
       "    </tr>\n",
       "    <tr>\n",
       "      <th>4</th>\n",
       "      <td>2020-04-16</td>\n",
       "      <td>Laboratory-confirmed case</td>\n",
       "      <td>Female</td>\n",
       "      <td>80+ Years</td>\n",
       "      <td>White, Non-Hispanic</td>\n",
       "      <td>Yes</td>\n",
       "      <td>Yes</td>\n",
       "      <td>Yes</td>\n",
       "      <td>Yes</td>\n",
       "      <td>0.117371</td>\n",
       "    </tr>\n",
       "    <tr>\n",
       "      <th>5</th>\n",
       "      <td>2020-11-03</td>\n",
       "      <td>Laboratory-confirmed case</td>\n",
       "      <td>Female</td>\n",
       "      <td>20 - 29 Years</td>\n",
       "      <td>Unknown</td>\n",
       "      <td>No</td>\n",
       "      <td>Unknown</td>\n",
       "      <td>No</td>\n",
       "      <td>Unknown</td>\n",
       "      <td>0.012958</td>\n",
       "    </tr>\n",
       "  </tbody>\n",
       "</table>\n",
       "</div>"
      ],
      "text/plain": [
       "  cdc_case_earliest_dt             current_status     sex      age_group  \\\n",
       "1           2020-12-01  Laboratory-confirmed case    Male  20 - 29 Years   \n",
       "2           2020-10-29  Laboratory-confirmed case    Male  40 - 49 Years   \n",
       "3           2020-04-30  Laboratory-confirmed case  Female  70 - 79 Years   \n",
       "4           2020-04-16  Laboratory-confirmed case  Female      80+ Years   \n",
       "5           2020-11-03  Laboratory-confirmed case  Female  20 - 29 Years   \n",
       "\n",
       "  race_ethnicity_combined hosp_yn   icu_yn death_yn medcond_yn   percent  \n",
       "1                 Unknown      No  Unknown       No    Unknown  0.012958  \n",
       "2                 Unknown      No  Unknown       No    Unknown  0.012958  \n",
       "3                 Unknown      No       No       No    Unknown  0.012958  \n",
       "4     White, Non-Hispanic     Yes      Yes      Yes        Yes  0.117371  \n",
       "5                 Unknown      No  Unknown       No    Unknown  0.012958  "
      ]
     },
     "execution_count": 29,
     "metadata": {},
     "output_type": "execute_result"
    }
   ],
   "source": [
    "df.head(5)"
   ]
  },
  {
   "cell_type": "markdown",
   "metadata": {},
   "source": [
    "### (1.1)  Randomly shuffle the rows of your dataset and split the dataset into two datasets: 70% training and 30% test. Keep the test set aside. "
   ]
  },
  {
   "cell_type": "markdown",
   "metadata": {},
   "source": [
    "#### Set up dummy features. \n",
    "This will split up each categorical feature into a number of dummy features. The data type changes to \"uint8\""
   ]
  },
  {
   "cell_type": "markdown",
   "metadata": {},
   "source": [
    "\n",
    "- This is based on the dataset with dummy values\n",
    "- The Target is stored in dataframe \"y\"\n",
    "- The remaining features are stored in dataframe \"X\"\n",
    "- Both are split into training and test subsets"
   ]
  },
  {
   "cell_type": "code",
   "execution_count": 30,
   "metadata": {},
   "outputs": [],
   "source": [
    "# randomly sets and indexes column name for a nested sort operation.\n",
    "df.set_index(np.random.permutation(df.index))\n",
    "df.sort_index(inplace=True)"
   ]
  },
  {
   "cell_type": "code",
   "execution_count": 31,
   "metadata": {},
   "outputs": [
    {
     "name": "stdout",
     "output_type": "stream",
     "text": [
      "original range is:  9439\n",
      "training range (70%):\t rows 0 to 6607\n",
      "test range (30%): \t rows 6607 to 9439\n"
     ]
    }
   ],
   "source": [
    "# Split the dataset into two datasets: 70% training and 30% test\n",
    "X = pd.get_dummies(df.drop(columns=['death_yn', 'cdc_case_earliest_dt']), drop_first=True)\n",
    "y = pd.get_dummies(df[\"death_yn\"], prefix='death', drop_first=True)\n",
    "\n",
    "X_train, X_test, y_train, y_test = train_test_split(X, y, test_size=0.3, random_state=3512, stratify=y)\n",
    "\n",
    "print(\"original range is: \",df.shape[0])\n",
    "print(\"training range (70%):\\t rows 0 to\", round(X_train.shape[0]))\n",
    "print(\"test range (30%): \\t rows\", round(X_train.shape[0]), \"to\", round(X_train.shape[0]) + X_test.shape[0])"
   ]
  },
  {
   "cell_type": "code",
   "execution_count": 32,
   "metadata": {},
   "outputs": [
    {
     "data": {
      "text/plain": [
       "percent                                                                         float64\n",
       "current_status_Probable Case                                                      uint8\n",
       "sex_Male                                                                          uint8\n",
       "sex_Other                                                                         uint8\n",
       "age_group_10 - 19 Years                                                           uint8\n",
       "age_group_20 - 29 Years                                                           uint8\n",
       "age_group_30 - 39 Years                                                           uint8\n",
       "age_group_40 - 49 Years                                                           uint8\n",
       "age_group_50 - 59 Years                                                           uint8\n",
       "age_group_60 - 69 Years                                                           uint8\n",
       "age_group_70 - 79 Years                                                           uint8\n",
       "age_group_80+ Years                                                               uint8\n",
       "race_ethnicity_combined_Asian, Non-Hispanic                                       uint8\n",
       "race_ethnicity_combined_Black, Non-Hispanic                                       uint8\n",
       "race_ethnicity_combined_Hispanic/Latino                                           uint8\n",
       "race_ethnicity_combined_Multiple/Other, Non-Hispanic                              uint8\n",
       "race_ethnicity_combined_Native Hawaiian/Other Pacific Islander, Non-Hispanic      uint8\n",
       "race_ethnicity_combined_Unknown                                                   uint8\n",
       "race_ethnicity_combined_White, Non-Hispanic                                       uint8\n",
       "hosp_yn_Unknown                                                                   uint8\n",
       "hosp_yn_Yes                                                                       uint8\n",
       "icu_yn_Unknown                                                                    uint8\n",
       "icu_yn_Yes                                                                        uint8\n",
       "medcond_yn_Unknown                                                                uint8\n",
       "medcond_yn_Yes                                                                    uint8\n",
       "dtype: object"
      ]
     },
     "execution_count": 32,
     "metadata": {},
     "output_type": "execute_result"
    }
   ],
   "source": [
    "X_train.dtypes"
   ]
  },
  {
   "cell_type": "code",
   "execution_count": 33,
   "metadata": {},
   "outputs": [],
   "source": [
    "X_train.reset_index(drop=True, inplace=True)\n",
    "y_train.reset_index(drop=True, inplace=True)\n",
    "X_test.reset_index(drop=True, inplace=True)\n",
    "y_test.reset_index(drop=True, inplace=True)"
   ]
  },
  {
   "cell_type": "code",
   "execution_count": 34,
   "metadata": {},
   "outputs": [
    {
     "data": {
      "text/html": [
       "<div>\n",
       "<style scoped>\n",
       "    .dataframe tbody tr th:only-of-type {\n",
       "        vertical-align: middle;\n",
       "    }\n",
       "\n",
       "    .dataframe tbody tr th {\n",
       "        vertical-align: top;\n",
       "    }\n",
       "\n",
       "    .dataframe thead th {\n",
       "        text-align: right;\n",
       "    }\n",
       "</style>\n",
       "<table border=\"1\" class=\"dataframe\">\n",
       "  <thead>\n",
       "    <tr style=\"text-align: right;\">\n",
       "      <th></th>\n",
       "      <th>percent</th>\n",
       "      <th>current_status_Probable Case</th>\n",
       "      <th>sex_Male</th>\n",
       "      <th>sex_Other</th>\n",
       "      <th>age_group_10 - 19 Years</th>\n",
       "      <th>age_group_20 - 29 Years</th>\n",
       "      <th>age_group_30 - 39 Years</th>\n",
       "      <th>age_group_40 - 49 Years</th>\n",
       "      <th>age_group_50 - 59 Years</th>\n",
       "      <th>age_group_60 - 69 Years</th>\n",
       "      <th>...</th>\n",
       "      <th>race_ethnicity_combined_Multiple/Other, Non-Hispanic</th>\n",
       "      <th>race_ethnicity_combined_Native Hawaiian/Other Pacific Islander, Non-Hispanic</th>\n",
       "      <th>race_ethnicity_combined_Unknown</th>\n",
       "      <th>race_ethnicity_combined_White, Non-Hispanic</th>\n",
       "      <th>hosp_yn_Unknown</th>\n",
       "      <th>hosp_yn_Yes</th>\n",
       "      <th>icu_yn_Unknown</th>\n",
       "      <th>icu_yn_Yes</th>\n",
       "      <th>medcond_yn_Unknown</th>\n",
       "      <th>medcond_yn_Yes</th>\n",
       "    </tr>\n",
       "  </thead>\n",
       "  <tbody>\n",
       "    <tr>\n",
       "      <th>0</th>\n",
       "      <td>0.012958</td>\n",
       "      <td>0</td>\n",
       "      <td>0</td>\n",
       "      <td>0</td>\n",
       "      <td>0</td>\n",
       "      <td>0</td>\n",
       "      <td>0</td>\n",
       "      <td>0</td>\n",
       "      <td>0</td>\n",
       "      <td>0</td>\n",
       "      <td>...</td>\n",
       "      <td>0</td>\n",
       "      <td>0</td>\n",
       "      <td>0</td>\n",
       "      <td>1</td>\n",
       "      <td>0</td>\n",
       "      <td>0</td>\n",
       "      <td>1</td>\n",
       "      <td>0</td>\n",
       "      <td>1</td>\n",
       "      <td>0</td>\n",
       "    </tr>\n",
       "    <tr>\n",
       "      <th>1</th>\n",
       "      <td>0.012958</td>\n",
       "      <td>0</td>\n",
       "      <td>0</td>\n",
       "      <td>0</td>\n",
       "      <td>0</td>\n",
       "      <td>1</td>\n",
       "      <td>0</td>\n",
       "      <td>0</td>\n",
       "      <td>0</td>\n",
       "      <td>0</td>\n",
       "      <td>...</td>\n",
       "      <td>0</td>\n",
       "      <td>0</td>\n",
       "      <td>1</td>\n",
       "      <td>0</td>\n",
       "      <td>0</td>\n",
       "      <td>1</td>\n",
       "      <td>1</td>\n",
       "      <td>0</td>\n",
       "      <td>1</td>\n",
       "      <td>0</td>\n",
       "    </tr>\n",
       "    <tr>\n",
       "      <th>2</th>\n",
       "      <td>0.012958</td>\n",
       "      <td>1</td>\n",
       "      <td>0</td>\n",
       "      <td>0</td>\n",
       "      <td>0</td>\n",
       "      <td>1</td>\n",
       "      <td>0</td>\n",
       "      <td>0</td>\n",
       "      <td>0</td>\n",
       "      <td>0</td>\n",
       "      <td>...</td>\n",
       "      <td>0</td>\n",
       "      <td>0</td>\n",
       "      <td>0</td>\n",
       "      <td>1</td>\n",
       "      <td>0</td>\n",
       "      <td>0</td>\n",
       "      <td>1</td>\n",
       "      <td>0</td>\n",
       "      <td>1</td>\n",
       "      <td>0</td>\n",
       "    </tr>\n",
       "    <tr>\n",
       "      <th>3</th>\n",
       "      <td>0.117371</td>\n",
       "      <td>1</td>\n",
       "      <td>0</td>\n",
       "      <td>0</td>\n",
       "      <td>0</td>\n",
       "      <td>0</td>\n",
       "      <td>1</td>\n",
       "      <td>0</td>\n",
       "      <td>0</td>\n",
       "      <td>0</td>\n",
       "      <td>...</td>\n",
       "      <td>0</td>\n",
       "      <td>0</td>\n",
       "      <td>0</td>\n",
       "      <td>1</td>\n",
       "      <td>0</td>\n",
       "      <td>0</td>\n",
       "      <td>0</td>\n",
       "      <td>0</td>\n",
       "      <td>0</td>\n",
       "      <td>1</td>\n",
       "    </tr>\n",
       "    <tr>\n",
       "      <th>4</th>\n",
       "      <td>0.012958</td>\n",
       "      <td>0</td>\n",
       "      <td>1</td>\n",
       "      <td>0</td>\n",
       "      <td>1</td>\n",
       "      <td>0</td>\n",
       "      <td>0</td>\n",
       "      <td>0</td>\n",
       "      <td>0</td>\n",
       "      <td>0</td>\n",
       "      <td>...</td>\n",
       "      <td>1</td>\n",
       "      <td>0</td>\n",
       "      <td>0</td>\n",
       "      <td>0</td>\n",
       "      <td>1</td>\n",
       "      <td>0</td>\n",
       "      <td>1</td>\n",
       "      <td>0</td>\n",
       "      <td>1</td>\n",
       "      <td>0</td>\n",
       "    </tr>\n",
       "    <tr>\n",
       "      <th>...</th>\n",
       "      <td>...</td>\n",
       "      <td>...</td>\n",
       "      <td>...</td>\n",
       "      <td>...</td>\n",
       "      <td>...</td>\n",
       "      <td>...</td>\n",
       "      <td>...</td>\n",
       "      <td>...</td>\n",
       "      <td>...</td>\n",
       "      <td>...</td>\n",
       "      <td>...</td>\n",
       "      <td>...</td>\n",
       "      <td>...</td>\n",
       "      <td>...</td>\n",
       "      <td>...</td>\n",
       "      <td>...</td>\n",
       "      <td>...</td>\n",
       "      <td>...</td>\n",
       "      <td>...</td>\n",
       "      <td>...</td>\n",
       "      <td>...</td>\n",
       "    </tr>\n",
       "    <tr>\n",
       "      <th>6602</th>\n",
       "      <td>0.012958</td>\n",
       "      <td>0</td>\n",
       "      <td>1</td>\n",
       "      <td>0</td>\n",
       "      <td>0</td>\n",
       "      <td>0</td>\n",
       "      <td>0</td>\n",
       "      <td>0</td>\n",
       "      <td>0</td>\n",
       "      <td>1</td>\n",
       "      <td>...</td>\n",
       "      <td>1</td>\n",
       "      <td>0</td>\n",
       "      <td>0</td>\n",
       "      <td>0</td>\n",
       "      <td>1</td>\n",
       "      <td>0</td>\n",
       "      <td>1</td>\n",
       "      <td>0</td>\n",
       "      <td>1</td>\n",
       "      <td>0</td>\n",
       "    </tr>\n",
       "    <tr>\n",
       "      <th>6603</th>\n",
       "      <td>0.012958</td>\n",
       "      <td>0</td>\n",
       "      <td>1</td>\n",
       "      <td>0</td>\n",
       "      <td>0</td>\n",
       "      <td>0</td>\n",
       "      <td>1</td>\n",
       "      <td>0</td>\n",
       "      <td>0</td>\n",
       "      <td>0</td>\n",
       "      <td>...</td>\n",
       "      <td>0</td>\n",
       "      <td>0</td>\n",
       "      <td>0</td>\n",
       "      <td>1</td>\n",
       "      <td>1</td>\n",
       "      <td>0</td>\n",
       "      <td>1</td>\n",
       "      <td>0</td>\n",
       "      <td>1</td>\n",
       "      <td>0</td>\n",
       "    </tr>\n",
       "    <tr>\n",
       "      <th>6604</th>\n",
       "      <td>0.012958</td>\n",
       "      <td>0</td>\n",
       "      <td>1</td>\n",
       "      <td>0</td>\n",
       "      <td>0</td>\n",
       "      <td>0</td>\n",
       "      <td>1</td>\n",
       "      <td>0</td>\n",
       "      <td>0</td>\n",
       "      <td>0</td>\n",
       "      <td>...</td>\n",
       "      <td>0</td>\n",
       "      <td>0</td>\n",
       "      <td>0</td>\n",
       "      <td>0</td>\n",
       "      <td>0</td>\n",
       "      <td>0</td>\n",
       "      <td>1</td>\n",
       "      <td>0</td>\n",
       "      <td>1</td>\n",
       "      <td>0</td>\n",
       "    </tr>\n",
       "    <tr>\n",
       "      <th>6605</th>\n",
       "      <td>0.012958</td>\n",
       "      <td>0</td>\n",
       "      <td>1</td>\n",
       "      <td>0</td>\n",
       "      <td>0</td>\n",
       "      <td>1</td>\n",
       "      <td>0</td>\n",
       "      <td>0</td>\n",
       "      <td>0</td>\n",
       "      <td>0</td>\n",
       "      <td>...</td>\n",
       "      <td>0</td>\n",
       "      <td>0</td>\n",
       "      <td>1</td>\n",
       "      <td>0</td>\n",
       "      <td>0</td>\n",
       "      <td>1</td>\n",
       "      <td>1</td>\n",
       "      <td>0</td>\n",
       "      <td>1</td>\n",
       "      <td>0</td>\n",
       "    </tr>\n",
       "    <tr>\n",
       "      <th>6606</th>\n",
       "      <td>0.012958</td>\n",
       "      <td>0</td>\n",
       "      <td>0</td>\n",
       "      <td>0</td>\n",
       "      <td>0</td>\n",
       "      <td>1</td>\n",
       "      <td>0</td>\n",
       "      <td>0</td>\n",
       "      <td>0</td>\n",
       "      <td>0</td>\n",
       "      <td>...</td>\n",
       "      <td>0</td>\n",
       "      <td>0</td>\n",
       "      <td>0</td>\n",
       "      <td>1</td>\n",
       "      <td>0</td>\n",
       "      <td>0</td>\n",
       "      <td>0</td>\n",
       "      <td>0</td>\n",
       "      <td>1</td>\n",
       "      <td>0</td>\n",
       "    </tr>\n",
       "  </tbody>\n",
       "</table>\n",
       "<p>6607 rows × 25 columns</p>\n",
       "</div>"
      ],
      "text/plain": [
       "       percent  current_status_Probable Case  sex_Male  sex_Other  \\\n",
       "0     0.012958                             0         0          0   \n",
       "1     0.012958                             0         0          0   \n",
       "2     0.012958                             1         0          0   \n",
       "3     0.117371                             1         0          0   \n",
       "4     0.012958                             0         1          0   \n",
       "...        ...                           ...       ...        ...   \n",
       "6602  0.012958                             0         1          0   \n",
       "6603  0.012958                             0         1          0   \n",
       "6604  0.012958                             0         1          0   \n",
       "6605  0.012958                             0         1          0   \n",
       "6606  0.012958                             0         0          0   \n",
       "\n",
       "      age_group_10 - 19 Years  age_group_20 - 29 Years  \\\n",
       "0                           0                        0   \n",
       "1                           0                        1   \n",
       "2                           0                        1   \n",
       "3                           0                        0   \n",
       "4                           1                        0   \n",
       "...                       ...                      ...   \n",
       "6602                        0                        0   \n",
       "6603                        0                        0   \n",
       "6604                        0                        0   \n",
       "6605                        0                        1   \n",
       "6606                        0                        1   \n",
       "\n",
       "      age_group_30 - 39 Years  age_group_40 - 49 Years  \\\n",
       "0                           0                        0   \n",
       "1                           0                        0   \n",
       "2                           0                        0   \n",
       "3                           1                        0   \n",
       "4                           0                        0   \n",
       "...                       ...                      ...   \n",
       "6602                        0                        0   \n",
       "6603                        1                        0   \n",
       "6604                        1                        0   \n",
       "6605                        0                        0   \n",
       "6606                        0                        0   \n",
       "\n",
       "      age_group_50 - 59 Years  age_group_60 - 69 Years  ...  \\\n",
       "0                           0                        0  ...   \n",
       "1                           0                        0  ...   \n",
       "2                           0                        0  ...   \n",
       "3                           0                        0  ...   \n",
       "4                           0                        0  ...   \n",
       "...                       ...                      ...  ...   \n",
       "6602                        0                        1  ...   \n",
       "6603                        0                        0  ...   \n",
       "6604                        0                        0  ...   \n",
       "6605                        0                        0  ...   \n",
       "6606                        0                        0  ...   \n",
       "\n",
       "      race_ethnicity_combined_Multiple/Other, Non-Hispanic  \\\n",
       "0                                                     0      \n",
       "1                                                     0      \n",
       "2                                                     0      \n",
       "3                                                     0      \n",
       "4                                                     1      \n",
       "...                                                 ...      \n",
       "6602                                                  1      \n",
       "6603                                                  0      \n",
       "6604                                                  0      \n",
       "6605                                                  0      \n",
       "6606                                                  0      \n",
       "\n",
       "      race_ethnicity_combined_Native Hawaiian/Other Pacific Islander, Non-Hispanic  \\\n",
       "0                                                     0                              \n",
       "1                                                     0                              \n",
       "2                                                     0                              \n",
       "3                                                     0                              \n",
       "4                                                     0                              \n",
       "...                                                 ...                              \n",
       "6602                                                  0                              \n",
       "6603                                                  0                              \n",
       "6604                                                  0                              \n",
       "6605                                                  0                              \n",
       "6606                                                  0                              \n",
       "\n",
       "      race_ethnicity_combined_Unknown  \\\n",
       "0                                   0   \n",
       "1                                   1   \n",
       "2                                   0   \n",
       "3                                   0   \n",
       "4                                   0   \n",
       "...                               ...   \n",
       "6602                                0   \n",
       "6603                                0   \n",
       "6604                                0   \n",
       "6605                                1   \n",
       "6606                                0   \n",
       "\n",
       "      race_ethnicity_combined_White, Non-Hispanic  hosp_yn_Unknown  \\\n",
       "0                                               1                0   \n",
       "1                                               0                0   \n",
       "2                                               1                0   \n",
       "3                                               1                0   \n",
       "4                                               0                1   \n",
       "...                                           ...              ...   \n",
       "6602                                            0                1   \n",
       "6603                                            1                1   \n",
       "6604                                            0                0   \n",
       "6605                                            0                0   \n",
       "6606                                            1                0   \n",
       "\n",
       "      hosp_yn_Yes  icu_yn_Unknown  icu_yn_Yes  medcond_yn_Unknown  \\\n",
       "0               0               1           0                   1   \n",
       "1               1               1           0                   1   \n",
       "2               0               1           0                   1   \n",
       "3               0               0           0                   0   \n",
       "4               0               1           0                   1   \n",
       "...           ...             ...         ...                 ...   \n",
       "6602            0               1           0                   1   \n",
       "6603            0               1           0                   1   \n",
       "6604            0               1           0                   1   \n",
       "6605            1               1           0                   1   \n",
       "6606            0               0           0                   1   \n",
       "\n",
       "      medcond_yn_Yes  \n",
       "0                  0  \n",
       "1                  0  \n",
       "2                  0  \n",
       "3                  1  \n",
       "4                  0  \n",
       "...              ...  \n",
       "6602               0  \n",
       "6603               0  \n",
       "6604               0  \n",
       "6605               0  \n",
       "6606               0  \n",
       "\n",
       "[6607 rows x 25 columns]"
      ]
     },
     "execution_count": 34,
     "metadata": {},
     "output_type": "execute_result"
    }
   ],
   "source": [
    "X_train"
   ]
  },
  {
   "cell_type": "code",
   "execution_count": 35,
   "metadata": {},
   "outputs": [
    {
     "name": "stdout",
     "output_type": "stream",
     "text": [
      "\n",
      "Descriptive features in X:\n",
      "     percent  current_status_Probable Case  sex_Male  sex_Other  \\\n",
      "0  0.012958                             0         0          0   \n",
      "1  0.012958                             0         0          0   \n",
      "2  0.012958                             1         0          0   \n",
      "3  0.117371                             1         0          0   \n",
      "4  0.012958                             0         1          0   \n",
      "\n",
      "   age_group_10 - 19 Years  age_group_20 - 29 Years  age_group_30 - 39 Years  \\\n",
      "0                        0                        0                        0   \n",
      "1                        0                        1                        0   \n",
      "2                        0                        1                        0   \n",
      "3                        0                        0                        1   \n",
      "4                        1                        0                        0   \n",
      "\n",
      "   age_group_40 - 49 Years  age_group_50 - 59 Years  age_group_60 - 69 Years  \\\n",
      "0                        0                        0                        0   \n",
      "1                        0                        0                        0   \n",
      "2                        0                        0                        0   \n",
      "3                        0                        0                        0   \n",
      "4                        0                        0                        0   \n",
      "\n",
      "   ...  race_ethnicity_combined_Multiple/Other, Non-Hispanic  \\\n",
      "0  ...                                                  0      \n",
      "1  ...                                                  0      \n",
      "2  ...                                                  0      \n",
      "3  ...                                                  0      \n",
      "4  ...                                                  1      \n",
      "\n",
      "   race_ethnicity_combined_Native Hawaiian/Other Pacific Islander, Non-Hispanic  \\\n",
      "0                                                  0                              \n",
      "1                                                  0                              \n",
      "2                                                  0                              \n",
      "3                                                  0                              \n",
      "4                                                  0                              \n",
      "\n",
      "   race_ethnicity_combined_Unknown  \\\n",
      "0                                0   \n",
      "1                                1   \n",
      "2                                0   \n",
      "3                                0   \n",
      "4                                0   \n",
      "\n",
      "   race_ethnicity_combined_White, Non-Hispanic  hosp_yn_Unknown  hosp_yn_Yes  \\\n",
      "0                                            1                0            0   \n",
      "1                                            0                0            1   \n",
      "2                                            1                0            0   \n",
      "3                                            1                0            0   \n",
      "4                                            0                1            0   \n",
      "\n",
      "   icu_yn_Unknown  icu_yn_Yes  medcond_yn_Unknown  medcond_yn_Yes  \n",
      "0               1           0                   1               0  \n",
      "1               1           0                   1               0  \n",
      "2               1           0                   1               0  \n",
      "3               0           0                   0               1  \n",
      "4               1           0                   1               0  \n",
      "\n",
      "[5 rows x 25 columns]\n",
      "\n",
      "Target feature in y:\n",
      "    death_Yes\n",
      "0          0\n",
      "1          0\n",
      "2          0\n",
      "3          0\n",
      "4          0\n"
     ]
    }
   ],
   "source": [
    "print(\"\\nDescriptive features in X:\\n\", X_train.head(5))\n",
    "print(\"\\nTarget feature in y:\\n\", y_train.head(5))"
   ]
  },
  {
   "cell_type": "markdown",
   "metadata": {},
   "source": [
    "#### Reset the indexes of the training and test splits\n",
    "- We can see from the X_train printout below that the indexes are no longer consecutive\n",
    "- This is the same for y_train, X_test, y_test\n",
    "- This will need to be dealt with next as it will effect merging of dataframes in the coming sections"
   ]
  },
  {
   "cell_type": "code",
   "execution_count": 36,
   "metadata": {},
   "outputs": [
    {
     "data": {
      "text/html": [
       "<div>\n",
       "<style scoped>\n",
       "    .dataframe tbody tr th:only-of-type {\n",
       "        vertical-align: middle;\n",
       "    }\n",
       "\n",
       "    .dataframe tbody tr th {\n",
       "        vertical-align: top;\n",
       "    }\n",
       "\n",
       "    .dataframe thead th {\n",
       "        text-align: right;\n",
       "    }\n",
       "</style>\n",
       "<table border=\"1\" class=\"dataframe\">\n",
       "  <thead>\n",
       "    <tr style=\"text-align: right;\">\n",
       "      <th></th>\n",
       "      <th>percent</th>\n",
       "      <th>current_status_Probable Case</th>\n",
       "      <th>sex_Male</th>\n",
       "      <th>sex_Other</th>\n",
       "      <th>age_group_10 - 19 Years</th>\n",
       "      <th>age_group_20 - 29 Years</th>\n",
       "      <th>age_group_30 - 39 Years</th>\n",
       "      <th>age_group_40 - 49 Years</th>\n",
       "      <th>age_group_50 - 59 Years</th>\n",
       "      <th>age_group_60 - 69 Years</th>\n",
       "      <th>...</th>\n",
       "      <th>race_ethnicity_combined_Multiple/Other, Non-Hispanic</th>\n",
       "      <th>race_ethnicity_combined_Native Hawaiian/Other Pacific Islander, Non-Hispanic</th>\n",
       "      <th>race_ethnicity_combined_Unknown</th>\n",
       "      <th>race_ethnicity_combined_White, Non-Hispanic</th>\n",
       "      <th>hosp_yn_Unknown</th>\n",
       "      <th>hosp_yn_Yes</th>\n",
       "      <th>icu_yn_Unknown</th>\n",
       "      <th>icu_yn_Yes</th>\n",
       "      <th>medcond_yn_Unknown</th>\n",
       "      <th>medcond_yn_Yes</th>\n",
       "    </tr>\n",
       "  </thead>\n",
       "  <tbody>\n",
       "    <tr>\n",
       "      <th>0</th>\n",
       "      <td>0.012958</td>\n",
       "      <td>0</td>\n",
       "      <td>0</td>\n",
       "      <td>0</td>\n",
       "      <td>0</td>\n",
       "      <td>0</td>\n",
       "      <td>0</td>\n",
       "      <td>0</td>\n",
       "      <td>0</td>\n",
       "      <td>0</td>\n",
       "      <td>...</td>\n",
       "      <td>0</td>\n",
       "      <td>0</td>\n",
       "      <td>0</td>\n",
       "      <td>1</td>\n",
       "      <td>0</td>\n",
       "      <td>0</td>\n",
       "      <td>1</td>\n",
       "      <td>0</td>\n",
       "      <td>1</td>\n",
       "      <td>0</td>\n",
       "    </tr>\n",
       "    <tr>\n",
       "      <th>1</th>\n",
       "      <td>0.012958</td>\n",
       "      <td>0</td>\n",
       "      <td>0</td>\n",
       "      <td>0</td>\n",
       "      <td>0</td>\n",
       "      <td>1</td>\n",
       "      <td>0</td>\n",
       "      <td>0</td>\n",
       "      <td>0</td>\n",
       "      <td>0</td>\n",
       "      <td>...</td>\n",
       "      <td>0</td>\n",
       "      <td>0</td>\n",
       "      <td>1</td>\n",
       "      <td>0</td>\n",
       "      <td>0</td>\n",
       "      <td>1</td>\n",
       "      <td>1</td>\n",
       "      <td>0</td>\n",
       "      <td>1</td>\n",
       "      <td>0</td>\n",
       "    </tr>\n",
       "    <tr>\n",
       "      <th>2</th>\n",
       "      <td>0.012958</td>\n",
       "      <td>1</td>\n",
       "      <td>0</td>\n",
       "      <td>0</td>\n",
       "      <td>0</td>\n",
       "      <td>1</td>\n",
       "      <td>0</td>\n",
       "      <td>0</td>\n",
       "      <td>0</td>\n",
       "      <td>0</td>\n",
       "      <td>...</td>\n",
       "      <td>0</td>\n",
       "      <td>0</td>\n",
       "      <td>0</td>\n",
       "      <td>1</td>\n",
       "      <td>0</td>\n",
       "      <td>0</td>\n",
       "      <td>1</td>\n",
       "      <td>0</td>\n",
       "      <td>1</td>\n",
       "      <td>0</td>\n",
       "    </tr>\n",
       "    <tr>\n",
       "      <th>3</th>\n",
       "      <td>0.117371</td>\n",
       "      <td>1</td>\n",
       "      <td>0</td>\n",
       "      <td>0</td>\n",
       "      <td>0</td>\n",
       "      <td>0</td>\n",
       "      <td>1</td>\n",
       "      <td>0</td>\n",
       "      <td>0</td>\n",
       "      <td>0</td>\n",
       "      <td>...</td>\n",
       "      <td>0</td>\n",
       "      <td>0</td>\n",
       "      <td>0</td>\n",
       "      <td>1</td>\n",
       "      <td>0</td>\n",
       "      <td>0</td>\n",
       "      <td>0</td>\n",
       "      <td>0</td>\n",
       "      <td>0</td>\n",
       "      <td>1</td>\n",
       "    </tr>\n",
       "    <tr>\n",
       "      <th>4</th>\n",
       "      <td>0.012958</td>\n",
       "      <td>0</td>\n",
       "      <td>1</td>\n",
       "      <td>0</td>\n",
       "      <td>1</td>\n",
       "      <td>0</td>\n",
       "      <td>0</td>\n",
       "      <td>0</td>\n",
       "      <td>0</td>\n",
       "      <td>0</td>\n",
       "      <td>...</td>\n",
       "      <td>1</td>\n",
       "      <td>0</td>\n",
       "      <td>0</td>\n",
       "      <td>0</td>\n",
       "      <td>1</td>\n",
       "      <td>0</td>\n",
       "      <td>1</td>\n",
       "      <td>0</td>\n",
       "      <td>1</td>\n",
       "      <td>0</td>\n",
       "    </tr>\n",
       "  </tbody>\n",
       "</table>\n",
       "<p>5 rows × 25 columns</p>\n",
       "</div>"
      ],
      "text/plain": [
       "    percent  current_status_Probable Case  sex_Male  sex_Other  \\\n",
       "0  0.012958                             0         0          0   \n",
       "1  0.012958                             0         0          0   \n",
       "2  0.012958                             1         0          0   \n",
       "3  0.117371                             1         0          0   \n",
       "4  0.012958                             0         1          0   \n",
       "\n",
       "   age_group_10 - 19 Years  age_group_20 - 29 Years  age_group_30 - 39 Years  \\\n",
       "0                        0                        0                        0   \n",
       "1                        0                        1                        0   \n",
       "2                        0                        1                        0   \n",
       "3                        0                        0                        1   \n",
       "4                        1                        0                        0   \n",
       "\n",
       "   age_group_40 - 49 Years  age_group_50 - 59 Years  age_group_60 - 69 Years  \\\n",
       "0                        0                        0                        0   \n",
       "1                        0                        0                        0   \n",
       "2                        0                        0                        0   \n",
       "3                        0                        0                        0   \n",
       "4                        0                        0                        0   \n",
       "\n",
       "   ...  race_ethnicity_combined_Multiple/Other, Non-Hispanic  \\\n",
       "0  ...                                                  0      \n",
       "1  ...                                                  0      \n",
       "2  ...                                                  0      \n",
       "3  ...                                                  0      \n",
       "4  ...                                                  1      \n",
       "\n",
       "   race_ethnicity_combined_Native Hawaiian/Other Pacific Islander, Non-Hispanic  \\\n",
       "0                                                  0                              \n",
       "1                                                  0                              \n",
       "2                                                  0                              \n",
       "3                                                  0                              \n",
       "4                                                  0                              \n",
       "\n",
       "   race_ethnicity_combined_Unknown  \\\n",
       "0                                0   \n",
       "1                                1   \n",
       "2                                0   \n",
       "3                                0   \n",
       "4                                0   \n",
       "\n",
       "   race_ethnicity_combined_White, Non-Hispanic  hosp_yn_Unknown  hosp_yn_Yes  \\\n",
       "0                                            1                0            0   \n",
       "1                                            0                0            1   \n",
       "2                                            1                0            0   \n",
       "3                                            1                0            0   \n",
       "4                                            0                1            0   \n",
       "\n",
       "   icu_yn_Unknown  icu_yn_Yes  medcond_yn_Unknown  medcond_yn_Yes  \n",
       "0               1           0                   1               0  \n",
       "1               1           0                   1               0  \n",
       "2               1           0                   1               0  \n",
       "3               0           0                   0               1  \n",
       "4               1           0                   1               0  \n",
       "\n",
       "[5 rows x 25 columns]"
      ]
     },
     "execution_count": 36,
     "metadata": {},
     "output_type": "execute_result"
    }
   ],
   "source": [
    "X_train.head(5)"
   ]
  },
  {
   "cell_type": "markdown",
   "metadata": {},
   "source": [
    "We will now reset the index of all training and test dataframes"
   ]
  },
  {
   "cell_type": "code",
   "execution_count": 37,
   "metadata": {},
   "outputs": [
    {
     "data": {
      "text/html": [
       "<div>\n",
       "<style scoped>\n",
       "    .dataframe tbody tr th:only-of-type {\n",
       "        vertical-align: middle;\n",
       "    }\n",
       "\n",
       "    .dataframe tbody tr th {\n",
       "        vertical-align: top;\n",
       "    }\n",
       "\n",
       "    .dataframe thead th {\n",
       "        text-align: right;\n",
       "    }\n",
       "</style>\n",
       "<table border=\"1\" class=\"dataframe\">\n",
       "  <thead>\n",
       "    <tr style=\"text-align: right;\">\n",
       "      <th></th>\n",
       "      <th>percent</th>\n",
       "      <th>current_status_Probable Case</th>\n",
       "      <th>sex_Male</th>\n",
       "      <th>sex_Other</th>\n",
       "      <th>age_group_10 - 19 Years</th>\n",
       "      <th>age_group_20 - 29 Years</th>\n",
       "      <th>age_group_30 - 39 Years</th>\n",
       "      <th>age_group_40 - 49 Years</th>\n",
       "      <th>age_group_50 - 59 Years</th>\n",
       "      <th>age_group_60 - 69 Years</th>\n",
       "      <th>...</th>\n",
       "      <th>race_ethnicity_combined_Multiple/Other, Non-Hispanic</th>\n",
       "      <th>race_ethnicity_combined_Native Hawaiian/Other Pacific Islander, Non-Hispanic</th>\n",
       "      <th>race_ethnicity_combined_Unknown</th>\n",
       "      <th>race_ethnicity_combined_White, Non-Hispanic</th>\n",
       "      <th>hosp_yn_Unknown</th>\n",
       "      <th>hosp_yn_Yes</th>\n",
       "      <th>icu_yn_Unknown</th>\n",
       "      <th>icu_yn_Yes</th>\n",
       "      <th>medcond_yn_Unknown</th>\n",
       "      <th>medcond_yn_Yes</th>\n",
       "    </tr>\n",
       "  </thead>\n",
       "  <tbody>\n",
       "    <tr>\n",
       "      <th>0</th>\n",
       "      <td>0.012958</td>\n",
       "      <td>0</td>\n",
       "      <td>0</td>\n",
       "      <td>0</td>\n",
       "      <td>0</td>\n",
       "      <td>0</td>\n",
       "      <td>0</td>\n",
       "      <td>0</td>\n",
       "      <td>0</td>\n",
       "      <td>0</td>\n",
       "      <td>...</td>\n",
       "      <td>0</td>\n",
       "      <td>0</td>\n",
       "      <td>0</td>\n",
       "      <td>1</td>\n",
       "      <td>0</td>\n",
       "      <td>0</td>\n",
       "      <td>1</td>\n",
       "      <td>0</td>\n",
       "      <td>1</td>\n",
       "      <td>0</td>\n",
       "    </tr>\n",
       "    <tr>\n",
       "      <th>1</th>\n",
       "      <td>0.012958</td>\n",
       "      <td>0</td>\n",
       "      <td>0</td>\n",
       "      <td>0</td>\n",
       "      <td>0</td>\n",
       "      <td>1</td>\n",
       "      <td>0</td>\n",
       "      <td>0</td>\n",
       "      <td>0</td>\n",
       "      <td>0</td>\n",
       "      <td>...</td>\n",
       "      <td>0</td>\n",
       "      <td>0</td>\n",
       "      <td>1</td>\n",
       "      <td>0</td>\n",
       "      <td>0</td>\n",
       "      <td>1</td>\n",
       "      <td>1</td>\n",
       "      <td>0</td>\n",
       "      <td>1</td>\n",
       "      <td>0</td>\n",
       "    </tr>\n",
       "    <tr>\n",
       "      <th>2</th>\n",
       "      <td>0.012958</td>\n",
       "      <td>1</td>\n",
       "      <td>0</td>\n",
       "      <td>0</td>\n",
       "      <td>0</td>\n",
       "      <td>1</td>\n",
       "      <td>0</td>\n",
       "      <td>0</td>\n",
       "      <td>0</td>\n",
       "      <td>0</td>\n",
       "      <td>...</td>\n",
       "      <td>0</td>\n",
       "      <td>0</td>\n",
       "      <td>0</td>\n",
       "      <td>1</td>\n",
       "      <td>0</td>\n",
       "      <td>0</td>\n",
       "      <td>1</td>\n",
       "      <td>0</td>\n",
       "      <td>1</td>\n",
       "      <td>0</td>\n",
       "    </tr>\n",
       "    <tr>\n",
       "      <th>3</th>\n",
       "      <td>0.117371</td>\n",
       "      <td>1</td>\n",
       "      <td>0</td>\n",
       "      <td>0</td>\n",
       "      <td>0</td>\n",
       "      <td>0</td>\n",
       "      <td>1</td>\n",
       "      <td>0</td>\n",
       "      <td>0</td>\n",
       "      <td>0</td>\n",
       "      <td>...</td>\n",
       "      <td>0</td>\n",
       "      <td>0</td>\n",
       "      <td>0</td>\n",
       "      <td>1</td>\n",
       "      <td>0</td>\n",
       "      <td>0</td>\n",
       "      <td>0</td>\n",
       "      <td>0</td>\n",
       "      <td>0</td>\n",
       "      <td>1</td>\n",
       "    </tr>\n",
       "    <tr>\n",
       "      <th>4</th>\n",
       "      <td>0.012958</td>\n",
       "      <td>0</td>\n",
       "      <td>1</td>\n",
       "      <td>0</td>\n",
       "      <td>1</td>\n",
       "      <td>0</td>\n",
       "      <td>0</td>\n",
       "      <td>0</td>\n",
       "      <td>0</td>\n",
       "      <td>0</td>\n",
       "      <td>...</td>\n",
       "      <td>1</td>\n",
       "      <td>0</td>\n",
       "      <td>0</td>\n",
       "      <td>0</td>\n",
       "      <td>1</td>\n",
       "      <td>0</td>\n",
       "      <td>1</td>\n",
       "      <td>0</td>\n",
       "      <td>1</td>\n",
       "      <td>0</td>\n",
       "    </tr>\n",
       "  </tbody>\n",
       "</table>\n",
       "<p>5 rows × 25 columns</p>\n",
       "</div>"
      ],
      "text/plain": [
       "    percent  current_status_Probable Case  sex_Male  sex_Other  \\\n",
       "0  0.012958                             0         0          0   \n",
       "1  0.012958                             0         0          0   \n",
       "2  0.012958                             1         0          0   \n",
       "3  0.117371                             1         0          0   \n",
       "4  0.012958                             0         1          0   \n",
       "\n",
       "   age_group_10 - 19 Years  age_group_20 - 29 Years  age_group_30 - 39 Years  \\\n",
       "0                        0                        0                        0   \n",
       "1                        0                        1                        0   \n",
       "2                        0                        1                        0   \n",
       "3                        0                        0                        1   \n",
       "4                        1                        0                        0   \n",
       "\n",
       "   age_group_40 - 49 Years  age_group_50 - 59 Years  age_group_60 - 69 Years  \\\n",
       "0                        0                        0                        0   \n",
       "1                        0                        0                        0   \n",
       "2                        0                        0                        0   \n",
       "3                        0                        0                        0   \n",
       "4                        0                        0                        0   \n",
       "\n",
       "   ...  race_ethnicity_combined_Multiple/Other, Non-Hispanic  \\\n",
       "0  ...                                                  0      \n",
       "1  ...                                                  0      \n",
       "2  ...                                                  0      \n",
       "3  ...                                                  0      \n",
       "4  ...                                                  1      \n",
       "\n",
       "   race_ethnicity_combined_Native Hawaiian/Other Pacific Islander, Non-Hispanic  \\\n",
       "0                                                  0                              \n",
       "1                                                  0                              \n",
       "2                                                  0                              \n",
       "3                                                  0                              \n",
       "4                                                  0                              \n",
       "\n",
       "   race_ethnicity_combined_Unknown  \\\n",
       "0                                0   \n",
       "1                                1   \n",
       "2                                0   \n",
       "3                                0   \n",
       "4                                0   \n",
       "\n",
       "   race_ethnicity_combined_White, Non-Hispanic  hosp_yn_Unknown  hosp_yn_Yes  \\\n",
       "0                                            1                0            0   \n",
       "1                                            0                0            1   \n",
       "2                                            1                0            0   \n",
       "3                                            1                0            0   \n",
       "4                                            0                1            0   \n",
       "\n",
       "   icu_yn_Unknown  icu_yn_Yes  medcond_yn_Unknown  medcond_yn_Yes  \n",
       "0               1           0                   1               0  \n",
       "1               1           0                   1               0  \n",
       "2               1           0                   1               0  \n",
       "3               0           0                   0               1  \n",
       "4               1           0                   1               0  \n",
       "\n",
       "[5 rows x 25 columns]"
      ]
     },
     "execution_count": 37,
     "metadata": {},
     "output_type": "execute_result"
    }
   ],
   "source": [
    "# need to reset the index to allow contatenation with predicted values otherwise not joining on same index...\n",
    "X_train.reset_index(drop=True, inplace=True)\n",
    "y_train.reset_index(drop=True, inplace=True)\n",
    "X_test.reset_index(drop=True, inplace=True)\n",
    "y_test.reset_index(drop=True, inplace=True)\n",
    "X_train.head(5)"
   ]
  },
  {
   "attachments": {},
   "cell_type": "markdown",
   "metadata": {},
   "source": [
    "## (2) Linear Regression Model\n",
    "<img src=\"linear_reg.png\" height=\"300\" width=\"300\"> <br>\n",
    "#### 2.1 Train a linear regression model using only the descriptive features selected from part 1 above\n",
    "\n"
   ]
  },
  {
   "cell_type": "code",
   "execution_count": 38,
   "metadata": {},
   "outputs": [],
   "source": [
    "# Train/fit, a model using all continuous and categorical features.\n",
    "multiple_linreg = LinearRegression().fit(X_train, y_train)"
   ]
  },
  {
   "cell_type": "markdown",
   "metadata": {},
   "source": [
    "#### 2.2 Print out the coefficients learned by the model"
   ]
  },
  {
   "cell_type": "code",
   "execution_count": 39,
   "metadata": {},
   "outputs": [
    {
     "name": "stdout",
     "output_type": "stream",
     "text": [
      "\n",
      "Features are: \n",
      " Index(['percent', 'current_status_Probable Case', 'sex_Male', 'sex_Other',\n",
      "       'age_group_10 - 19 Years', 'age_group_20 - 29 Years',\n",
      "       'age_group_30 - 39 Years', 'age_group_40 - 49 Years',\n",
      "       'age_group_50 - 59 Years', 'age_group_60 - 69 Years',\n",
      "       'age_group_70 - 79 Years', 'age_group_80+ Years',\n",
      "       'race_ethnicity_combined_Asian, Non-Hispanic',\n",
      "       'race_ethnicity_combined_Black, Non-Hispanic',\n",
      "       'race_ethnicity_combined_Hispanic/Latino',\n",
      "       'race_ethnicity_combined_Multiple/Other, Non-Hispanic',\n",
      "       'race_ethnicity_combined_Native Hawaiian/Other Pacific Islander, Non-Hispanic',\n",
      "       'race_ethnicity_combined_Unknown',\n",
      "       'race_ethnicity_combined_White, Non-Hispanic', 'hosp_yn_Unknown',\n",
      "       'hosp_yn_Yes', 'icu_yn_Unknown', 'icu_yn_Yes', 'medcond_yn_Unknown',\n",
      "       'medcond_yn_Yes'],\n",
      "      dtype='object')\n",
      "\n",
      "Coeficients are: \n",
      " [[ 1.03308222e-03  5.80479671e-03  1.49818315e-02 -4.85722573e-17\n",
      "  -8.88174750e-04 -8.57554698e-04 -3.51340983e-03 -2.51683687e-03\n",
      "   4.32565704e-03  3.25098821e-02  6.70673042e-02  2.93929781e-01\n",
      "   1.07275857e-02  1.97502519e-02  1.89500933e-02 -2.88994585e-03\n",
      "   1.46221635e-02 -1.07614297e-02  5.30028188e-03  2.21190346e-02\n",
      "   1.87796515e-01  3.87997368e-02  2.80212980e-01 -9.52557858e-03\n",
      "   2.53769384e-02]]\n",
      "\n",
      "Intercept is: \n",
      " [-0.04808069]\n",
      "\n",
      "Features and coeficients: \n",
      " [('percent', array([ 1.03308222e-03,  5.80479671e-03,  1.49818315e-02, -4.85722573e-17,\n",
      "       -8.88174750e-04, -8.57554698e-04, -3.51340983e-03, -2.51683687e-03,\n",
      "        4.32565704e-03,  3.25098821e-02,  6.70673042e-02,  2.93929781e-01,\n",
      "        1.07275857e-02,  1.97502519e-02,  1.89500933e-02, -2.88994585e-03,\n",
      "        1.46221635e-02, -1.07614297e-02,  5.30028188e-03,  2.21190346e-02,\n",
      "        1.87796515e-01,  3.87997368e-02,  2.80212980e-01, -9.52557858e-03,\n",
      "        2.53769384e-02]))]\n"
     ]
    }
   ],
   "source": [
    "# Print the estimated linear regression coefficients.\n",
    "print(\"\\nFeatures are: \\n\", X_train.columns)\n",
    "print(\"\\nCoeficients are: \\n\", multiple_linreg.coef_)\n",
    "print(\"\\nIntercept is: \\n\", multiple_linreg.intercept_)\n",
    "print(\"\\nFeatures and coeficients: \\n\", list(zip(X_train.columns, multiple_linreg.coef_)))"
   ]
  },
  {
   "cell_type": "markdown",
   "metadata": {},
   "source": [
    "####  Interpreting the linear regression model\n",
    "\n",
    "- Linear regression models are the most basic types of statistical techniques and widely used predictive analysis. They show a relationship between two variables with a linear algorithm and equation.\n",
    "    - There is only one independent variable X which changes result on different values for Y.\n",
    "    - This model is used to evaluate trends and make forecasts.\n",
    "- The linear regression formula takes the following form:\n",
    "    - $ 𝑡𝑎𝑟𝑔𝑒𝑡_𝑓𝑒𝑎𝑡𝑢𝑟𝑒=𝑤0+𝑤1∗𝑓𝑒𝑎𝑡𝑢𝑟𝑒1+𝑤2∗𝑓𝑒𝑎𝑡𝑢𝑟𝑒2+...+𝑤𝑛∗𝑓𝑒𝑎𝑡𝑢𝑟𝑒𝑛 $\n",
    "    - The output of this formula will be a continuous value that can be less than 0 and higher than 1\n",
    "- We can see the calculated intercept is -0.04 (w_0)\n",
    "    - This is the starting point. i.e. if all other coefficients are zero then the model result will be -0.04\n",
    "    - intercept is used to adjust the model's precision of predicting.\n",
    "- We can see all the coefficients for each feature\n",
    "    - For every one-unit increase in x, the y increases by ceff when all other variables are held constant.\n",
    "    - The sum of all the feature*coefficients + intercept will result in the model prediction  \n",
    "    \n",
    "- Linear regression doesn't show suitable effects to resolve this problem case statement. An additional thresholding step is necessary to convert the output into a binary classification\n",
    "- We will threshold the output so that any values >=0.5 will be cast to 1, any values <0.5 will be cast to 0\n"
   ]
  },
  {
   "cell_type": "markdown",
   "metadata": {},
   "source": [
    "#### 2.3 Print the predicted target feature value for the first 10 training examples\n",
    "- Here we will print the predicted target feature value for the first 10 training examples. \n",
    "- We will threshold the predicted target feature value given by the linear regression model at 0.5, to get the predicted class for each example. \n",
    " "
   ]
  },
  {
   "cell_type": "code",
   "execution_count": 40,
   "metadata": {},
   "outputs": [
    {
     "name": "stdout",
     "output_type": "stream",
     "text": [
      "\n",
      "Predictions with multiple linear regression: \n",
      "\n",
      "   death_Yes  Predicted\n",
      "0          0        0.0\n",
      "1          0        0.0\n",
      "2          0        0.0\n",
      "3          0        0.0\n",
      "4          0        0.0\n",
      "5          0        0.0\n",
      "6          0        0.0\n",
      "7          0        0.0\n",
      "8          0        0.0\n",
      "9          0        0.0\n"
     ]
    }
   ],
   "source": [
    "# calculate the prediction and threshold the value. If >= 0.5 its true\n",
    "# Predicted scores for each example. \n",
    "multiple_linreg_predictions_train = (multiple_linreg.predict(X_train) >= 0.5) * 1.0\n",
    "\n",
    "print(\"\\nPredictions with multiple linear regression: \\n\")\n",
    "actual_vs_predicted_multiplelinreg = pd.concat([y_train, pd.DataFrame(multiple_linreg_predictions_train, columns=['Predicted'])], axis=1)\n",
    "print(actual_vs_predicted_multiplelinreg.head(10))"
   ]
  },
  {
   "cell_type": "markdown",
   "metadata": {},
   "source": [
    "#### Evaluation metrics based on training data\n",
    "- We will print the classification evaluation measures computed on the training set (e.g. Accuracy, Confusion matrix, Precision, Recall, F1)\n",
    "- We will discuss findings based on these measures"
   ]
  },
  {
   "cell_type": "code",
   "execution_count": 41,
   "metadata": {},
   "outputs": [
    {
     "name": "stdout",
     "output_type": "stream",
     "text": [
      "********************Results based on train data *****************\n",
      "Accuracy:  0.9670046919933404\n",
      "Confusion matrix: \n",
      " [[6369    6]\n",
      " [ 212   20]]\n",
      "Classification report:\n",
      "                precision    recall  f1-score   support\n",
      "\n",
      "           0       0.97      1.00      0.98      6375\n",
      "           1       0.77      0.09      0.16       232\n",
      "\n",
      "    accuracy                           0.97      6607\n",
      "   macro avg       0.87      0.54      0.57      6607\n",
      "weighted avg       0.96      0.97      0.95      6607\n",
      "\n",
      "------------------------------------------------------------------\n"
     ]
    }
   ],
   "source": [
    "# Some more evaluation metrics.\n",
    "print(\"********************Results based on train data *****************\")\n",
    "print(\"Accuracy: \", metrics.accuracy_score(y_train, multiple_linreg_predictions_train))\n",
    "print(\"Confusion matrix: \\n\", metrics.confusion_matrix(y_train, multiple_linreg_predictions_train))\n",
    "print(\"Classification report:\\n \", metrics.classification_report(y_train, multiple_linreg_predictions_train))\n",
    "print(\"------------------------------------------------------------------\")"
   ]
  },
  {
   "cell_type": "markdown",
   "metadata": {},
   "source": [
    "##### Findings for training data set\n",
    "- Accuracy\n",
    "    - This is simply stating how often the model is correct. We have an accuracy of 96%\n",
    "    - Denoted by Accuracy = (TP + TN) / (TP + TN + FP + FN)\n",
    "- Confusion Matrix\n",
    "    - A confusion matrix, also known as an error matrix, is a specific table layout that allows visualization of the performance of an algorithm, further explained are the matrix scenarios to be considered.\n",
    "    - [0][0] True negative - The number that is predicted 0 that was actually 0\n",
    "    - [0][1] false positive - The number that is predicted 1 that is actually 0\n",
    "    - [1][0] false negative - The number that is predicted 0 that is actually 1\n",
    "    - [1][1] True positive - The number that is predicted 1 that is actually 1\n",
    "- Precision \n",
    "    - Precision is the measure of how many observations our model correctly predicted over the amount of correct and incorrect predictions\n",
    "    - Given by Precision = TP / (TP + FP)\n",
    "    - Precision Positive is 0.97\n",
    "    - Precision Negative is 0.77\n",
    "- Recall\n",
    "    - Recall is the measure of how many observations our model correctly predicted over the total amount of observations\n",
    "    - Recall = TP / (TP + FN)\n",
    "    - Recall Positive is 1.00\n",
    "    - Recall Negative is 0.09\n",
    "- F1 Score\n",
    "    - Is an a weighted average of Precision and recall\n",
    "    - given by F1 Score = 2 * ( (Precision * Recall) / (Precision + Recall) )\n",
    "    - F1 Score Positive is 0.98\n",
    "    - F1 Score Negative is 0.16 \n",
    "\n",
    "Summary\n",
    "- The values for accuracy and precision seems pretty good.\n",
    "- Due to the scarcity in negative features values the recall and F1 score seems to have dropped quite low.\n",
    "- It is observed and tested that the data set has around 90% positive entries in its majority class.\n",
    "- This possibly shows overfitting of the model due to unbalanced data set for target feature.\n",
    " "
   ]
  },
  {
   "cell_type": "markdown",
   "metadata": {},
   "source": [
    "#### 2.4 Evaluate the model using classification evaluation measures on the hold-out (30% examples) test set.\n",
    "- Compare these results with the evaluation results obtained on the training (70%) dataset. Also compare these results with a cross-validated model (i.e., a new model trained and evaluated using cross-validation on the full dataset). \n"
   ]
  },
  {
   "cell_type": "markdown",
   "metadata": {},
   "source": [
    "Printing Actual RiskPerformance vs predicted based on test data"
   ]
  },
  {
   "cell_type": "code",
   "execution_count": 42,
   "metadata": {},
   "outputs": [
    {
     "name": "stdout",
     "output_type": "stream",
     "text": [
      "\n",
      "Predictions with multiple linear regression: \n",
      "\n",
      "    death_Yes  Predicted\n",
      "0           0        0.0\n",
      "1           0        0.0\n",
      "2           1        0.0\n",
      "3           0        0.0\n",
      "4           0        0.0\n",
      "..        ...        ...\n",
      "95          0        0.0\n",
      "96          0        0.0\n",
      "97          0        0.0\n",
      "98          0        0.0\n",
      "99          0        0.0\n",
      "\n",
      "[100 rows x 2 columns]\n"
     ]
    }
   ],
   "source": [
    "# calculate the prediction and threshold the value. If >= 0.5 its true\n",
    "multiple_linreg_predictions_test = (multiple_linreg.predict(X_test) >= 0.5) * 1.0\n",
    "\n",
    "print(\"\\nPredictions with multiple linear regression: \\n\")\n",
    "actual_vs_predicted_multiplelinreg = pd.concat([y_test, pd.DataFrame(multiple_linreg_predictions_test, columns=['Predicted'])], axis=1)\n",
    "print(actual_vs_predicted_multiplelinreg.head(100))"
   ]
  },
  {
   "cell_type": "markdown",
   "metadata": {},
   "source": [
    "##### Evaluation metrics based on test data"
   ]
  },
  {
   "cell_type": "code",
   "execution_count": 43,
   "metadata": {},
   "outputs": [
    {
     "name": "stdout",
     "output_type": "stream",
     "text": [
      "********************* Results based on test Data ************************\n",
      "Accuracy:  0.9668079096045198\n",
      "Confusion matrix: \n",
      " [[2727    5]\n",
      " [  89   11]]\n",
      "Classification report\n",
      "                precision    recall  f1-score   support\n",
      "\n",
      "           0       0.97      1.00      0.98      2732\n",
      "           1       0.69      0.11      0.19       100\n",
      "\n",
      "    accuracy                           0.97      2832\n",
      "   macro avg       0.83      0.55      0.59      2832\n",
      "weighted avg       0.96      0.97      0.96      2832\n",
      "\n",
      "******************** Results based on train Data **********************\n",
      "Accuracy:  0.9670046919933404\n",
      "Confusion matrix: \n",
      " [[6369    6]\n",
      " [ 212   20]]\n",
      "\n",
      "Classification report: \n",
      "                precision    recall  f1-score   support\n",
      "\n",
      "           0       0.97      1.00      0.98      6375\n",
      "           1       0.77      0.09      0.16       232\n",
      "\n",
      "    accuracy                           0.97      6607\n",
      "   macro avg       0.87      0.54      0.57      6607\n",
      "weighted avg       0.96      0.97      0.95      6607\n",
      "\n"
     ]
    }
   ],
   "source": [
    "# Some more evaluation metrics.\n",
    "print(\"********************* Results based on test Data ************************\")\n",
    "print(\"Accuracy: \", metrics.accuracy_score(y_test, multiple_linreg_predictions_test))\n",
    "print(\"Confusion matrix: \\n\", metrics.confusion_matrix(y_test, multiple_linreg_predictions_test))\n",
    "print(\"Classification report\\n \", metrics.classification_report(y_test, multiple_linreg_predictions_test))\n",
    "print(\"******************** Results based on train Data **********************\")\n",
    "print(\"Accuracy: \", metrics.accuracy_score(y_train, multiple_linreg_predictions_train))\n",
    "print(\"Confusion matrix: \\n\", metrics.confusion_matrix(y_train, multiple_linreg_predictions_train))\n",
    "print(\"\\nClassification report: \\n \", metrics.classification_report(y_train, multiple_linreg_predictions_train))"
   ]
  },
  {
   "cell_type": "markdown",
   "metadata": {},
   "source": [
    "**Interpretation of test results and comparison with training results**\n",
    "- Accuracy\n",
    "    - The accuracy of the test and train data appears to the same. \n",
    "- Precision\n",
    "    - The precision score for predicting the positive case has reduced from 77% to 69%.\n",
    "    - The precision score for predicting the negative case is same that is 97%.\n",
    "- Recall\n",
    "    - The recall score for predicting the positive case has increased from 9% to 11%.\n",
    "    - The recall score for predicting the negative case is same that is 100%.\n",
    "- F1\n",
    "    - The f1 score for predicting the positive case has increased from 16% to 19%.\n",
    "    - The f1 score for predicting the negative case has same that is 100%.\n",
    "\n",
    "- The values for accuracy and recall for negative cases are more than expected.\n",
    "- Seems like model is oversampled, need to verify and evaluate more further based on computations.\n",
    "-  It is recommended that we always evaluate our model on a second data sample that was not used during training .This way we avoid overfitting or memorising the training data."
   ]
  },
  {
   "cell_type": "markdown",
   "metadata": {},
   "source": [
    "#### 2.4 Classic k-fold cross-validation\n",
    "- We will now perform cross validation on the linear regression model. \n",
    "- Cross-validation is a statistical method used to estimate the performance (or accuracy) of machine learning models.  classic k-fold cross-validation or repeated random train/test (70/30) splits. Compare the cross-validation metrics to those obtained on the single train/test split.\n",
    "- Cross-validation is a procedure that is used to avoid overfitting and estimate the skill of the model on new data.\n",
    "- Each time the data is shuffled so we get a slightly different view of the data for training and testing\n",
    "- Cross validation Function can be seen below"
   ]
  },
  {
   "cell_type": "code",
   "execution_count": 44,
   "metadata": {},
   "outputs": [],
   "source": [
    "def LinReg_CV(X, y, cv=3, scoring='accuracy'):\n",
    "    \n",
    "    # store results in an array\n",
    "    results = []\n",
    "    # evaluate cv times and append to results\n",
    "    for i in range(cv):\n",
    "        # set up train test split\n",
    "        X_train, X_test, y_train, y_test = train_test_split(X, y, random_state=i , test_size=0.3)\n",
    "        # generate LinearRegression model\n",
    "        multiple_linreg = LinearRegression().fit(X_train, y_train)\n",
    "        # set threshold to >= 0.5\n",
    "        multiple_linreg_predictions = (multiple_linreg.predict(X_test) >= 0.5) * 1.0\n",
    "        # calc score for all parameters\n",
    "        if scoring=='accuracy':\n",
    "            score = metrics.accuracy_score(y_test, multiple_linreg_predictions)\n",
    "        elif scoring=='precision':\n",
    "            score = metrics.precision_score(y_test, multiple_linreg_predictions)\n",
    "        elif scoring=='f1':\n",
    "            score = metrics.f1_score(y_test, multiple_linreg_predictions)\n",
    "        elif scoring=='recall':\n",
    "            score = metrics.recall_score(y_test, multiple_linreg_predictions)\n",
    "        # append to results\n",
    "        results.append(score)\n",
    "    return results"
   ]
  },
  {
   "cell_type": "markdown",
   "metadata": {},
   "source": [
    "We will now create an additional function to perform 10 fold cross validation and store results into a dataframe\n",
    "- This will be used to simplify further analysis the dataset, looking at accuracy, precision, recall, f1.\n",
    "- Function to perform cross validation and store results in dataframe. Cross validation looks at accuracy, precision, recall, f1. Returns a dataframe with results"
   ]
  },
  {
   "cell_type": "code",
   "execution_count": 45,
   "metadata": {},
   "outputs": [],
   "source": [
    "def LinReg_CrossVal(X,y):\n",
    "\n",
    "    linRegResults = {}\n",
    "    # metrics to test against\n",
    "    test_metrics = ['accuracy','precision','recall', 'f1']\n",
    "    \n",
    "    for metric in test_metrics:\n",
    "        # generate test results\n",
    "        result = LinReg_CV(X, y, cv=10, scoring=metric)\n",
    "        length = len(result)\n",
    "        # store result in dict\n",
    "        linRegResults[metric] = sum(result)/length\n",
    "\n",
    "    # create dataframe with results\n",
    "    LinRegDF = pd.DataFrame.from_dict(linRegResults, orient='index', columns=['Linear_Regression'])\n",
    "    \n",
    "    return LinRegDF"
   ]
  },
  {
   "cell_type": "markdown",
   "metadata": {},
   "source": [
    "Preform 10 fold cross validation using LinReg_CrossVal function\n",
    "- Results summarised below"
   ]
  },
  {
   "cell_type": "code",
   "execution_count": 46,
   "metadata": {},
   "outputs": [
    {
     "name": "stdout",
     "output_type": "stream",
     "text": [
      "Taken result as mean for 10 cross validation :\n"
     ]
    },
    {
     "data": {
      "text/html": [
       "<div>\n",
       "<style scoped>\n",
       "    .dataframe tbody tr th:only-of-type {\n",
       "        vertical-align: middle;\n",
       "    }\n",
       "\n",
       "    .dataframe tbody tr th {\n",
       "        vertical-align: top;\n",
       "    }\n",
       "\n",
       "    .dataframe thead th {\n",
       "        text-align: right;\n",
       "    }\n",
       "</style>\n",
       "<table border=\"1\" class=\"dataframe\">\n",
       "  <thead>\n",
       "    <tr style=\"text-align: right;\">\n",
       "      <th></th>\n",
       "      <th>Linear_Regression</th>\n",
       "    </tr>\n",
       "  </thead>\n",
       "  <tbody>\n",
       "    <tr>\n",
       "      <th>accuracy</th>\n",
       "      <td>0.965466</td>\n",
       "    </tr>\n",
       "    <tr>\n",
       "      <th>precision</th>\n",
       "      <td>0.765525</td>\n",
       "    </tr>\n",
       "    <tr>\n",
       "      <th>recall</th>\n",
       "      <td>0.104001</td>\n",
       "    </tr>\n",
       "    <tr>\n",
       "      <th>f1</th>\n",
       "      <td>0.176126</td>\n",
       "    </tr>\n",
       "  </tbody>\n",
       "</table>\n",
       "</div>"
      ],
      "text/plain": [
       "           Linear_Regression\n",
       "accuracy            0.965466\n",
       "precision           0.765525\n",
       "recall              0.104001\n",
       "f1                  0.176126"
      ]
     },
     "execution_count": 46,
     "metadata": {},
     "output_type": "execute_result"
    }
   ],
   "source": [
    "linRegDF = LinReg_CrossVal(X,y)\n",
    "print(f\"Taken result as mean for 10 cross validation :\")\n",
    "linRegDF"
   ]
  },
  {
   "cell_type": "markdown",
   "metadata": {},
   "source": [
    "These results are marginally lower than previous results but this is expected. We have taken the mean of 10 sets of results. "
   ]
  },
  {
   "cell_type": "code",
   "execution_count": 47,
   "metadata": {},
   "outputs": [
    {
     "name": "stdout",
     "output_type": "stream",
     "text": [
      "                                                          coeffs\n",
      "race_ethnicity_combined_Unknown                    -1.076143e-02\n",
      "medcond_yn_Unknown                                 -9.525579e-03\n",
      "age_group_30 - 39 Years                            -3.513410e-03\n",
      "race_ethnicity_combined_Multiple/Other, Non-His... -2.889946e-03\n",
      "age_group_40 - 49 Years                            -2.516837e-03\n",
      "age_group_10 - 19 Years                            -8.881748e-04\n",
      "age_group_20 - 29 Years                            -8.575547e-04\n",
      "sex_Other                                          -4.857226e-17\n",
      "percent                                             1.033082e-03\n",
      "age_group_50 - 59 Years                             4.325657e-03\n",
      "race_ethnicity_combined_White, Non-Hispanic         5.300282e-03\n",
      "current_status_Probable Case                        5.804797e-03\n",
      "race_ethnicity_combined_Asian, Non-Hispanic         1.072759e-02\n",
      "race_ethnicity_combined_Native Hawaiian/Other P...  1.462216e-02\n",
      "sex_Male                                            1.498183e-02\n",
      "race_ethnicity_combined_Hispanic/Latino             1.895009e-02\n",
      "race_ethnicity_combined_Black, Non-Hispanic         1.975025e-02\n",
      "hosp_yn_Unknown                                     2.211903e-02\n",
      "medcond_yn_Yes                                      2.537694e-02\n",
      "age_group_60 - 69 Years                             3.250988e-02\n",
      "icu_yn_Unknown                                      3.879974e-02\n",
      "age_group_70 - 79 Years                             6.706730e-02\n",
      "hosp_yn_Yes                                         1.877965e-01\n",
      "icu_yn_Yes                                          2.802130e-01\n",
      "age_group_80+ Years                                 2.939298e-01\n",
      "\n",
      "Intercept is: \n",
      " [-0.04808069]\n"
     ]
    }
   ],
   "source": [
    "# Print the weights learned for each feature\n",
    "cols = (X_train.columns.tolist())\n",
    "coeffs = (multiple_linreg.coef_.ravel())\n",
    "\n",
    "print(pd.DataFrame(data = {'coeffs': coeffs}, index=cols).sort_values(by='coeffs', ascending=True))\n",
    "\n",
    "print(\"\\nIntercept is: \\n\", multiple_linreg.intercept_)"
   ]
  },
  {
   "cell_type": "markdown",
   "metadata": {},
   "source": [
    "This shows that features like percent,age_group_20 contribute negligible in the training set. but age_group80+ and med_yn has large impact over the coefficients and intercept."
   ]
  },
  {
   "cell_type": "markdown",
   "metadata": {},
   "source": [
    "## (3) Logistic Regression   \n",
    "<img src=\"logistic_reg.png\" height=\"300\" width=\"500\"> <br>"
   ]
  },
  {
   "cell_type": "markdown",
   "metadata": {},
   "source": [
    "#### 3.1 Train a logistic regression model using only the descriptive features selected from part 1 above"
   ]
  },
  {
   "cell_type": "code",
   "execution_count": 48,
   "metadata": {},
   "outputs": [],
   "source": [
    "# Train/fit, a model using all continuous and categorical features.\n",
    "multiple_logisticreg = LogisticRegression().fit(X_train, y_train)"
   ]
  },
  {
   "cell_type": "code",
   "execution_count": 49,
   "metadata": {},
   "outputs": [
    {
     "name": "stdout",
     "output_type": "stream",
     "text": [
      "\n",
      "Features are: \n",
      " Index(['percent', 'current_status_Probable Case', 'sex_Male', 'sex_Other',\n",
      "       'age_group_10 - 19 Years', 'age_group_20 - 29 Years',\n",
      "       'age_group_30 - 39 Years', 'age_group_40 - 49 Years',\n",
      "       'age_group_50 - 59 Years', 'age_group_60 - 69 Years',\n",
      "       'age_group_70 - 79 Years', 'age_group_80+ Years',\n",
      "       'race_ethnicity_combined_Asian, Non-Hispanic',\n",
      "       'race_ethnicity_combined_Black, Non-Hispanic',\n",
      "       'race_ethnicity_combined_Hispanic/Latino',\n",
      "       'race_ethnicity_combined_Multiple/Other, Non-Hispanic',\n",
      "       'race_ethnicity_combined_Native Hawaiian/Other Pacific Islander, Non-Hispanic',\n",
      "       'race_ethnicity_combined_Unknown',\n",
      "       'race_ethnicity_combined_White, Non-Hispanic', 'hosp_yn_Unknown',\n",
      "       'hosp_yn_Yes', 'icu_yn_Unknown', 'icu_yn_Yes', 'medcond_yn_Unknown',\n",
      "       'medcond_yn_Yes'],\n",
      "      dtype='object')\n",
      "\n",
      "Coeficients are: \n",
      " [-0.01895802  0.12277848  0.5541967   0.         -1.44784104 -1.47349409\n",
      " -1.41163382 -0.46833377  0.46182646  1.36249418  1.82289667  3.45288732\n",
      " -0.02996971  0.51633204  0.57088224 -0.04340962  0.17778636 -0.67002922\n",
      "  0.05339143  1.38900781  2.75175107  1.08190447  2.25581895  0.20161217\n",
      "  0.995545  ]\n",
      "\n",
      "Intercept is: \n",
      " [-7.12480747]\n",
      "\n",
      "Features and coeficients: \n",
      " [('percent', -0.018958019833304845), ('current_status_Probable Case', 0.12277847913772925), ('sex_Male', 0.5541967009280762), ('sex_Other', 0.0), ('age_group_10 - 19 Years', -1.4478410359226792), ('age_group_20 - 29 Years', -1.4734940908955307), ('age_group_30 - 39 Years', -1.4116338207297017), ('age_group_40 - 49 Years', -0.4683337727504108), ('age_group_50 - 59 Years', 0.46182645980498777), ('age_group_60 - 69 Years', 1.3624941789755067), ('age_group_70 - 79 Years', 1.8228966728774076), ('age_group_80+ Years', 3.452887322566218), ('race_ethnicity_combined_Asian, Non-Hispanic', -0.02996970812754764), ('race_ethnicity_combined_Black, Non-Hispanic', 0.5163320358870237), ('race_ethnicity_combined_Hispanic/Latino', 0.5708822429599908), ('race_ethnicity_combined_Multiple/Other, Non-Hispanic', -0.04340962069109257), ('race_ethnicity_combined_Native Hawaiian/Other Pacific Islander, Non-Hispanic', 0.17778635784233524), ('race_ethnicity_combined_Unknown', -0.6700292228145764), ('race_ethnicity_combined_White, Non-Hispanic', 0.05339142845330888), ('hosp_yn_Unknown', 1.389007810972929), ('hosp_yn_Yes', 2.751751074001293), ('icu_yn_Unknown', 1.0819044729271359), ('icu_yn_Yes', 2.255818950908031), ('medcond_yn_Unknown', 0.20161216642333057), ('medcond_yn_Yes', 0.9955449963794629)]\n"
     ]
    }
   ],
   "source": [
    "# Print the weights learned for each feature.\n",
    "print(\"\\nFeatures are: \\n\", X_train.columns)\n",
    "print(\"\\nCoeficients are: \\n\", multiple_logisticreg.coef_[0])\n",
    "print(\"\\nIntercept is: \\n\", multiple_logisticreg.intercept_)\n",
    "print(\"\\nFeatures and coeficients: \\n\", list(zip(X_train.columns, multiple_logisticreg.coef_[0])))"
   ]
  },
  {
   "cell_type": "markdown",
   "metadata": {},
   "source": [
    "####  Inference from the results achieved.\n",
    "\n",
    "Similar to linear regresison, training a logistic regression model means estimating a set of weights (one weight per feature, plus an extra weight called the bias or the intercept) on a dataset called the training set. \n",
    "- The output of the logistic function is a probability, a value between 0 and 1\n",
    "- In classification the aim is to classify an example into one of two classes (target feature is 0 or 1). If we have several classes, we use a one-vs-all approach, by creating one dataset for each class.\n",
    "\n",
    "- Differences aside there is a direct relationship between the two\n",
    "    - The first part of logistic regression function is similar to linear regression i.e. We find the line of best fit\n",
    "    - We then pass this equation through what is called a sigmoid function\n",
    "    - This sigmoid function will output a value bound between 0 and 1. It is a probability\n",
    "    - The model then applies a threshold to this probability so that if is is >= 0.5 its cast to 1 and if it is <0.5 it is cast to 0\n",
    "    - All of these steps are carried out within the logistic regression function, however the threshold value can be adjusted up or down depending on the problem you are trying to solve.\n",
    "\n",
    "The model estimated in logistic regression assumes the probability of class membership is given by the logistic function:  𝑝𝑟𝑜𝑏𝑎𝑏𝑖𝑙𝑖𝑡𝑦(𝑡𝑎𝑟𝑔𝑒𝑡=1|𝑑𝑒𝑠𝑐𝑟𝑖𝑝𝑡𝑖𝑣𝑒_𝑓𝑒𝑎𝑡𝑢𝑟𝑒𝑠)=𝑙𝑜𝑔𝑖𝑠𝑡𝑖𝑐(𝑤0+𝑤1∗𝑓𝑒𝑎𝑡𝑢𝑟𝑒1+𝑤2∗𝑓𝑒𝑎𝑡𝑢𝑟𝑒2+...+𝑤𝑛∗𝑓𝑒𝑎𝑡𝑢𝑟𝑒𝑛)  where  𝑙𝑜𝑔𝑖𝑠𝑡𝑖𝑐(𝑥)  is defined as:  𝑙𝑜𝑔𝑖𝑠𝑡𝑖𝑐(𝑥)=𝑒𝑥1+𝑒𝑥=11+𝑒−𝑥\n",
    "    \n",
    "- P( y = 1 | X ) = p\n",
    "- This probability, ranging from 0 to 1, can be used as a criterion to classify the new observation. The higher the value of p, the more likely the new observation belongs to class y = 1, instead of y = 0.\n",
    "    - For example, we can choose a cutoff threshold of 0.5. When p > 0.5, the new observation will be classified as y = 1 , otherwise as y = 0.\n",
    "- The learned logistic regresison model (e.g., set of weights  𝑤0,𝑤1,...,𝑤𝑛 ) can be used to predict the probability of the target feature for new examples where we know the descriptive features, but not the target feature.\n"
   ]
  },
  {
   "cell_type": "markdown",
   "metadata": {},
   "source": [
    "#### 3.3 Printing 10 predicted target features and evaluate the prediction\n",
    "- Here we will print the predicted target feature value for the first 10 training examples based on training data"
   ]
  },
  {
   "cell_type": "code",
   "execution_count": 50,
   "metadata": {},
   "outputs": [
    {
     "name": "stdout",
     "output_type": "stream",
     "text": [
      "\n",
      "Predictions with multiple linear regression: \n",
      "\n",
      "   death_Yes  Predicted\n",
      "0          0          0\n",
      "1          0          0\n",
      "2          0          0\n",
      "3          0          0\n",
      "4          0          0\n",
      "5          0          0\n",
      "6          0          0\n",
      "7          0          0\n",
      "8          0          0\n",
      "9          0          0\n"
     ]
    }
   ],
   "source": [
    "# calculate the prediction and threshold the value. \n",
    "multiple_logisticreg_predictions_train = multiple_logisticreg.predict(X_train)\n",
    "\n",
    "print(\"\\nPredictions with multiple linear regression: \\n\")\n",
    "actual_vs_predicted_multiplelogisticreg = pd.concat([y_train, pd.DataFrame(multiple_logisticreg_predictions_train, columns=['Predicted'])], axis=1)\n",
    "print(actual_vs_predicted_multiplelogisticreg.head(10))"
   ]
  },
  {
   "cell_type": "markdown",
   "metadata": {},
   "source": [
    "#### Evaluation metrics based on training data\n",
    "- We will print the classification evaluation measures computed on the training set (e.g. Accuracy, Confusion matrix, Precision, Recall, F1)\n",
    "- We will discuss finding based on these measures"
   ]
  },
  {
   "cell_type": "code",
   "execution_count": 51,
   "metadata": {},
   "outputs": [
    {
     "name": "stdout",
     "output_type": "stream",
     "text": [
      "******************** Results with train Data *********************\n",
      "Accuracy:  0.9692750113515968\n",
      "Confusion matrix: \n",
      " [[6334   41]\n",
      " [ 162   70]]\n",
      "Classification report:\n",
      "                precision    recall  f1-score   support\n",
      "\n",
      "           0       0.98      0.99      0.98      6375\n",
      "           1       0.63      0.30      0.41       232\n",
      "\n",
      "    accuracy                           0.97      6607\n",
      "   macro avg       0.80      0.65      0.70      6607\n",
      "weighted avg       0.96      0.97      0.96      6607\n",
      "\n",
      "------------------------------------------------------\n"
     ]
    }
   ],
   "source": [
    "# Some more evaluation metrics.\n",
    "print(\"******************** Results with train Data *********************\")\n",
    "print(\"Accuracy: \", metrics.accuracy_score(y_train, multiple_logisticreg_predictions_train))\n",
    "print(\"Confusion matrix: \\n\", metrics.confusion_matrix(y_train, multiple_logisticreg_predictions_train))\n",
    "print(\"Classification report:\\n \", metrics.classification_report(y_train, multiple_logisticreg_predictions_train))\n",
    "print(\"------------------------------------------------------\")"
   ]
  },
  {
   "cell_type": "markdown",
   "metadata": {},
   "source": [
    "Quick breif summary of results:\n",
    "- Accuracy\n",
    "    - We have an accuracy of 97%\n",
    "- Precision \n",
    "    - Precision Positive is 0.63\n",
    "    - Precision Negative is 0.98\n",
    "- Recall \n",
    "    - Recall Positive is 0.30\n",
    "    - Recall Negative is 0.99\n",
    "- F1 Score\n",
    "    - F1 Score Positive is 0.41\n",
    "    - F1 Score Negative is 0.98\n"
   ]
  },
  {
   "cell_type": "markdown",
   "metadata": {},
   "source": [
    "### 3.4 Evaluate the model using the hold-out (30% examples) test set\n",
    "- These results from the test data will be compared the results from the training data.\n",
    "- In addition they will be compared to the results from a cross-validated model (i.e., a new model trained and evaluated using cross-validation on the full dataset)."
   ]
  },
  {
   "cell_type": "markdown",
   "metadata": {},
   "source": [
    "Printing Actual RiskPerformance vs predicted based on test data"
   ]
  },
  {
   "cell_type": "code",
   "execution_count": 52,
   "metadata": {},
   "outputs": [
    {
     "name": "stdout",
     "output_type": "stream",
     "text": [
      "\n",
      "Predictions with multiple linear regression: \n",
      "\n",
      "    death_Yes  Predicted\n",
      "0           0          0\n",
      "1           0          0\n",
      "2           1          1\n",
      "3           0          0\n",
      "4           0          0\n",
      "5           0          0\n",
      "6           0          0\n",
      "7           0          0\n",
      "8           0          0\n",
      "9           0          0\n",
      "10          0          0\n",
      "11          0          0\n",
      "12          0          0\n",
      "13          0          0\n",
      "14          0          0\n",
      "15          0          0\n",
      "16          0          0\n",
      "17          0          0\n",
      "18          0          0\n",
      "19          0          0\n"
     ]
    }
   ],
   "source": [
    "# calculate the prediction and threshold the value. If >= 0.5 its true\n",
    "multiple_logisticreg_predictions_test = multiple_logisticreg.predict(X_test)\n",
    "\n",
    "print(\"\\nPredictions with multiple linear regression: \\n\")\n",
    "actual_vs_predicted_multiplelogisticreg = pd.concat([y_test, pd.DataFrame(multiple_logisticreg_predictions_test, columns=['Predicted'])], axis=1)\n",
    "print(actual_vs_predicted_multiplelogisticreg.head(20))"
   ]
  },
  {
   "cell_type": "markdown",
   "metadata": {},
   "source": [
    "Evaluation based on test data"
   ]
  },
  {
   "cell_type": "code",
   "execution_count": 53,
   "metadata": {},
   "outputs": [
    {
     "name": "stdout",
     "output_type": "stream",
     "text": [
      "******************** Results with test Data ***********************\n",
      "Accuracy:  0.9668079096045198\n",
      "Confusion matrix: \n",
      " [[2706   26]\n",
      " [  68   32]]\n",
      "Classification report:\n",
      "                precision    recall  f1-score   support\n",
      "\n",
      "           0       0.98      0.99      0.98      2732\n",
      "           1       0.55      0.32      0.41       100\n",
      "\n",
      "    accuracy                           0.97      2832\n",
      "   macro avg       0.76      0.66      0.69      2832\n",
      "weighted avg       0.96      0.97      0.96      2832\n",
      "\n",
      "******************** Results with train Data *********************\n",
      "Accuracy:  0.9692750113515968\n",
      "Confusion matrix: \n",
      " [[6334   41]\n",
      " [ 162   70]]\n",
      "Classification report:\n",
      "                precision    recall  f1-score   support\n",
      "\n",
      "           0       0.98      0.99      0.98      6375\n",
      "           1       0.63      0.30      0.41       232\n",
      "\n",
      "    accuracy                           0.97      6607\n",
      "   macro avg       0.80      0.65      0.70      6607\n",
      "weighted avg       0.96      0.97      0.96      6607\n",
      "\n",
      "-------------------------------------------------------------------\n"
     ]
    }
   ],
   "source": [
    "# Some more evaluation metrics.\n",
    "print(\"******************** Results with test Data ***********************\")\n",
    "print(\"Accuracy: \", metrics.accuracy_score(y_test, multiple_logisticreg_predictions_test))\n",
    "print(\"Confusion matrix: \\n\", metrics.confusion_matrix(y_test, multiple_logisticreg_predictions_test))\n",
    "print(\"Classification report:\\n \", metrics.classification_report(y_test, multiple_logisticreg_predictions_test))\n",
    "print(\"******************** Results with train Data *********************\")\n",
    "print(\"Accuracy: \", metrics.accuracy_score(y_train, multiple_logisticreg_predictions_train))\n",
    "print(\"Confusion matrix: \\n\", metrics.confusion_matrix(y_train, multiple_logisticreg_predictions_train))\n",
    "print(\"Classification report:\\n \", metrics.classification_report(y_train, multiple_logisticreg_predictions_train))\n",
    "print(\"-------------------------------------------------------------------\")"
   ]
  },
  {
   "cell_type": "markdown",
   "metadata": {},
   "source": [
    "**Interpretation of test results and comparison with training results**\n",
    "- Accuracy\n",
    "    - The accuracy of the test and train data appears to the same. \n",
    "- Precision\n",
    "    - The precision score for predicting the positive case has reduced from 80% to 55%.\n",
    "    - The precision score for predicting the negative case is same that is 97%.\n",
    "- Recall\n",
    "    - The recall score for predicting the positive case has increased from 32% to 35%.\n",
    "    - The recall score for predicting the negative case is same that is 99%.\n",
    "- F1\n",
    "    - The f1 score for predicting the positive case has increased from 41% to 42%.\n",
    "    - The f1 score for predicting the negative case has same that is 98%.\n",
    "\n",
    "**Summary**\n",
    "- The values are more likely as expected with respect to all the components.\n",
    "- Logistic regression model look more stable tha linear one specifically in terms of recall and F1.\n",
    "- The learned logistic regresison model can be used to predict the probability of the target feature for new examples where we know the descriptive features, but not the target feature"
   ]
  },
  {
   "cell_type": "markdown",
   "metadata": {},
   "source": [
    "#### 3.7 Cross validation\n",
    "We will first create function to perform 10 fold cross validation and store results into dataframe\n",
    "- This will be used to simplify further analysis the dataset, looking at accuracy, precision, recall, f1."
   ]
  },
  {
   "cell_type": "code",
   "execution_count": 54,
   "metadata": {},
   "outputs": [],
   "source": [
    "def LogReg_CV(X,y):\n",
    "\n",
    "    logRegResults = {}\n",
    "    # metrics to test against\n",
    "    test_metrics = ['accuracy','precision','recall', 'f1']\n",
    "\n",
    "    for metric in test_metrics:\n",
    "        # generate test results\n",
    "        result = cross_val_score(LogisticRegression(), X, y, scoring=metric, cv=10)\n",
    "        # store result in dict\n",
    "        logRegResults[metric] = result.mean()\n",
    "        \n",
    "    # create dataframe with results\n",
    "    LogRegDF = pd.DataFrame.from_dict(logRegResults, orient='index', columns=['Logistic_Regression'])\n",
    "    \n",
    "    return LogRegDF"
   ]
  },
  {
   "cell_type": "markdown",
   "metadata": {},
   "source": [
    "Preform 10 fold cross validation using LogReg_CV function\n",
    "- Results summarised below"
   ]
  },
  {
   "cell_type": "code",
   "execution_count": 55,
   "metadata": {},
   "outputs": [
    {
     "name": "stdout",
     "output_type": "stream",
     "text": [
      "Results for Logistic regression cross validation :\n"
     ]
    },
    {
     "data": {
      "text/html": [
       "<div>\n",
       "<style scoped>\n",
       "    .dataframe tbody tr th:only-of-type {\n",
       "        vertical-align: middle;\n",
       "    }\n",
       "\n",
       "    .dataframe tbody tr th {\n",
       "        vertical-align: top;\n",
       "    }\n",
       "\n",
       "    .dataframe thead th {\n",
       "        text-align: right;\n",
       "    }\n",
       "</style>\n",
       "<table border=\"1\" class=\"dataframe\">\n",
       "  <thead>\n",
       "    <tr style=\"text-align: right;\">\n",
       "      <th></th>\n",
       "      <th>Logistic_Regression</th>\n",
       "    </tr>\n",
       "  </thead>\n",
       "  <tbody>\n",
       "    <tr>\n",
       "      <th>accuracy</th>\n",
       "      <td>0.968217</td>\n",
       "    </tr>\n",
       "    <tr>\n",
       "      <th>precision</th>\n",
       "      <td>0.609175</td>\n",
       "    </tr>\n",
       "    <tr>\n",
       "      <th>recall</th>\n",
       "      <td>0.295544</td>\n",
       "    </tr>\n",
       "    <tr>\n",
       "      <th>f1</th>\n",
       "      <td>0.390062</td>\n",
       "    </tr>\n",
       "  </tbody>\n",
       "</table>\n",
       "</div>"
      ],
      "text/plain": [
       "           Logistic_Regression\n",
       "accuracy              0.968217\n",
       "precision             0.609175\n",
       "recall                0.295544\n",
       "f1                    0.390062"
      ]
     },
     "execution_count": 55,
     "metadata": {},
     "output_type": "execute_result"
    }
   ],
   "source": [
    "logRegDF = LogReg_CV(X,y)\n",
    "print(f\"Results for Logistic regression cross validation :\")\n",
    "logRegDF"
   ]
  },
  {
   "cell_type": "code",
   "execution_count": 56,
   "metadata": {},
   "outputs": [
    {
     "name": "stdout",
     "output_type": "stream",
     "text": [
      "                                                      coeffs\n",
      "age_group_20 - 29 Years                            -1.473494\n",
      "age_group_10 - 19 Years                            -1.447841\n",
      "age_group_30 - 39 Years                            -1.411634\n",
      "race_ethnicity_combined_Unknown                    -0.670029\n",
      "age_group_40 - 49 Years                            -0.468334\n",
      "race_ethnicity_combined_Multiple/Other, Non-His... -0.043410\n",
      "race_ethnicity_combined_Asian, Non-Hispanic        -0.029970\n",
      "percent                                            -0.018958\n",
      "sex_Other                                           0.000000\n",
      "race_ethnicity_combined_White, Non-Hispanic         0.053391\n",
      "current_status_Probable Case                        0.122778\n",
      "race_ethnicity_combined_Native Hawaiian/Other P...  0.177786\n",
      "medcond_yn_Unknown                                  0.201612\n",
      "age_group_50 - 59 Years                             0.461826\n",
      "race_ethnicity_combined_Black, Non-Hispanic         0.516332\n",
      "sex_Male                                            0.554197\n",
      "race_ethnicity_combined_Hispanic/Latino             0.570882\n",
      "medcond_yn_Yes                                      0.995545\n",
      "icu_yn_Unknown                                      1.081904\n",
      "age_group_60 - 69 Years                             1.362494\n",
      "hosp_yn_Unknown                                     1.389008\n",
      "age_group_70 - 79 Years                             1.822897\n",
      "icu_yn_Yes                                          2.255819\n",
      "hosp_yn_Yes                                         2.751751\n",
      "age_group_80+ Years                                 3.452887\n",
      "\n",
      "Intercept is: \n",
      " [-7.12480747]\n"
     ]
    }
   ],
   "source": [
    "# Print the weights learned for each feature\n",
    "cols = (X_train.columns.tolist())\n",
    "coeffs = (multiple_logisticreg.coef_.ravel())\n",
    "\n",
    "print(pd.DataFrame(data = {'coeffs': coeffs}, index=cols).sort_values(by='coeffs', ascending=True))\n",
    "\n",
    "print(\"\\nIntercept is: \\n\", multiple_logisticreg.intercept_)"
   ]
  },
  {
   "cell_type": "markdown",
   "metadata": {},
   "source": [
    "## (4) Random Forest Model\n",
    "\n",
    "<img src=\"random_forest.png\" height=\"300\" width=\"500\"> <br>"
   ]
  },
  {
   "cell_type": "markdown",
   "metadata": {},
   "source": [
    "### 4.1 Train a random forest model using only the descriptive features selected from part 1 above \n",
    "- A random forest model will now be trained on our test data. \n",
    "- We use the RandomForestClassifier() function. \n",
    "- The random state will be set to 1 to allow the results to be repeated"
   ]
  },
  {
   "cell_type": "code",
   "execution_count": 57,
   "metadata": {},
   "outputs": [
    {
     "data": {
      "text/plain": [
       "RandomForestClassifier(oob_score=True, random_state=1)"
      ]
     },
     "execution_count": 57,
     "metadata": {},
     "output_type": "execute_result"
    }
   ],
   "source": [
    "# Train Random Forest with 100 estimators and set random state.\n",
    "randFrstCls = RandomForestClassifier(n_estimators=100, max_features='auto', oob_score=True, random_state=1)\n",
    "randFrstCls.fit(X_train, y_train)"
   ]
  },
  {
   "cell_type": "markdown",
   "metadata": {},
   "source": [
    "### 4.2 Understanding the Random Forest model\n",
    "**Random Forest**\n",
    "- The Random forest or Random Decision Forest is a supervised Machine learning algorithm used for classification, regression, and other tasks using decision trees.\n",
    "- It uses bagging and feature randomness when building each individual tree to try to create an uncorrelated forest of trees\n",
    "    - The random forest is made up of a number of decision trees\n",
    "    - In the classification task, the aim is to classify an example into one of many classes. RandomForest can directly work with many classes, without the need to turn the problem into many one-vs-all problems.\n",
    "    - The Random forest classifier creates a set of decision trees from a randomly selected subset of the training set.\n",
    "    - In classification, we interpret the target feature as the probability of class membership:  𝑝𝑟𝑜𝑏𝑎𝑏𝑖𝑙𝑖𝑡𝑦(𝑡𝑎𝑟𝑔𝑒𝑡=1|𝑑𝑒𝑠𝑐𝑟𝑖𝑝𝑡𝑖𝑣𝑒_𝑓𝑒𝑎𝑡𝑢𝑟𝑒𝑠)\n",
    "    "
   ]
  },
  {
   "cell_type": "code",
   "execution_count": 58,
   "metadata": {},
   "outputs": [
    {
     "data": {
      "text/html": [
       "<div>\n",
       "<style scoped>\n",
       "    .dataframe tbody tr th:only-of-type {\n",
       "        vertical-align: middle;\n",
       "    }\n",
       "\n",
       "    .dataframe tbody tr th {\n",
       "        vertical-align: top;\n",
       "    }\n",
       "\n",
       "    .dataframe thead th {\n",
       "        text-align: right;\n",
       "    }\n",
       "</style>\n",
       "<table border=\"1\" class=\"dataframe\">\n",
       "  <thead>\n",
       "    <tr style=\"text-align: right;\">\n",
       "      <th></th>\n",
       "      <th>feature</th>\n",
       "      <th>importance</th>\n",
       "    </tr>\n",
       "  </thead>\n",
       "  <tbody>\n",
       "    <tr>\n",
       "      <th>11</th>\n",
       "      <td>age_group_80+ Years</td>\n",
       "      <td>0.210990</td>\n",
       "    </tr>\n",
       "    <tr>\n",
       "      <th>20</th>\n",
       "      <td>hosp_yn_Yes</td>\n",
       "      <td>0.194626</td>\n",
       "    </tr>\n",
       "    <tr>\n",
       "      <th>2</th>\n",
       "      <td>sex_Male</td>\n",
       "      <td>0.072394</td>\n",
       "    </tr>\n",
       "    <tr>\n",
       "      <th>22</th>\n",
       "      <td>icu_yn_Yes</td>\n",
       "      <td>0.067680</td>\n",
       "    </tr>\n",
       "    <tr>\n",
       "      <th>19</th>\n",
       "      <td>hosp_yn_Unknown</td>\n",
       "      <td>0.050706</td>\n",
       "    </tr>\n",
       "    <tr>\n",
       "      <th>21</th>\n",
       "      <td>icu_yn_Unknown</td>\n",
       "      <td>0.041894</td>\n",
       "    </tr>\n",
       "    <tr>\n",
       "      <th>17</th>\n",
       "      <td>race_ethnicity_combined_Unknown</td>\n",
       "      <td>0.040535</td>\n",
       "    </tr>\n",
       "    <tr>\n",
       "      <th>13</th>\n",
       "      <td>race_ethnicity_combined_Black, Non-Hispanic</td>\n",
       "      <td>0.032951</td>\n",
       "    </tr>\n",
       "    <tr>\n",
       "      <th>10</th>\n",
       "      <td>age_group_70 - 79 Years</td>\n",
       "      <td>0.032898</td>\n",
       "    </tr>\n",
       "    <tr>\n",
       "      <th>18</th>\n",
       "      <td>race_ethnicity_combined_White, Non-Hispanic</td>\n",
       "      <td>0.032663</td>\n",
       "    </tr>\n",
       "    <tr>\n",
       "      <th>1</th>\n",
       "      <td>current_status_Probable Case</td>\n",
       "      <td>0.026826</td>\n",
       "    </tr>\n",
       "    <tr>\n",
       "      <th>14</th>\n",
       "      <td>race_ethnicity_combined_Hispanic/Latino</td>\n",
       "      <td>0.026643</td>\n",
       "    </tr>\n",
       "    <tr>\n",
       "      <th>0</th>\n",
       "      <td>percent</td>\n",
       "      <td>0.022446</td>\n",
       "    </tr>\n",
       "    <tr>\n",
       "      <th>9</th>\n",
       "      <td>age_group_60 - 69 Years</td>\n",
       "      <td>0.022028</td>\n",
       "    </tr>\n",
       "    <tr>\n",
       "      <th>8</th>\n",
       "      <td>age_group_50 - 59 Years</td>\n",
       "      <td>0.021475</td>\n",
       "    </tr>\n",
       "    <tr>\n",
       "      <th>12</th>\n",
       "      <td>race_ethnicity_combined_Asian, Non-Hispanic</td>\n",
       "      <td>0.019258</td>\n",
       "    </tr>\n",
       "    <tr>\n",
       "      <th>24</th>\n",
       "      <td>medcond_yn_Yes</td>\n",
       "      <td>0.017201</td>\n",
       "    </tr>\n",
       "    <tr>\n",
       "      <th>15</th>\n",
       "      <td>race_ethnicity_combined_Multiple/Other, Non-Hi...</td>\n",
       "      <td>0.015794</td>\n",
       "    </tr>\n",
       "    <tr>\n",
       "      <th>7</th>\n",
       "      <td>age_group_40 - 49 Years</td>\n",
       "      <td>0.013246</td>\n",
       "    </tr>\n",
       "    <tr>\n",
       "      <th>23</th>\n",
       "      <td>medcond_yn_Unknown</td>\n",
       "      <td>0.013228</td>\n",
       "    </tr>\n",
       "    <tr>\n",
       "      <th>5</th>\n",
       "      <td>age_group_20 - 29 Years</td>\n",
       "      <td>0.008343</td>\n",
       "    </tr>\n",
       "    <tr>\n",
       "      <th>6</th>\n",
       "      <td>age_group_30 - 39 Years</td>\n",
       "      <td>0.008270</td>\n",
       "    </tr>\n",
       "    <tr>\n",
       "      <th>4</th>\n",
       "      <td>age_group_10 - 19 Years</td>\n",
       "      <td>0.005274</td>\n",
       "    </tr>\n",
       "    <tr>\n",
       "      <th>16</th>\n",
       "      <td>race_ethnicity_combined_Native Hawaiian/Other ...</td>\n",
       "      <td>0.002628</td>\n",
       "    </tr>\n",
       "    <tr>\n",
       "      <th>3</th>\n",
       "      <td>sex_Other</td>\n",
       "      <td>0.000000</td>\n",
       "    </tr>\n",
       "  </tbody>\n",
       "</table>\n",
       "</div>"
      ],
      "text/plain": [
       "                                              feature  importance\n",
       "11                                age_group_80+ Years    0.210990\n",
       "20                                        hosp_yn_Yes    0.194626\n",
       "2                                            sex_Male    0.072394\n",
       "22                                         icu_yn_Yes    0.067680\n",
       "19                                    hosp_yn_Unknown    0.050706\n",
       "21                                     icu_yn_Unknown    0.041894\n",
       "17                    race_ethnicity_combined_Unknown    0.040535\n",
       "13        race_ethnicity_combined_Black, Non-Hispanic    0.032951\n",
       "10                            age_group_70 - 79 Years    0.032898\n",
       "18        race_ethnicity_combined_White, Non-Hispanic    0.032663\n",
       "1                        current_status_Probable Case    0.026826\n",
       "14            race_ethnicity_combined_Hispanic/Latino    0.026643\n",
       "0                                             percent    0.022446\n",
       "9                             age_group_60 - 69 Years    0.022028\n",
       "8                             age_group_50 - 59 Years    0.021475\n",
       "12        race_ethnicity_combined_Asian, Non-Hispanic    0.019258\n",
       "24                                     medcond_yn_Yes    0.017201\n",
       "15  race_ethnicity_combined_Multiple/Other, Non-Hi...    0.015794\n",
       "7                             age_group_40 - 49 Years    0.013246\n",
       "23                                 medcond_yn_Unknown    0.013228\n",
       "5                             age_group_20 - 29 Years    0.008343\n",
       "6                             age_group_30 - 39 Years    0.008270\n",
       "4                             age_group_10 - 19 Years    0.005274\n",
       "16  race_ethnicity_combined_Native Hawaiian/Other ...    0.002628\n",
       "3                                           sex_Other    0.000000"
      ]
     },
     "execution_count": 58,
     "metadata": {},
     "output_type": "execute_result"
    }
   ],
   "source": [
    "importance = pd.DataFrame({'feature': X_train.columns, 'importance':randFrstCls.feature_importances_})\n",
    "importance.sort_values('importance', ascending=False)"
   ]
  },
  {
   "cell_type": "markdown",
   "metadata": {},
   "source": [
    "We can see from the list above that many of the features provide little to no information gain. It is interesting to note that the categorical features are the worst preforming features "
   ]
  },
  {
   "cell_type": "markdown",
   "metadata": {},
   "source": [
    "### 4.3 Printing 10 predicted target features and evaluate the prediction \n",
    "- Here we will print the predicted target feature value for the first 10 training examples. "
   ]
  },
  {
   "cell_type": "code",
   "execution_count": 59,
   "metadata": {},
   "outputs": [
    {
     "name": "stdout",
     "output_type": "stream",
     "text": [
      "\n",
      "Predictions with random forest train data: \n",
      "\n",
      "   death_Yes  Predicted\n",
      "0          0          0\n",
      "1          0          0\n",
      "2          0          0\n",
      "3          0          0\n",
      "4          0          0\n",
      "5          0          0\n",
      "6          0          0\n",
      "7          0          0\n",
      "8          0          0\n",
      "9          0          0\n"
     ]
    }
   ],
   "source": [
    "# Predicted class labels for all examples, \n",
    "\n",
    "randFrstCls_predictions_train = randFrstCls.predict(X_train)\n",
    "print(\"\\nPredictions with random forest train data: \\n\")\n",
    "\n",
    "df_true_vs_randFrstCls_predicted = pd.concat([y_train, pd.DataFrame(randFrstCls_predictions_train, columns=['Predicted'])], axis=1)\n",
    "print(df_true_vs_randFrstCls_predicted.head(10))"
   ]
  },
  {
   "cell_type": "markdown",
   "metadata": {},
   "source": [
    "### 4.5 Evaluation metrics based on training data\n",
    "- We will print the classification evaluation measures computed on the training set (e.g. Accuracy, Confusion matrix, Precision, Recall, F1)\n",
    "- We will discuss finding based on these measures"
   ]
  },
  {
   "cell_type": "code",
   "execution_count": 60,
   "metadata": {},
   "outputs": [
    {
     "name": "stdout",
     "output_type": "stream",
     "text": [
      "******************** Train Data *******************\n",
      "Accuracy:  0.9782049341607386\n",
      "Confusion matrix: \n",
      " [[6337   38]\n",
      " [ 106  126]]\n",
      "Classification report:\n",
      "                precision    recall  f1-score   support\n",
      "\n",
      "           0       0.98      0.99      0.99      6375\n",
      "           1       0.77      0.54      0.64       232\n",
      "\n",
      "    accuracy                           0.98      6607\n",
      "   macro avg       0.88      0.77      0.81      6607\n",
      "weighted avg       0.98      0.98      0.98      6607\n",
      "\n"
     ]
    }
   ],
   "source": [
    "print(\"******************** Train Data *******************\")\n",
    "print(\"Accuracy: \", metrics.accuracy_score(y_train, randFrstCls_predictions_train))\n",
    "print(\"Confusion matrix: \\n\", metrics.confusion_matrix(y_train, randFrstCls_predictions_train))\n",
    "print(\"Classification report:\\n \", metrics.classification_report(y_train, randFrstCls_predictions_train))"
   ]
  },
  {
   "cell_type": "markdown",
   "metadata": {},
   "source": [
    "Interpretation of results\n",
    "- The model has learned the results. This is clearly overfitting"
   ]
  },
  {
   "cell_type": "markdown",
   "metadata": {},
   "source": [
    "### 4.6 Evaluate the model using the hold-out (30% examples) test set\n",
    "- These results from the test data will be compared the results from the training data.\n",
    "- In addition they will be compared to the results from a cross-validated model (i.e., a new model trained and evaluated using cross-validation on the full dataset)."
   ]
  },
  {
   "cell_type": "markdown",
   "metadata": {},
   "source": [
    "Printing Actual RiskPerformance vs predicted based on test data"
   ]
  },
  {
   "cell_type": "code",
   "execution_count": 61,
   "metadata": {},
   "outputs": [
    {
     "name": "stdout",
     "output_type": "stream",
     "text": [
      "\n",
      "Predictions with random forest test data: \n",
      "\n",
      "   death_Yes  Predicted\n",
      "0          0          0\n",
      "1          0          0\n",
      "2          1          1\n",
      "3          0          0\n",
      "4          0          0\n",
      "5          0          0\n",
      "6          0          0\n",
      "7          0          0\n",
      "8          0          0\n",
      "9          0          0\n"
     ]
    }
   ],
   "source": [
    "# Predicted class labels for all examples, \n",
    "# using the trained model, on in-sample data (same sample used for training and test)\n",
    "\n",
    "randFrstCls_predictions_test = randFrstCls.predict(X_test)\n",
    "print(\"\\nPredictions with random forest test data: \\n\")\n",
    "df_true_vs_randFrstCls_predicted_test = pd.concat([y_test, pd.DataFrame(randFrstCls_predictions_test, columns=['Predicted'])], axis=1)\n",
    "print(df_true_vs_randFrstCls_predicted_test.head(10))"
   ]
  },
  {
   "cell_type": "markdown",
   "metadata": {},
   "source": [
    "Evaluation metrics based on test data"
   ]
  },
  {
   "cell_type": "code",
   "execution_count": 62,
   "metadata": {},
   "outputs": [
    {
     "name": "stdout",
     "output_type": "stream",
     "text": [
      "******************** Results based on test data ***********************\n",
      "Accuracy:  0.9661016949152542\n",
      "Confusion matrix: \n",
      " [[2697   35]\n",
      " [  61   39]]\n",
      "Classification report:\n",
      "                precision    recall  f1-score   support\n",
      "\n",
      "           0       0.98      0.99      0.98      2732\n",
      "           1       0.53      0.39      0.45       100\n",
      "\n",
      "    accuracy                           0.97      2832\n",
      "   macro avg       0.75      0.69      0.72      2832\n",
      "weighted avg       0.96      0.97      0.96      2832\n",
      "\n",
      "******************** Results based on train data **********************\n",
      "Accuracy:  0.9782049341607386\n",
      "Confusion matrix: \n",
      " [[6337   38]\n",
      " [ 106  126]]\n",
      "Classification report:\n",
      "                precision    recall  f1-score   support\n",
      "\n",
      "           0       0.98      0.99      0.99      6375\n",
      "           1       0.77      0.54      0.64       232\n",
      "\n",
      "    accuracy                           0.98      6607\n",
      "   macro avg       0.88      0.77      0.81      6607\n",
      "weighted avg       0.98      0.98      0.98      6607\n",
      "\n",
      "-------------------------------------------------------\n"
     ]
    }
   ],
   "source": [
    "print(\"******************** Results based on test data ***********************\")\n",
    "print(\"Accuracy: \", metrics.accuracy_score(y_test, randFrstCls_predictions_test))\n",
    "print(\"Confusion matrix: \\n\", metrics.confusion_matrix(y_test, randFrstCls_predictions_test))\n",
    "print(\"Classification report:\\n \", metrics.classification_report(y_test, randFrstCls_predictions_test))\n",
    "print(\"******************** Results based on train data **********************\")\n",
    "print(\"Accuracy: \", metrics.accuracy_score(y_train, randFrstCls_predictions_train))\n",
    "print(\"Confusion matrix: \\n\", metrics.confusion_matrix(y_train, randFrstCls_predictions_train))\n",
    "print(\"Classification report:\\n \", metrics.classification_report(y_train, randFrstCls_predictions_train))\n",
    "print(\"-------------------------------------------------------\")"
   ]
  },
  {
   "cell_type": "markdown",
   "metadata": {},
   "source": [
    "Interpretation of test results and comparison with training results \n",
    "- The accuracy for the test is much lower as we are not testing the model with data it has not see before\n",
    "- The scores seem reasonable and are in line with the other models test results"
   ]
  },
  {
   "cell_type": "markdown",
   "metadata": {},
   "source": [
    "### 4.7 Cross validation\n",
    "- We will preform cross validation and store the results in a dictionary for later use"
   ]
  },
  {
   "cell_type": "code",
   "execution_count": 63,
   "metadata": {},
   "outputs": [],
   "source": [
    "def RandomForest_CV(X,y, depth=None, estimators=100):\n",
    "\n",
    "    # store results in dict\n",
    "    RandomForestResults = {}\n",
    "    # metrics to test against\n",
    "    test_metrics = ['accuracy','precision','recall', 'f1']\n",
    "\n",
    "    for metric in test_metrics:\n",
    "        # generate test results\n",
    "        result = cross_val_score(RandomForestClassifier(n_estimators=estimators, max_features='auto', oob_score=True, random_state=1, max_depth=depth), X, y, scoring=metric, cv=10)\n",
    "        # store result in dict\n",
    "        RandomForestResults[metric] = result.mean()\n",
    "    \n",
    "    # create dataframe with results\n",
    "    RandomForestDF = pd.DataFrame.from_dict(RandomForestResults, orient='index', columns=['Random_Forests'])\n",
    "\n",
    "    return RandomForestDF"
   ]
  },
  {
   "cell_type": "markdown",
   "metadata": {},
   "source": [
    "##### The results for Random Forests are summarized below"
   ]
  },
  {
   "cell_type": "code",
   "execution_count": 64,
   "metadata": {},
   "outputs": [
    {
     "name": "stdout",
     "output_type": "stream",
     "text": [
      " Results from 10 fold raandom forest cross validation are:\n"
     ]
    },
    {
     "data": {
      "text/html": [
       "<div>\n",
       "<style scoped>\n",
       "    .dataframe tbody tr th:only-of-type {\n",
       "        vertical-align: middle;\n",
       "    }\n",
       "\n",
       "    .dataframe tbody tr th {\n",
       "        vertical-align: top;\n",
       "    }\n",
       "\n",
       "    .dataframe thead th {\n",
       "        text-align: right;\n",
       "    }\n",
       "</style>\n",
       "<table border=\"1\" class=\"dataframe\">\n",
       "  <thead>\n",
       "    <tr style=\"text-align: right;\">\n",
       "      <th></th>\n",
       "      <th>Random_Forests</th>\n",
       "    </tr>\n",
       "  </thead>\n",
       "  <tbody>\n",
       "    <tr>\n",
       "      <th>accuracy</th>\n",
       "      <td>0.966522</td>\n",
       "    </tr>\n",
       "    <tr>\n",
       "      <th>precision</th>\n",
       "      <td>0.541658</td>\n",
       "    </tr>\n",
       "    <tr>\n",
       "      <th>recall</th>\n",
       "      <td>0.313369</td>\n",
       "    </tr>\n",
       "    <tr>\n",
       "      <th>f1</th>\n",
       "      <td>0.394388</td>\n",
       "    </tr>\n",
       "  </tbody>\n",
       "</table>\n",
       "</div>"
      ],
      "text/plain": [
       "           Random_Forests\n",
       "accuracy         0.966522\n",
       "precision        0.541658\n",
       "recall           0.313369\n",
       "f1               0.394388"
      ]
     },
     "execution_count": 64,
     "metadata": {},
     "output_type": "execute_result"
    }
   ],
   "source": [
    "RandomForestDF = RandomForest_CV(X,y)\n",
    "print(f\" Results from 10 fold raandom forest cross validation are:\")\n",
    "RandomForestDF"
   ]
  },
  {
   "cell_type": "markdown",
   "metadata": {},
   "source": [
    "The results above are inline with expectation\n",
    "- The accuracy is the same\n",
    "- The precision, recall and f1 are all a little lower but in line with the other models"
   ]
  },
  {
   "cell_type": "markdown",
   "metadata": {},
   "source": [
    "#### Out of bag accuracy\n",
    "- This is the out of bag error estimate \n",
    "- It is an internal error estimate of a random forest as it is being constructed.\n"
   ]
  },
  {
   "cell_type": "code",
   "execution_count": 65,
   "metadata": {},
   "outputs": [
    {
     "data": {
      "text/plain": [
       "0.9650370818828515"
      ]
     },
     "execution_count": 65,
     "metadata": {},
     "output_type": "execute_result"
    }
   ],
   "source": [
    "# compute the out-of-bag classification accuracy\n",
    "randFrstCls.oob_score_"
   ]
  },
  {
   "cell_type": "markdown",
   "metadata": {},
   "source": [
    "This value is in line with the Cross validation results above"
   ]
  },
  {
   "cell_type": "markdown",
   "metadata": {},
   "source": [
    "## 5 Improving Predictive Models"
   ]
  },
  {
   "cell_type": "markdown",
   "metadata": {},
   "source": [
    "### 5.1 Which model of the ones trained above performs better at predicting the target feature? \n",
    "\n",
    "- Logistic regression and random forest yeid almost similar results but in the other hand, Linear regression had better precision but very low recall and F1.\n",
    "- These are the outcomes based on the features treatment we had performed initally before training the models.\n",
    "- I have decribed the summary table of all the models below.\n",
    "- From overall view we can say that random forest has the most stable counts with respect to all aspects.\n",
    "    - Further we will review the impact of dummy values created and dropped features."
   ]
  },
  {
   "cell_type": "code",
   "execution_count": 66,
   "metadata": {},
   "outputs": [
    {
     "data": {
      "text/html": [
       "<div>\n",
       "<style scoped>\n",
       "    .dataframe tbody tr th:only-of-type {\n",
       "        vertical-align: middle;\n",
       "    }\n",
       "\n",
       "    .dataframe tbody tr th {\n",
       "        vertical-align: top;\n",
       "    }\n",
       "\n",
       "    .dataframe thead th {\n",
       "        text-align: right;\n",
       "    }\n",
       "</style>\n",
       "<table border=\"1\" class=\"dataframe\">\n",
       "  <thead>\n",
       "    <tr style=\"text-align: right;\">\n",
       "      <th></th>\n",
       "      <th>Linear_Regression</th>\n",
       "      <th>Logistic_Regression</th>\n",
       "      <th>Random_Forests</th>\n",
       "    </tr>\n",
       "  </thead>\n",
       "  <tbody>\n",
       "    <tr>\n",
       "      <th>accuracy</th>\n",
       "      <td>0.965466</td>\n",
       "      <td>0.968217</td>\n",
       "      <td>0.966522</td>\n",
       "    </tr>\n",
       "    <tr>\n",
       "      <th>precision</th>\n",
       "      <td>0.765525</td>\n",
       "      <td>0.609175</td>\n",
       "      <td>0.541658</td>\n",
       "    </tr>\n",
       "    <tr>\n",
       "      <th>recall</th>\n",
       "      <td>0.104001</td>\n",
       "      <td>0.295544</td>\n",
       "      <td>0.313369</td>\n",
       "    </tr>\n",
       "    <tr>\n",
       "      <th>f1</th>\n",
       "      <td>0.176126</td>\n",
       "      <td>0.390062</td>\n",
       "      <td>0.394388</td>\n",
       "    </tr>\n",
       "  </tbody>\n",
       "</table>\n",
       "</div>"
      ],
      "text/plain": [
       "           Linear_Regression  Logistic_Regression  Random_Forests\n",
       "accuracy            0.965466             0.968217        0.966522\n",
       "precision           0.765525             0.609175        0.541658\n",
       "recall              0.104001             0.295544        0.313369\n",
       "f1                  0.176126             0.390062        0.394388"
      ]
     },
     "execution_count": 66,
     "metadata": {},
     "output_type": "execute_result"
    }
   ],
   "source": [
    "Results_df = pd.concat([linRegDF, logRegDF, RandomForestDF], axis=1)\n",
    "Results_df"
   ]
  },
  {
   "cell_type": "markdown",
   "metadata": {},
   "source": [
    "###  Is the model more accurate than a simple model that always predicts the majority class?\n",
    "- Certainly a majority class has a huge impact on the fitting of the model as it denotes the prediction caused by the trend set into the train as well as test data set.\n",
    "- Up-sampling is the process of randomly duplicating observations from the minority class in order to reinforce its signal.\n",
    "- The most common heuristic for doing so is resampling without replacement\n",
    "- I will further compare results to a simple model which predicts for the majority class"
   ]
  },
  {
   "cell_type": "code",
   "execution_count": 67,
   "metadata": {},
   "outputs": [
    {
     "data": {
      "text/html": [
       "<div>\n",
       "<style scoped>\n",
       "    .dataframe tbody tr th:only-of-type {\n",
       "        vertical-align: middle;\n",
       "    }\n",
       "\n",
       "    .dataframe tbody tr th {\n",
       "        vertical-align: top;\n",
       "    }\n",
       "\n",
       "    .dataframe thead th {\n",
       "        text-align: right;\n",
       "    }\n",
       "</style>\n",
       "<table border=\"1\" class=\"dataframe\">\n",
       "  <thead>\n",
       "    <tr style=\"text-align: right;\">\n",
       "      <th></th>\n",
       "      <th>cdc_case_earliest_dt</th>\n",
       "      <th>current_status</th>\n",
       "      <th>sex</th>\n",
       "      <th>age_group</th>\n",
       "      <th>race_ethnicity_combined</th>\n",
       "      <th>hosp_yn</th>\n",
       "      <th>icu_yn</th>\n",
       "      <th>death_yn</th>\n",
       "      <th>medcond_yn</th>\n",
       "      <th>percent</th>\n",
       "    </tr>\n",
       "  </thead>\n",
       "  <tbody>\n",
       "    <tr>\n",
       "      <th>1</th>\n",
       "      <td>2020-12-01</td>\n",
       "      <td>Laboratory-confirmed case</td>\n",
       "      <td>Male</td>\n",
       "      <td>20 - 29 Years</td>\n",
       "      <td>Unknown</td>\n",
       "      <td>No</td>\n",
       "      <td>Unknown</td>\n",
       "      <td>No</td>\n",
       "      <td>Unknown</td>\n",
       "      <td>0.012958</td>\n",
       "    </tr>\n",
       "    <tr>\n",
       "      <th>2</th>\n",
       "      <td>2020-10-29</td>\n",
       "      <td>Laboratory-confirmed case</td>\n",
       "      <td>Male</td>\n",
       "      <td>40 - 49 Years</td>\n",
       "      <td>Unknown</td>\n",
       "      <td>No</td>\n",
       "      <td>Unknown</td>\n",
       "      <td>No</td>\n",
       "      <td>Unknown</td>\n",
       "      <td>0.012958</td>\n",
       "    </tr>\n",
       "    <tr>\n",
       "      <th>3</th>\n",
       "      <td>2020-04-30</td>\n",
       "      <td>Laboratory-confirmed case</td>\n",
       "      <td>Female</td>\n",
       "      <td>70 - 79 Years</td>\n",
       "      <td>Unknown</td>\n",
       "      <td>No</td>\n",
       "      <td>No</td>\n",
       "      <td>No</td>\n",
       "      <td>Unknown</td>\n",
       "      <td>0.012958</td>\n",
       "    </tr>\n",
       "    <tr>\n",
       "      <th>4</th>\n",
       "      <td>2020-04-16</td>\n",
       "      <td>Laboratory-confirmed case</td>\n",
       "      <td>Female</td>\n",
       "      <td>80+ Years</td>\n",
       "      <td>White, Non-Hispanic</td>\n",
       "      <td>Yes</td>\n",
       "      <td>Yes</td>\n",
       "      <td>Yes</td>\n",
       "      <td>Yes</td>\n",
       "      <td>0.117371</td>\n",
       "    </tr>\n",
       "    <tr>\n",
       "      <th>5</th>\n",
       "      <td>2020-11-03</td>\n",
       "      <td>Laboratory-confirmed case</td>\n",
       "      <td>Female</td>\n",
       "      <td>20 - 29 Years</td>\n",
       "      <td>Unknown</td>\n",
       "      <td>No</td>\n",
       "      <td>Unknown</td>\n",
       "      <td>No</td>\n",
       "      <td>Unknown</td>\n",
       "      <td>0.012958</td>\n",
       "    </tr>\n",
       "    <tr>\n",
       "      <th>6</th>\n",
       "      <td>2020-12-22</td>\n",
       "      <td>Laboratory-confirmed case</td>\n",
       "      <td>Male</td>\n",
       "      <td>30 - 39 Years</td>\n",
       "      <td>White, Non-Hispanic</td>\n",
       "      <td>Unknown</td>\n",
       "      <td>Unknown</td>\n",
       "      <td>No</td>\n",
       "      <td>Unknown</td>\n",
       "      <td>0.012958</td>\n",
       "    </tr>\n",
       "    <tr>\n",
       "      <th>7</th>\n",
       "      <td>2020-11-30</td>\n",
       "      <td>Laboratory-confirmed case</td>\n",
       "      <td>Male</td>\n",
       "      <td>30 - 39 Years</td>\n",
       "      <td>American Indian/Alaska Native, Non-Hispanic</td>\n",
       "      <td>Unknown</td>\n",
       "      <td>Unknown</td>\n",
       "      <td>No</td>\n",
       "      <td>Unknown</td>\n",
       "      <td>0.012958</td>\n",
       "    </tr>\n",
       "    <tr>\n",
       "      <th>8</th>\n",
       "      <td>2020-11-13</td>\n",
       "      <td>Laboratory-confirmed case</td>\n",
       "      <td>Female</td>\n",
       "      <td>20 - 29 Years</td>\n",
       "      <td>White, Non-Hispanic</td>\n",
       "      <td>Unknown</td>\n",
       "      <td>Unknown</td>\n",
       "      <td>No</td>\n",
       "      <td>Unknown</td>\n",
       "      <td>0.012958</td>\n",
       "    </tr>\n",
       "    <tr>\n",
       "      <th>9</th>\n",
       "      <td>2020-11-03</td>\n",
       "      <td>Probable Case</td>\n",
       "      <td>Female</td>\n",
       "      <td>50 - 59 Years</td>\n",
       "      <td>White, Non-Hispanic</td>\n",
       "      <td>No</td>\n",
       "      <td>Unknown</td>\n",
       "      <td>No</td>\n",
       "      <td>Unknown</td>\n",
       "      <td>0.012958</td>\n",
       "    </tr>\n",
       "    <tr>\n",
       "      <th>10</th>\n",
       "      <td>2020-07-07</td>\n",
       "      <td>Laboratory-confirmed case</td>\n",
       "      <td>Male</td>\n",
       "      <td>20 - 29 Years</td>\n",
       "      <td>Hispanic/Latino</td>\n",
       "      <td>No</td>\n",
       "      <td>Unknown</td>\n",
       "      <td>No</td>\n",
       "      <td>Unknown</td>\n",
       "      <td>0.012958</td>\n",
       "    </tr>\n",
       "  </tbody>\n",
       "</table>\n",
       "</div>"
      ],
      "text/plain": [
       "   cdc_case_earliest_dt             current_status     sex      age_group  \\\n",
       "1            2020-12-01  Laboratory-confirmed case    Male  20 - 29 Years   \n",
       "2            2020-10-29  Laboratory-confirmed case    Male  40 - 49 Years   \n",
       "3            2020-04-30  Laboratory-confirmed case  Female  70 - 79 Years   \n",
       "4            2020-04-16  Laboratory-confirmed case  Female      80+ Years   \n",
       "5            2020-11-03  Laboratory-confirmed case  Female  20 - 29 Years   \n",
       "6            2020-12-22  Laboratory-confirmed case    Male  30 - 39 Years   \n",
       "7            2020-11-30  Laboratory-confirmed case    Male  30 - 39 Years   \n",
       "8            2020-11-13  Laboratory-confirmed case  Female  20 - 29 Years   \n",
       "9            2020-11-03              Probable Case  Female  50 - 59 Years   \n",
       "10           2020-07-07  Laboratory-confirmed case    Male  20 - 29 Years   \n",
       "\n",
       "                        race_ethnicity_combined  hosp_yn   icu_yn death_yn  \\\n",
       "1                                       Unknown       No  Unknown       No   \n",
       "2                                       Unknown       No  Unknown       No   \n",
       "3                                       Unknown       No       No       No   \n",
       "4                           White, Non-Hispanic      Yes      Yes      Yes   \n",
       "5                                       Unknown       No  Unknown       No   \n",
       "6                           White, Non-Hispanic  Unknown  Unknown       No   \n",
       "7   American Indian/Alaska Native, Non-Hispanic  Unknown  Unknown       No   \n",
       "8                           White, Non-Hispanic  Unknown  Unknown       No   \n",
       "9                           White, Non-Hispanic       No  Unknown       No   \n",
       "10                              Hispanic/Latino       No  Unknown       No   \n",
       "\n",
       "   medcond_yn   percent  \n",
       "1     Unknown  0.012958  \n",
       "2     Unknown  0.012958  \n",
       "3     Unknown  0.012958  \n",
       "4         Yes  0.117371  \n",
       "5     Unknown  0.012958  \n",
       "6     Unknown  0.012958  \n",
       "7     Unknown  0.012958  \n",
       "8     Unknown  0.012958  \n",
       "9     Unknown  0.012958  \n",
       "10    Unknown  0.012958  "
      ]
     },
     "execution_count": 67,
     "metadata": {},
     "output_type": "execute_result"
    }
   ],
   "source": [
    "df.head(10)"
   ]
  },
  {
   "cell_type": "markdown",
   "metadata": {},
   "source": [
    "We will now summarize and calculate the percentage spilt of values in target feature.\n",
    "This will allow us to identify the balance in values present inside the target column "
   ]
  },
  {
   "cell_type": "code",
   "execution_count": 68,
   "metadata": {},
   "outputs": [
    {
     "name": "stdout",
     "output_type": "stream",
     "text": [
      "From original dataset: \t\tCount death_Yes    2832\n",
      "dtype: int64\n",
      "Total numbe  death = Yes:\t death_Yes    100\n",
      "dtype: int64\tdeath_Yes    3.53\n",
      "dtype: float64%\n",
      "Total number death = No:\t death_Yes    2732\n",
      "dtype: int64\tdeath_Yes    96.47\n",
      "dtype: float64%\n"
     ]
    }
   ],
   "source": [
    "death_y = y_test[y_test == 1].count()\n",
    "death_n = y_test[y_test == 0].count()\n",
    "total = death_y + death_n\n",
    "print(f'From original dataset: \\t\\tCount {total}')\n",
    "print(f'Total numbe  death = Yes:\\t {death_y}\\t{round(death_y/len(y_test)*100,2)}%')\n",
    "print(f'Total number death = No:\\t {death_n}\\t{round(death_n/len(y_test)*100,2)}%')"
   ]
  },
  {
   "cell_type": "markdown",
   "metadata": {},
   "source": [
    "- Looking at the numbers and percentages we can say that majority class here is death_n which contributes to 98.79% and only 1.21% deaths occured.\n",
    "- In the next step we will generate the scores for prediction vs actual."
   ]
  },
  {
   "cell_type": "code",
   "execution_count": 69,
   "metadata": {},
   "outputs": [
    {
     "name": "stdout",
     "output_type": "stream",
     "text": [
      "Accuracy:  0.9646892655367232\n",
      "Confusion matrix: \n",
      " [[2732    0]\n",
      " [ 100    0]]\n",
      "Classification report:\n",
      "                precision    recall  f1-score   support\n",
      "\n",
      "           0       0.96      1.00      0.98      2732\n",
      "           1       0.00      0.00      0.00       100\n",
      "\n",
      "    accuracy                           0.96      2832\n",
      "   macro avg       0.48      0.50      0.49      2832\n",
      "weighted avg       0.93      0.96      0.95      2832\n",
      "\n"
     ]
    }
   ],
   "source": [
    "# generate array of 2832 zeros\n",
    "majority = np.zeros(2832)\n",
    "# create dataframe \n",
    "df_majorityClass = pd.DataFrame(majority, columns=['prediction'])\n",
    "# calculate scores of simple predictin vs actual\n",
    "print(\"Accuracy: \", metrics.accuracy_score(y_test, df_majorityClass))\n",
    "print(\"Confusion matrix: \\n\", metrics.confusion_matrix(y_test, df_majorityClass))\n",
    "print(\"Classification report:\\n \", metrics.classification_report(y_test, df_majorityClass))"
   ]
  },
  {
   "cell_type": "markdown",
   "metadata": {},
   "source": [
    "- For predicting the 0 class we achieve high precision as well as recall along with F1 score. But this model fails to for calculating when it comes to 1 class. \n",
    "\n",
    "    - The precision is the almost same as the accuracy in this case\n",
    "    - The recall is 100% as all of the actual 0 values were predicted 0\n",
    "    - The f1 is between the precision and recall as it is a weighted average of the two"
   ]
  },
  {
   "cell_type": "markdown",
   "metadata": {},
   "source": [
    "###  Compare Model performance using different feature subsets \n",
    "####  All features\n",
    "- We now take a copy of original dataset and dump it in the df_all.\n",
    "- We will now repeat the tests using all features \n",
    "- After framing the data we consider all the features including dummies."
   ]
  },
  {
   "cell_type": "code",
   "execution_count": 70,
   "metadata": {},
   "outputs": [
    {
     "name": "stdout",
     "output_type": "stream",
     "text": [
      "Features including dummies count:  26\n"
     ]
    }
   ],
   "source": [
    "# dataframe with all features = original dataframe\n",
    "df_all = df.copy()\n",
    "X = pd.get_dummies(df_all.drop(columns=['death_yn']), drop_first=True)\n",
    "y = pd.get_dummies(df_all.death_yn, drop_first=True)\n",
    "\n",
    "print(\"Features including dummies count: \", len(X.columns))"
   ]
  },
  {
   "cell_type": "code",
   "execution_count": 71,
   "metadata": {},
   "outputs": [
    {
     "data": {
      "text/html": [
       "<div>\n",
       "<style scoped>\n",
       "    .dataframe tbody tr th:only-of-type {\n",
       "        vertical-align: middle;\n",
       "    }\n",
       "\n",
       "    .dataframe tbody tr th {\n",
       "        vertical-align: top;\n",
       "    }\n",
       "\n",
       "    .dataframe thead th {\n",
       "        text-align: right;\n",
       "    }\n",
       "</style>\n",
       "<table border=\"1\" class=\"dataframe\">\n",
       "  <thead>\n",
       "    <tr style=\"text-align: right;\">\n",
       "      <th></th>\n",
       "      <th>Linear_Regression</th>\n",
       "      <th>Logistic_Regression</th>\n",
       "      <th>Random_Forests</th>\n",
       "    </tr>\n",
       "  </thead>\n",
       "  <tbody>\n",
       "    <tr>\n",
       "      <th>accuracy</th>\n",
       "      <td>0.966066</td>\n",
       "      <td>0.968217</td>\n",
       "      <td>0.964720</td>\n",
       "    </tr>\n",
       "    <tr>\n",
       "      <th>precision</th>\n",
       "      <td>0.778720</td>\n",
       "      <td>0.609175</td>\n",
       "      <td>0.499647</td>\n",
       "    </tr>\n",
       "    <tr>\n",
       "      <th>recall</th>\n",
       "      <td>0.123380</td>\n",
       "      <td>0.295544</td>\n",
       "      <td>0.364795</td>\n",
       "    </tr>\n",
       "    <tr>\n",
       "      <th>f1</th>\n",
       "      <td>0.206521</td>\n",
       "      <td>0.390062</td>\n",
       "      <td>0.420034</td>\n",
       "    </tr>\n",
       "  </tbody>\n",
       "</table>\n",
       "</div>"
      ],
      "text/plain": [
       "           Linear_Regression  Logistic_Regression  Random_Forests\n",
       "accuracy            0.966066             0.968217        0.964720\n",
       "precision           0.778720             0.609175        0.499647\n",
       "recall              0.123380             0.295544        0.364795\n",
       "f1                  0.206521             0.390062        0.420034"
      ]
     },
     "execution_count": 71,
     "metadata": {},
     "output_type": "execute_result"
    }
   ],
   "source": [
    "# calculate Linear regression, logistic regression, random forest \n",
    "# map datetime fields to equivalent data type\n",
    "X['cdc_case_earliest_dt'] = X['cdc_case_earliest_dt'].map(dt.datetime.toordinal)\n",
    "linRegDF = LinReg_CrossVal(X,y)\n",
    "RandomForestDF = RandomForest_CV(X,y)\n",
    "# merge all 3 models \n",
    "Results_allfeatures = pd.concat([linRegDF, logRegDF, RandomForestDF], axis=1)\n",
    "Results_allfeatures"
   ]
  },
  {
   "cell_type": "markdown",
   "metadata": {},
   "source": [
    "### Comparison of feature set for all the models"
   ]
  },
  {
   "cell_type": "code",
   "execution_count": 72,
   "metadata": {},
   "outputs": [
    {
     "name": "stdout",
     "output_type": "stream",
     "text": [
      "********Scores using all Features************************\n",
      "           Linear_Regression  Logistic_Regression  Random_Forests\n",
      "accuracy            0.966066             0.968217        0.964720\n",
      "precision           0.778720             0.609175        0.499647\n",
      "recall              0.123380             0.295544        0.364795\n",
      "f1                  0.206521             0.390062        0.420034\n",
      "********Scores using subset of features********************\n",
      "           Linear_Regression  Logistic_Regression  Random_Forests\n",
      "accuracy            0.965466             0.968217        0.966522\n",
      "precision           0.765525             0.609175        0.541658\n",
      "recall              0.104001             0.295544        0.313369\n",
      "f1                  0.176126             0.390062        0.394388\n"
     ]
    }
   ],
   "source": [
    "print(\"********Scores using all Features************************\")\n",
    "print(Results_allfeatures)\n",
    "\n",
    "print(\"********Scores using subset of features********************\")\n",
    "print(Results_df)"
   ]
  },
  {
   "cell_type": "markdown",
   "metadata": {},
   "source": [
    "- This is a comparision of previous data set with all present feature and other with 5 dropped features.\n",
    "- We can see from the above set of results that there is very little reduction in accuracy as we remove a significant number of low value features. We see that logistic regression and random forest models are the most stable as we reduce the number of features. \n",
    "- When comparing all three accuracy remains almost the same for all of them, precision is the found the best for linear then logistic and least for random forest. Whereas random forest has better recall rate and F1 score than all."
   ]
  },
  {
   "cell_type": "markdown",
   "metadata": {},
   "source": [
    "## (5.3) Discuss your findings.\n",
    "- Take your best model trained and selected based on past data (ie your cleaned Homework1 dataset), and evaluate it on the new test dataset provided with this homework (in file '24032021-covid19-cdc-deathyn-recent-10k.csv')."
   ]
  },
  {
   "cell_type": "code",
   "execution_count": 73,
   "metadata": {
    "scrolled": true
   },
   "outputs": [
    {
     "data": {
      "text/html": [
       "<div>\n",
       "<style scoped>\n",
       "    .dataframe tbody tr th:only-of-type {\n",
       "        vertical-align: middle;\n",
       "    }\n",
       "\n",
       "    .dataframe tbody tr th {\n",
       "        vertical-align: top;\n",
       "    }\n",
       "\n",
       "    .dataframe thead th {\n",
       "        text-align: right;\n",
       "    }\n",
       "</style>\n",
       "<table border=\"1\" class=\"dataframe\">\n",
       "  <thead>\n",
       "    <tr style=\"text-align: right;\">\n",
       "      <th></th>\n",
       "      <th>cdc_case_earliest_dt</th>\n",
       "      <th>cdc_report_dt</th>\n",
       "      <th>pos_spec_dt</th>\n",
       "      <th>onset_dt</th>\n",
       "      <th>current_status</th>\n",
       "      <th>sex</th>\n",
       "      <th>age_group</th>\n",
       "      <th>race_ethnicity_combined</th>\n",
       "      <th>hosp_yn</th>\n",
       "      <th>icu_yn</th>\n",
       "      <th>death_yn</th>\n",
       "      <th>medcond_yn</th>\n",
       "    </tr>\n",
       "  </thead>\n",
       "  <tbody>\n",
       "    <tr>\n",
       "      <th>0</th>\n",
       "      <td>2021/01/22</td>\n",
       "      <td>2021/01/22</td>\n",
       "      <td>NaN</td>\n",
       "      <td>NaN</td>\n",
       "      <td>Probable Case</td>\n",
       "      <td>Female</td>\n",
       "      <td>0 - 9 Years</td>\n",
       "      <td>Asian, Non-Hispanic</td>\n",
       "      <td>No</td>\n",
       "      <td>Missing</td>\n",
       "      <td>No</td>\n",
       "      <td>Missing</td>\n",
       "    </tr>\n",
       "    <tr>\n",
       "      <th>1</th>\n",
       "      <td>2021/01/26</td>\n",
       "      <td>NaN</td>\n",
       "      <td>NaN</td>\n",
       "      <td>NaN</td>\n",
       "      <td>Laboratory-confirmed case</td>\n",
       "      <td>Female</td>\n",
       "      <td>30 - 39 Years</td>\n",
       "      <td>Unknown</td>\n",
       "      <td>Unknown</td>\n",
       "      <td>Missing</td>\n",
       "      <td>No</td>\n",
       "      <td>Missing</td>\n",
       "    </tr>\n",
       "    <tr>\n",
       "      <th>2</th>\n",
       "      <td>2021/02/03</td>\n",
       "      <td>2021/02/05</td>\n",
       "      <td>NaN</td>\n",
       "      <td>2021/02/03</td>\n",
       "      <td>Laboratory-confirmed case</td>\n",
       "      <td>Female</td>\n",
       "      <td>40 - 49 Years</td>\n",
       "      <td>Asian, Non-Hispanic</td>\n",
       "      <td>Missing</td>\n",
       "      <td>Missing</td>\n",
       "      <td>No</td>\n",
       "      <td>Missing</td>\n",
       "    </tr>\n",
       "    <tr>\n",
       "      <th>3</th>\n",
       "      <td>2021/02/05</td>\n",
       "      <td>2021/02/05</td>\n",
       "      <td>2021/02/07</td>\n",
       "      <td>2021/02/05</td>\n",
       "      <td>Laboratory-confirmed case</td>\n",
       "      <td>Male</td>\n",
       "      <td>40 - 49 Years</td>\n",
       "      <td>Hispanic/Latino</td>\n",
       "      <td>No</td>\n",
       "      <td>Unknown</td>\n",
       "      <td>No</td>\n",
       "      <td>No</td>\n",
       "    </tr>\n",
       "    <tr>\n",
       "      <th>4</th>\n",
       "      <td>2021/01/27</td>\n",
       "      <td>2021/01/27</td>\n",
       "      <td>NaN</td>\n",
       "      <td>NaN</td>\n",
       "      <td>Laboratory-confirmed case</td>\n",
       "      <td>Female</td>\n",
       "      <td>40 - 49 Years</td>\n",
       "      <td>White, Non-Hispanic</td>\n",
       "      <td>No</td>\n",
       "      <td>Missing</td>\n",
       "      <td>No</td>\n",
       "      <td>Missing</td>\n",
       "    </tr>\n",
       "    <tr>\n",
       "      <th>5</th>\n",
       "      <td>2021/02/07</td>\n",
       "      <td>2021/02/07</td>\n",
       "      <td>2021/02/07</td>\n",
       "      <td>NaN</td>\n",
       "      <td>Laboratory-confirmed case</td>\n",
       "      <td>Female</td>\n",
       "      <td>30 - 39 Years</td>\n",
       "      <td>Unknown</td>\n",
       "      <td>Unknown</td>\n",
       "      <td>Unknown</td>\n",
       "      <td>No</td>\n",
       "      <td>Unknown</td>\n",
       "    </tr>\n",
       "    <tr>\n",
       "      <th>6</th>\n",
       "      <td>2021/01/26</td>\n",
       "      <td>NaN</td>\n",
       "      <td>NaN</td>\n",
       "      <td>NaN</td>\n",
       "      <td>Laboratory-confirmed case</td>\n",
       "      <td>Male</td>\n",
       "      <td>20 - 29 Years</td>\n",
       "      <td>White, Non-Hispanic</td>\n",
       "      <td>Unknown</td>\n",
       "      <td>Missing</td>\n",
       "      <td>No</td>\n",
       "      <td>Missing</td>\n",
       "    </tr>\n",
       "    <tr>\n",
       "      <th>7</th>\n",
       "      <td>2021/02/04</td>\n",
       "      <td>NaN</td>\n",
       "      <td>NaN</td>\n",
       "      <td>NaN</td>\n",
       "      <td>Laboratory-confirmed case</td>\n",
       "      <td>Male</td>\n",
       "      <td>70 - 79 Years</td>\n",
       "      <td>White, Non-Hispanic</td>\n",
       "      <td>Missing</td>\n",
       "      <td>Missing</td>\n",
       "      <td>No</td>\n",
       "      <td>Missing</td>\n",
       "    </tr>\n",
       "    <tr>\n",
       "      <th>8</th>\n",
       "      <td>2021/01/23</td>\n",
       "      <td>NaN</td>\n",
       "      <td>NaN</td>\n",
       "      <td>NaN</td>\n",
       "      <td>Laboratory-confirmed case</td>\n",
       "      <td>Male</td>\n",
       "      <td>40 - 49 Years</td>\n",
       "      <td>Unknown</td>\n",
       "      <td>Unknown</td>\n",
       "      <td>Missing</td>\n",
       "      <td>No</td>\n",
       "      <td>Missing</td>\n",
       "    </tr>\n",
       "    <tr>\n",
       "      <th>9</th>\n",
       "      <td>2021/01/25</td>\n",
       "      <td>2021/01/27</td>\n",
       "      <td>NaN</td>\n",
       "      <td>2021/01/25</td>\n",
       "      <td>Probable Case</td>\n",
       "      <td>Female</td>\n",
       "      <td>70 - 79 Years</td>\n",
       "      <td>White, Non-Hispanic</td>\n",
       "      <td>No</td>\n",
       "      <td>Missing</td>\n",
       "      <td>No</td>\n",
       "      <td>Missing</td>\n",
       "    </tr>\n",
       "  </tbody>\n",
       "</table>\n",
       "</div>"
      ],
      "text/plain": [
       "  cdc_case_earliest_dt cdc_report_dt pos_spec_dt    onset_dt  \\\n",
       "0           2021/01/22    2021/01/22         NaN         NaN   \n",
       "1           2021/01/26           NaN         NaN         NaN   \n",
       "2           2021/02/03    2021/02/05         NaN  2021/02/03   \n",
       "3           2021/02/05    2021/02/05  2021/02/07  2021/02/05   \n",
       "4           2021/01/27    2021/01/27         NaN         NaN   \n",
       "5           2021/02/07    2021/02/07  2021/02/07         NaN   \n",
       "6           2021/01/26           NaN         NaN         NaN   \n",
       "7           2021/02/04           NaN         NaN         NaN   \n",
       "8           2021/01/23           NaN         NaN         NaN   \n",
       "9           2021/01/25    2021/01/27         NaN  2021/01/25   \n",
       "\n",
       "              current_status     sex      age_group race_ethnicity_combined  \\\n",
       "0              Probable Case  Female    0 - 9 Years     Asian, Non-Hispanic   \n",
       "1  Laboratory-confirmed case  Female  30 - 39 Years                 Unknown   \n",
       "2  Laboratory-confirmed case  Female  40 - 49 Years     Asian, Non-Hispanic   \n",
       "3  Laboratory-confirmed case    Male  40 - 49 Years         Hispanic/Latino   \n",
       "4  Laboratory-confirmed case  Female  40 - 49 Years     White, Non-Hispanic   \n",
       "5  Laboratory-confirmed case  Female  30 - 39 Years                 Unknown   \n",
       "6  Laboratory-confirmed case    Male  20 - 29 Years     White, Non-Hispanic   \n",
       "7  Laboratory-confirmed case    Male  70 - 79 Years     White, Non-Hispanic   \n",
       "8  Laboratory-confirmed case    Male  40 - 49 Years                 Unknown   \n",
       "9              Probable Case  Female  70 - 79 Years     White, Non-Hispanic   \n",
       "\n",
       "   hosp_yn   icu_yn death_yn medcond_yn  \n",
       "0       No  Missing       No    Missing  \n",
       "1  Unknown  Missing       No    Missing  \n",
       "2  Missing  Missing       No    Missing  \n",
       "3       No  Unknown       No         No  \n",
       "4       No  Missing       No    Missing  \n",
       "5  Unknown  Unknown       No    Unknown  \n",
       "6  Unknown  Missing       No    Missing  \n",
       "7  Missing  Missing       No    Missing  \n",
       "8  Unknown  Missing       No    Missing  \n",
       "9       No  Missing       No    Missing  "
      ]
     },
     "execution_count": 73,
     "metadata": {},
     "output_type": "execute_result"
    }
   ],
   "source": [
    "# Read a CSV dataset with 10 example into a dataframe.\n",
    "\n",
    "df_test = pd.read_csv('24032021-covid19-cdc-deathyn-recent-10k.csv')\n",
    "df_test.head(10)"
   ]
  },
  {
   "cell_type": "markdown",
   "metadata": {},
   "source": [
    "### Data preparation and cleansing \n",
    "- Performed similar steps as done in part1 to clean the data for further use."
   ]
  },
  {
   "cell_type": "code",
   "execution_count": 74,
   "metadata": {},
   "outputs": [],
   "source": [
    "for col in [e for e in df_test.columns if e not in ['cdc_case_earliest_dt', 'cdc_report_dt', 'pos_spec_dt', 'onset_dt']]:\n",
    "    df_test[col] = df_test[col].astype('category')\n",
    "for col in ['cdc_case_earliest_dt', 'cdc_report_dt', 'pos_spec_dt', 'onset_dt']:\n",
    "    df_test[col] = df_test[col].astype('datetime64[ns]')    "
   ]
  },
  {
   "cell_type": "code",
   "execution_count": 75,
   "metadata": {},
   "outputs": [],
   "source": [
    "df_test.loc[df_test.cdc_case_earliest_dt > df_test.cdc_report_dt, 'cdc_case_earliest_dt'] = df_test['cdc_report_dt']\n",
    "df_test.loc[df_test.cdc_case_earliest_dt > df_test.pos_spec_dt, 'cdc_case_earliest_dt'] = df_test['pos_spec_dt']\n",
    "df_test.loc[df_test.cdc_case_earliest_dt > df_test.onset_dt, 'cdc_case_earliest_dt'] = df_test['onset_dt']\n",
    "del df_test['cdc_report_dt']\n",
    "del df_test['pos_spec_dt']\n",
    "del df_test['onset_dt']"
   ]
  },
  {
   "cell_type": "code",
   "execution_count": 76,
   "metadata": {},
   "outputs": [],
   "source": [
    "df_test.sex.value_counts(normalize=True)\n",
    "df = df[df.sex != 'Other']\n",
    "indices = df_test[(df_test['sex'] == 'Unknown') | (df_test['sex'] == 'Missing')].index.tolist()\n",
    "df_test.drop(indices, inplace=True)\n",
    "df_test['sex'] = df_test['sex'].astype(str).astype('category')"
   ]
  },
  {
   "cell_type": "code",
   "execution_count": 77,
   "metadata": {},
   "outputs": [],
   "source": [
    "indices = df_test[df_test['age_group'] == 'Missing'].index.tolist()\n",
    "df_test.drop(indices, inplace=True)\n",
    "df_test['age_group'] = df_test['age_group'].astype(str).astype('category')"
   ]
  },
  {
   "cell_type": "code",
   "execution_count": 78,
   "metadata": {},
   "outputs": [],
   "source": [
    "df_test.loc[df_test.race_ethnicity_combined == 'Missing', 'race_ethnicity_combined'] = 'Unknown'\n",
    "df_test['race_ethnicity_combined'] = df_test['race_ethnicity_combined'].astype(str).astype('category')"
   ]
  },
  {
   "cell_type": "code",
   "execution_count": 79,
   "metadata": {},
   "outputs": [],
   "source": [
    "df = df[df.hosp_yn != 'OTH']\n",
    "df_test.loc[df_test.hosp_yn == 'Missing', 'hosp_yn'] = 'Unknown'\n",
    "df_test['hosp_yn'] = df_test['hosp_yn'].astype(str).astype('category')"
   ]
  },
  {
   "cell_type": "code",
   "execution_count": 80,
   "metadata": {},
   "outputs": [],
   "source": [
    "df_test.icu_yn.value_counts(normalize=True)\n",
    "df_test.loc[df_test.icu_yn == 'Yes', 'hosp_yn'] = 'Yes'\n",
    "df_test.loc[df_test.icu_yn == 'Missing', 'icu_yn'] = 'Unknown'\n",
    "df_test['icu_yn'] = df_test['icu_yn'].astype(str).astype('category')"
   ]
  },
  {
   "cell_type": "code",
   "execution_count": 81,
   "metadata": {},
   "outputs": [],
   "source": [
    "df_test.medcond_yn.value_counts(normalize=True)\n",
    "df_test.loc[df_test.medcond_yn == 'Missing', 'medcond_yn'] = 'Unknown'\n",
    "df_test['medcond_yn'] = df_test['medcond_yn'].astype(str).astype('category')"
   ]
  },
  {
   "cell_type": "code",
   "execution_count": 82,
   "metadata": {},
   "outputs": [],
   "source": [
    "df_test.set_index(np.random.permutation(df_test.index))\n",
    "df_test.sort_index(inplace=True)"
   ]
  },
  {
   "cell_type": "code",
   "execution_count": 83,
   "metadata": {},
   "outputs": [
    {
     "name": "stdout",
     "output_type": "stream",
     "text": [
      "original range is:  9904\n",
      "training range (70%):\t rows 0 to 5942\n",
      "test range (30%): \t rows 5942 to 9904\n"
     ]
    }
   ],
   "source": [
    "X = pd.get_dummies(df_test.drop(columns=['death_yn', 'cdc_case_earliest_dt']), drop_first=True)\n",
    "y = pd.get_dummies(df_test[\"death_yn\"], prefix='death', drop_first=True)\n",
    "\n",
    "X_train, X_test, y_train, y_test = train_test_split(X, y, test_size=0.4, random_state=3216, stratify=y)\n",
    "print(\"original range is: \", df_test.shape[0])\n",
    "print(\"training range (70%):\\t rows 0 to\", round(X_train.shape[0]))\n",
    "print(\"test range (30%): \\t rows\", round(X_train.shape[0]), \"to\", round(X_train.shape[0]) + X_test.shape[0])"
   ]
  },
  {
   "cell_type": "code",
   "execution_count": 84,
   "metadata": {},
   "outputs": [],
   "source": [
    "X_train.reset_index(drop=True, inplace=True)\n",
    "y_train.reset_index(drop=True, inplace=True)\n",
    "X_test.reset_index(drop=True, inplace=True)\n",
    "y_test.reset_index(drop=True, inplace=True)"
   ]
  },
  {
   "cell_type": "markdown",
   "metadata": {},
   "source": [
    "- Training my best model selected based on past data and will evaluate it on the new test dataset provided with this homework. "
   ]
  },
  {
   "cell_type": "markdown",
   "metadata": {},
   "source": [
    "## Random Forest"
   ]
  },
  {
   "cell_type": "code",
   "execution_count": 85,
   "metadata": {},
   "outputs": [
    {
     "data": {
      "text/plain": [
       "RandomForestClassifier(oob_score=True, random_state=1)"
      ]
     },
     "execution_count": 85,
     "metadata": {},
     "output_type": "execute_result"
    }
   ],
   "source": [
    "randforestclass_test = RandomForestClassifier(n_estimators=100, max_features='auto', oob_score=True, random_state=1)\n",
    "randforestclass_test.fit(X_train, y_train)"
   ]
  },
  {
   "cell_type": "code",
   "execution_count": 86,
   "metadata": {},
   "outputs": [
    {
     "name": "stdout",
     "output_type": "stream",
     "text": [
      "\n",
      "Predictions with random forest train data: \n",
      "\n",
      "   death_Yes  Predicted\n",
      "0          0          0\n",
      "1          0          0\n",
      "2          0          0\n",
      "3          0          0\n",
      "4          0          0\n",
      "5          0          0\n",
      "6          0          0\n",
      "7          0          0\n",
      "8          0          0\n",
      "9          0          0\n"
     ]
    }
   ],
   "source": [
    "# Predicted class labels for all examples, \n",
    "# using the trained model, on in-sample data (same sample used for training and test)\n",
    "\n",
    "randFrstCls_predictions_train = randforestclass_test.predict(X_train)\n",
    "print(\"\\nPredictions with random forest train data: \\n\")\n",
    "df_true_vs_randFrstCls_predicted = pd.concat([y_train, pd.DataFrame(randFrstCls_predictions_train, columns=['Predicted'])], axis=1)\n",
    "print(df_true_vs_randFrstCls_predicted.head(10))"
   ]
  },
  {
   "cell_type": "code",
   "execution_count": 87,
   "metadata": {},
   "outputs": [
    {
     "name": "stdout",
     "output_type": "stream",
     "text": [
      "******************* Results with train Data ***************************\n",
      "Accuracy:  0.991921911814204\n",
      "Confusion matrix: \n",
      " [[5859   11]\n",
      " [  37   35]]\n",
      "Classification report:\n",
      "                precision    recall  f1-score   support\n",
      "\n",
      "           0       0.99      1.00      1.00      5870\n",
      "           1       0.76      0.49      0.59        72\n",
      "\n",
      "    accuracy                           0.99      5942\n",
      "   macro avg       0.88      0.74      0.79      5942\n",
      "weighted avg       0.99      0.99      0.99      5942\n",
      "\n"
     ]
    }
   ],
   "source": [
    "print(\"******************* Results with train Data ***************************\")\n",
    "print(\"Accuracy: \", metrics.accuracy_score(y_train, randFrstCls_predictions_train))\n",
    "print(\"Confusion matrix: \\n\", metrics.confusion_matrix(y_train, randFrstCls_predictions_train))\n",
    "print(\"Classification report:\\n \", metrics.classification_report(y_train, randFrstCls_predictions_train))"
   ]
  },
  {
   "cell_type": "markdown",
   "metadata": {},
   "source": [
    "- The trained data scores show decent enough scores for this model and data set.\n",
    "- None of the values are to be called poor in terms of fitting and prediction theory."
   ]
  },
  {
   "cell_type": "code",
   "execution_count": 88,
   "metadata": {},
   "outputs": [
    {
     "name": "stdout",
     "output_type": "stream",
     "text": [
      "\n",
      "Predictions with random forest test data: \n",
      "\n",
      "   death_Yes  Predicted\n",
      "0          0          0\n",
      "1          0          0\n",
      "2          0          0\n",
      "3          0          0\n",
      "4          0          0\n",
      "5          0          0\n",
      "6          0          0\n",
      "7          0          0\n",
      "8          0          0\n",
      "9          0          0\n"
     ]
    }
   ],
   "source": [
    "# Predicted class labels for all examples\n",
    "randFrstCls_predictions_test = randforestclass_test.predict(X_test)\n",
    "print(\"\\nPredictions with random forest test data: \\n\")\n",
    "df_true_vs_randFrstCls_predicted_test = pd.concat([y_test, pd.DataFrame(randFrstCls_predictions_test, columns=['Predicted'])], axis=1)\n",
    "print(df_true_vs_randFrstCls_predicted_test.head(10))"
   ]
  },
  {
   "cell_type": "markdown",
   "metadata": {},
   "source": [
    "No value is predicted false amongst the ones displayed above."
   ]
  },
  {
   "cell_type": "code",
   "execution_count": 89,
   "metadata": {},
   "outputs": [
    {
     "name": "stdout",
     "output_type": "stream",
     "text": [
      "****************** Results with test data *******************\n",
      "Accuracy:  0.986118122160525\n",
      "Confusion matrix: \n",
      " [[3896   18]\n",
      " [  37   11]]\n",
      "Classification report:\n",
      "                precision    recall  f1-score   support\n",
      "\n",
      "           0       0.99      1.00      0.99      3914\n",
      "           1       0.38      0.23      0.29        48\n",
      "\n",
      "    accuracy                           0.99      3962\n",
      "   macro avg       0.68      0.61      0.64      3962\n",
      "weighted avg       0.98      0.99      0.98      3962\n",
      "\n",
      "****************** Results with train Data *******************\n",
      "Accuracy:  0.991921911814204\n",
      "Confusion matrix: \n",
      " [[5859   11]\n",
      " [  37   35]]\n",
      "Classification report:\n",
      "                precision    recall  f1-score   support\n",
      "\n",
      "           0       0.99      1.00      1.00      5870\n",
      "           1       0.76      0.49      0.59        72\n",
      "\n",
      "    accuracy                           0.99      5942\n",
      "   macro avg       0.88      0.74      0.79      5942\n",
      "weighted avg       0.99      0.99      0.99      5942\n",
      "\n",
      "---------------------------------------------------\n"
     ]
    }
   ],
   "source": [
    "print(\"****************** Results with test data *******************\")\n",
    "print(\"Accuracy: \", metrics.accuracy_score(y_test, randFrstCls_predictions_test))\n",
    "print(\"Confusion matrix: \\n\", metrics.confusion_matrix(y_test, randFrstCls_predictions_test))\n",
    "print(\"Classification report:\\n \", metrics.classification_report(y_test, randFrstCls_predictions_test))\n",
    "print(\"****************** Results with train Data *******************\")\n",
    "print(\"Accuracy: \", metrics.accuracy_score(y_train, randFrstCls_predictions_train))\n",
    "print(\"Confusion matrix: \\n\", metrics.confusion_matrix(y_train, randFrstCls_predictions_train))\n",
    "print(\"Classification report:\\n \", metrics.classification_report(y_train, randFrstCls_predictions_train))\n",
    "print(\"---------------------------------------------------\")"
   ]
  },
  {
   "cell_type": "markdown",
   "metadata": {},
   "source": [
    "Interpretation of test results and comparison with training results\n",
    "- The ratio of test and train being 30/70 split majority class has benefit of values lying in it. As higher precision and accuracy will be obtained because of biased data in the dataset.\n",
    "- The accuracy for the test is much lower as we are not testing the model with data it has not see before\n",
    "- A very low amount of cases were recalled as seen with the test data but training data had good results for both 0 and 1 class."
   ]
  },
  {
   "cell_type": "code",
   "execution_count": 90,
   "metadata": {},
   "outputs": [],
   "source": [
    "def RandomForest_CV_test(X,y, depth=None, estimators=100):\n",
    "\n",
    "    # store results in dict\n",
    "    RandomForestResults = {}\n",
    "    # metrics to test against\n",
    "    test_metrics = ['accuracy','precision','recall', 'f1']\n",
    "\n",
    "    for metric in test_metrics:\n",
    "        # generate test results\n",
    "        result = cross_val_score(RandomForestClassifier(n_estimators=estimators, max_features='auto', oob_score=True, random_state=1, max_depth=depth), X, y, scoring=metric, cv=10)\n",
    "        # store result in dict\n",
    "        RandomForestResults[metric] = result.mean()\n",
    "    \n",
    "    # create dataframe with results\n",
    "    RandomForestDF_test = pd.DataFrame.from_dict(RandomForestResults, orient='index', columns=['Random_Forests'])\n",
    "\n",
    "    return RandomForestDF_test"
   ]
  },
  {
   "cell_type": "code",
   "execution_count": 91,
   "metadata": {},
   "outputs": [
    {
     "name": "stdout",
     "output_type": "stream",
     "text": [
      "Mean results for test sample data set are:\n",
      "           Random_Forests\n",
      "accuracy         0.986874\n",
      "precision        0.400606\n",
      "recall           0.141667\n",
      "f1               0.199789\n",
      "==================================================\n",
      "Mean results for original cleaned data set are:\n",
      "           Random_Forests\n",
      "accuracy         0.964720\n",
      "precision        0.499647\n",
      "recall           0.364795\n",
      "f1               0.420034\n"
     ]
    }
   ],
   "source": [
    "RandomForest_CV_test = RandomForest_CV(X,y)\n",
    "print(f\"Mean results for test sample data set are:\")\n",
    "print(RandomForest_CV_test)\n",
    "print(\"==================================================\")\n",
    "print(f\"Mean results for original cleaned data set are:\")\n",
    "print(RandomForestDF)"
   ]
  },
  {
   "cell_type": "markdown",
   "metadata": {},
   "source": [
    "The above comparision shows that the scores calculated by test data set is poor than the original data set.\n",
    "- The original data set performs better in every domain as we can observe above.\n",
    "- Taking into consideration that there were no new features present or any outliers the new data set has low throughput.\n",
    "- If change the split which may include more death=y cases equally the number could have changed and balanced the model."
   ]
  },
  {
   "cell_type": "code",
   "execution_count": 92,
   "metadata": {},
   "outputs": [
    {
     "data": {
      "text/plain": [
       "0.987209693705823"
      ]
     },
     "execution_count": 92,
     "metadata": {},
     "output_type": "execute_result"
    }
   ],
   "source": [
    "# compute the out-of-bag classification accuracy\n",
    "randforestclass_test.oob_score_"
   ]
  },
  {
   "cell_type": "code",
   "execution_count": null,
   "metadata": {},
   "outputs": [],
   "source": []
  }
 ],
 "metadata": {
  "kernelspec": {
   "display_name": "Python 3",
   "language": "python",
   "name": "python3"
  },
  "language_info": {
   "codemirror_mode": {
    "name": "ipython",
    "version": 3
   },
   "file_extension": ".py",
   "mimetype": "text/x-python",
   "name": "python",
   "nbconvert_exporter": "python",
   "pygments_lexer": "ipython3",
   "version": "3.8.3"
  }
 },
 "nbformat": 4,
 "nbformat_minor": 4
}
